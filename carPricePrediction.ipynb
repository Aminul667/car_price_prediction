{
 "cells": [
  {
   "cell_type": "code",
   "execution_count": 19,
   "metadata": {},
   "outputs": [],
   "source": [
    "import tensorflow as tf \n",
    "import pandas as pd \n",
    "import seaborn as sns\n",
    "from tensorflow.keras.layers import Normalization, Dense, InputLayer\n",
    "from tensorflow.keras.losses import MeanSquaredError, Huber, MeanAbsoluteError\n",
    "from tensorflow.keras.metrics import RootMeanSquaredError\n",
    "from tensorflow.keras.optimizers import Adam\n",
    "import matplotlib.pyplot as plt"
   ]
  },
  {
   "cell_type": "markdown",
   "metadata": {},
   "source": [
    "## Data Processing"
   ]
  },
  {
   "cell_type": "code",
   "execution_count": 2,
   "metadata": {},
   "outputs": [],
   "source": [
    "data_path = './archive/'"
   ]
  },
  {
   "cell_type": "code",
   "execution_count": 3,
   "metadata": {},
   "outputs": [
    {
     "name": "stdout",
     "output_type": "stream",
     "text": [
      "(1000, 12)\n"
     ]
    },
    {
     "data": {
      "text/html": [
       "<div>\n",
       "<style scoped>\n",
       "    .dataframe tbody tr th:only-of-type {\n",
       "        vertical-align: middle;\n",
       "    }\n",
       "\n",
       "    .dataframe tbody tr th {\n",
       "        vertical-align: top;\n",
       "    }\n",
       "\n",
       "    .dataframe thead th {\n",
       "        text-align: right;\n",
       "    }\n",
       "</style>\n",
       "<table border=\"1\" class=\"dataframe\">\n",
       "  <thead>\n",
       "    <tr style=\"text-align: right;\">\n",
       "      <th></th>\n",
       "      <th>v.id</th>\n",
       "      <th>on road old</th>\n",
       "      <th>on road now</th>\n",
       "      <th>years</th>\n",
       "      <th>km</th>\n",
       "      <th>rating</th>\n",
       "      <th>condition</th>\n",
       "      <th>economy</th>\n",
       "      <th>top speed</th>\n",
       "      <th>hp</th>\n",
       "      <th>torque</th>\n",
       "      <th>current price</th>\n",
       "    </tr>\n",
       "  </thead>\n",
       "  <tbody>\n",
       "    <tr>\n",
       "      <th>0</th>\n",
       "      <td>1</td>\n",
       "      <td>535651</td>\n",
       "      <td>798186</td>\n",
       "      <td>3</td>\n",
       "      <td>78945</td>\n",
       "      <td>1</td>\n",
       "      <td>2</td>\n",
       "      <td>14</td>\n",
       "      <td>177</td>\n",
       "      <td>73</td>\n",
       "      <td>123</td>\n",
       "      <td>351318.0</td>\n",
       "    </tr>\n",
       "    <tr>\n",
       "      <th>1</th>\n",
       "      <td>2</td>\n",
       "      <td>591911</td>\n",
       "      <td>861056</td>\n",
       "      <td>6</td>\n",
       "      <td>117220</td>\n",
       "      <td>5</td>\n",
       "      <td>9</td>\n",
       "      <td>9</td>\n",
       "      <td>148</td>\n",
       "      <td>74</td>\n",
       "      <td>95</td>\n",
       "      <td>285001.5</td>\n",
       "    </tr>\n",
       "    <tr>\n",
       "      <th>2</th>\n",
       "      <td>3</td>\n",
       "      <td>686990</td>\n",
       "      <td>770762</td>\n",
       "      <td>2</td>\n",
       "      <td>132538</td>\n",
       "      <td>2</td>\n",
       "      <td>8</td>\n",
       "      <td>15</td>\n",
       "      <td>181</td>\n",
       "      <td>53</td>\n",
       "      <td>97</td>\n",
       "      <td>215386.0</td>\n",
       "    </tr>\n",
       "    <tr>\n",
       "      <th>3</th>\n",
       "      <td>4</td>\n",
       "      <td>573999</td>\n",
       "      <td>722381</td>\n",
       "      <td>4</td>\n",
       "      <td>101065</td>\n",
       "      <td>4</td>\n",
       "      <td>3</td>\n",
       "      <td>11</td>\n",
       "      <td>197</td>\n",
       "      <td>54</td>\n",
       "      <td>116</td>\n",
       "      <td>244295.5</td>\n",
       "    </tr>\n",
       "    <tr>\n",
       "      <th>4</th>\n",
       "      <td>5</td>\n",
       "      <td>691388</td>\n",
       "      <td>811335</td>\n",
       "      <td>6</td>\n",
       "      <td>61559</td>\n",
       "      <td>3</td>\n",
       "      <td>9</td>\n",
       "      <td>12</td>\n",
       "      <td>160</td>\n",
       "      <td>53</td>\n",
       "      <td>105</td>\n",
       "      <td>531114.5</td>\n",
       "    </tr>\n",
       "  </tbody>\n",
       "</table>\n",
       "</div>"
      ],
      "text/plain": [
       "   v.id  on road old  on road now  years      km  rating  condition  economy  \\\n",
       "0     1       535651       798186      3   78945       1          2       14   \n",
       "1     2       591911       861056      6  117220       5          9        9   \n",
       "2     3       686990       770762      2  132538       2          8       15   \n",
       "3     4       573999       722381      4  101065       4          3       11   \n",
       "4     5       691388       811335      6   61559       3          9       12   \n",
       "\n",
       "   top speed  hp  torque  current price  \n",
       "0        177  73     123       351318.0  \n",
       "1        148  74      95       285001.5  \n",
       "2        181  53      97       215386.0  \n",
       "3        197  54     116       244295.5  \n",
       "4        160  53     105       531114.5  "
      ]
     },
     "execution_count": 3,
     "metadata": {},
     "output_type": "execute_result"
    }
   ],
   "source": [
    "data = pd.read_csv(data_path + 'train.csv')\n",
    "print(data.shape)\n",
    "data.head()"
   ]
  },
  {
   "cell_type": "code",
   "execution_count": 4,
   "metadata": {},
   "outputs": [
    {
     "name": "stdout",
     "output_type": "stream",
     "text": [
      "['v.id', 'on road old', 'on road now', 'years', 'km', 'rating', 'condition', 'economy', 'top speed', 'hp', 'torque', 'current price']\n"
     ]
    }
   ],
   "source": [
    "all_features = data.columns.to_list()\n",
    "print(all_features)"
   ]
  },
  {
   "cell_type": "code",
   "execution_count": 5,
   "metadata": {},
   "outputs": [
    {
     "name": "stdout",
     "output_type": "stream",
     "text": [
      "['years', 'km', 'rating', 'condition', 'economy', 'top speed', 'hp', 'torque', 'current price']\n"
     ]
    }
   ],
   "source": [
    "remove_features = ['v.id', 'on road old', 'on road now']\n",
    "features = [feature for feature in all_features if feature not in remove_features]\n",
    "print(features)"
   ]
  },
  {
   "cell_type": "code",
   "execution_count": 6,
   "metadata": {},
   "outputs": [],
   "source": [
    "# sns.pairplot(data[features], diag_kind='kde')"
   ]
  },
  {
   "cell_type": "code",
   "execution_count": 7,
   "metadata": {},
   "outputs": [
    {
     "data": {
      "text/html": [
       "<div>\n",
       "<style scoped>\n",
       "    .dataframe tbody tr th:only-of-type {\n",
       "        vertical-align: middle;\n",
       "    }\n",
       "\n",
       "    .dataframe tbody tr th {\n",
       "        vertical-align: top;\n",
       "    }\n",
       "\n",
       "    .dataframe thead th {\n",
       "        text-align: right;\n",
       "    }\n",
       "</style>\n",
       "<table border=\"1\" class=\"dataframe\">\n",
       "  <thead>\n",
       "    <tr style=\"text-align: right;\">\n",
       "      <th></th>\n",
       "      <th>v.id</th>\n",
       "      <th>on road old</th>\n",
       "      <th>on road now</th>\n",
       "      <th>years</th>\n",
       "      <th>km</th>\n",
       "      <th>rating</th>\n",
       "      <th>condition</th>\n",
       "      <th>economy</th>\n",
       "      <th>top speed</th>\n",
       "      <th>hp</th>\n",
       "      <th>torque</th>\n",
       "      <th>current price</th>\n",
       "    </tr>\n",
       "  </thead>\n",
       "  <tbody>\n",
       "    <tr>\n",
       "      <th>v.id</th>\n",
       "      <td>1.000000</td>\n",
       "      <td>-0.029926</td>\n",
       "      <td>-0.030787</td>\n",
       "      <td>-0.034255</td>\n",
       "      <td>0.047400</td>\n",
       "      <td>-0.018263</td>\n",
       "      <td>-0.038548</td>\n",
       "      <td>0.047137</td>\n",
       "      <td>0.001613</td>\n",
       "      <td>-0.006997</td>\n",
       "      <td>-0.000632</td>\n",
       "      <td>-0.059460</td>\n",
       "    </tr>\n",
       "    <tr>\n",
       "      <th>on road old</th>\n",
       "      <td>-0.029926</td>\n",
       "      <td>1.000000</td>\n",
       "      <td>0.034113</td>\n",
       "      <td>0.007207</td>\n",
       "      <td>0.007488</td>\n",
       "      <td>-0.050717</td>\n",
       "      <td>-0.015682</td>\n",
       "      <td>-0.030097</td>\n",
       "      <td>-0.023816</td>\n",
       "      <td>-0.049266</td>\n",
       "      <td>0.008950</td>\n",
       "      <td>0.233035</td>\n",
       "    </tr>\n",
       "    <tr>\n",
       "      <th>on road now</th>\n",
       "      <td>-0.030787</td>\n",
       "      <td>0.034113</td>\n",
       "      <td>1.000000</td>\n",
       "      <td>0.004609</td>\n",
       "      <td>-0.053202</td>\n",
       "      <td>0.028280</td>\n",
       "      <td>-0.005043</td>\n",
       "      <td>-0.015880</td>\n",
       "      <td>0.012699</td>\n",
       "      <td>-0.012719</td>\n",
       "      <td>0.017955</td>\n",
       "      <td>0.282793</td>\n",
       "    </tr>\n",
       "    <tr>\n",
       "      <th>years</th>\n",
       "      <td>-0.034255</td>\n",
       "      <td>0.007207</td>\n",
       "      <td>0.004609</td>\n",
       "      <td>1.000000</td>\n",
       "      <td>-0.002089</td>\n",
       "      <td>0.027285</td>\n",
       "      <td>0.053579</td>\n",
       "      <td>0.050220</td>\n",
       "      <td>0.025148</td>\n",
       "      <td>-0.003272</td>\n",
       "      <td>0.028859</td>\n",
       "      <td>-0.011854</td>\n",
       "    </tr>\n",
       "    <tr>\n",
       "      <th>km</th>\n",
       "      <td>0.047400</td>\n",
       "      <td>0.007488</td>\n",
       "      <td>-0.053202</td>\n",
       "      <td>-0.002089</td>\n",
       "      <td>1.000000</td>\n",
       "      <td>-0.039930</td>\n",
       "      <td>-0.013640</td>\n",
       "      <td>0.032680</td>\n",
       "      <td>0.026450</td>\n",
       "      <td>-0.052918</td>\n",
       "      <td>0.013566</td>\n",
       "      <td>-0.935924</td>\n",
       "    </tr>\n",
       "    <tr>\n",
       "      <th>rating</th>\n",
       "      <td>-0.018263</td>\n",
       "      <td>-0.050717</td>\n",
       "      <td>0.028280</td>\n",
       "      <td>0.027285</td>\n",
       "      <td>-0.039930</td>\n",
       "      <td>1.000000</td>\n",
       "      <td>0.015943</td>\n",
       "      <td>-0.009757</td>\n",
       "      <td>-0.042222</td>\n",
       "      <td>-0.022623</td>\n",
       "      <td>0.004408</td>\n",
       "      <td>0.035038</td>\n",
       "    </tr>\n",
       "    <tr>\n",
       "      <th>condition</th>\n",
       "      <td>-0.038548</td>\n",
       "      <td>-0.015682</td>\n",
       "      <td>-0.005043</td>\n",
       "      <td>0.053579</td>\n",
       "      <td>-0.013640</td>\n",
       "      <td>0.015943</td>\n",
       "      <td>1.000000</td>\n",
       "      <td>0.058788</td>\n",
       "      <td>0.018472</td>\n",
       "      <td>-0.071552</td>\n",
       "      <td>0.047805</td>\n",
       "      <td>0.110108</td>\n",
       "    </tr>\n",
       "    <tr>\n",
       "      <th>economy</th>\n",
       "      <td>0.047137</td>\n",
       "      <td>-0.030097</td>\n",
       "      <td>-0.015880</td>\n",
       "      <td>0.050220</td>\n",
       "      <td>0.032680</td>\n",
       "      <td>-0.009757</td>\n",
       "      <td>0.058788</td>\n",
       "      <td>1.000000</td>\n",
       "      <td>-0.059402</td>\n",
       "      <td>-0.016782</td>\n",
       "      <td>0.041632</td>\n",
       "      <td>-0.034711</td>\n",
       "    </tr>\n",
       "    <tr>\n",
       "      <th>top speed</th>\n",
       "      <td>0.001613</td>\n",
       "      <td>-0.023816</td>\n",
       "      <td>0.012699</td>\n",
       "      <td>0.025148</td>\n",
       "      <td>0.026450</td>\n",
       "      <td>-0.042222</td>\n",
       "      <td>0.018472</td>\n",
       "      <td>-0.059402</td>\n",
       "      <td>1.000000</td>\n",
       "      <td>0.057827</td>\n",
       "      <td>-0.019697</td>\n",
       "      <td>-0.027993</td>\n",
       "    </tr>\n",
       "    <tr>\n",
       "      <th>hp</th>\n",
       "      <td>-0.006997</td>\n",
       "      <td>-0.049266</td>\n",
       "      <td>-0.012719</td>\n",
       "      <td>-0.003272</td>\n",
       "      <td>-0.052918</td>\n",
       "      <td>-0.022623</td>\n",
       "      <td>-0.071552</td>\n",
       "      <td>-0.016782</td>\n",
       "      <td>0.057827</td>\n",
       "      <td>1.000000</td>\n",
       "      <td>-0.013817</td>\n",
       "      <td>0.030238</td>\n",
       "    </tr>\n",
       "    <tr>\n",
       "      <th>torque</th>\n",
       "      <td>-0.000632</td>\n",
       "      <td>0.008950</td>\n",
       "      <td>0.017955</td>\n",
       "      <td>0.028859</td>\n",
       "      <td>0.013566</td>\n",
       "      <td>0.004408</td>\n",
       "      <td>0.047805</td>\n",
       "      <td>0.041632</td>\n",
       "      <td>-0.019697</td>\n",
       "      <td>-0.013817</td>\n",
       "      <td>1.000000</td>\n",
       "      <td>-0.002290</td>\n",
       "    </tr>\n",
       "    <tr>\n",
       "      <th>current price</th>\n",
       "      <td>-0.059460</td>\n",
       "      <td>0.233035</td>\n",
       "      <td>0.282793</td>\n",
       "      <td>-0.011854</td>\n",
       "      <td>-0.935924</td>\n",
       "      <td>0.035038</td>\n",
       "      <td>0.110108</td>\n",
       "      <td>-0.034711</td>\n",
       "      <td>-0.027993</td>\n",
       "      <td>0.030238</td>\n",
       "      <td>-0.002290</td>\n",
       "      <td>1.000000</td>\n",
       "    </tr>\n",
       "  </tbody>\n",
       "</table>\n",
       "</div>"
      ],
      "text/plain": [
       "                   v.id  on road old  on road now     years        km  \\\n",
       "v.id           1.000000    -0.029926    -0.030787 -0.034255  0.047400   \n",
       "on road old   -0.029926     1.000000     0.034113  0.007207  0.007488   \n",
       "on road now   -0.030787     0.034113     1.000000  0.004609 -0.053202   \n",
       "years         -0.034255     0.007207     0.004609  1.000000 -0.002089   \n",
       "km             0.047400     0.007488    -0.053202 -0.002089  1.000000   \n",
       "rating        -0.018263    -0.050717     0.028280  0.027285 -0.039930   \n",
       "condition     -0.038548    -0.015682    -0.005043  0.053579 -0.013640   \n",
       "economy        0.047137    -0.030097    -0.015880  0.050220  0.032680   \n",
       "top speed      0.001613    -0.023816     0.012699  0.025148  0.026450   \n",
       "hp            -0.006997    -0.049266    -0.012719 -0.003272 -0.052918   \n",
       "torque        -0.000632     0.008950     0.017955  0.028859  0.013566   \n",
       "current price -0.059460     0.233035     0.282793 -0.011854 -0.935924   \n",
       "\n",
       "                 rating  condition   economy  top speed        hp    torque  \\\n",
       "v.id          -0.018263  -0.038548  0.047137   0.001613 -0.006997 -0.000632   \n",
       "on road old   -0.050717  -0.015682 -0.030097  -0.023816 -0.049266  0.008950   \n",
       "on road now    0.028280  -0.005043 -0.015880   0.012699 -0.012719  0.017955   \n",
       "years          0.027285   0.053579  0.050220   0.025148 -0.003272  0.028859   \n",
       "km            -0.039930  -0.013640  0.032680   0.026450 -0.052918  0.013566   \n",
       "rating         1.000000   0.015943 -0.009757  -0.042222 -0.022623  0.004408   \n",
       "condition      0.015943   1.000000  0.058788   0.018472 -0.071552  0.047805   \n",
       "economy       -0.009757   0.058788  1.000000  -0.059402 -0.016782  0.041632   \n",
       "top speed     -0.042222   0.018472 -0.059402   1.000000  0.057827 -0.019697   \n",
       "hp            -0.022623  -0.071552 -0.016782   0.057827  1.000000 -0.013817   \n",
       "torque         0.004408   0.047805  0.041632  -0.019697 -0.013817  1.000000   \n",
       "current price  0.035038   0.110108 -0.034711  -0.027993  0.030238 -0.002290   \n",
       "\n",
       "               current price  \n",
       "v.id               -0.059460  \n",
       "on road old         0.233035  \n",
       "on road now         0.282793  \n",
       "years              -0.011854  \n",
       "km                 -0.935924  \n",
       "rating              0.035038  \n",
       "condition           0.110108  \n",
       "economy            -0.034711  \n",
       "top speed          -0.027993  \n",
       "hp                  0.030238  \n",
       "torque             -0.002290  \n",
       "current price       1.000000  "
      ]
     },
     "execution_count": 7,
     "metadata": {},
     "output_type": "execute_result"
    }
   ],
   "source": [
    "data.corr()"
   ]
  },
  {
   "cell_type": "markdown",
   "metadata": {},
   "source": [
    "## Convert data to tensor data"
   ]
  },
  {
   "cell_type": "code",
   "execution_count": 8,
   "metadata": {},
   "outputs": [
    {
     "name": "stdout",
     "output_type": "stream",
     "text": [
      "(1000, 12)\n",
      "tf.Tensor(\n",
      "[[1.000000e+00 5.356510e+05 7.981860e+05 ... 7.300000e+01 1.230000e+02\n",
      "  3.513180e+05]\n",
      " [2.000000e+00 5.919110e+05 8.610560e+05 ... 7.400000e+01 9.500000e+01\n",
      "  2.850015e+05]\n",
      " [3.000000e+00 6.869900e+05 7.707620e+05 ... 5.300000e+01 9.700000e+01\n",
      "  2.153860e+05]\n",
      " ...\n",
      " [9.980000e+02 6.463440e+05 8.427330e+05 ... 1.130000e+02 8.900000e+01\n",
      "  4.058710e+05]\n",
      " [9.990000e+02 5.355590e+05 7.324390e+05 ... 1.120000e+02 1.280000e+02\n",
      "  7.439800e+04]\n",
      " [1.000000e+03 5.901050e+05 7.797430e+05 ... 9.900000e+01 9.600000e+01\n",
      "  4.149385e+05]], shape=(1000, 12), dtype=float32)\n"
     ]
    }
   ],
   "source": [
    "tensor_data = tf.constant(data)\n",
    "tensor_data = tf.cast(tensor_data, dtype=tf.float32)\n",
    "print(tensor_data.shape)\n",
    "print(tensor_data)"
   ]
  },
  {
   "cell_type": "code",
   "execution_count": 9,
   "metadata": {},
   "outputs": [
    {
     "name": "stdout",
     "output_type": "stream",
     "text": [
      "tf.Tensor(\n",
      "[[1.950000e+02 5.680400e+05 8.774890e+05 5.000000e+00 1.366220e+05\n",
      "  2.000000e+00 3.000000e+00 1.200000e+01 1.640000e+02 1.190000e+02\n",
      "  7.500000e+01 1.751025e+05]\n",
      " [3.350000e+02 5.533510e+05 7.470140e+05 7.000000e+00 8.195500e+04\n",
      "  5.000000e+00 3.000000e+00 1.400000e+01 1.900000e+02 8.700000e+01\n",
      "  7.000000e+01 3.159145e+05]\n",
      " [3.500000e+01 6.304890e+05 7.171820e+05 5.000000e+00 9.622600e+04\n",
      "  1.000000e+00 9.000000e+00 8.000000e+00 1.910000e+02 1.010000e+02\n",
      "  9.400000e+01 3.171190e+05]\n",
      " [3.740000e+02 5.134850e+05 7.306280e+05 4.000000e+00 1.402960e+05\n",
      "  4.000000e+00 5.000000e+00 1.500000e+01 2.000000e+02 9.400000e+01\n",
      "  8.500000e+01 6.273700e+04]\n",
      " [1.360000e+02 6.257470e+05 7.802630e+05 5.000000e+00 1.256940e+05\n",
      "  2.000000e+00 7.000000e+00 1.300000e+01 1.550000e+02 8.600000e+01\n",
      "  1.230000e+02 2.073525e+05]], shape=(5, 12), dtype=float32)\n"
     ]
    }
   ],
   "source": [
    "tensor_data = tf.random.shuffle(tensor_data)\n",
    "print(tensor_data[:5])"
   ]
  },
  {
   "cell_type": "code",
   "execution_count": 10,
   "metadata": {},
   "outputs": [
    {
     "name": "stdout",
     "output_type": "stream",
     "text": [
      "(1000, 8)\n",
      "tf.Tensor(\n",
      "[[5.00000e+00 1.36622e+05 2.00000e+00 3.00000e+00 1.20000e+01 1.64000e+02\n",
      "  1.19000e+02 7.50000e+01]\n",
      " [7.00000e+00 8.19550e+04 5.00000e+00 3.00000e+00 1.40000e+01 1.90000e+02\n",
      "  8.70000e+01 7.00000e+01]\n",
      " [5.00000e+00 9.62260e+04 1.00000e+00 9.00000e+00 8.00000e+00 1.91000e+02\n",
      "  1.01000e+02 9.40000e+01]\n",
      " [4.00000e+00 1.40296e+05 4.00000e+00 5.00000e+00 1.50000e+01 2.00000e+02\n",
      "  9.40000e+01 8.50000e+01]\n",
      " [5.00000e+00 1.25694e+05 2.00000e+00 7.00000e+00 1.30000e+01 1.55000e+02\n",
      "  8.60000e+01 1.23000e+02]], shape=(5, 8), dtype=float32)\n"
     ]
    }
   ],
   "source": [
    "x = tensor_data[:, 3:-1]\n",
    "print(x.shape)\n",
    "print(x[:5])"
   ]
  },
  {
   "cell_type": "code",
   "execution_count": 11,
   "metadata": {},
   "outputs": [
    {
     "name": "stdout",
     "output_type": "stream",
     "text": [
      "(1000, 1)\n",
      "tf.Tensor(\n",
      "[[175102.5]\n",
      " [315914.5]\n",
      " [317119. ]\n",
      " [ 62737. ]\n",
      " [207352.5]], shape=(5, 1), dtype=float32)\n"
     ]
    }
   ],
   "source": [
    "y = tensor_data[:, -1]\n",
    "y = tf.expand_dims(y, axis=1)\n",
    "print(y.shape)\n",
    "print(y[:5])"
   ]
  },
  {
   "cell_type": "markdown",
   "metadata": {},
   "source": [
    "## Normalization\n",
    "$$\n",
    "\\text{normalization} = \\frac{X - \\mu}{\\sigma}, \\quad \\text{where $\\mu$ = mean and $\\sigma$ = std}\n",
    "$$\n",
    "```\n",
    "Normalization()\n",
    "```\n",
    "Default axis = -1 means mean and std will be calculated based on columns, and then normalization will be performed along the columns."
   ]
  },
  {
   "cell_type": "code",
   "execution_count": 12,
   "metadata": {},
   "outputs": [
    {
     "name": "stdout",
     "output_type": "stream",
     "text": [
      "WARNING:tensorflow:From c:\\Users\\Rahat\\AppData\\Local\\Programs\\Python\\Python310\\lib\\site-packages\\keras\\src\\backend.py:873: The name tf.get_default_graph is deprecated. Please use tf.compat.v1.get_default_graph instead.\n",
      "\n"
     ]
    },
    {
     "data": {
      "text/plain": [
       "<tf.Tensor: shape=(5, 8), dtype=float32, numpy=\n",
       "array([[ 0.25549683,  1.2475196 , -0.70466226, -0.91816014,  0.16820414,\n",
       "        -0.15006122,  1.6801357 , -1.3503773 ],\n",
       "       [ 1.4194924 , -0.6287578 ,  1.4350007 , -0.91816014,  1.065293  ,\n",
       "         1.1985751 ,  0.11966845, -1.5879275 ],\n",
       "       [ 0.25549683, -0.13894941, -1.4178833 ,  1.2072105 , -1.6259733 ,\n",
       "         1.2504458 ,  0.8023729 , -0.44768655],\n",
       "       [-0.32650095,  1.3736184 ,  0.7217797 , -0.20970325,  1.5138373 ,\n",
       "         1.7172815 ,  0.46102068, -0.8752769 ],\n",
       "       [ 0.25549683,  0.8724494 , -0.70466226,  0.49875367,  0.6167485 ,\n",
       "        -0.61689687,  0.07090385,  0.93010455]], dtype=float32)>"
      ]
     },
     "execution_count": 12,
     "metadata": {},
     "output_type": "execute_result"
    }
   ],
   "source": [
    "normalizer = Normalization()\n",
    "normalizer.adapt(x)\n",
    "normalizer(x)[:5]"
   ]
  },
  {
   "cell_type": "code",
   "execution_count": 13,
   "metadata": {},
   "outputs": [
    {
     "name": "stdout",
     "output_type": "stream",
     "text": [
      "Model: \"sequential\"\n",
      "_________________________________________________________________\n",
      " Layer (type)                Output Shape              Param #   \n",
      "=================================================================\n",
      " normalization (Normalizati  (None, 8)                 17        \n",
      " on)                                                             \n",
      "                                                                 \n",
      " dense (Dense)               (None, 1)                 9         \n",
      "                                                                 \n",
      "=================================================================\n",
      "Total params: 26 (108.00 Byte)\n",
      "Trainable params: 9 (36.00 Byte)\n",
      "Non-trainable params: 17 (72.00 Byte)\n",
      "_________________________________________________________________\n"
     ]
    }
   ],
   "source": [
    "model = tf.keras.Sequential([\n",
    "    InputLayer(input_shape=(8,)),\n",
    "    normalizer,\n",
    "    Dense(1)  # as we need only one output for current_price.\n",
    "])\n",
    "\n",
    "model.summary()"
   ]
  },
  {
   "cell_type": "code",
   "execution_count": 14,
   "metadata": {},
   "outputs": [
    {
     "data": {
      "image/png": "[encoded data removed]",
      "text/plain": [
       "<IPython.core.display.Image object>"
      ]
     },
     "execution_count": 14,
     "metadata": {},
     "output_type": "execute_result"
    }
   ],
   "source": [
    "tf.keras.utils.plot_model(model, to_file=\"model.png\", show_shapes=True)"
   ]
  },
  {
   "cell_type": "markdown",
   "metadata": {},
   "source": [
    "## Training and Optimization"
   ]
  },
  {
   "cell_type": "code",
   "execution_count": 15,
   "metadata": {},
   "outputs": [],
   "source": [
    "model.compile(\n",
    "    optimizer=Adam(),\n",
    "    loss=MeanAbsoluteError(),\n",
    "    metrics = RootMe\n",
    ")"
   ]
  },
  {
   "cell_type": "code",
   "execution_count": 16,
   "metadata": {},
   "outputs": [
    {
     "name": "stdout",
     "output_type": "stream",
     "text": [
      "Epoch 1/100\n",
      "WARNING:tensorflow:From c:\\Users\\Rahat\\AppData\\Local\\Programs\\Python\\Python310\\lib\\site-packages\\keras\\src\\utils\\tf_utils.py:492: The name tf.ragged.RaggedTensorValue is deprecated. Please use tf.compat.v1.ragged.RaggedTensorValue instead.\n",
      "\n",
      "32/32 [==============================] - 1s 3ms/step - loss: 308520.2188\n",
      "Epoch 2/100\n",
      "32/32 [==============================] - 0s 3ms/step - loss: 308520.1562\n",
      "Epoch 3/100\n",
      "32/32 [==============================] - 0s 2ms/step - loss: 308520.1562\n",
      "Epoch 4/100\n",
      "32/32 [==============================] - 0s 2ms/step - loss: 308520.1562\n",
      "Epoch 5/100\n",
      "32/32 [==============================] - 0s 2ms/step - loss: 308520.0625\n",
      "Epoch 6/100\n",
      "32/32 [==============================] - 0s 2ms/step - loss: 308520.0625\n",
      "Epoch 7/100\n",
      "32/32 [==============================] - 0s 3ms/step - loss: 308520.0625\n",
      "Epoch 8/100\n",
      "32/32 [==============================] - 0s 3ms/step - loss: 308520.0000\n",
      "Epoch 9/100\n",
      "32/32 [==============================] - 0s 3ms/step - loss: 308519.9688\n",
      "Epoch 10/100\n",
      "32/32 [==============================] - 0s 2ms/step - loss: 308519.9375\n",
      "Epoch 11/100\n",
      "32/32 [==============================] - 0s 3ms/step - loss: 308519.9062\n",
      "Epoch 12/100\n",
      "32/32 [==============================] - 0s 2ms/step - loss: 308519.8438\n",
      "Epoch 13/100\n",
      "32/32 [==============================] - 0s 2ms/step - loss: 308519.8750\n",
      "Epoch 14/100\n",
      "32/32 [==============================] - 0s 2ms/step - loss: 308519.8125\n",
      "Epoch 15/100\n",
      "32/32 [==============================] - 0s 3ms/step - loss: 308519.7500\n",
      "Epoch 16/100\n",
      "32/32 [==============================] - 0s 3ms/step - loss: 308519.7500\n",
      "Epoch 17/100\n",
      "32/32 [==============================] - 0s 3ms/step - loss: 308519.7188\n",
      "Epoch 18/100\n",
      "32/32 [==============================] - 0s 3ms/step - loss: 308519.6875\n",
      "Epoch 19/100\n",
      "32/32 [==============================] - 0s 3ms/step - loss: 308519.6875\n",
      "Epoch 20/100\n",
      "32/32 [==============================] - 0s 3ms/step - loss: 308519.5938\n",
      "Epoch 21/100\n",
      "32/32 [==============================] - 0s 3ms/step - loss: 308519.6250\n",
      "Epoch 22/100\n",
      "32/32 [==============================] - 0s 3ms/step - loss: 308519.5312\n",
      "Epoch 23/100\n",
      "32/32 [==============================] - 0s 3ms/step - loss: 308519.5312\n",
      "Epoch 24/100\n",
      "32/32 [==============================] - 0s 3ms/step - loss: 308519.5000\n",
      "Epoch 25/100\n",
      "32/32 [==============================] - 0s 5ms/step - loss: 308519.4688\n",
      "Epoch 26/100\n",
      "32/32 [==============================] - 0s 3ms/step - loss: 308519.4688\n",
      "Epoch 27/100\n",
      "32/32 [==============================] - 0s 2ms/step - loss: 308519.3750\n",
      "Epoch 28/100\n",
      "32/32 [==============================] - 0s 3ms/step - loss: 308519.3750\n",
      "Epoch 29/100\n",
      "32/32 [==============================] - 0s 2ms/step - loss: 308519.2500\n",
      "Epoch 30/100\n",
      "32/32 [==============================] - 0s 2ms/step - loss: 308519.3125\n",
      "Epoch 31/100\n",
      "32/32 [==============================] - 0s 3ms/step - loss: 308519.2188\n",
      "Epoch 32/100\n",
      "32/32 [==============================] - 0s 2ms/step - loss: 308519.2188\n",
      "Epoch 33/100\n",
      "32/32 [==============================] - 0s 3ms/step - loss: 308519.1875\n",
      "Epoch 34/100\n",
      "32/32 [==============================] - 0s 2ms/step - loss: 308519.1875\n",
      "Epoch 35/100\n",
      "32/32 [==============================] - 0s 2ms/step - loss: 308519.1250\n",
      "Epoch 36/100\n",
      "32/32 [==============================] - 0s 2ms/step - loss: 308519.1250\n",
      "Epoch 37/100\n",
      "32/32 [==============================] - 0s 2ms/step - loss: 308519.0312\n",
      "Epoch 38/100\n",
      "32/32 [==============================] - 0s 2ms/step - loss: 308519.0938\n",
      "Epoch 39/100\n",
      "32/32 [==============================] - 0s 2ms/step - loss: 308519.0000\n",
      "Epoch 40/100\n",
      "32/32 [==============================] - 0s 3ms/step - loss: 308518.9688\n",
      "Epoch 41/100\n",
      "32/32 [==============================] - 0s 3ms/step - loss: 308518.9375\n",
      "Epoch 42/100\n",
      "32/32 [==============================] - 0s 2ms/step - loss: 308518.9062\n",
      "Epoch 43/100\n",
      "32/32 [==============================] - 0s 2ms/step - loss: 308518.8438\n",
      "Epoch 44/100\n",
      "32/32 [==============================] - 0s 5ms/step - loss: 308518.8750\n",
      "Epoch 45/100\n",
      "32/32 [==============================] - 0s 2ms/step - loss: 308518.8125\n",
      "Epoch 46/100\n",
      "32/32 [==============================] - 0s 2ms/step - loss: 308518.8125\n",
      "Epoch 47/100\n",
      "32/32 [==============================] - 0s 2ms/step - loss: 308518.7188\n",
      "Epoch 48/100\n",
      "32/32 [==============================] - 0s 2ms/step - loss: 308518.7500\n",
      "Epoch 49/100\n",
      "32/32 [==============================] - 0s 2ms/step - loss: 308518.7188\n",
      "Epoch 50/100\n",
      "32/32 [==============================] - 0s 2ms/step - loss: 308518.6562\n",
      "Epoch 51/100\n",
      "32/32 [==============================] - 0s 3ms/step - loss: 308518.6562\n",
      "Epoch 52/100\n",
      "32/32 [==============================] - 0s 2ms/step - loss: 308518.5625\n",
      "Epoch 53/100\n",
      "32/32 [==============================] - 0s 2ms/step - loss: 308518.5938\n",
      "Epoch 54/100\n",
      "32/32 [==============================] - 0s 2ms/step - loss: 308518.5938\n",
      "Epoch 55/100\n",
      "32/32 [==============================] - 0s 2ms/step - loss: 308518.5000\n",
      "Epoch 56/100\n",
      "32/32 [==============================] - 0s 2ms/step - loss: 308518.5000\n",
      "Epoch 57/100\n",
      "32/32 [==============================] - 0s 2ms/step - loss: 308518.4375\n",
      "Epoch 58/100\n",
      "32/32 [==============================] - 0s 3ms/step - loss: 308518.4062\n",
      "Epoch 59/100\n",
      "32/32 [==============================] - 0s 2ms/step - loss: 308518.3750\n",
      "Epoch 60/100\n",
      "32/32 [==============================] - 0s 2ms/step - loss: 308518.3438\n",
      "Epoch 61/100\n",
      "32/32 [==============================] - 0s 2ms/step - loss: 308518.2812\n",
      "Epoch 62/100\n",
      "32/32 [==============================] - 0s 2ms/step - loss: 308518.2812\n",
      "Epoch 63/100\n",
      "32/32 [==============================] - 0s 4ms/step - loss: 308518.2812\n",
      "Epoch 64/100\n",
      "32/32 [==============================] - 0s 4ms/step - loss: 308518.2188\n",
      "Epoch 65/100\n",
      "32/32 [==============================] - 0s 2ms/step - loss: 308518.2188\n",
      "Epoch 66/100\n",
      "32/32 [==============================] - 0s 2ms/step - loss: 308518.1250\n",
      "Epoch 67/100\n",
      "32/32 [==============================] - 0s 2ms/step - loss: 308518.1250\n",
      "Epoch 68/100\n",
      "32/32 [==============================] - 0s 2ms/step - loss: 308518.0312\n",
      "Epoch 69/100\n",
      "32/32 [==============================] - 0s 2ms/step - loss: 308518.0938\n",
      "Epoch 70/100\n",
      "32/32 [==============================] - 0s 2ms/step - loss: 308518.0312\n",
      "Epoch 71/100\n",
      "32/32 [==============================] - 0s 3ms/step - loss: 308517.9688\n",
      "Epoch 72/100\n",
      "32/32 [==============================] - 0s 2ms/step - loss: 308517.9375\n",
      "Epoch 73/100\n",
      "32/32 [==============================] - 0s 2ms/step - loss: 308517.9062\n",
      "Epoch 74/100\n",
      "32/32 [==============================] - 0s 2ms/step - loss: 308517.9062\n",
      "Epoch 75/100\n",
      "32/32 [==============================] - 0s 3ms/step - loss: 308517.8125\n",
      "Epoch 76/100\n",
      "32/32 [==============================] - 0s 2ms/step - loss: 308517.8125\n",
      "Epoch 77/100\n",
      "32/32 [==============================] - 0s 2ms/step - loss: 308517.7500\n",
      "Epoch 78/100\n",
      "32/32 [==============================] - 0s 3ms/step - loss: 308517.7500\n",
      "Epoch 79/100\n",
      "32/32 [==============================] - 0s 2ms/step - loss: 308517.6875\n",
      "Epoch 80/100\n",
      "32/32 [==============================] - 0s 2ms/step - loss: 308517.7188\n",
      "Epoch 81/100\n",
      "32/32 [==============================] - 0s 4ms/step - loss: 308517.6562\n",
      "Epoch 82/100\n",
      "32/32 [==============================] - 0s 2ms/step - loss: 308517.5938\n",
      "Epoch 83/100\n",
      "32/32 [==============================] - 0s 2ms/step - loss: 308517.6250\n",
      "Epoch 84/100\n",
      "32/32 [==============================] - 0s 3ms/step - loss: 308517.5938\n",
      "Epoch 85/100\n",
      "32/32 [==============================] - 0s 2ms/step - loss: 308517.5625\n",
      "Epoch 86/100\n",
      "32/32 [==============================] - 0s 3ms/step - loss: 308517.5312\n",
      "Epoch 87/100\n",
      "32/32 [==============================] - 0s 3ms/step - loss: 308517.4688\n",
      "Epoch 88/100\n",
      "32/32 [==============================] - 0s 2ms/step - loss: 308517.4688\n",
      "Epoch 89/100\n",
      "32/32 [==============================] - 0s 2ms/step - loss: 308517.4062\n",
      "Epoch 90/100\n",
      "32/32 [==============================] - 0s 2ms/step - loss: 308517.3750\n",
      "Epoch 91/100\n",
      "32/32 [==============================] - 0s 2ms/step - loss: 308517.3438\n",
      "Epoch 92/100\n",
      "32/32 [==============================] - 0s 2ms/step - loss: 308517.3750\n",
      "Epoch 93/100\n",
      "32/32 [==============================] - 0s 2ms/step - loss: 308517.2812\n",
      "Epoch 94/100\n",
      "32/32 [==============================] - 0s 2ms/step - loss: 308517.2812\n",
      "Epoch 95/100\n",
      "32/32 [==============================] - 0s 2ms/step - loss: 308517.2500\n",
      "Epoch 96/100\n",
      "32/32 [==============================] - 0s 2ms/step - loss: 308517.1875\n",
      "Epoch 97/100\n",
      "32/32 [==============================] - 0s 2ms/step - loss: 308517.1875\n",
      "Epoch 98/100\n",
      "32/32 [==============================] - 0s 2ms/step - loss: 308517.1250\n",
      "Epoch 99/100\n",
      "32/32 [==============================] - 0s 3ms/step - loss: 308517.0312\n",
      "Epoch 100/100\n",
      "32/32 [==============================] - 0s 4ms/step - loss: 308517.0625\n"
     ]
    }
   ],
   "source": [
    "history = model.fit(x, y, epochs=100, verbose=1)"
   ]
  },
  {
   "cell_type": "code",
   "execution_count": 17,
   "metadata": {},
   "outputs": [
    {
     "name": "stdout",
     "output_type": "stream",
     "text": [
      "[308520.21875, 308520.15625, 308520.15625, 308520.15625, 308520.0625, 308520.0625, 308520.0625, 308520.0, 308519.96875, 308519.9375, 308519.90625, 308519.84375, 308519.875, 308519.8125, 308519.75, 308519.75, 308519.71875, 308519.6875, 308519.6875, 308519.59375, 308519.625, 308519.53125, 308519.53125, 308519.5, 308519.46875, 308519.46875, 308519.375, 308519.375, 308519.25, 308519.3125, 308519.21875, 308519.21875, 308519.1875, 308519.1875, 308519.125, 308519.125, 308519.03125, 308519.09375, 308519.0, 308518.96875, 308518.9375, 308518.90625, 308518.84375, 308518.875, 308518.8125, 308518.8125, 308518.71875, 308518.75, 308518.71875, 308518.65625, 308518.65625, 308518.5625, 308518.59375, 308518.59375, 308518.5, 308518.5, 308518.4375, 308518.40625, 308518.375, 308518.34375, 308518.28125, 308518.28125, 308518.28125, 308518.21875, 308518.21875, 308518.125, 308518.125, 308518.03125, 308518.09375, 308518.03125, 308517.96875, 308517.9375, 308517.90625, 308517.90625, 308517.8125, 308517.8125, 308517.75, 308517.75, 308517.6875, 308517.71875, 308517.65625, 308517.59375, 308517.625, 308517.59375, 308517.5625, 308517.53125, 308517.46875, 308517.46875, 308517.40625, 308517.375, 308517.34375, 308517.375, 308517.28125, 308517.28125, 308517.25, 308517.1875, 308517.1875, 308517.125, 308517.03125, 308517.0625]\n"
     ]
    }
   ],
   "source": [
    "history_data = history.history['loss']\n",
    "print(history_data)"
   ]
  },
  {
   "cell_type": "code",
   "execution_count": 18,
   "metadata": {},
   "outputs": [
    {
     "data": {
      "image/png": "[encoded data removed]",
      "text/plain": [
       "<Figure size 432x288 with 1 Axes>"
      ]
     },
     "metadata": {
      "needs_background": "light"
     },
     "output_type": "display_data"
    }
   ],
   "source": [
    "plt.plot(history_data)\n",
    "plt.title('Model Loss')\n",
    "plt.xlabel('Epoch')\n",
    "plt.ylabel('Loss')\n",
    "plt.legend(['Train'])\n",
    "plt.show()"
   ]
  },
  {
   "cell_type": "markdown",
   "metadata": {},
   "source": [
    "## Performance measurements"
   ]
  },
  {
   "cell_type": "code",
   "execution_count": null,
   "metadata": {},
   "outputs": [],
   "source": []
  }
 ],
 "metadata": {
  "kernelspec": {
   "display_name": "Python 3",
   "language": "python",
   "name": "python3"
  },
  "language_info": {
   "codemirror_mode": {
    "name": "ipython",
    "version": 3
   },
   "file_extension": ".py",
   "mimetype": "text/x-python",
   "name": "python",
   "nbconvert_exporter": "python",
   "pygments_lexer": "ipython3",
   "version": "3.10.0"
  }
 },
 "nbformat": 4,
 "nbformat_minor": 2
}
