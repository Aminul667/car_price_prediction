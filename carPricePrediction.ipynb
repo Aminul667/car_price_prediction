{
 "cells": [
  {
   "cell_type": "code",
   "execution_count": 1,
   "metadata": {},
   "outputs": [
    {
     "name": "stdout",
     "output_type": "stream",
     "text": [
      "WARNING:tensorflow:From c:\\Users\\Rahat\\AppData\\Local\\Programs\\Python\\Python310\\lib\\site-packages\\keras\\src\\losses.py:2976: The name tf.losses.sparse_softmax_cross_entropy is deprecated. Please use tf.compat.v1.losses.sparse_softmax_cross_entropy instead.\n",
      "\n"
     ]
    }
   ],
   "source": [
    "import tensorflow as tf \n",
    "import numpy as np\n",
    "import pandas as pd \n",
    "import seaborn as sns\n",
    "from tensorflow.keras.layers import Normalization, Dense, InputLayer\n",
    "from tensorflow.keras.losses import MeanSquaredError, Huber, MeanAbsoluteError\n",
    "from tensorflow.keras.metrics import RootMeanSquaredError\n",
    "from tensorflow.keras.optimizers import Adam\n",
    "import matplotlib.pyplot as plt"
   ]
  },
  {
   "cell_type": "markdown",
   "metadata": {},
   "source": [
    "## Data Processing"
   ]
  },
  {
   "cell_type": "code",
   "execution_count": 2,
   "metadata": {},
   "outputs": [],
   "source": [
    "data_path = './archive/'"
   ]
  },
  {
   "cell_type": "code",
   "execution_count": 3,
   "metadata": {},
   "outputs": [
    {
     "name": "stdout",
     "output_type": "stream",
     "text": [
      "(1000, 12)\n"
     ]
    },
    {
     "data": {
      "text/html": [
       "<div>\n",
       "<style scoped>\n",
       "    .dataframe tbody tr th:only-of-type {\n",
       "        vertical-align: middle;\n",
       "    }\n",
       "\n",
       "    .dataframe tbody tr th {\n",
       "        vertical-align: top;\n",
       "    }\n",
       "\n",
       "    .dataframe thead th {\n",
       "        text-align: right;\n",
       "    }\n",
       "</style>\n",
       "<table border=\"1\" class=\"dataframe\">\n",
       "  <thead>\n",
       "    <tr style=\"text-align: right;\">\n",
       "      <th></th>\n",
       "      <th>v.id</th>\n",
       "      <th>on road old</th>\n",
       "      <th>on road now</th>\n",
       "      <th>years</th>\n",
       "      <th>km</th>\n",
       "      <th>rating</th>\n",
       "      <th>condition</th>\n",
       "      <th>economy</th>\n",
       "      <th>top speed</th>\n",
       "      <th>hp</th>\n",
       "      <th>torque</th>\n",
       "      <th>current price</th>\n",
       "    </tr>\n",
       "  </thead>\n",
       "  <tbody>\n",
       "    <tr>\n",
       "      <th>0</th>\n",
       "      <td>1</td>\n",
       "      <td>535651</td>\n",
       "      <td>798186</td>\n",
       "      <td>3</td>\n",
       "      <td>78945</td>\n",
       "      <td>1</td>\n",
       "      <td>2</td>\n",
       "      <td>14</td>\n",
       "      <td>177</td>\n",
       "      <td>73</td>\n",
       "      <td>123</td>\n",
       "      <td>351318.0</td>\n",
       "    </tr>\n",
       "    <tr>\n",
       "      <th>1</th>\n",
       "      <td>2</td>\n",
       "      <td>591911</td>\n",
       "      <td>861056</td>\n",
       "      <td>6</td>\n",
       "      <td>117220</td>\n",
       "      <td>5</td>\n",
       "      <td>9</td>\n",
       "      <td>9</td>\n",
       "      <td>148</td>\n",
       "      <td>74</td>\n",
       "      <td>95</td>\n",
       "      <td>285001.5</td>\n",
       "    </tr>\n",
       "    <tr>\n",
       "      <th>2</th>\n",
       "      <td>3</td>\n",
       "      <td>686990</td>\n",
       "      <td>770762</td>\n",
       "      <td>2</td>\n",
       "      <td>132538</td>\n",
       "      <td>2</td>\n",
       "      <td>8</td>\n",
       "      <td>15</td>\n",
       "      <td>181</td>\n",
       "      <td>53</td>\n",
       "      <td>97</td>\n",
       "      <td>215386.0</td>\n",
       "    </tr>\n",
       "    <tr>\n",
       "      <th>3</th>\n",
       "      <td>4</td>\n",
       "      <td>573999</td>\n",
       "      <td>722381</td>\n",
       "      <td>4</td>\n",
       "      <td>101065</td>\n",
       "      <td>4</td>\n",
       "      <td>3</td>\n",
       "      <td>11</td>\n",
       "      <td>197</td>\n",
       "      <td>54</td>\n",
       "      <td>116</td>\n",
       "      <td>244295.5</td>\n",
       "    </tr>\n",
       "    <tr>\n",
       "      <th>4</th>\n",
       "      <td>5</td>\n",
       "      <td>691388</td>\n",
       "      <td>811335</td>\n",
       "      <td>6</td>\n",
       "      <td>61559</td>\n",
       "      <td>3</td>\n",
       "      <td>9</td>\n",
       "      <td>12</td>\n",
       "      <td>160</td>\n",
       "      <td>53</td>\n",
       "      <td>105</td>\n",
       "      <td>531114.5</td>\n",
       "    </tr>\n",
       "  </tbody>\n",
       "</table>\n",
       "</div>"
      ],
      "text/plain": [
       "   v.id  on road old  on road now  years      km  rating  condition  economy  \\\n",
       "0     1       535651       798186      3   78945       1          2       14   \n",
       "1     2       591911       861056      6  117220       5          9        9   \n",
       "2     3       686990       770762      2  132538       2          8       15   \n",
       "3     4       573999       722381      4  101065       4          3       11   \n",
       "4     5       691388       811335      6   61559       3          9       12   \n",
       "\n",
       "   top speed  hp  torque  current price  \n",
       "0        177  73     123       351318.0  \n",
       "1        148  74      95       285001.5  \n",
       "2        181  53      97       215386.0  \n",
       "3        197  54     116       244295.5  \n",
       "4        160  53     105       531114.5  "
      ]
     },
     "execution_count": 3,
     "metadata": {},
     "output_type": "execute_result"
    }
   ],
   "source": [
    "data = pd.read_csv(data_path + 'train.csv')\n",
    "print(data.shape)\n",
    "data.head()"
   ]
  },
  {
   "cell_type": "code",
   "execution_count": 4,
   "metadata": {},
   "outputs": [
    {
     "name": "stdout",
     "output_type": "stream",
     "text": [
      "['v.id', 'on road old', 'on road now', 'years', 'km', 'rating', 'condition', 'economy', 'top speed', 'hp', 'torque', 'current price']\n"
     ]
    }
   ],
   "source": [
    "all_features = data.columns.to_list()\n",
    "print(all_features)"
   ]
  },
  {
   "cell_type": "code",
   "execution_count": 5,
   "metadata": {},
   "outputs": [
    {
     "name": "stdout",
     "output_type": "stream",
     "text": [
      "['years', 'km', 'rating', 'condition', 'economy', 'top speed', 'hp', 'torque', 'current price']\n"
     ]
    }
   ],
   "source": [
    "remove_features = ['v.id', 'on road old', 'on road now']\n",
    "features = [feature for feature in all_features if feature not in remove_features]\n",
    "print(features)"
   ]
  },
  {
   "cell_type": "code",
   "execution_count": 6,
   "metadata": {},
   "outputs": [],
   "source": [
    "# sns.pairplot(data[features], diag_kind='kde')"
   ]
  },
  {
   "cell_type": "code",
   "execution_count": 7,
   "metadata": {},
   "outputs": [
    {
     "data": {
      "text/html": [
       "<div>\n",
       "<style scoped>\n",
       "    .dataframe tbody tr th:only-of-type {\n",
       "        vertical-align: middle;\n",
       "    }\n",
       "\n",
       "    .dataframe tbody tr th {\n",
       "        vertical-align: top;\n",
       "    }\n",
       "\n",
       "    .dataframe thead th {\n",
       "        text-align: right;\n",
       "    }\n",
       "</style>\n",
       "<table border=\"1\" class=\"dataframe\">\n",
       "  <thead>\n",
       "    <tr style=\"text-align: right;\">\n",
       "      <th></th>\n",
       "      <th>v.id</th>\n",
       "      <th>on road old</th>\n",
       "      <th>on road now</th>\n",
       "      <th>years</th>\n",
       "      <th>km</th>\n",
       "      <th>rating</th>\n",
       "      <th>condition</th>\n",
       "      <th>economy</th>\n",
       "      <th>top speed</th>\n",
       "      <th>hp</th>\n",
       "      <th>torque</th>\n",
       "      <th>current price</th>\n",
       "    </tr>\n",
       "  </thead>\n",
       "  <tbody>\n",
       "    <tr>\n",
       "      <th>v.id</th>\n",
       "      <td>1.000000</td>\n",
       "      <td>-0.029926</td>\n",
       "      <td>-0.030787</td>\n",
       "      <td>-0.034255</td>\n",
       "      <td>0.047400</td>\n",
       "      <td>-0.018263</td>\n",
       "      <td>-0.038548</td>\n",
       "      <td>0.047137</td>\n",
       "      <td>0.001613</td>\n",
       "      <td>-0.006997</td>\n",
       "      <td>-0.000632</td>\n",
       "      <td>-0.059460</td>\n",
       "    </tr>\n",
       "    <tr>\n",
       "      <th>on road old</th>\n",
       "      <td>-0.029926</td>\n",
       "      <td>1.000000</td>\n",
       "      <td>0.034113</td>\n",
       "      <td>0.007207</td>\n",
       "      <td>0.007488</td>\n",
       "      <td>-0.050717</td>\n",
       "      <td>-0.015682</td>\n",
       "      <td>-0.030097</td>\n",
       "      <td>-0.023816</td>\n",
       "      <td>-0.049266</td>\n",
       "      <td>0.008950</td>\n",
       "      <td>0.233035</td>\n",
       "    </tr>\n",
       "    <tr>\n",
       "      <th>on road now</th>\n",
       "      <td>-0.030787</td>\n",
       "      <td>0.034113</td>\n",
       "      <td>1.000000</td>\n",
       "      <td>0.004609</td>\n",
       "      <td>-0.053202</td>\n",
       "      <td>0.028280</td>\n",
       "      <td>-0.005043</td>\n",
       "      <td>-0.015880</td>\n",
       "      <td>0.012699</td>\n",
       "      <td>-0.012719</td>\n",
       "      <td>0.017955</td>\n",
       "      <td>0.282793</td>\n",
       "    </tr>\n",
       "    <tr>\n",
       "      <th>years</th>\n",
       "      <td>-0.034255</td>\n",
       "      <td>0.007207</td>\n",
       "      <td>0.004609</td>\n",
       "      <td>1.000000</td>\n",
       "      <td>-0.002089</td>\n",
       "      <td>0.027285</td>\n",
       "      <td>0.053579</td>\n",
       "      <td>0.050220</td>\n",
       "      <td>0.025148</td>\n",
       "      <td>-0.003272</td>\n",
       "      <td>0.028859</td>\n",
       "      <td>-0.011854</td>\n",
       "    </tr>\n",
       "    <tr>\n",
       "      <th>km</th>\n",
       "      <td>0.047400</td>\n",
       "      <td>0.007488</td>\n",
       "      <td>-0.053202</td>\n",
       "      <td>-0.002089</td>\n",
       "      <td>1.000000</td>\n",
       "      <td>-0.039930</td>\n",
       "      <td>-0.013640</td>\n",
       "      <td>0.032680</td>\n",
       "      <td>0.026450</td>\n",
       "      <td>-0.052918</td>\n",
       "      <td>0.013566</td>\n",
       "      <td>-0.935924</td>\n",
       "    </tr>\n",
       "    <tr>\n",
       "      <th>rating</th>\n",
       "      <td>-0.018263</td>\n",
       "      <td>-0.050717</td>\n",
       "      <td>0.028280</td>\n",
       "      <td>0.027285</td>\n",
       "      <td>-0.039930</td>\n",
       "      <td>1.000000</td>\n",
       "      <td>0.015943</td>\n",
       "      <td>-0.009757</td>\n",
       "      <td>-0.042222</td>\n",
       "      <td>-0.022623</td>\n",
       "      <td>0.004408</td>\n",
       "      <td>0.035038</td>\n",
       "    </tr>\n",
       "    <tr>\n",
       "      <th>condition</th>\n",
       "      <td>-0.038548</td>\n",
       "      <td>-0.015682</td>\n",
       "      <td>-0.005043</td>\n",
       "      <td>0.053579</td>\n",
       "      <td>-0.013640</td>\n",
       "      <td>0.015943</td>\n",
       "      <td>1.000000</td>\n",
       "      <td>0.058788</td>\n",
       "      <td>0.018472</td>\n",
       "      <td>-0.071552</td>\n",
       "      <td>0.047805</td>\n",
       "      <td>0.110108</td>\n",
       "    </tr>\n",
       "    <tr>\n",
       "      <th>economy</th>\n",
       "      <td>0.047137</td>\n",
       "      <td>-0.030097</td>\n",
       "      <td>-0.015880</td>\n",
       "      <td>0.050220</td>\n",
       "      <td>0.032680</td>\n",
       "      <td>-0.009757</td>\n",
       "      <td>0.058788</td>\n",
       "      <td>1.000000</td>\n",
       "      <td>-0.059402</td>\n",
       "      <td>-0.016782</td>\n",
       "      <td>0.041632</td>\n",
       "      <td>-0.034711</td>\n",
       "    </tr>\n",
       "    <tr>\n",
       "      <th>top speed</th>\n",
       "      <td>0.001613</td>\n",
       "      <td>-0.023816</td>\n",
       "      <td>0.012699</td>\n",
       "      <td>0.025148</td>\n",
       "      <td>0.026450</td>\n",
       "      <td>-0.042222</td>\n",
       "      <td>0.018472</td>\n",
       "      <td>-0.059402</td>\n",
       "      <td>1.000000</td>\n",
       "      <td>0.057827</td>\n",
       "      <td>-0.019697</td>\n",
       "      <td>-0.027993</td>\n",
       "    </tr>\n",
       "    <tr>\n",
       "      <th>hp</th>\n",
       "      <td>-0.006997</td>\n",
       "      <td>-0.049266</td>\n",
       "      <td>-0.012719</td>\n",
       "      <td>-0.003272</td>\n",
       "      <td>-0.052918</td>\n",
       "      <td>-0.022623</td>\n",
       "      <td>-0.071552</td>\n",
       "      <td>-0.016782</td>\n",
       "      <td>0.057827</td>\n",
       "      <td>1.000000</td>\n",
       "      <td>-0.013817</td>\n",
       "      <td>0.030238</td>\n",
       "    </tr>\n",
       "    <tr>\n",
       "      <th>torque</th>\n",
       "      <td>-0.000632</td>\n",
       "      <td>0.008950</td>\n",
       "      <td>0.017955</td>\n",
       "      <td>0.028859</td>\n",
       "      <td>0.013566</td>\n",
       "      <td>0.004408</td>\n",
       "      <td>0.047805</td>\n",
       "      <td>0.041632</td>\n",
       "      <td>-0.019697</td>\n",
       "      <td>-0.013817</td>\n",
       "      <td>1.000000</td>\n",
       "      <td>-0.002290</td>\n",
       "    </tr>\n",
       "    <tr>\n",
       "      <th>current price</th>\n",
       "      <td>-0.059460</td>\n",
       "      <td>0.233035</td>\n",
       "      <td>0.282793</td>\n",
       "      <td>-0.011854</td>\n",
       "      <td>-0.935924</td>\n",
       "      <td>0.035038</td>\n",
       "      <td>0.110108</td>\n",
       "      <td>-0.034711</td>\n",
       "      <td>-0.027993</td>\n",
       "      <td>0.030238</td>\n",
       "      <td>-0.002290</td>\n",
       "      <td>1.000000</td>\n",
       "    </tr>\n",
       "  </tbody>\n",
       "</table>\n",
       "</div>"
      ],
      "text/plain": [
       "                   v.id  on road old  on road now     years        km  \\\n",
       "v.id           1.000000    -0.029926    -0.030787 -0.034255  0.047400   \n",
       "on road old   -0.029926     1.000000     0.034113  0.007207  0.007488   \n",
       "on road now   -0.030787     0.034113     1.000000  0.004609 -0.053202   \n",
       "years         -0.034255     0.007207     0.004609  1.000000 -0.002089   \n",
       "km             0.047400     0.007488    -0.053202 -0.002089  1.000000   \n",
       "rating        -0.018263    -0.050717     0.028280  0.027285 -0.039930   \n",
       "condition     -0.038548    -0.015682    -0.005043  0.053579 -0.013640   \n",
       "economy        0.047137    -0.030097    -0.015880  0.050220  0.032680   \n",
       "top speed      0.001613    -0.023816     0.012699  0.025148  0.026450   \n",
       "hp            -0.006997    -0.049266    -0.012719 -0.003272 -0.052918   \n",
       "torque        -0.000632     0.008950     0.017955  0.028859  0.013566   \n",
       "current price -0.059460     0.233035     0.282793 -0.011854 -0.935924   \n",
       "\n",
       "                 rating  condition   economy  top speed        hp    torque  \\\n",
       "v.id          -0.018263  -0.038548  0.047137   0.001613 -0.006997 -0.000632   \n",
       "on road old   -0.050717  -0.015682 -0.030097  -0.023816 -0.049266  0.008950   \n",
       "on road now    0.028280  -0.005043 -0.015880   0.012699 -0.012719  0.017955   \n",
       "years          0.027285   0.053579  0.050220   0.025148 -0.003272  0.028859   \n",
       "km            -0.039930  -0.013640  0.032680   0.026450 -0.052918  0.013566   \n",
       "rating         1.000000   0.015943 -0.009757  -0.042222 -0.022623  0.004408   \n",
       "condition      0.015943   1.000000  0.058788   0.018472 -0.071552  0.047805   \n",
       "economy       -0.009757   0.058788  1.000000  -0.059402 -0.016782  0.041632   \n",
       "top speed     -0.042222   0.018472 -0.059402   1.000000  0.057827 -0.019697   \n",
       "hp            -0.022623  -0.071552 -0.016782   0.057827  1.000000 -0.013817   \n",
       "torque         0.004408   0.047805  0.041632  -0.019697 -0.013817  1.000000   \n",
       "current price  0.035038   0.110108 -0.034711  -0.027993  0.030238 -0.002290   \n",
       "\n",
       "               current price  \n",
       "v.id               -0.059460  \n",
       "on road old         0.233035  \n",
       "on road now         0.282793  \n",
       "years              -0.011854  \n",
       "km                 -0.935924  \n",
       "rating              0.035038  \n",
       "condition           0.110108  \n",
       "economy            -0.034711  \n",
       "top speed          -0.027993  \n",
       "hp                  0.030238  \n",
       "torque             -0.002290  \n",
       "current price       1.000000  "
      ]
     },
     "execution_count": 7,
     "metadata": {},
     "output_type": "execute_result"
    }
   ],
   "source": [
    "data.corr()"
   ]
  },
  {
   "cell_type": "markdown",
   "metadata": {},
   "source": [
    "## Convert data to tensor data"
   ]
  },
  {
   "cell_type": "code",
   "execution_count": 8,
   "metadata": {},
   "outputs": [
    {
     "name": "stdout",
     "output_type": "stream",
     "text": [
      "(1000, 12)\n",
      "tf.Tensor(\n",
      "[[1.000000e+00 5.356510e+05 7.981860e+05 ... 7.300000e+01 1.230000e+02\n",
      "  3.513180e+05]\n",
      " [2.000000e+00 5.919110e+05 8.610560e+05 ... 7.400000e+01 9.500000e+01\n",
      "  2.850015e+05]\n",
      " [3.000000e+00 6.869900e+05 7.707620e+05 ... 5.300000e+01 9.700000e+01\n",
      "  2.153860e+05]\n",
      " ...\n",
      " [9.980000e+02 6.463440e+05 8.427330e+05 ... 1.130000e+02 8.900000e+01\n",
      "  4.058710e+05]\n",
      " [9.990000e+02 5.355590e+05 7.324390e+05 ... 1.120000e+02 1.280000e+02\n",
      "  7.439800e+04]\n",
      " [1.000000e+03 5.901050e+05 7.797430e+05 ... 9.900000e+01 9.600000e+01\n",
      "  4.149385e+05]], shape=(1000, 12), dtype=float32)\n"
     ]
    }
   ],
   "source": [
    "tensor_data = tf.constant(data)\n",
    "tensor_data = tf.cast(tensor_data, dtype=tf.float32)\n",
    "print(tensor_data.shape)\n",
    "print(tensor_data)"
   ]
  },
  {
   "cell_type": "code",
   "execution_count": 9,
   "metadata": {},
   "outputs": [
    {
     "name": "stdout",
     "output_type": "stream",
     "text": [
      "tf.Tensor(\n",
      "[[9.480000e+02 6.112990e+05 8.290390e+05 6.000000e+00 6.016000e+04\n",
      "  3.000000e+00 1.000000e+00 1.000000e+01 1.610000e+02 8.800000e+01\n",
      "  9.400000e+01 4.759845e+05]\n",
      " [4.900000e+02 5.634650e+05 8.927760e+05 3.000000e+00 7.159800e+04\n",
      "  5.000000e+00 1.000000e+00 1.200000e+01 1.950000e+02 9.700000e+01\n",
      "  7.000000e+01 4.434230e+05]\n",
      " [1.000000e+03 5.901050e+05 7.797430e+05 5.000000e+00 6.729500e+04\n",
      "  4.000000e+00 2.000000e+00 8.000000e+00 1.990000e+02 9.900000e+01\n",
      "  9.600000e+01 4.149385e+05]\n",
      " [4.470000e+02 5.445930e+05 8.745320e+05 2.000000e+00 1.094530e+05\n",
      "  5.000000e+00 4.000000e+00 1.300000e+01 1.590000e+02 9.900000e+01\n",
      "  1.050000e+02 2.740750e+05]\n",
      " [9.140000e+02 6.607140e+05 7.915940e+05 3.000000e+00 1.347690e+05\n",
      "  3.000000e+00 1.000000e+00 1.100000e+01 1.450000e+02 1.010000e+02\n",
      "  8.600000e+01 1.873050e+05]], shape=(5, 12), dtype=float32)\n"
     ]
    }
   ],
   "source": [
    "tensor_data = tf.random.shuffle(tensor_data)\n",
    "print(tensor_data[:5])"
   ]
  },
  {
   "cell_type": "code",
   "execution_count": 10,
   "metadata": {},
   "outputs": [
    {
     "name": "stdout",
     "output_type": "stream",
     "text": [
      "(1000, 8)\n",
      "tf.Tensor(\n",
      "[[6.00000e+00 6.01600e+04 3.00000e+00 1.00000e+00 1.00000e+01 1.61000e+02\n",
      "  8.80000e+01 9.40000e+01]\n",
      " [3.00000e+00 7.15980e+04 5.00000e+00 1.00000e+00 1.20000e+01 1.95000e+02\n",
      "  9.70000e+01 7.00000e+01]\n",
      " [5.00000e+00 6.72950e+04 4.00000e+00 2.00000e+00 8.00000e+00 1.99000e+02\n",
      "  9.90000e+01 9.60000e+01]\n",
      " [2.00000e+00 1.09453e+05 5.00000e+00 4.00000e+00 1.30000e+01 1.59000e+02\n",
      "  9.90000e+01 1.05000e+02]\n",
      " [3.00000e+00 1.34769e+05 3.00000e+00 1.00000e+00 1.10000e+01 1.45000e+02\n",
      "  1.01000e+02 8.60000e+01]], shape=(5, 8), dtype=float32)\n"
     ]
    }
   ],
   "source": [
    "x = tensor_data[:, 3:-1]\n",
    "print(x.shape)\n",
    "print(x[:5])"
   ]
  },
  {
   "cell_type": "code",
   "execution_count": 11,
   "metadata": {},
   "outputs": [
    {
     "name": "stdout",
     "output_type": "stream",
     "text": [
      "(1000, 1)\n",
      "tf.Tensor(\n",
      "[[475984.5]\n",
      " [443423. ]\n",
      " [414938.5]\n",
      " [274075. ]\n",
      " [187305. ]], shape=(5, 1), dtype=float32)\n"
     ]
    }
   ],
   "source": [
    "y = tensor_data[:, -1]\n",
    "y = tf.expand_dims(y, axis=1)\n",
    "print(y.shape)\n",
    "print(y[:5])"
   ]
  },
  {
   "cell_type": "markdown",
   "metadata": {},
   "source": [
    "## Normalization\n",
    "$$\n",
    "\\text{normalization} = \\frac{X - \\mu}{\\sigma}, \\quad \\text{where $\\mu$ = mean and $\\sigma$ = std}\n",
    "$$\n",
    "```\n",
    "Normalization()\n",
    "```\n",
    "Default axis = -1 means mean and std will be calculated based on columns, and then normalization will be performed along the columns."
   ]
  },
  {
   "cell_type": "code",
   "execution_count": 12,
   "metadata": {},
   "outputs": [],
   "source": [
    "TRAINING_RATIO = 0.8\n",
    "VAL_RATIO = 0.1\n",
    "TEST_RATIO = 0.1\n",
    "DATASET_SIZE = len(x)"
   ]
  },
  {
   "cell_type": "code",
   "execution_count": 13,
   "metadata": {},
   "outputs": [
    {
     "name": "stdout",
     "output_type": "stream",
     "text": [
      "(800, 8)\n",
      "(800, 1)\n"
     ]
    }
   ],
   "source": [
    "x_train = x[:int(DATASET_SIZE*TRAINING_RATIO)]\n",
    "y_train = y[:int(DATASET_SIZE*TRAINING_RATIO)]\n",
    "print(x_train.shape)\n",
    "print(y_train.shape)"
   ]
  },
  {
   "cell_type": "code",
   "execution_count": 52,
   "metadata": {},
   "outputs": [],
   "source": [
    "train_dataset = tf.data.Dataset.from_tensor_slices((x_train, y_train))\n",
    "train_dataset = train_dataset.shuffle(buffer_size=8, reshuffle_each_iteration=True).batch(32).prefetch(tf.data.AUTOTUNE)"
   ]
  },
  {
   "cell_type": "code",
   "execution_count": 14,
   "metadata": {},
   "outputs": [
    {
     "name": "stdout",
     "output_type": "stream",
     "text": [
      "(100, 8)\n",
      "(100, 1)\n"
     ]
    }
   ],
   "source": [
    "x_val = x[int(DATASET_SIZE*TRAINING_RATIO):int(DATASET_SIZE*(TRAINING_RATIO+VAL_RATIO))]\n",
    "y_val = y[int(DATASET_SIZE*TRAINING_RATIO):int(DATASET_SIZE*(TRAINING_RATIO+VAL_RATIO))]\n",
    "print(x_val.shape)\n",
    "print(y_val.shape)"
   ]
  },
  {
   "cell_type": "code",
   "execution_count": 53,
   "metadata": {},
   "outputs": [],
   "source": [
    "val_dataset = tf.data.Dataset.from_tensor_slices((x_val, y_val))\n",
    "val_dataset = train_dataset.shuffle(buffer_size=8, reshuffle_each_iteration=True).batch(32).prefetch(tf.data.AUTOTUNE)"
   ]
  },
  {
   "cell_type": "code",
   "execution_count": 15,
   "metadata": {},
   "outputs": [
    {
     "name": "stdout",
     "output_type": "stream",
     "text": [
      "(100, 8)\n",
      "(100, 1)\n"
     ]
    }
   ],
   "source": [
    "x_test = x[int(DATASET_SIZE*(TRAINING_RATIO+VAL_RATIO)):]\n",
    "y_test = y[int(DATASET_SIZE*(TRAINING_RATIO+VAL_RATIO)):]\n",
    "print(x_test.shape)\n",
    "print(y_test.shape)"
   ]
  },
  {
   "cell_type": "code",
   "execution_count": 54,
   "metadata": {},
   "outputs": [],
   "source": [
    "test_dataset = tf.data.Dataset.from_tensor_slices((x_test, y_test))\n",
    "test_dataset = train_dataset.shuffle(buffer_size=8, reshuffle_each_iteration=True).batch(32).prefetch(tf.data.AUTOTUNE)"
   ]
  },
  {
   "cell_type": "code",
   "execution_count": 16,
   "metadata": {},
   "outputs": [
    {
     "name": "stdout",
     "output_type": "stream",
     "text": [
      "WARNING:tensorflow:From c:\\Users\\Rahat\\AppData\\Local\\Programs\\Python\\Python310\\lib\\site-packages\\keras\\src\\backend.py:873: The name tf.get_default_graph is deprecated. Please use tf.compat.v1.get_default_graph instead.\n",
      "\n"
     ]
    },
    {
     "data": {
      "text/plain": [
       "<tf.Tensor: shape=(5, 8), dtype=float32, numpy=\n",
       "array([[ 0.8210282 , -1.3732774 ,  0.00716643, -1.6118985 , -0.7346294 ,\n",
       "        -0.30038092,  0.16218606, -0.44193545],\n",
       "       [-0.91966766, -0.9778645 ,  1.4403521 , -1.6118985 ,  0.1667563 ,\n",
       "         1.437628  ,  0.6028415 , -1.5890461 ],\n",
       "       [ 0.24079622, -1.1266197 ,  0.72375923, -1.260531  , -1.636015  ,\n",
       "         1.6420997 ,  0.7007649 , -0.3463429 ],\n",
       "       [-1.4998996 ,  0.3307871 ,  1.4403521 , -0.55779576,  0.61744916,\n",
       "        -0.40261674,  0.7007649 ,  0.08382363],\n",
       "       [-0.91966766,  1.2059641 ,  0.00716643, -1.6118985 , -0.28393653,\n",
       "        -1.1182675 ,  0.79868835, -0.82430565]], dtype=float32)>"
      ]
     },
     "execution_count": 16,
     "metadata": {},
     "output_type": "execute_result"
    }
   ],
   "source": [
    "normalizer = Normalization()\n",
    "normalizer.adapt(x_train)\n",
    "normalizer(x)[:5]"
   ]
  },
  {
   "cell_type": "code",
   "execution_count": 17,
   "metadata": {},
   "outputs": [
    {
     "name": "stdout",
     "output_type": "stream",
     "text": [
      "tf.Tensor(\n",
      "[[6.00000e+00 6.01600e+04 3.00000e+00 1.00000e+00 1.00000e+01 1.61000e+02\n",
      "  8.80000e+01 9.40000e+01]\n",
      " [3.00000e+00 7.15980e+04 5.00000e+00 1.00000e+00 1.20000e+01 1.95000e+02\n",
      "  9.70000e+01 7.00000e+01]\n",
      " [5.00000e+00 6.72950e+04 4.00000e+00 2.00000e+00 8.00000e+00 1.99000e+02\n",
      "  9.90000e+01 9.60000e+01]\n",
      " [2.00000e+00 1.09453e+05 5.00000e+00 4.00000e+00 1.30000e+01 1.59000e+02\n",
      "  9.90000e+01 1.05000e+02]\n",
      " [3.00000e+00 1.34769e+05 3.00000e+00 1.00000e+00 1.10000e+01 1.45000e+02\n",
      "  1.01000e+02 8.60000e+01]], shape=(5, 8), dtype=float32)\n"
     ]
    }
   ],
   "source": [
    "print(x[:5])"
   ]
  },
  {
   "cell_type": "code",
   "execution_count": 60,
   "metadata": {},
   "outputs": [
    {
     "name": "stdout",
     "output_type": "stream",
     "text": [
      "Model: \"sequential_2\"\n",
      "_________________________________________________________________\n",
      " Layer (type)                Output Shape              Param #   \n",
      "=================================================================\n",
      " normalization (Normalizati  (None, 8)                 17        \n",
      " on)                                                             \n",
      "                                                                 \n",
      " dense_5 (Dense)             (None, 128)               1152      \n",
      "                                                                 \n",
      " dense_6 (Dense)             (None, 128)               16512     \n",
      "                                                                 \n",
      " dense_7 (Dense)             (None, 128)               16512     \n",
      "                                                                 \n",
      " dense_8 (Dense)             (None, 1)                 129       \n",
      "                                                                 \n"
     ]
    },
    {
     "name": "stdout",
     "output_type": "stream",
     "text": [
      "=================================================================\n",
      "Total params: 34322 (134.07 KB)\n",
      "Trainable params: 34305 (134.00 KB)\n",
      "Non-trainable params: 17 (72.00 Byte)\n",
      "_________________________________________________________________\n"
     ]
    }
   ],
   "source": [
    "model = tf.keras.Sequential([\n",
    "    InputLayer(input_shape=(8,)),\n",
    "    normalizer,\n",
    "    Dense(128, activation='relu'),\n",
    "    Dense(128, activation='relu'),\n",
    "    Dense(128, activation='relu'),\n",
    "    Dense(1)  # as we need only one output for current_price.\n",
    "])\n",
    "\n",
    "model.summary()"
   ]
  },
  {
   "cell_type": "code",
   "execution_count": 61,
   "metadata": {},
   "outputs": [
    {
     "data": {
      "image/png": "[encoded data removed]",
      "text/plain": [
       "<IPython.core.display.Image object>"
      ]
     },
     "execution_count": 61,
     "metadata": {},
     "output_type": "execute_result"
    }
   ],
   "source": [
    "tf.keras.utils.plot_model(model, to_file=\"model.png\", show_shapes=True)"
   ]
  },
  {
   "cell_type": "markdown",
   "metadata": {},
   "source": [
    "## Training and Optimization"
   ]
  },
  {
   "cell_type": "code",
   "execution_count": 62,
   "metadata": {},
   "outputs": [],
   "source": [
    "model.compile(\n",
    "    optimizer=Adam(learning_rate=0.1),\n",
    "    loss=MeanAbsoluteError(),\n",
    "    metrics = RootMeanSquaredError()\n",
    ")"
   ]
  },
  {
   "cell_type": "code",
   "execution_count": 63,
   "metadata": {},
   "outputs": [
    {
     "name": "stdout",
     "output_type": "stream",
     "text": [
      "Epoch 1/100\n"
     ]
    },
    {
     "name": "stdout",
     "output_type": "stream",
     "text": [
      "25/25 [==============================] - 2s 15ms/step - loss: 150740.7344 - root_mean_squared_error: 199647.2969 - val_loss: 51037.4648 - val_root_mean_squared_error: 62917.0039\n",
      "Epoch 2/100\n",
      "25/25 [==============================] - 0s 4ms/step - loss: 53033.4688 - root_mean_squared_error: 65654.2578 - val_loss: 49712.4258 - val_root_mean_squared_error: 62906.9219\n",
      "Epoch 3/100\n",
      "25/25 [==============================] - 0s 7ms/step - loss: 43002.8789 - root_mean_squared_error: 54269.9180 - val_loss: 41193.2031 - val_root_mean_squared_error: 51467.2461\n",
      "Epoch 4/100\n",
      "25/25 [==============================] - 0s 4ms/step - loss: 43052.0000 - root_mean_squared_error: 54254.4844 - val_loss: 46964.4492 - val_root_mean_squared_error: 59481.0391\n",
      "Epoch 5/100\n",
      "25/25 [==============================] - 0s 4ms/step - loss: 42196.8750 - root_mean_squared_error: 53606.9648 - val_loss: 41491.9062 - val_root_mean_squared_error: 52158.5547\n",
      "Epoch 6/100\n",
      "25/25 [==============================] - 0s 4ms/step - loss: 41785.8242 - root_mean_squared_error: 52745.6211 - val_loss: 39495.7617 - val_root_mean_squared_error: 49704.5156\n",
      "Epoch 7/100\n",
      "25/25 [==============================] - 0s 4ms/step - loss: 41965.1914 - root_mean_squared_error: 52773.2695 - val_loss: 42355.5195 - val_root_mean_squared_error: 53204.6172\n",
      "Epoch 8/100\n",
      "25/25 [==============================] - 0s 4ms/step - loss: 42608.6602 - root_mean_squared_error: 53805.7031 - val_loss: 41561.2188 - val_root_mean_squared_error: 52584.2500\n",
      "Epoch 9/100\n",
      "25/25 [==============================] - 0s 4ms/step - loss: 38480.1328 - root_mean_squared_error: 48179.6836 - val_loss: 35788.6836 - val_root_mean_squared_error: 44225.8555\n",
      "Epoch 10/100\n",
      "25/25 [==============================] - 0s 4ms/step - loss: 41931.9219 - root_mean_squared_error: 52679.9492 - val_loss: 52834.2695 - val_root_mean_squared_error: 66536.8281\n",
      "Epoch 11/100\n",
      "25/25 [==============================] - 0s 4ms/step - loss: 40213.5938 - root_mean_squared_error: 50082.4688 - val_loss: 37582.1602 - val_root_mean_squared_error: 47593.7773\n",
      "Epoch 12/100\n",
      "25/25 [==============================] - 0s 4ms/step - loss: 39305.3398 - root_mean_squared_error: 49242.8242 - val_loss: 37993.3086 - val_root_mean_squared_error: 47769.7500\n",
      "Epoch 13/100\n",
      "25/25 [==============================] - 0s 4ms/step - loss: 40963.3516 - root_mean_squared_error: 51709.6523 - val_loss: 40470.3750 - val_root_mean_squared_error: 51266.2812\n",
      "Epoch 14/100\n",
      "25/25 [==============================] - 0s 4ms/step - loss: 38989.7461 - root_mean_squared_error: 49375.5430 - val_loss: 36743.0156 - val_root_mean_squared_error: 46329.3320\n",
      "Epoch 15/100\n",
      "25/25 [==============================] - 0s 5ms/step - loss: 39925.1992 - root_mean_squared_error: 50341.7500 - val_loss: 34716.0000 - val_root_mean_squared_error: 43961.8555\n",
      "Epoch 16/100\n",
      "25/25 [==============================] - 0s 5ms/step - loss: 42566.8242 - root_mean_squared_error: 53113.6367 - val_loss: 43576.2109 - val_root_mean_squared_error: 55549.0586\n",
      "Epoch 17/100\n",
      "25/25 [==============================] - 0s 7ms/step - loss: 37477.9062 - root_mean_squared_error: 47475.4648 - val_loss: 37385.1836 - val_root_mean_squared_error: 47005.8672\n",
      "Epoch 18/100\n",
      "25/25 [==============================] - 0s 13ms/step - loss: 37624.9609 - root_mean_squared_error: 46979.2188 - val_loss: 33955.5586 - val_root_mean_squared_error: 42226.2617\n",
      "Epoch 19/100\n",
      "25/25 [==============================] - 0s 5ms/step - loss: 37862.4922 - root_mean_squared_error: 47271.1797 - val_loss: 36725.6914 - val_root_mean_squared_error: 45054.2148\n",
      "Epoch 20/100\n",
      "25/25 [==============================] - 0s 6ms/step - loss: 41634.2031 - root_mean_squared_error: 52191.8867 - val_loss: 39170.6055 - val_root_mean_squared_error: 49727.2266\n",
      "Epoch 21/100\n",
      "25/25 [==============================] - 0s 5ms/step - loss: 39346.3789 - root_mean_squared_error: 49023.0352 - val_loss: 34603.8047 - val_root_mean_squared_error: 43497.8984\n",
      "Epoch 22/100\n",
      "25/25 [==============================] - 0s 5ms/step - loss: 35377.0938 - root_mean_squared_error: 44404.6055 - val_loss: 33960.8516 - val_root_mean_squared_error: 42648.9219\n",
      "Epoch 23/100\n",
      "25/25 [==============================] - 0s 5ms/step - loss: 36506.4375 - root_mean_squared_error: 45668.0312 - val_loss: 33631.6094 - val_root_mean_squared_error: 41476.0000\n",
      "Epoch 24/100\n",
      "25/25 [==============================] - 0s 6ms/step - loss: 35934.7422 - root_mean_squared_error: 44718.0391 - val_loss: 38151.2617 - val_root_mean_squared_error: 46574.5742\n",
      "Epoch 25/100\n",
      "25/25 [==============================] - 0s 5ms/step - loss: 44078.0703 - root_mean_squared_error: 55307.0586 - val_loss: 47926.6641 - val_root_mean_squared_error: 60046.9102\n",
      "Epoch 26/100\n",
      "25/25 [==============================] - 0s 5ms/step - loss: 36069.6719 - root_mean_squared_error: 44910.5039 - val_loss: 33389.3711 - val_root_mean_squared_error: 41325.1484\n",
      "Epoch 27/100\n",
      "25/25 [==============================] - 0s 5ms/step - loss: 38299.6992 - root_mean_squared_error: 48051.1836 - val_loss: 34431.8242 - val_root_mean_squared_error: 43146.6406\n",
      "Epoch 28/100\n",
      "25/25 [==============================] - 0s 5ms/step - loss: 36150.6367 - root_mean_squared_error: 45170.6797 - val_loss: 37858.8789 - val_root_mean_squared_error: 46289.7812\n",
      "Epoch 29/100\n",
      "25/25 [==============================] - 0s 5ms/step - loss: 46752.5703 - root_mean_squared_error: 57851.5820 - val_loss: 38293.2734 - val_root_mean_squared_error: 48564.2500\n",
      "Epoch 30/100\n",
      "25/25 [==============================] - 0s 5ms/step - loss: 36148.3477 - root_mean_squared_error: 46008.5156 - val_loss: 36291.2969 - val_root_mean_squared_error: 44703.6289\n",
      "Epoch 31/100\n",
      "25/25 [==============================] - 0s 5ms/step - loss: 39768.5586 - root_mean_squared_error: 50304.9375 - val_loss: 35336.6328 - val_root_mean_squared_error: 44788.3750\n",
      "Epoch 32/100\n",
      "25/25 [==============================] - 0s 6ms/step - loss: 36560.6211 - root_mean_squared_error: 45668.9297 - val_loss: 33595.0391 - val_root_mean_squared_error: 42208.0156\n",
      "Epoch 33/100\n",
      "25/25 [==============================] - 0s 9ms/step - loss: 35962.7773 - root_mean_squared_error: 45064.3086 - val_loss: 33338.1953 - val_root_mean_squared_error: 41689.1289\n",
      "Epoch 34/100\n",
      "25/25 [==============================] - 0s 6ms/step - loss: 37365.4883 - root_mean_squared_error: 47083.9805 - val_loss: 33216.8203 - val_root_mean_squared_error: 41588.3555\n",
      "Epoch 35/100\n",
      "25/25 [==============================] - 0s 7ms/step - loss: 35617.7305 - root_mean_squared_error: 44347.2578 - val_loss: 34840.1211 - val_root_mean_squared_error: 43023.1211\n",
      "Epoch 36/100\n",
      "25/25 [==============================] - 0s 5ms/step - loss: 36138.0156 - root_mean_squared_error: 45390.4805 - val_loss: 37119.9492 - val_root_mean_squared_error: 45536.1016\n",
      "Epoch 37/100\n",
      "25/25 [==============================] - 0s 6ms/step - loss: 41150.9766 - root_mean_squared_error: 51589.0703 - val_loss: 40276.4922 - val_root_mean_squared_error: 50460.1172\n",
      "Epoch 38/100\n",
      "25/25 [==============================] - 0s 5ms/step - loss: 35644.9844 - root_mean_squared_error: 44286.8164 - val_loss: 33060.6641 - val_root_mean_squared_error: 40903.3906\n",
      "Epoch 39/100\n",
      "25/25 [==============================] - 0s 6ms/step - loss: 38893.6367 - root_mean_squared_error: 48732.0820 - val_loss: 36571.6016 - val_root_mean_squared_error: 46094.1445\n",
      "Epoch 40/100\n",
      "25/25 [==============================] - 0s 6ms/step - loss: 36165.0859 - root_mean_squared_error: 45259.1094 - val_loss: 32443.0508 - val_root_mean_squared_error: 40171.9648\n",
      "Epoch 41/100\n",
      "25/25 [==============================] - 0s 5ms/step - loss: 35622.5469 - root_mean_squared_error: 44412.1055 - val_loss: 35706.0820 - val_root_mean_squared_error: 44685.7461\n",
      "Epoch 42/100\n",
      "25/25 [==============================] - 0s 5ms/step - loss: 36151.5859 - root_mean_squared_error: 44942.9727 - val_loss: 34485.5898 - val_root_mean_squared_error: 43333.7852\n",
      "Epoch 43/100\n",
      "25/25 [==============================] - 0s 5ms/step - loss: 34669.4062 - root_mean_squared_error: 43579.6367 - val_loss: 33361.2695 - val_root_mean_squared_error: 41328.5000\n",
      "Epoch 44/100\n",
      "25/25 [==============================] - 0s 5ms/step - loss: 37906.0195 - root_mean_squared_error: 47382.8906 - val_loss: 38682.4102 - val_root_mean_squared_error: 49048.5898\n",
      "Epoch 45/100\n",
      "25/25 [==============================] - 0s 6ms/step - loss: 33865.0117 - root_mean_squared_error: 42190.7383 - val_loss: 32484.1270 - val_root_mean_squared_error: 40805.6367\n",
      "Epoch 46/100\n",
      "25/25 [==============================] - 0s 6ms/step - loss: 34118.5234 - root_mean_squared_error: 42668.6836 - val_loss: 32372.3242 - val_root_mean_squared_error: 40297.6875\n",
      "Epoch 47/100\n",
      "25/25 [==============================] - 0s 11ms/step - loss: 34732.2812 - root_mean_squared_error: 43422.3594 - val_loss: 32456.4043 - val_root_mean_squared_error: 40449.3438\n",
      "Epoch 48/100\n",
      "25/25 [==============================] - 0s 6ms/step - loss: 35167.2422 - root_mean_squared_error: 43831.3672 - val_loss: 32199.9629 - val_root_mean_squared_error: 40809.8906\n",
      "Epoch 49/100\n",
      "25/25 [==============================] - 0s 6ms/step - loss: 35809.7070 - root_mean_squared_error: 45155.8828 - val_loss: 32432.6973 - val_root_mean_squared_error: 41216.8555\n",
      "Epoch 50/100\n",
      "25/25 [==============================] - 0s 6ms/step - loss: 36272.1562 - root_mean_squared_error: 45611.5039 - val_loss: 36639.6562 - val_root_mean_squared_error: 46793.7539\n",
      "Epoch 51/100\n",
      "25/25 [==============================] - 0s 5ms/step - loss: 36450.6094 - root_mean_squared_error: 45717.3203 - val_loss: 33217.8633 - val_root_mean_squared_error: 40827.0703\n",
      "Epoch 52/100\n",
      "25/25 [==============================] - 0s 5ms/step - loss: 36186.9531 - root_mean_squared_error: 44909.0703 - val_loss: 36372.5547 - val_root_mean_squared_error: 45877.6992\n",
      "Epoch 53/100\n",
      "25/25 [==============================] - 0s 5ms/step - loss: 34820.9023 - root_mean_squared_error: 43576.0430 - val_loss: 32534.4531 - val_root_mean_squared_error: 40166.9297\n",
      "Epoch 54/100\n",
      "25/25 [==============================] - 0s 6ms/step - loss: 34669.1289 - root_mean_squared_error: 43205.3516 - val_loss: 33270.0195 - val_root_mean_squared_error: 42057.3594\n",
      "Epoch 55/100\n",
      "25/25 [==============================] - 0s 6ms/step - loss: 34519.6367 - root_mean_squared_error: 43526.1250 - val_loss: 34324.9219 - val_root_mean_squared_error: 42087.9570\n",
      "Epoch 56/100\n",
      "25/25 [==============================] - 0s 5ms/step - loss: 37504.1289 - root_mean_squared_error: 46917.0898 - val_loss: 36913.3125 - val_root_mean_squared_error: 47011.8203\n",
      "Epoch 57/100\n",
      "25/25 [==============================] - 0s 6ms/step - loss: 33069.9492 - root_mean_squared_error: 41757.1523 - val_loss: 33480.2891 - val_root_mean_squared_error: 41246.6055\n",
      "Epoch 58/100\n",
      "25/25 [==============================] - 0s 5ms/step - loss: 35582.9961 - root_mean_squared_error: 44270.2070 - val_loss: 34044.7500 - val_root_mean_squared_error: 43134.9766\n",
      "Epoch 59/100\n",
      "25/25 [==============================] - 0s 5ms/step - loss: 35007.3906 - root_mean_squared_error: 43800.1289 - val_loss: 36157.3828 - val_root_mean_squared_error: 46073.3164\n",
      "Epoch 60/100\n",
      "25/25 [==============================] - 0s 5ms/step - loss: 33939.5430 - root_mean_squared_error: 42774.4297 - val_loss: 33247.4609 - val_root_mean_squared_error: 41405.8164\n",
      "Epoch 61/100\n",
      "25/25 [==============================] - 0s 9ms/step - loss: 34633.5039 - root_mean_squared_error: 43764.0547 - val_loss: 34619.9688 - val_root_mean_squared_error: 43834.7422\n",
      "Epoch 62/100\n",
      "25/25 [==============================] - 0s 4ms/step - loss: 33938.8594 - root_mean_squared_error: 42617.8672 - val_loss: 31867.5391 - val_root_mean_squared_error: 40053.4141\n",
      "Epoch 63/100\n",
      "25/25 [==============================] - 0s 5ms/step - loss: 32976.1602 - root_mean_squared_error: 41369.2773 - val_loss: 32480.4258 - val_root_mean_squared_error: 41283.0977\n",
      "Epoch 64/100\n",
      "25/25 [==============================] - 0s 5ms/step - loss: 32435.1816 - root_mean_squared_error: 41106.5195 - val_loss: 31671.4219 - val_root_mean_squared_error: 40068.2188\n",
      "Epoch 65/100\n",
      "25/25 [==============================] - 0s 5ms/step - loss: 36049.0234 - root_mean_squared_error: 45305.7422 - val_loss: 33200.0508 - val_root_mean_squared_error: 42121.7617\n",
      "Epoch 66/100\n",
      "25/25 [==============================] - 0s 5ms/step - loss: 33755.6016 - root_mean_squared_error: 42358.7656 - val_loss: 31171.7852 - val_root_mean_squared_error: 39148.1953\n",
      "Epoch 67/100\n",
      "25/25 [==============================] - 0s 6ms/step - loss: 33646.2070 - root_mean_squared_error: 42165.4336 - val_loss: 31896.9355 - val_root_mean_squared_error: 39519.2891\n",
      "Epoch 68/100\n",
      "25/25 [==============================] - 0s 5ms/step - loss: 36388.3633 - root_mean_squared_error: 45413.5273 - val_loss: 33798.3438 - val_root_mean_squared_error: 42783.3047\n",
      "Epoch 69/100\n",
      "25/25 [==============================] - 0s 5ms/step - loss: 33492.3086 - root_mean_squared_error: 42171.1562 - val_loss: 32798.6758 - val_root_mean_squared_error: 41523.3281\n",
      "Epoch 70/100\n",
      "25/25 [==============================] - 0s 5ms/step - loss: 33839.6016 - root_mean_squared_error: 42726.5547 - val_loss: 37424.8164 - val_root_mean_squared_error: 47582.5625\n",
      "Epoch 71/100\n",
      "25/25 [==============================] - 0s 6ms/step - loss: 33889.2773 - root_mean_squared_error: 42495.1172 - val_loss: 36902.1641 - val_root_mean_squared_error: 44930.5391\n",
      "Epoch 72/100\n",
      "25/25 [==============================] - 0s 5ms/step - loss: 36379.4492 - root_mean_squared_error: 45533.0391 - val_loss: 33583.9648 - val_root_mean_squared_error: 42442.1055\n",
      "Epoch 73/100\n",
      "25/25 [==============================] - 0s 5ms/step - loss: 32712.8945 - root_mean_squared_error: 41090.6055 - val_loss: 31160.2148 - val_root_mean_squared_error: 39678.8242\n",
      "Epoch 74/100\n",
      "25/25 [==============================] - 0s 5ms/step - loss: 33314.8711 - root_mean_squared_error: 41963.7930 - val_loss: 30816.0605 - val_root_mean_squared_error: 39028.6172\n",
      "Epoch 75/100\n",
      "25/25 [==============================] - 0s 11ms/step - loss: 32700.8027 - root_mean_squared_error: 41147.6914 - val_loss: 30814.3945 - val_root_mean_squared_error: 38831.6758\n",
      "Epoch 76/100\n",
      "25/25 [==============================] - 0s 5ms/step - loss: 33910.2227 - root_mean_squared_error: 42564.1094 - val_loss: 33148.1289 - val_root_mean_squared_error: 42333.6602\n",
      "Epoch 77/100\n",
      "25/25 [==============================] - 0s 5ms/step - loss: 33644.2656 - root_mean_squared_error: 42523.6172 - val_loss: 31754.3281 - val_root_mean_squared_error: 39518.7305\n",
      "Epoch 78/100\n",
      "25/25 [==============================] - 0s 5ms/step - loss: 34966.7734 - root_mean_squared_error: 43869.0312 - val_loss: 33420.8906 - val_root_mean_squared_error: 42634.4453\n",
      "Epoch 79/100\n",
      "25/25 [==============================] - 0s 5ms/step - loss: 32312.5723 - root_mean_squared_error: 40718.4688 - val_loss: 31817.8320 - val_root_mean_squared_error: 40570.3320\n",
      "Epoch 80/100\n",
      "25/25 [==============================] - 0s 5ms/step - loss: 33472.5312 - root_mean_squared_error: 42305.4023 - val_loss: 30718.2324 - val_root_mean_squared_error: 38696.8945\n",
      "Epoch 81/100\n",
      "25/25 [==============================] - 0s 5ms/step - loss: 32241.0293 - root_mean_squared_error: 40771.6875 - val_loss: 30894.6543 - val_root_mean_squared_error: 39143.6328\n",
      "Epoch 82/100\n",
      "25/25 [==============================] - 0s 5ms/step - loss: 32181.7852 - root_mean_squared_error: 40552.8828 - val_loss: 30724.3926 - val_root_mean_squared_error: 38777.7773\n",
      "Epoch 83/100\n",
      "25/25 [==============================] - 0s 5ms/step - loss: 35076.8672 - root_mean_squared_error: 44254.8867 - val_loss: 32516.0605 - val_root_mean_squared_error: 41617.4531\n",
      "Epoch 84/100\n",
      "25/25 [==============================] - 0s 5ms/step - loss: 32037.5527 - root_mean_squared_error: 40645.4414 - val_loss: 30510.6758 - val_root_mean_squared_error: 38458.3281\n",
      "Epoch 85/100\n",
      "25/25 [==============================] - 0s 5ms/step - loss: 32342.7578 - root_mean_squared_error: 40961.9531 - val_loss: 32214.2207 - val_root_mean_squared_error: 40954.0781\n",
      "Epoch 86/100\n",
      "25/25 [==============================] - 0s 5ms/step - loss: 32925.3281 - root_mean_squared_error: 41500.8516 - val_loss: 30789.2422 - val_root_mean_squared_error: 38702.5430\n",
      "Epoch 87/100\n",
      "25/25 [==============================] - 0s 5ms/step - loss: 34900.2344 - root_mean_squared_error: 44022.0977 - val_loss: 33316.8633 - val_root_mean_squared_error: 42666.4727\n",
      "Epoch 88/100\n",
      "25/25 [==============================] - 0s 5ms/step - loss: 34007.1094 - root_mean_squared_error: 42879.6445 - val_loss: 31587.5195 - val_root_mean_squared_error: 39569.2031\n",
      "Epoch 89/100\n",
      "25/25 [==============================] - 0s 8ms/step - loss: 32829.8281 - root_mean_squared_error: 41416.5703 - val_loss: 29940.3047 - val_root_mean_squared_error: 37870.8828\n",
      "Epoch 90/100\n",
      "25/25 [==============================] - 0s 5ms/step - loss: 34046.1797 - root_mean_squared_error: 43117.3789 - val_loss: 30772.2109 - val_root_mean_squared_error: 39265.3125\n",
      "Epoch 91/100\n",
      "25/25 [==============================] - 0s 4ms/step - loss: 32795.3438 - root_mean_squared_error: 41816.1523 - val_loss: 31303.9297 - val_root_mean_squared_error: 40024.9141\n",
      "Epoch 92/100\n",
      "25/25 [==============================] - 0s 6ms/step - loss: 32615.0879 - root_mean_squared_error: 41306.6875 - val_loss: 30261.2832 - val_root_mean_squared_error: 37858.9023\n",
      "Epoch 93/100\n",
      "25/25 [==============================] - 0s 5ms/step - loss: 32305.5430 - root_mean_squared_error: 41096.2852 - val_loss: 31952.1504 - val_root_mean_squared_error: 40681.9648\n",
      "Epoch 94/100\n",
      "25/25 [==============================] - 0s 5ms/step - loss: 31973.9707 - root_mean_squared_error: 40773.3906 - val_loss: 31873.0547 - val_root_mean_squared_error: 40958.8438\n",
      "Epoch 95/100\n",
      "25/25 [==============================] - 0s 6ms/step - loss: 32105.8984 - root_mean_squared_error: 41055.3594 - val_loss: 30777.5020 - val_root_mean_squared_error: 39202.9609\n",
      "Epoch 96/100\n",
      "25/25 [==============================] - 0s 5ms/step - loss: 32259.3242 - root_mean_squared_error: 40804.8945 - val_loss: 30254.2832 - val_root_mean_squared_error: 38534.0508\n",
      "Epoch 97/100\n",
      "25/25 [==============================] - 0s 5ms/step - loss: 31439.4453 - root_mean_squared_error: 39982.0625 - val_loss: 29458.1699 - val_root_mean_squared_error: 37177.2422\n",
      "Epoch 98/100\n",
      "25/25 [==============================] - 0s 5ms/step - loss: 32243.1621 - root_mean_squared_error: 41167.9609 - val_loss: 31107.7129 - val_root_mean_squared_error: 39903.9805\n",
      "Epoch 99/100\n",
      "25/25 [==============================] - 0s 5ms/step - loss: 31748.8184 - root_mean_squared_error: 40255.6875 - val_loss: 31023.7793 - val_root_mean_squared_error: 38813.5820\n",
      "Epoch 100/100\n",
      "25/25 [==============================] - 0s 6ms/step - loss: 32165.4043 - root_mean_squared_error: 40879.3008 - val_loss: 30326.4648 - val_root_mean_squared_error: 38684.5703\n"
     ]
    }
   ],
   "source": [
    "history = model.fit(train_dataset, validation_data=val_dataset, epochs=100, verbose=1)"
   ]
  },
  {
   "cell_type": "code",
   "execution_count": 64,
   "metadata": {},
   "outputs": [
    {
     "name": "stdout",
     "output_type": "stream",
     "text": [
      "dict_keys(['loss', 'root_mean_squared_error', 'val_loss', 'val_root_mean_squared_error'])\n"
     ]
    }
   ],
   "source": [
    "print(history.history.keys())"
   ]
  },
  {
   "cell_type": "code",
   "execution_count": 65,
   "metadata": {},
   "outputs": [
    {
     "name": "stdout",
     "output_type": "stream",
     "text": [
      "[150740.734375, 53033.46875, 43002.87890625, 43052.0, 42196.875, 41785.82421875, 41965.19140625, 42608.66015625, 38480.1328125, 41931.921875, 40213.59375, 39305.33984375, 40963.3515625, 38989.74609375, 39925.19921875, 42566.82421875, 37477.90625, 37624.9609375, 37862.4921875, 41634.203125, 39346.37890625, 35377.09375, 36506.4375, 35934.7421875, 44078.0703125, 36069.671875, 38299.69921875, 36150.63671875, 46752.5703125, 36148.34765625, 39768.55859375, 36560.62109375, 35962.77734375, 37365.48828125, 35617.73046875, 36138.015625, 41150.9765625, 35644.984375, 38893.63671875, 36165.0859375, 35622.546875, 36151.5859375, 34669.40625, 37906.01953125, 33865.01171875, 34118.5234375, 34732.28125, 35167.2421875, 35809.70703125, 36272.15625, 36450.609375, 36186.953125, 34820.90234375, 34669.12890625, 34519.63671875, 37504.12890625, 33069.94921875, 35582.99609375, 35007.390625, 33939.54296875, 34633.50390625, 33938.859375, 32976.16015625, 32435.181640625, 36049.0234375, 33755.6015625, 33646.20703125, 36388.36328125, 33492.30859375, 33839.6015625, 33889.27734375, 36379.44921875, 32712.89453125, 33314.87109375, 32700.802734375, 33910.22265625, 33644.265625, 34966.7734375, 32312.572265625, 33472.53125, 32241.029296875, 32181.78515625, 35076.8671875, 32037.552734375, 32342.7578125, 32925.328125, 34900.234375, 34007.109375, 32829.828125, 34046.1796875, 32795.34375, 32615.087890625, 32305.54296875, 31973.970703125, 32105.8984375, 32259.32421875, 31439.4453125, 32243.162109375, 31748.818359375, 32165.404296875]\n",
      "[51037.46484375, 49712.42578125, 41193.203125, 46964.44921875, 41491.90625, 39495.76171875, 42355.51953125, 41561.21875, 35788.68359375, 52834.26953125, 37582.16015625, 37993.30859375, 40470.375, 36743.015625, 34716.0, 43576.2109375, 37385.18359375, 33955.55859375, 36725.69140625, 39170.60546875, 34603.8046875, 33960.8515625, 33631.609375, 38151.26171875, 47926.6640625, 33389.37109375, 34431.82421875, 37858.87890625, 38293.2734375, 36291.296875, 35336.6328125, 33595.0390625, 33338.1953125, 33216.8203125, 34840.12109375, 37119.94921875, 40276.4921875, 33060.6640625, 36571.6015625, 32443.05078125, 35706.08203125, 34485.58984375, 33361.26953125, 38682.41015625, 32484.126953125, 32372.32421875, 32456.404296875, 32199.962890625, 32432.697265625, 36639.65625, 33217.86328125, 36372.5546875, 32534.453125, 33270.01953125, 34324.921875, 36913.3125, 33480.2890625, 34044.75, 36157.3828125, 33247.4609375, 34619.96875, 31867.5390625, 32480.42578125, 31671.421875, 33200.05078125, 31171.78515625, 31896.935546875, 33798.34375, 32798.67578125, 37424.81640625, 36902.1640625, 33583.96484375, 31160.21484375, 30816.060546875, 30814.39453125, 33148.12890625, 31754.328125, 33420.890625, 31817.83203125, 30718.232421875, 30894.654296875, 30724.392578125, 32516.060546875, 30510.67578125, 32214.220703125, 30789.2421875, 33316.86328125, 31587.51953125, 29940.3046875, 30772.2109375, 31303.9296875, 30261.283203125, 31952.150390625, 31873.0546875, 30777.501953125, 30254.283203125, 29458.169921875, 31107.712890625, 31023.779296875, 30326.46484375]\n",
      "[199647.296875, 65654.2578125, 54269.91796875, 54254.484375, 53606.96484375, 52745.62109375, 52773.26953125, 53805.703125, 48179.68359375, 52679.94921875, 50082.46875, 49242.82421875, 51709.65234375, 49375.54296875, 50341.75, 53113.63671875, 47475.46484375, 46979.21875, 47271.1796875, 52191.88671875, 49023.03515625, 44404.60546875, 45668.03125, 44718.0390625, 55307.05859375, 44910.50390625, 48051.18359375, 45170.6796875, 57851.58203125, 46008.515625, 50304.9375, 45668.9296875, 45064.30859375, 47083.98046875, 44347.2578125, 45390.48046875, 51589.0703125, 44286.81640625, 48732.08203125, 45259.109375, 44412.10546875, 44942.97265625, 43579.63671875, 47382.890625, 42190.73828125, 42668.68359375, 43422.359375, 43831.3671875, 45155.8828125, 45611.50390625, 45717.3203125, 44909.0703125, 43576.04296875, 43205.3515625, 43526.125, 46917.08984375, 41757.15234375, 44270.20703125, 43800.12890625, 42774.4296875, 43764.0546875, 42617.8671875, 41369.27734375, 41106.51953125, 45305.7421875, 42358.765625, 42165.43359375, 45413.52734375, 42171.15625, 42726.5546875, 42495.1171875, 45533.0390625, 41090.60546875, 41963.79296875, 41147.69140625, 42564.109375, 42523.6171875, 43869.03125, 40718.46875, 42305.40234375, 40771.6875, 40552.8828125, 44254.88671875, 40645.44140625, 40961.953125, 41500.8515625, 44022.09765625, 42879.64453125, 41416.5703125, 43117.37890625, 41816.15234375, 41306.6875, 41096.28515625, 40773.390625, 41055.359375, 40804.89453125, 39982.0625, 41167.9609375, 40255.6875, 40879.30078125]\n",
      "[62917.00390625, 62906.921875, 51467.24609375, 59481.0390625, 52158.5546875, 49704.515625, 53204.6171875, 52584.25, 44225.85546875, 66536.828125, 47593.77734375, 47769.75, 51266.28125, 46329.33203125, 43961.85546875, 55549.05859375, 47005.8671875, 42226.26171875, 45054.21484375, 49727.2265625, 43497.8984375, 42648.921875, 41476.0, 46574.57421875, 60046.91015625, 41325.1484375, 43146.640625, 46289.78125, 48564.25, 44703.62890625, 44788.375, 42208.015625, 41689.12890625, 41588.35546875, 43023.12109375, 45536.1015625, 50460.1171875, 40903.390625, 46094.14453125, 40171.96484375, 44685.74609375, 43333.78515625, 41328.5, 49048.58984375, 40805.63671875, 40297.6875, 40449.34375, 40809.890625, 41216.85546875, 46793.75390625, 40827.0703125, 45877.69921875, 40166.9296875, 42057.359375, 42087.95703125, 47011.8203125, 41246.60546875, 43134.9765625, 46073.31640625, 41405.81640625, 43834.7421875, 40053.4140625, 41283.09765625, 40068.21875, 42121.76171875, 39148.1953125, 39519.2890625, 42783.3046875, 41523.328125, 47582.5625, 44930.5390625, 42442.10546875, 39678.82421875, 39028.6171875, 38831.67578125, 42333.66015625, 39518.73046875, 42634.4453125, 40570.33203125, 38696.89453125, 39143.6328125, 38777.77734375, 41617.453125, 38458.328125, 40954.078125, 38702.54296875, 42666.47265625, 39569.203125, 37870.8828125, 39265.3125, 40024.9140625, 37858.90234375, 40681.96484375, 40958.84375, 39202.9609375, 38534.05078125, 37177.2421875, 39903.98046875, 38813.58203125, 38684.5703125]\n"
     ]
    }
   ],
   "source": [
    "loss = history.history['loss']\n",
    "val_loss = history.history['val_loss']\n",
    "root_mean_squared_error = history.history['root_mean_squared_error']\n",
    "val_root_mean_squared_error = history.history['val_root_mean_squared_error']\n",
    "print(loss)\n",
    "print(val_loss)\n",
    "print(root_mean_squared_error)\n",
    "print(val_root_mean_squared_error)"
   ]
  },
  {
   "cell_type": "code",
   "execution_count": 66,
   "metadata": {},
   "outputs": [
    {
     "data": {
      "image/png": "[encoded data removed]",
      "text/plain": [
       "<Figure size 432x288 with 1 Axes>"
      ]
     },
     "metadata": {
      "needs_background": "light"
     },
     "output_type": "display_data"
    }
   ],
   "source": [
    "plt.plot(loss)\n",
    "plt.plot(val_loss)\n",
    "plt.title('Model Loss')\n",
    "plt.xlabel('Epoch')\n",
    "plt.ylabel('Loss')\n",
    "plt.legend(['Train', 'Val_Loss'])\n",
    "plt.show()"
   ]
  },
  {
   "cell_type": "code",
   "execution_count": 67,
   "metadata": {},
   "outputs": [
    {
     "data": {
      "image/png": "[encoded data removed]",
      "text/plain": [
       "<Figure size 432x288 with 1 Axes>"
      ]
     },
     "metadata": {
      "needs_background": "light"
     },
     "output_type": "display_data"
    }
   ],
   "source": [
    "plt.plot(root_mean_squared_error)\n",
    "plt.plot(val_root_mean_squared_error)\n",
    "plt.title('Model Performance')\n",
    "plt.xlabel('Epoch')\n",
    "plt.ylabel('RMSE')\n",
    "plt.legend(['Train', 'Val'])\n",
    "plt.show()"
   ]
  },
  {
   "cell_type": "code",
   "execution_count": 68,
   "metadata": {},
   "outputs": [
    {
     "name": "stdout",
     "output_type": "stream",
     "text": [
      "4/4 [==============================] - 1s 4ms/step - loss: 42520.3789 - root_mean_squared_error: 49479.8281\n"
     ]
    },
    {
     "data": {
      "text/plain": [
       "[42520.37890625, 49479.828125]"
      ]
     },
     "execution_count": 68,
     "metadata": {},
     "output_type": "execute_result"
    }
   ],
   "source": [
    "model.evaluate(x_test, y_test)"
   ]
  },
  {
   "cell_type": "markdown",
   "metadata": {},
   "source": [
    "## Validation and Testing"
   ]
  },
  {
   "cell_type": "code",
   "execution_count": 69,
   "metadata": {},
   "outputs": [
    {
     "name": "stdout",
     "output_type": "stream",
     "text": [
      "tf.Tensor(\n",
      "[6.00000e+00 1.36584e+05 1.00000e+00 8.00000e+00 1.10000e+01 1.82000e+02\n",
      " 1.08000e+02 7.90000e+01], shape=(8,), dtype=float32)\n"
     ]
    }
   ],
   "source": [
    "print(x_test[0])"
   ]
  },
  {
   "cell_type": "code",
   "execution_count": 70,
   "metadata": {},
   "outputs": [
    {
     "name": "stdout",
     "output_type": "stream",
     "text": [
      "1/1 [==============================] - 0s 102ms/step\n"
     ]
    },
    {
     "data": {
      "text/plain": [
       "array([[172542.28]], dtype=float32)"
      ]
     },
     "execution_count": 70,
     "metadata": {},
     "output_type": "execute_result"
    }
   ],
   "source": [
    "model.predict(tf.expand_dims(x_test[0], axis=0))"
   ]
  },
  {
   "cell_type": "code",
   "execution_count": 71,
   "metadata": {},
   "outputs": [
    {
     "data": {
      "text/plain": [
       "<tf.Tensor: shape=(1,), dtype=float32, numpy=array([157507.], dtype=float32)>"
      ]
     },
     "execution_count": 71,
     "metadata": {},
     "output_type": "execute_result"
    }
   ],
   "source": [
    "y_test[0]"
   ]
  },
  {
   "cell_type": "code",
   "execution_count": 72,
   "metadata": {},
   "outputs": [
    {
     "name": "stdout",
     "output_type": "stream",
     "text": [
      "[157507.0, 493806.5, 82848.0, 285001.5, 370175.0, 324899.5, 490779.5, 206836.5, 224958.5, 96554.0, 137514.0, 206999.5, 456554.5, 369149.0, 217446.0, 175102.5, 218983.5, 234142.5, 150074.0, 237954.0, 286937.5, 377507.0, 333278.0, 332478.5, 501920.5, 221412.5, 476955.5, 309449.0, 390756.5, 307993.0, 330908.5, 178991.5, 97526.0, 375118.0, 408860.5, 461900.5, 276430.0, 160597.5, 415103.0, 499185.5, 306745.5, 197320.0, 315866.5, 184571.0, 126791.5, 493994.0, 140061.5, 206591.0, 377706.5, 500679.5, 342427.0, 174352.5, 312469.0, 317681.5, 103742.5, 473834.0, 441395.5, 53040.0, 203811.5, 133006.5, 172462.0, 441865.0, 373529.0, 169674.5, 333672.0, 146527.0, 122567.5, 296829.0, 219127.0, 538075.5, 172234.5, 283208.0, 410403.5, 390915.5, 226087.5, 500164.0, 496671.0, 399055.5, 381960.0, 295553.5, 149141.5, 239400.0, 224359.5, 441863.5, 53470.5, 322204.0, 404800.5, 167794.0, 109828.5, 481862.0, 318951.0, 503606.5, 426479.5, 512885.5, 213768.5, 343416.5, 208468.0, 302929.5, 498148.0, 329639.0]\n"
     ]
    }
   ],
   "source": [
    "y_true = list(y_test[:, 0].numpy())\n",
    "print(y_true)"
   ]
  },
  {
   "cell_type": "code",
   "execution_count": 73,
   "metadata": {},
   "outputs": [
    {
     "name": "stdout",
     "output_type": "stream",
     "text": [
      "4/4 [==============================] - 0s 3ms/step\n",
      "[172542.28, 418628.75, 137469.97, 249961.4, 481892.38, 315338.25, 490649.06, 220224.98, 216856.4, 114910.945, 195947.44, 164203.14, 397584.22, 301821.22, 309154.9, 108967.234, 172039.61, 317190.6, 131644.69, 195316.17, 212072.84, 440967.25, 300134.25, 338924.97, 557118.44, 296080.6, 420636.56, 253642.25, 446529.12, 365478.94, 384166.6, 183842.11, 151169.8, 420878.5, 455622.47, 493723.62, 264432.62, 109966.555, 473089.6, 456682.34, 358251.3, 192593.83, 340402.84, 280218.72, 194929.48, 460903.56, 177876.88, 220709.6, 423253.75, 488369.44, 315652.6, 94709.164, 320409.12, 344589.4, 151005.16, 472556.1, 499703.22, 117147.6, 222219.0, 120332.18, 131098.48, 392160.84, 380650.94, 241695.67, 383724.34, 149555.97, 83684.02, 329901.25, 149532.23, 522350.2, 145578.19, 225120.67, 338731.3, 440925.88, 194188.55, 475670.25, 480519.47, 352770.06, 449788.84, 276956.28, 189512.75, 286967.53, 227607.5, 482382.22, 137066.2, 281450.22, 445196.62, 79286.0, 127720.336, 457320.56, 282092.06, 454186.47, 443272.53, 514910.38, 127076.445, 322805.97, 182356.25, 240135.03, 435281.4, 417178.8]\n"
     ]
    }
   ],
   "source": [
    "y_prid = list(model.predict(x_test)[:, 0])\n",
    "print(y_prid)"
   ]
  },
  {
   "cell_type": "code",
   "execution_count": 74,
   "metadata": {},
   "outputs": [
    {
     "data": {
      "image/png": "[encoded data removed]",
      "text/plain": [
       "<Figure size 2880x1440 with 1 Axes>"
      ]
     },
     "metadata": {
      "needs_background": "light"
     },
     "output_type": "display_data"
    }
   ],
   "source": [
    "ind = np.arange(100)\n",
    "plt.figure(figsize=(40, 20))\n",
    "\n",
    "width = 0.4\n",
    "\n",
    "plt.bar(ind, y_prid, width, label='Predict Car Price')\n",
    "plt.bar(ind+width, y_true, width, label='Actual Car Price')\n",
    "\n",
    "plt.xlabel('Actual vs Predicted Price')\n",
    "plt.ylabel('Car Prices')\n",
    "\n",
    "plt.show()"
   ]
  },
  {
   "cell_type": "code",
   "execution_count": null,
   "metadata": {},
   "outputs": [],
   "source": []
  }
 ],
 "metadata": {
  "kernelspec": {
   "display_name": "Python 3",
   "language": "python",
   "name": "python3"
  },
  "language_info": {
   "codemirror_mode": {
    "name": "ipython",
    "version": 3
   },
   "file_extension": ".py",
   "mimetype": "text/x-python",
   "name": "python",
   "nbconvert_exporter": "python",
   "pygments_lexer": "ipython3",
   "version": "3.10.0"
  }
 },
 "nbformat": 4,
 "nbformat_minor": 2
}
