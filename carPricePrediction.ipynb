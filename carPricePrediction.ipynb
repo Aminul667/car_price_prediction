{
 "cells": [
  {
   "cell_type": "code",
   "execution_count": 1,
   "metadata": {},
   "outputs": [
    {
     "name": "stdout",
     "output_type": "stream",
     "text": [
      "WARNING:tensorflow:From c:\\Users\\Rahat\\AppData\\Local\\Programs\\Python\\Python310\\lib\\site-packages\\keras\\src\\losses.py:2976: The name tf.losses.sparse_softmax_cross_entropy is deprecated. Please use tf.compat.v1.losses.sparse_softmax_cross_entropy instead.\n",
      "\n"
     ]
    }
   ],
   "source": [
    "import tensorflow as tf \n",
    "import numpy as np\n",
    "import pandas as pd \n",
    "import seaborn as sns\n",
    "from tensorflow.keras.layers import Normalization, Dense, InputLayer\n",
    "from tensorflow.keras.losses import MeanSquaredError, Huber, MeanAbsoluteError\n",
    "from tensorflow.keras.metrics import RootMeanSquaredError\n",
    "from tensorflow.keras.optimizers import Adam\n",
    "import matplotlib.pyplot as plt"
   ]
  },
  {
   "cell_type": "markdown",
   "metadata": {},
   "source": [
    "## Data Processing"
   ]
  },
  {
   "cell_type": "code",
   "execution_count": 2,
   "metadata": {},
   "outputs": [],
   "source": [
    "data_path = './archive/'"
   ]
  },
  {
   "cell_type": "code",
   "execution_count": 3,
   "metadata": {},
   "outputs": [
    {
     "name": "stdout",
     "output_type": "stream",
     "text": [
      "(1000, 12)\n"
     ]
    },
    {
     "data": {
      "text/html": [
       "<div>\n",
       "<style scoped>\n",
       "    .dataframe tbody tr th:only-of-type {\n",
       "        vertical-align: middle;\n",
       "    }\n",
       "\n",
       "    .dataframe tbody tr th {\n",
       "        vertical-align: top;\n",
       "    }\n",
       "\n",
       "    .dataframe thead th {\n",
       "        text-align: right;\n",
       "    }\n",
       "</style>\n",
       "<table border=\"1\" class=\"dataframe\">\n",
       "  <thead>\n",
       "    <tr style=\"text-align: right;\">\n",
       "      <th></th>\n",
       "      <th>v.id</th>\n",
       "      <th>on road old</th>\n",
       "      <th>on road now</th>\n",
       "      <th>years</th>\n",
       "      <th>km</th>\n",
       "      <th>rating</th>\n",
       "      <th>condition</th>\n",
       "      <th>economy</th>\n",
       "      <th>top speed</th>\n",
       "      <th>hp</th>\n",
       "      <th>torque</th>\n",
       "      <th>current price</th>\n",
       "    </tr>\n",
       "  </thead>\n",
       "  <tbody>\n",
       "    <tr>\n",
       "      <th>0</th>\n",
       "      <td>1</td>\n",
       "      <td>535651</td>\n",
       "      <td>798186</td>\n",
       "      <td>3</td>\n",
       "      <td>78945</td>\n",
       "      <td>1</td>\n",
       "      <td>2</td>\n",
       "      <td>14</td>\n",
       "      <td>177</td>\n",
       "      <td>73</td>\n",
       "      <td>123</td>\n",
       "      <td>351318.0</td>\n",
       "    </tr>\n",
       "    <tr>\n",
       "      <th>1</th>\n",
       "      <td>2</td>\n",
       "      <td>591911</td>\n",
       "      <td>861056</td>\n",
       "      <td>6</td>\n",
       "      <td>117220</td>\n",
       "      <td>5</td>\n",
       "      <td>9</td>\n",
       "      <td>9</td>\n",
       "      <td>148</td>\n",
       "      <td>74</td>\n",
       "      <td>95</td>\n",
       "      <td>285001.5</td>\n",
       "    </tr>\n",
       "    <tr>\n",
       "      <th>2</th>\n",
       "      <td>3</td>\n",
       "      <td>686990</td>\n",
       "      <td>770762</td>\n",
       "      <td>2</td>\n",
       "      <td>132538</td>\n",
       "      <td>2</td>\n",
       "      <td>8</td>\n",
       "      <td>15</td>\n",
       "      <td>181</td>\n",
       "      <td>53</td>\n",
       "      <td>97</td>\n",
       "      <td>215386.0</td>\n",
       "    </tr>\n",
       "    <tr>\n",
       "      <th>3</th>\n",
       "      <td>4</td>\n",
       "      <td>573999</td>\n",
       "      <td>722381</td>\n",
       "      <td>4</td>\n",
       "      <td>101065</td>\n",
       "      <td>4</td>\n",
       "      <td>3</td>\n",
       "      <td>11</td>\n",
       "      <td>197</td>\n",
       "      <td>54</td>\n",
       "      <td>116</td>\n",
       "      <td>244295.5</td>\n",
       "    </tr>\n",
       "    <tr>\n",
       "      <th>4</th>\n",
       "      <td>5</td>\n",
       "      <td>691388</td>\n",
       "      <td>811335</td>\n",
       "      <td>6</td>\n",
       "      <td>61559</td>\n",
       "      <td>3</td>\n",
       "      <td>9</td>\n",
       "      <td>12</td>\n",
       "      <td>160</td>\n",
       "      <td>53</td>\n",
       "      <td>105</td>\n",
       "      <td>531114.5</td>\n",
       "    </tr>\n",
       "  </tbody>\n",
       "</table>\n",
       "</div>"
      ],
      "text/plain": [
       "   v.id  on road old  on road now  years      km  rating  condition  economy  \\\n",
       "0     1       535651       798186      3   78945       1          2       14   \n",
       "1     2       591911       861056      6  117220       5          9        9   \n",
       "2     3       686990       770762      2  132538       2          8       15   \n",
       "3     4       573999       722381      4  101065       4          3       11   \n",
       "4     5       691388       811335      6   61559       3          9       12   \n",
       "\n",
       "   top speed  hp  torque  current price  \n",
       "0        177  73     123       351318.0  \n",
       "1        148  74      95       285001.5  \n",
       "2        181  53      97       215386.0  \n",
       "3        197  54     116       244295.5  \n",
       "4        160  53     105       531114.5  "
      ]
     },
     "execution_count": 3,
     "metadata": {},
     "output_type": "execute_result"
    }
   ],
   "source": [
    "data = pd.read_csv(data_path + 'train.csv')\n",
    "print(data.shape)\n",
    "data.head()"
   ]
  },
  {
   "cell_type": "code",
   "execution_count": 4,
   "metadata": {},
   "outputs": [
    {
     "name": "stdout",
     "output_type": "stream",
     "text": [
      "['v.id', 'on road old', 'on road now', 'years', 'km', 'rating', 'condition', 'economy', 'top speed', 'hp', 'torque', 'current price']\n"
     ]
    }
   ],
   "source": [
    "all_features = data.columns.to_list()\n",
    "print(all_features)"
   ]
  },
  {
   "cell_type": "code",
   "execution_count": 5,
   "metadata": {},
   "outputs": [
    {
     "name": "stdout",
     "output_type": "stream",
     "text": [
      "['years', 'km', 'rating', 'condition', 'economy', 'top speed', 'hp', 'torque', 'current price']\n"
     ]
    }
   ],
   "source": [
    "remove_features = ['v.id', 'on road old', 'on road now']\n",
    "features = [feature for feature in all_features if feature not in remove_features]\n",
    "print(features)"
   ]
  },
  {
   "cell_type": "code",
   "execution_count": 6,
   "metadata": {},
   "outputs": [],
   "source": [
    "# sns.pairplot(data[features], diag_kind='kde')"
   ]
  },
  {
   "cell_type": "code",
   "execution_count": 7,
   "metadata": {},
   "outputs": [
    {
     "data": {
      "text/html": [
       "<div>\n",
       "<style scoped>\n",
       "    .dataframe tbody tr th:only-of-type {\n",
       "        vertical-align: middle;\n",
       "    }\n",
       "\n",
       "    .dataframe tbody tr th {\n",
       "        vertical-align: top;\n",
       "    }\n",
       "\n",
       "    .dataframe thead th {\n",
       "        text-align: right;\n",
       "    }\n",
       "</style>\n",
       "<table border=\"1\" class=\"dataframe\">\n",
       "  <thead>\n",
       "    <tr style=\"text-align: right;\">\n",
       "      <th></th>\n",
       "      <th>v.id</th>\n",
       "      <th>on road old</th>\n",
       "      <th>on road now</th>\n",
       "      <th>years</th>\n",
       "      <th>km</th>\n",
       "      <th>rating</th>\n",
       "      <th>condition</th>\n",
       "      <th>economy</th>\n",
       "      <th>top speed</th>\n",
       "      <th>hp</th>\n",
       "      <th>torque</th>\n",
       "      <th>current price</th>\n",
       "    </tr>\n",
       "  </thead>\n",
       "  <tbody>\n",
       "    <tr>\n",
       "      <th>v.id</th>\n",
       "      <td>1.000000</td>\n",
       "      <td>-0.029926</td>\n",
       "      <td>-0.030787</td>\n",
       "      <td>-0.034255</td>\n",
       "      <td>0.047400</td>\n",
       "      <td>-0.018263</td>\n",
       "      <td>-0.038548</td>\n",
       "      <td>0.047137</td>\n",
       "      <td>0.001613</td>\n",
       "      <td>-0.006997</td>\n",
       "      <td>-0.000632</td>\n",
       "      <td>-0.059460</td>\n",
       "    </tr>\n",
       "    <tr>\n",
       "      <th>on road old</th>\n",
       "      <td>-0.029926</td>\n",
       "      <td>1.000000</td>\n",
       "      <td>0.034113</td>\n",
       "      <td>0.007207</td>\n",
       "      <td>0.007488</td>\n",
       "      <td>-0.050717</td>\n",
       "      <td>-0.015682</td>\n",
       "      <td>-0.030097</td>\n",
       "      <td>-0.023816</td>\n",
       "      <td>-0.049266</td>\n",
       "      <td>0.008950</td>\n",
       "      <td>0.233035</td>\n",
       "    </tr>\n",
       "    <tr>\n",
       "      <th>on road now</th>\n",
       "      <td>-0.030787</td>\n",
       "      <td>0.034113</td>\n",
       "      <td>1.000000</td>\n",
       "      <td>0.004609</td>\n",
       "      <td>-0.053202</td>\n",
       "      <td>0.028280</td>\n",
       "      <td>-0.005043</td>\n",
       "      <td>-0.015880</td>\n",
       "      <td>0.012699</td>\n",
       "      <td>-0.012719</td>\n",
       "      <td>0.017955</td>\n",
       "      <td>0.282793</td>\n",
       "    </tr>\n",
       "    <tr>\n",
       "      <th>years</th>\n",
       "      <td>-0.034255</td>\n",
       "      <td>0.007207</td>\n",
       "      <td>0.004609</td>\n",
       "      <td>1.000000</td>\n",
       "      <td>-0.002089</td>\n",
       "      <td>0.027285</td>\n",
       "      <td>0.053579</td>\n",
       "      <td>0.050220</td>\n",
       "      <td>0.025148</td>\n",
       "      <td>-0.003272</td>\n",
       "      <td>0.028859</td>\n",
       "      <td>-0.011854</td>\n",
       "    </tr>\n",
       "    <tr>\n",
       "      <th>km</th>\n",
       "      <td>0.047400</td>\n",
       "      <td>0.007488</td>\n",
       "      <td>-0.053202</td>\n",
       "      <td>-0.002089</td>\n",
       "      <td>1.000000</td>\n",
       "      <td>-0.039930</td>\n",
       "      <td>-0.013640</td>\n",
       "      <td>0.032680</td>\n",
       "      <td>0.026450</td>\n",
       "      <td>-0.052918</td>\n",
       "      <td>0.013566</td>\n",
       "      <td>-0.935924</td>\n",
       "    </tr>\n",
       "    <tr>\n",
       "      <th>rating</th>\n",
       "      <td>-0.018263</td>\n",
       "      <td>-0.050717</td>\n",
       "      <td>0.028280</td>\n",
       "      <td>0.027285</td>\n",
       "      <td>-0.039930</td>\n",
       "      <td>1.000000</td>\n",
       "      <td>0.015943</td>\n",
       "      <td>-0.009757</td>\n",
       "      <td>-0.042222</td>\n",
       "      <td>-0.022623</td>\n",
       "      <td>0.004408</td>\n",
       "      <td>0.035038</td>\n",
       "    </tr>\n",
       "    <tr>\n",
       "      <th>condition</th>\n",
       "      <td>-0.038548</td>\n",
       "      <td>-0.015682</td>\n",
       "      <td>-0.005043</td>\n",
       "      <td>0.053579</td>\n",
       "      <td>-0.013640</td>\n",
       "      <td>0.015943</td>\n",
       "      <td>1.000000</td>\n",
       "      <td>0.058788</td>\n",
       "      <td>0.018472</td>\n",
       "      <td>-0.071552</td>\n",
       "      <td>0.047805</td>\n",
       "      <td>0.110108</td>\n",
       "    </tr>\n",
       "    <tr>\n",
       "      <th>economy</th>\n",
       "      <td>0.047137</td>\n",
       "      <td>-0.030097</td>\n",
       "      <td>-0.015880</td>\n",
       "      <td>0.050220</td>\n",
       "      <td>0.032680</td>\n",
       "      <td>-0.009757</td>\n",
       "      <td>0.058788</td>\n",
       "      <td>1.000000</td>\n",
       "      <td>-0.059402</td>\n",
       "      <td>-0.016782</td>\n",
       "      <td>0.041632</td>\n",
       "      <td>-0.034711</td>\n",
       "    </tr>\n",
       "    <tr>\n",
       "      <th>top speed</th>\n",
       "      <td>0.001613</td>\n",
       "      <td>-0.023816</td>\n",
       "      <td>0.012699</td>\n",
       "      <td>0.025148</td>\n",
       "      <td>0.026450</td>\n",
       "      <td>-0.042222</td>\n",
       "      <td>0.018472</td>\n",
       "      <td>-0.059402</td>\n",
       "      <td>1.000000</td>\n",
       "      <td>0.057827</td>\n",
       "      <td>-0.019697</td>\n",
       "      <td>-0.027993</td>\n",
       "    </tr>\n",
       "    <tr>\n",
       "      <th>hp</th>\n",
       "      <td>-0.006997</td>\n",
       "      <td>-0.049266</td>\n",
       "      <td>-0.012719</td>\n",
       "      <td>-0.003272</td>\n",
       "      <td>-0.052918</td>\n",
       "      <td>-0.022623</td>\n",
       "      <td>-0.071552</td>\n",
       "      <td>-0.016782</td>\n",
       "      <td>0.057827</td>\n",
       "      <td>1.000000</td>\n",
       "      <td>-0.013817</td>\n",
       "      <td>0.030238</td>\n",
       "    </tr>\n",
       "    <tr>\n",
       "      <th>torque</th>\n",
       "      <td>-0.000632</td>\n",
       "      <td>0.008950</td>\n",
       "      <td>0.017955</td>\n",
       "      <td>0.028859</td>\n",
       "      <td>0.013566</td>\n",
       "      <td>0.004408</td>\n",
       "      <td>0.047805</td>\n",
       "      <td>0.041632</td>\n",
       "      <td>-0.019697</td>\n",
       "      <td>-0.013817</td>\n",
       "      <td>1.000000</td>\n",
       "      <td>-0.002290</td>\n",
       "    </tr>\n",
       "    <tr>\n",
       "      <th>current price</th>\n",
       "      <td>-0.059460</td>\n",
       "      <td>0.233035</td>\n",
       "      <td>0.282793</td>\n",
       "      <td>-0.011854</td>\n",
       "      <td>-0.935924</td>\n",
       "      <td>0.035038</td>\n",
       "      <td>0.110108</td>\n",
       "      <td>-0.034711</td>\n",
       "      <td>-0.027993</td>\n",
       "      <td>0.030238</td>\n",
       "      <td>-0.002290</td>\n",
       "      <td>1.000000</td>\n",
       "    </tr>\n",
       "  </tbody>\n",
       "</table>\n",
       "</div>"
      ],
      "text/plain": [
       "                   v.id  on road old  on road now     years        km  \\\n",
       "v.id           1.000000    -0.029926    -0.030787 -0.034255  0.047400   \n",
       "on road old   -0.029926     1.000000     0.034113  0.007207  0.007488   \n",
       "on road now   -0.030787     0.034113     1.000000  0.004609 -0.053202   \n",
       "years         -0.034255     0.007207     0.004609  1.000000 -0.002089   \n",
       "km             0.047400     0.007488    -0.053202 -0.002089  1.000000   \n",
       "rating        -0.018263    -0.050717     0.028280  0.027285 -0.039930   \n",
       "condition     -0.038548    -0.015682    -0.005043  0.053579 -0.013640   \n",
       "economy        0.047137    -0.030097    -0.015880  0.050220  0.032680   \n",
       "top speed      0.001613    -0.023816     0.012699  0.025148  0.026450   \n",
       "hp            -0.006997    -0.049266    -0.012719 -0.003272 -0.052918   \n",
       "torque        -0.000632     0.008950     0.017955  0.028859  0.013566   \n",
       "current price -0.059460     0.233035     0.282793 -0.011854 -0.935924   \n",
       "\n",
       "                 rating  condition   economy  top speed        hp    torque  \\\n",
       "v.id          -0.018263  -0.038548  0.047137   0.001613 -0.006997 -0.000632   \n",
       "on road old   -0.050717  -0.015682 -0.030097  -0.023816 -0.049266  0.008950   \n",
       "on road now    0.028280  -0.005043 -0.015880   0.012699 -0.012719  0.017955   \n",
       "years          0.027285   0.053579  0.050220   0.025148 -0.003272  0.028859   \n",
       "km            -0.039930  -0.013640  0.032680   0.026450 -0.052918  0.013566   \n",
       "rating         1.000000   0.015943 -0.009757  -0.042222 -0.022623  0.004408   \n",
       "condition      0.015943   1.000000  0.058788   0.018472 -0.071552  0.047805   \n",
       "economy       -0.009757   0.058788  1.000000  -0.059402 -0.016782  0.041632   \n",
       "top speed     -0.042222   0.018472 -0.059402   1.000000  0.057827 -0.019697   \n",
       "hp            -0.022623  -0.071552 -0.016782   0.057827  1.000000 -0.013817   \n",
       "torque         0.004408   0.047805  0.041632  -0.019697 -0.013817  1.000000   \n",
       "current price  0.035038   0.110108 -0.034711  -0.027993  0.030238 -0.002290   \n",
       "\n",
       "               current price  \n",
       "v.id               -0.059460  \n",
       "on road old         0.233035  \n",
       "on road now         0.282793  \n",
       "years              -0.011854  \n",
       "km                 -0.935924  \n",
       "rating              0.035038  \n",
       "condition           0.110108  \n",
       "economy            -0.034711  \n",
       "top speed          -0.027993  \n",
       "hp                  0.030238  \n",
       "torque             -0.002290  \n",
       "current price       1.000000  "
      ]
     },
     "execution_count": 7,
     "metadata": {},
     "output_type": "execute_result"
    }
   ],
   "source": [
    "data.corr()"
   ]
  },
  {
   "cell_type": "markdown",
   "metadata": {},
   "source": [
    "## Convert data to tensor data"
   ]
  },
  {
   "cell_type": "code",
   "execution_count": 8,
   "metadata": {},
   "outputs": [
    {
     "name": "stdout",
     "output_type": "stream",
     "text": [
      "(1000, 12)\n",
      "tf.Tensor(\n",
      "[[1.000000e+00 5.356510e+05 7.981860e+05 ... 7.300000e+01 1.230000e+02\n",
      "  3.513180e+05]\n",
      " [2.000000e+00 5.919110e+05 8.610560e+05 ... 7.400000e+01 9.500000e+01\n",
      "  2.850015e+05]\n",
      " [3.000000e+00 6.869900e+05 7.707620e+05 ... 5.300000e+01 9.700000e+01\n",
      "  2.153860e+05]\n",
      " ...\n",
      " [9.980000e+02 6.463440e+05 8.427330e+05 ... 1.130000e+02 8.900000e+01\n",
      "  4.058710e+05]\n",
      " [9.990000e+02 5.355590e+05 7.324390e+05 ... 1.120000e+02 1.280000e+02\n",
      "  7.439800e+04]\n",
      " [1.000000e+03 5.901050e+05 7.797430e+05 ... 9.900000e+01 9.600000e+01\n",
      "  4.149385e+05]], shape=(1000, 12), dtype=float32)\n"
     ]
    }
   ],
   "source": [
    "tensor_data = tf.constant(data)\n",
    "tensor_data = tf.cast(tensor_data, dtype=tf.float32)\n",
    "print(tensor_data.shape)\n",
    "print(tensor_data)"
   ]
  },
  {
   "cell_type": "code",
   "execution_count": 9,
   "metadata": {},
   "outputs": [
    {
     "name": "stdout",
     "output_type": "stream",
     "text": [
      "tf.Tensor(\n",
      "[[9.480000e+02 6.112990e+05 8.290390e+05 6.000000e+00 6.016000e+04\n",
      "  3.000000e+00 1.000000e+00 1.000000e+01 1.610000e+02 8.800000e+01\n",
      "  9.400000e+01 4.759845e+05]\n",
      " [4.900000e+02 5.634650e+05 8.927760e+05 3.000000e+00 7.159800e+04\n",
      "  5.000000e+00 1.000000e+00 1.200000e+01 1.950000e+02 9.700000e+01\n",
      "  7.000000e+01 4.434230e+05]\n",
      " [1.000000e+03 5.901050e+05 7.797430e+05 5.000000e+00 6.729500e+04\n",
      "  4.000000e+00 2.000000e+00 8.000000e+00 1.990000e+02 9.900000e+01\n",
      "  9.600000e+01 4.149385e+05]\n",
      " [4.470000e+02 5.445930e+05 8.745320e+05 2.000000e+00 1.094530e+05\n",
      "  5.000000e+00 4.000000e+00 1.300000e+01 1.590000e+02 9.900000e+01\n",
      "  1.050000e+02 2.740750e+05]\n",
      " [9.140000e+02 6.607140e+05 7.915940e+05 3.000000e+00 1.347690e+05\n",
      "  3.000000e+00 1.000000e+00 1.100000e+01 1.450000e+02 1.010000e+02\n",
      "  8.600000e+01 1.873050e+05]], shape=(5, 12), dtype=float32)\n"
     ]
    }
   ],
   "source": [
    "tensor_data = tf.random.shuffle(tensor_data)\n",
    "print(tensor_data[:5])"
   ]
  },
  {
   "cell_type": "code",
   "execution_count": 10,
   "metadata": {},
   "outputs": [
    {
     "name": "stdout",
     "output_type": "stream",
     "text": [
      "(1000, 8)\n",
      "tf.Tensor(\n",
      "[[6.00000e+00 6.01600e+04 3.00000e+00 1.00000e+00 1.00000e+01 1.61000e+02\n",
      "  8.80000e+01 9.40000e+01]\n",
      " [3.00000e+00 7.15980e+04 5.00000e+00 1.00000e+00 1.20000e+01 1.95000e+02\n",
      "  9.70000e+01 7.00000e+01]\n",
      " [5.00000e+00 6.72950e+04 4.00000e+00 2.00000e+00 8.00000e+00 1.99000e+02\n",
      "  9.90000e+01 9.60000e+01]\n",
      " [2.00000e+00 1.09453e+05 5.00000e+00 4.00000e+00 1.30000e+01 1.59000e+02\n",
      "  9.90000e+01 1.05000e+02]\n",
      " [3.00000e+00 1.34769e+05 3.00000e+00 1.00000e+00 1.10000e+01 1.45000e+02\n",
      "  1.01000e+02 8.60000e+01]], shape=(5, 8), dtype=float32)\n"
     ]
    }
   ],
   "source": [
    "x = tensor_data[:, 3:-1]\n",
    "print(x.shape)\n",
    "print(x[:5])"
   ]
  },
  {
   "cell_type": "code",
   "execution_count": 11,
   "metadata": {},
   "outputs": [
    {
     "name": "stdout",
     "output_type": "stream",
     "text": [
      "(1000, 1)\n",
      "tf.Tensor(\n",
      "[[475984.5]\n",
      " [443423. ]\n",
      " [414938.5]\n",
      " [274075. ]\n",
      " [187305. ]], shape=(5, 1), dtype=float32)\n"
     ]
    }
   ],
   "source": [
    "y = tensor_data[:, -1]\n",
    "y = tf.expand_dims(y, axis=1)\n",
    "print(y.shape)\n",
    "print(y[:5])"
   ]
  },
  {
   "cell_type": "markdown",
   "metadata": {},
   "source": [
    "## Normalization\n",
    "$$\n",
    "\\text{normalization} = \\frac{X - \\mu}{\\sigma}, \\quad \\text{where $\\mu$ = mean and $\\sigma$ = std}\n",
    "$$\n",
    "```\n",
    "Normalization()\n",
    "```\n",
    "Default axis = -1 means mean and std will be calculated based on columns, and then normalization will be performed along the columns."
   ]
  },
  {
   "cell_type": "code",
   "execution_count": 12,
   "metadata": {},
   "outputs": [],
   "source": [
    "TRAINING_RATIO = 0.8\n",
    "VAL_RATIO = 0.1\n",
    "TEST_RATIO = 0.1\n",
    "DATASET_SIZE = len(x)"
   ]
  },
  {
   "cell_type": "code",
   "execution_count": 13,
   "metadata": {},
   "outputs": [
    {
     "name": "stdout",
     "output_type": "stream",
     "text": [
      "(800, 8)\n",
      "(800, 1)\n"
     ]
    }
   ],
   "source": [
    "x_train = x[:int(DATASET_SIZE*TRAINING_RATIO)]\n",
    "y_train = y[:int(DATASET_SIZE*TRAINING_RATIO)]\n",
    "print(x_train.shape)\n",
    "print(y_train.shape)"
   ]
  },
  {
   "cell_type": "code",
   "execution_count": 48,
   "metadata": {},
   "outputs": [],
   "source": [
    "train_dataset = tf.data.Dataset.from_tensor_slices((x_train, y_train))\n",
    "train_dataset = train_dataset.shuffle(buffer_size=8, reshuffle_each_iteration=True).batch(32).prefetch(tf.data.AUTOTUNE)"
   ]
  },
  {
   "cell_type": "code",
   "execution_count": 14,
   "metadata": {},
   "outputs": [
    {
     "name": "stdout",
     "output_type": "stream",
     "text": [
      "(100, 8)\n",
      "(100, 1)\n"
     ]
    }
   ],
   "source": [
    "x_val = x[int(DATASET_SIZE*TRAINING_RATIO):int(DATASET_SIZE*(TRAINING_RATIO+VAL_RATIO))]\n",
    "y_val = y[int(DATASET_SIZE*TRAINING_RATIO):int(DATASET_SIZE*(TRAINING_RATIO+VAL_RATIO))]\n",
    "print(x_val.shape)\n",
    "print(y_val.shape)"
   ]
  },
  {
   "cell_type": "code",
   "execution_count": 15,
   "metadata": {},
   "outputs": [
    {
     "name": "stdout",
     "output_type": "stream",
     "text": [
      "(100, 8)\n",
      "(100, 1)\n"
     ]
    }
   ],
   "source": [
    "x_test = x[int(DATASET_SIZE*(TRAINING_RATIO+VAL_RATIO)):]\n",
    "y_test = y[int(DATASET_SIZE*(TRAINING_RATIO+VAL_RATIO)):]\n",
    "print(x_test.shape)\n",
    "print(y_test.shape)"
   ]
  },
  {
   "cell_type": "code",
   "execution_count": 16,
   "metadata": {},
   "outputs": [
    {
     "name": "stdout",
     "output_type": "stream",
     "text": [
      "WARNING:tensorflow:From c:\\Users\\Rahat\\AppData\\Local\\Programs\\Python\\Python310\\lib\\site-packages\\keras\\src\\backend.py:873: The name tf.get_default_graph is deprecated. Please use tf.compat.v1.get_default_graph instead.\n",
      "\n"
     ]
    },
    {
     "data": {
      "text/plain": [
       "<tf.Tensor: shape=(5, 8), dtype=float32, numpy=\n",
       "array([[ 0.8210282 , -1.3732774 ,  0.00716643, -1.6118985 , -0.7346294 ,\n",
       "        -0.30038092,  0.16218606, -0.44193545],\n",
       "       [-0.91966766, -0.9778645 ,  1.4403521 , -1.6118985 ,  0.1667563 ,\n",
       "         1.437628  ,  0.6028415 , -1.5890461 ],\n",
       "       [ 0.24079622, -1.1266197 ,  0.72375923, -1.260531  , -1.636015  ,\n",
       "         1.6420997 ,  0.7007649 , -0.3463429 ],\n",
       "       [-1.4998996 ,  0.3307871 ,  1.4403521 , -0.55779576,  0.61744916,\n",
       "        -0.40261674,  0.7007649 ,  0.08382363],\n",
       "       [-0.91966766,  1.2059641 ,  0.00716643, -1.6118985 , -0.28393653,\n",
       "        -1.1182675 ,  0.79868835, -0.82430565]], dtype=float32)>"
      ]
     },
     "execution_count": 16,
     "metadata": {},
     "output_type": "execute_result"
    }
   ],
   "source": [
    "normalizer = Normalization()\n",
    "normalizer.adapt(x_train)\n",
    "normalizer(x)[:5]"
   ]
  },
  {
   "cell_type": "code",
   "execution_count": 17,
   "metadata": {},
   "outputs": [
    {
     "name": "stdout",
     "output_type": "stream",
     "text": [
      "tf.Tensor(\n",
      "[[6.00000e+00 6.01600e+04 3.00000e+00 1.00000e+00 1.00000e+01 1.61000e+02\n",
      "  8.80000e+01 9.40000e+01]\n",
      " [3.00000e+00 7.15980e+04 5.00000e+00 1.00000e+00 1.20000e+01 1.95000e+02\n",
      "  9.70000e+01 7.00000e+01]\n",
      " [5.00000e+00 6.72950e+04 4.00000e+00 2.00000e+00 8.00000e+00 1.99000e+02\n",
      "  9.90000e+01 9.60000e+01]\n",
      " [2.00000e+00 1.09453e+05 5.00000e+00 4.00000e+00 1.30000e+01 1.59000e+02\n",
      "  9.90000e+01 1.05000e+02]\n",
      " [3.00000e+00 1.34769e+05 3.00000e+00 1.00000e+00 1.10000e+01 1.45000e+02\n",
      "  1.01000e+02 8.60000e+01]], shape=(5, 8), dtype=float32)\n"
     ]
    }
   ],
   "source": [
    "print(x[:5])"
   ]
  },
  {
   "cell_type": "code",
   "execution_count": 33,
   "metadata": {},
   "outputs": [
    {
     "name": "stdout",
     "output_type": "stream",
     "text": [
      "Model: \"sequential_1\"\n",
      "_________________________________________________________________\n",
      " Layer (type)                Output Shape              Param #   \n",
      "=================================================================\n",
      " normalization (Normalizati  (None, 8)                 17        \n",
      " on)                                                             \n",
      "                                                                 \n",
      " dense_1 (Dense)             (None, 128)               1152      \n",
      "                                                                 \n",
      " dense_2 (Dense)             (None, 128)               16512     \n",
      "                                                                 \n",
      " dense_3 (Dense)             (None, 128)               16512     \n",
      "                                                                 \n"
     ]
    },
    {
     "name": "stdout",
     "output_type": "stream",
     "text": [
      " dense_4 (Dense)             (None, 1)                 129       \n",
      "                                                                 \n",
      "=================================================================\n",
      "Total params: 34322 (134.07 KB)\n",
      "Trainable params: 34305 (134.00 KB)\n",
      "Non-trainable params: 17 (72.00 Byte)\n",
      "_________________________________________________________________\n"
     ]
    }
   ],
   "source": [
    "model = tf.keras.Sequential([\n",
    "    InputLayer(input_shape=(8,)),\n",
    "    normalizer,\n",
    "    Dense(128, activation='relu'),\n",
    "    Dense(128, activation='relu'),\n",
    "    Dense(128, activation='relu'),\n",
    "    Dense(1)  # as we need only one output for current_price.\n",
    "])\n",
    "\n",
    "model.summary()"
   ]
  },
  {
   "cell_type": "code",
   "execution_count": 34,
   "metadata": {},
   "outputs": [
    {
     "data": {
      "image/png": "[encoded data removed]",
      "text/plain": [
       "<IPython.core.display.Image object>"
      ]
     },
     "execution_count": 34,
     "metadata": {},
     "output_type": "execute_result"
    }
   ],
   "source": [
    "tf.keras.utils.plot_model(model, to_file=\"model.png\", show_shapes=True)"
   ]
  },
  {
   "cell_type": "markdown",
   "metadata": {},
   "source": [
    "## Training and Optimization"
   ]
  },
  {
   "cell_type": "code",
   "execution_count": 35,
   "metadata": {},
   "outputs": [],
   "source": [
    "model.compile(\n",
    "    optimizer=Adam(learning_rate=0.1),\n",
    "    loss=MeanAbsoluteError(),\n",
    "    metrics = RootMeanSquaredError()\n",
    ")"
   ]
  },
  {
   "cell_type": "code",
   "execution_count": 36,
   "metadata": {},
   "outputs": [
    {
     "name": "stdout",
     "output_type": "stream",
     "text": [
      "Epoch 1/100\n"
     ]
    },
    {
     "name": "stdout",
     "output_type": "stream",
     "text": [
      "25/25 [==============================] - 2s 15ms/step - loss: 161485.5938 - root_mean_squared_error: 209842.8125 - val_loss: 63256.5547 - val_root_mean_squared_error: 78455.1016\n",
      "Epoch 2/100\n",
      "25/25 [==============================] - 0s 6ms/step - loss: 55439.6719 - root_mean_squared_error: 69550.8594 - val_loss: 47944.4961 - val_root_mean_squared_error: 58679.5781\n",
      "Epoch 3/100\n",
      "25/25 [==============================] - 0s 5ms/step - loss: 46374.1484 - root_mean_squared_error: 58868.4023 - val_loss: 54986.5391 - val_root_mean_squared_error: 65702.7031\n",
      "Epoch 4/100\n",
      "25/25 [==============================] - 0s 5ms/step - loss: 42848.2695 - root_mean_squared_error: 52986.1172 - val_loss: 38945.0273 - val_root_mean_squared_error: 49763.4141\n",
      "Epoch 5/100\n",
      "25/25 [==============================] - 0s 5ms/step - loss: 38977.8516 - root_mean_squared_error: 48189.5625 - val_loss: 43225.6484 - val_root_mean_squared_error: 52193.1055\n",
      "Epoch 6/100\n",
      "25/25 [==============================] - 0s 5ms/step - loss: 41945.2656 - root_mean_squared_error: 52244.6719 - val_loss: 41099.2344 - val_root_mean_squared_error: 50490.5938\n",
      "Epoch 7/100\n",
      "25/25 [==============================] - 0s 5ms/step - loss: 40566.6836 - root_mean_squared_error: 49694.2695 - val_loss: 49783.6641 - val_root_mean_squared_error: 62109.9336\n",
      "Epoch 8/100\n",
      "25/25 [==============================] - 0s 5ms/step - loss: 41073.1094 - root_mean_squared_error: 50811.3281 - val_loss: 40540.8320 - val_root_mean_squared_error: 49694.6211\n",
      "Epoch 9/100\n",
      "25/25 [==============================] - 0s 5ms/step - loss: 39647.8750 - root_mean_squared_error: 48783.9805 - val_loss: 40832.4414 - val_root_mean_squared_error: 53100.6289\n",
      "Epoch 10/100\n",
      "25/25 [==============================] - 0s 5ms/step - loss: 53003.8047 - root_mean_squared_error: 66535.7031 - val_loss: 42156.3164 - val_root_mean_squared_error: 50563.8359\n",
      "Epoch 11/100\n",
      "25/25 [==============================] - 0s 5ms/step - loss: 53179.2852 - root_mean_squared_error: 65477.4961 - val_loss: 48318.0352 - val_root_mean_squared_error: 56277.8359\n",
      "Epoch 12/100\n",
      "25/25 [==============================] - 0s 5ms/step - loss: 51672.0586 - root_mean_squared_error: 64221.2305 - val_loss: 40273.5156 - val_root_mean_squared_error: 49939.4688\n",
      "Epoch 13/100\n",
      "25/25 [==============================] - 0s 5ms/step - loss: 40394.4297 - root_mean_squared_error: 50421.2109 - val_loss: 38408.5078 - val_root_mean_squared_error: 47887.8555\n",
      "Epoch 14/100\n",
      "25/25 [==============================] - 0s 5ms/step - loss: 37352.6289 - root_mean_squared_error: 46654.4023 - val_loss: 39412.3086 - val_root_mean_squared_error: 50291.2539\n",
      "Epoch 15/100\n",
      "25/25 [==============================] - 0s 6ms/step - loss: 37786.9102 - root_mean_squared_error: 47102.4766 - val_loss: 39156.3320 - val_root_mean_squared_error: 47797.6016\n",
      "Epoch 16/100\n",
      "25/25 [==============================] - 0s 6ms/step - loss: 43386.3789 - root_mean_squared_error: 53968.7930 - val_loss: 39936.8906 - val_root_mean_squared_error: 49116.9766\n",
      "Epoch 17/100\n",
      "25/25 [==============================] - 0s 5ms/step - loss: 41827.7891 - root_mean_squared_error: 51858.2500 - val_loss: 44065.5352 - val_root_mean_squared_error: 54007.1758\n",
      "Epoch 18/100\n",
      "25/25 [==============================] - 0s 5ms/step - loss: 37864.8281 - root_mean_squared_error: 47141.2305 - val_loss: 38847.6992 - val_root_mean_squared_error: 47077.2031\n",
      "Epoch 19/100\n",
      "25/25 [==============================] - 0s 9ms/step - loss: 36691.6719 - root_mean_squared_error: 45950.7578 - val_loss: 45536.8945 - val_root_mean_squared_error: 56695.8242\n",
      "Epoch 20/100\n",
      "25/25 [==============================] - 0s 6ms/step - loss: 38552.9336 - root_mean_squared_error: 48060.7266 - val_loss: 38737.6953 - val_root_mean_squared_error: 47967.5078\n",
      "Epoch 21/100\n",
      "25/25 [==============================] - 0s 5ms/step - loss: 39884.1914 - root_mean_squared_error: 49993.6055 - val_loss: 41589.6914 - val_root_mean_squared_error: 50732.5430\n",
      "Epoch 22/100\n",
      "25/25 [==============================] - 0s 5ms/step - loss: 37117.8867 - root_mean_squared_error: 46305.7812 - val_loss: 40227.5938 - val_root_mean_squared_error: 49723.5156\n",
      "Epoch 23/100\n",
      "25/25 [==============================] - 0s 9ms/step - loss: 36281.7578 - root_mean_squared_error: 45650.9492 - val_loss: 44028.0938 - val_root_mean_squared_error: 53751.8242\n",
      "Epoch 24/100\n",
      "25/25 [==============================] - 0s 6ms/step - loss: 38502.7109 - root_mean_squared_error: 47916.7266 - val_loss: 36750.4102 - val_root_mean_squared_error: 46317.8828\n",
      "Epoch 25/100\n",
      "25/25 [==============================] - 0s 5ms/step - loss: 37370.5156 - root_mean_squared_error: 45858.4375 - val_loss: 40893.1211 - val_root_mean_squared_error: 50022.2930\n",
      "Epoch 26/100\n",
      "25/25 [==============================] - 0s 6ms/step - loss: 36837.4844 - root_mean_squared_error: 45312.9414 - val_loss: 42000.6445 - val_root_mean_squared_error: 51207.0664\n",
      "Epoch 27/100\n",
      "25/25 [==============================] - 0s 6ms/step - loss: 38926.6719 - root_mean_squared_error: 48128.4727 - val_loss: 47569.2266 - val_root_mean_squared_error: 56957.9961\n",
      "Epoch 28/100\n",
      "25/25 [==============================] - 0s 5ms/step - loss: 37382.3867 - root_mean_squared_error: 47195.6406 - val_loss: 54649.0469 - val_root_mean_squared_error: 65480.8047\n",
      "Epoch 29/100\n",
      "25/25 [==============================] - 0s 6ms/step - loss: 37535.9727 - root_mean_squared_error: 46975.3359 - val_loss: 41163.2656 - val_root_mean_squared_error: 52205.6523\n",
      "Epoch 30/100\n",
      "25/25 [==============================] - 0s 9ms/step - loss: 40807.0234 - root_mean_squared_error: 50676.1836 - val_loss: 58463.6719 - val_root_mean_squared_error: 68566.9844\n",
      "Epoch 31/100\n",
      "25/25 [==============================] - 0s 5ms/step - loss: 37491.4258 - root_mean_squared_error: 47156.7266 - val_loss: 36329.9688 - val_root_mean_squared_error: 45849.9609\n",
      "Epoch 32/100\n",
      "25/25 [==============================] - 0s 6ms/step - loss: 37078.2383 - root_mean_squared_error: 45917.3047 - val_loss: 45269.6211 - val_root_mean_squared_error: 54489.8672\n",
      "Epoch 33/100\n",
      "25/25 [==============================] - 0s 5ms/step - loss: 41078.1641 - root_mean_squared_error: 51801.9023 - val_loss: 44846.2383 - val_root_mean_squared_error: 55687.8398\n",
      "Epoch 34/100\n",
      "25/25 [==============================] - 0s 5ms/step - loss: 36924.2695 - root_mean_squared_error: 45549.7656 - val_loss: 42329.5547 - val_root_mean_squared_error: 53341.5820\n",
      "Epoch 35/100\n",
      "25/25 [==============================] - 0s 6ms/step - loss: 37125.8711 - root_mean_squared_error: 46746.4414 - val_loss: 35710.7734 - val_root_mean_squared_error: 44978.6797\n",
      "Epoch 36/100\n",
      "25/25 [==============================] - 0s 5ms/step - loss: 35573.1367 - root_mean_squared_error: 44180.7500 - val_loss: 36215.5078 - val_root_mean_squared_error: 44890.7695\n",
      "Epoch 37/100\n",
      "25/25 [==============================] - 0s 5ms/step - loss: 34536.2812 - root_mean_squared_error: 43527.3242 - val_loss: 39888.7188 - val_root_mean_squared_error: 48818.9297\n",
      "Epoch 38/100\n",
      "25/25 [==============================] - 0s 5ms/step - loss: 42414.9531 - root_mean_squared_error: 52475.0469 - val_loss: 64137.8633 - val_root_mean_squared_error: 74222.1094\n",
      "Epoch 39/100\n",
      "25/25 [==============================] - 0s 5ms/step - loss: 36823.9453 - root_mean_squared_error: 46234.8750 - val_loss: 39708.8164 - val_root_mean_squared_error: 47781.6016\n",
      "Epoch 40/100\n",
      "25/25 [==============================] - 0s 7ms/step - loss: 37630.0547 - root_mean_squared_error: 47173.8867 - val_loss: 49316.1367 - val_root_mean_squared_error: 56970.8672\n",
      "Epoch 41/100\n",
      "25/25 [==============================] - 0s 5ms/step - loss: 37046.3086 - root_mean_squared_error: 46708.9805 - val_loss: 39342.3711 - val_root_mean_squared_error: 49141.3672\n",
      "Epoch 42/100\n",
      "25/25 [==============================] - 0s 5ms/step - loss: 38024.6289 - root_mean_squared_error: 47094.6719 - val_loss: 37326.7852 - val_root_mean_squared_error: 45989.1992\n",
      "Epoch 43/100\n",
      "25/25 [==============================] - 0s 9ms/step - loss: 36321.8711 - root_mean_squared_error: 44942.3906 - val_loss: 43382.1562 - val_root_mean_squared_error: 50936.8242\n",
      "Epoch 44/100\n",
      "25/25 [==============================] - 0s 13ms/step - loss: 34043.1680 - root_mean_squared_error: 42751.9219 - val_loss: 38830.3594 - val_root_mean_squared_error: 48324.6953\n",
      "Epoch 45/100\n",
      "25/25 [==============================] - 0s 6ms/step - loss: 34481.6289 - root_mean_squared_error: 43127.6562 - val_loss: 36225.0156 - val_root_mean_squared_error: 44968.0938\n",
      "Epoch 46/100\n",
      "25/25 [==============================] - 0s 18ms/step - loss: 35126.8477 - root_mean_squared_error: 43491.1406 - val_loss: 39705.6133 - val_root_mean_squared_error: 48060.7734\n",
      "Epoch 47/100\n",
      "25/25 [==============================] - 0s 5ms/step - loss: 36520.0117 - root_mean_squared_error: 46284.0742 - val_loss: 37752.4883 - val_root_mean_squared_error: 47169.0547\n",
      "Epoch 48/100\n",
      "25/25 [==============================] - 0s 6ms/step - loss: 36225.4922 - root_mean_squared_error: 45598.3906 - val_loss: 36668.1367 - val_root_mean_squared_error: 45414.5117\n",
      "Epoch 49/100\n",
      "25/25 [==============================] - 0s 5ms/step - loss: 36713.4648 - root_mean_squared_error: 45646.6250 - val_loss: 42760.3438 - val_root_mean_squared_error: 52298.1289\n",
      "Epoch 50/100\n",
      "25/25 [==============================] - 0s 5ms/step - loss: 41405.8477 - root_mean_squared_error: 51709.8672 - val_loss: 48050.0039 - val_root_mean_squared_error: 57481.7617\n",
      "Epoch 51/100\n",
      "25/25 [==============================] - 0s 5ms/step - loss: 37415.3789 - root_mean_squared_error: 46260.7617 - val_loss: 39715.8906 - val_root_mean_squared_error: 49590.7070\n",
      "Epoch 52/100\n",
      "25/25 [==============================] - 0s 6ms/step - loss: 33924.8516 - root_mean_squared_error: 42088.9727 - val_loss: 37294.4453 - val_root_mean_squared_error: 45471.8281\n",
      "Epoch 53/100\n",
      "25/25 [==============================] - 0s 5ms/step - loss: 33845.9219 - root_mean_squared_error: 42585.2266 - val_loss: 35411.7109 - val_root_mean_squared_error: 44495.4922\n",
      "Epoch 54/100\n",
      "25/25 [==============================] - 0s 5ms/step - loss: 34928.9375 - root_mean_squared_error: 44177.8750 - val_loss: 37001.6523 - val_root_mean_squared_error: 45295.0664\n",
      "Epoch 55/100\n",
      "25/25 [==============================] - 0s 6ms/step - loss: 36963.5703 - root_mean_squared_error: 46642.5078 - val_loss: 57089.2539 - val_root_mean_squared_error: 68006.1719\n",
      "Epoch 56/100\n",
      "25/25 [==============================] - 0s 5ms/step - loss: 40212.6914 - root_mean_squared_error: 50217.2383 - val_loss: 40061.4141 - val_root_mean_squared_error: 48897.2070\n",
      "Epoch 57/100\n",
      "25/25 [==============================] - 0s 6ms/step - loss: 36349.6406 - root_mean_squared_error: 44884.3477 - val_loss: 43238.1484 - val_root_mean_squared_error: 52830.4727\n",
      "Epoch 58/100\n",
      "25/25 [==============================] - 0s 9ms/step - loss: 34648.5938 - root_mean_squared_error: 43595.0469 - val_loss: 38454.0898 - val_root_mean_squared_error: 48320.8750\n",
      "Epoch 59/100\n",
      "25/25 [==============================] - 0s 5ms/step - loss: 34545.6289 - root_mean_squared_error: 43531.7969 - val_loss: 36064.1484 - val_root_mean_squared_error: 45199.5781\n",
      "Epoch 60/100\n",
      "25/25 [==============================] - 0s 7ms/step - loss: 34948.4336 - root_mean_squared_error: 43436.6016 - val_loss: 40662.7891 - val_root_mean_squared_error: 49780.0859\n",
      "Epoch 61/100\n",
      "25/25 [==============================] - 0s 10ms/step - loss: 34654.1992 - root_mean_squared_error: 43159.1562 - val_loss: 38279.1875 - val_root_mean_squared_error: 47314.5820\n",
      "Epoch 62/100\n",
      "25/25 [==============================] - 0s 5ms/step - loss: 34175.8359 - root_mean_squared_error: 42578.3047 - val_loss: 35600.3906 - val_root_mean_squared_error: 45019.8359\n",
      "Epoch 63/100\n",
      "25/25 [==============================] - 0s 5ms/step - loss: 33336.5469 - root_mean_squared_error: 41887.9609 - val_loss: 36813.5391 - val_root_mean_squared_error: 46182.8438\n",
      "Epoch 64/100\n",
      "25/25 [==============================] - 0s 5ms/step - loss: 33995.7578 - root_mean_squared_error: 41847.9102 - val_loss: 41884.7344 - val_root_mean_squared_error: 51898.0195\n",
      "Epoch 65/100\n",
      "25/25 [==============================] - 0s 5ms/step - loss: 34529.0742 - root_mean_squared_error: 43376.7539 - val_loss: 35151.8984 - val_root_mean_squared_error: 44082.4961\n",
      "Epoch 66/100\n",
      "25/25 [==============================] - 0s 5ms/step - loss: 35972.9805 - root_mean_squared_error: 45439.6094 - val_loss: 35497.1836 - val_root_mean_squared_error: 44996.3594\n",
      "Epoch 67/100\n",
      "25/25 [==============================] - 0s 5ms/step - loss: 36472.5117 - root_mean_squared_error: 45412.0820 - val_loss: 40082.4570 - val_root_mean_squared_error: 50191.5547\n",
      "Epoch 68/100\n",
      "25/25 [==============================] - 0s 5ms/step - loss: 38197.6016 - root_mean_squared_error: 47455.7422 - val_loss: 62456.2539 - val_root_mean_squared_error: 72847.9141\n",
      "Epoch 69/100\n",
      "25/25 [==============================] - 0s 5ms/step - loss: 47303.2852 - root_mean_squared_error: 59060.3242 - val_loss: 48896.4492 - val_root_mean_squared_error: 58712.5547\n",
      "Epoch 70/100\n",
      "25/25 [==============================] - 0s 5ms/step - loss: 37696.1719 - root_mean_squared_error: 47531.3438 - val_loss: 40069.2812 - val_root_mean_squared_error: 48141.1992\n",
      "Epoch 71/100\n",
      "25/25 [==============================] - 0s 5ms/step - loss: 34093.6484 - root_mean_squared_error: 42580.5977 - val_loss: 36885.6875 - val_root_mean_squared_error: 46400.1016\n",
      "Epoch 72/100\n",
      "25/25 [==============================] - 0s 6ms/step - loss: 34485.6289 - root_mean_squared_error: 42532.1250 - val_loss: 37698.0039 - val_root_mean_squared_error: 46715.6484\n",
      "Epoch 73/100\n",
      "25/25 [==============================] - 0s 5ms/step - loss: 34114.0859 - root_mean_squared_error: 42485.7148 - val_loss: 36384.3008 - val_root_mean_squared_error: 45358.1875\n",
      "Epoch 74/100\n",
      "25/25 [==============================] - 0s 5ms/step - loss: 33865.8086 - root_mean_squared_error: 42441.4648 - val_loss: 36878.1133 - val_root_mean_squared_error: 45900.3555\n",
      "Epoch 75/100\n",
      "25/25 [==============================] - 0s 5ms/step - loss: 35977.8867 - root_mean_squared_error: 45255.9531 - val_loss: 40465.6719 - val_root_mean_squared_error: 49261.4961\n",
      "Epoch 76/100\n",
      "25/25 [==============================] - 0s 5ms/step - loss: 37918.2109 - root_mean_squared_error: 47926.0430 - val_loss: 41056.7109 - val_root_mean_squared_error: 52119.1719\n",
      "Epoch 77/100\n",
      "25/25 [==============================] - 0s 5ms/step - loss: 36735.0664 - root_mean_squared_error: 45544.8789 - val_loss: 48294.3711 - val_root_mean_squared_error: 58077.9141\n",
      "Epoch 78/100\n",
      "25/25 [==============================] - 0s 7ms/step - loss: 42416.7969 - root_mean_squared_error: 52356.6367 - val_loss: 39849.1445 - val_root_mean_squared_error: 47872.3164\n",
      "Epoch 79/100\n",
      "25/25 [==============================] - 0s 6ms/step - loss: 35016.5938 - root_mean_squared_error: 43902.8789 - val_loss: 36641.2148 - val_root_mean_squared_error: 45240.8750\n",
      "Epoch 80/100\n",
      "25/25 [==============================] - 0s 6ms/step - loss: 33143.1367 - root_mean_squared_error: 41501.3477 - val_loss: 35840.5117 - val_root_mean_squared_error: 44094.9141\n",
      "Epoch 81/100\n",
      "25/25 [==============================] - 0s 7ms/step - loss: 34867.9531 - root_mean_squared_error: 43692.0117 - val_loss: 35735.2852 - val_root_mean_squared_error: 44713.9141\n",
      "Epoch 82/100\n",
      "25/25 [==============================] - 0s 12ms/step - loss: 37438.1641 - root_mean_squared_error: 46481.1719 - val_loss: 35488.9141 - val_root_mean_squared_error: 44200.1836\n",
      "Epoch 83/100\n",
      "25/25 [==============================] - 0s 6ms/step - loss: 32865.0156 - root_mean_squared_error: 40853.7422 - val_loss: 38701.6641 - val_root_mean_squared_error: 48323.6758\n",
      "Epoch 84/100\n",
      "25/25 [==============================] - 0s 5ms/step - loss: 34582.4492 - root_mean_squared_error: 43613.2734 - val_loss: 38444.6328 - val_root_mean_squared_error: 47757.8086\n",
      "Epoch 85/100\n",
      "25/25 [==============================] - 0s 5ms/step - loss: 36356.9258 - root_mean_squared_error: 45630.3477 - val_loss: 44445.7500 - val_root_mean_squared_error: 56178.3867\n",
      "Epoch 86/100\n",
      "25/25 [==============================] - 0s 5ms/step - loss: 35378.4141 - root_mean_squared_error: 43970.8203 - val_loss: 36035.0352 - val_root_mean_squared_error: 44168.4180\n",
      "Epoch 87/100\n",
      "25/25 [==============================] - 0s 5ms/step - loss: 32590.2598 - root_mean_squared_error: 41088.2695 - val_loss: 36662.2461 - val_root_mean_squared_error: 45265.8555\n",
      "Epoch 88/100\n",
      "25/25 [==============================] - 0s 7ms/step - loss: 37964.9961 - root_mean_squared_error: 47844.8242 - val_loss: 36655.6797 - val_root_mean_squared_error: 44713.0742\n",
      "Epoch 89/100\n",
      "25/25 [==============================] - 0s 5ms/step - loss: 32657.8418 - root_mean_squared_error: 41224.0859 - val_loss: 41650.1562 - val_root_mean_squared_error: 51135.0781\n",
      "Epoch 90/100\n",
      "25/25 [==============================] - 0s 5ms/step - loss: 33181.6523 - root_mean_squared_error: 41462.1289 - val_loss: 38409.4531 - val_root_mean_squared_error: 47716.7617\n",
      "Epoch 91/100\n",
      "25/25 [==============================] - 0s 6ms/step - loss: 32408.0078 - root_mean_squared_error: 40927.5234 - val_loss: 41043.8906 - val_root_mean_squared_error: 50383.0352\n",
      "Epoch 92/100\n",
      "25/25 [==============================] - 0s 7ms/step - loss: 35859.8633 - root_mean_squared_error: 44487.0195 - val_loss: 39820.6562 - val_root_mean_squared_error: 47712.8008\n",
      "Epoch 93/100\n",
      "25/25 [==============================] - 0s 5ms/step - loss: 34207.0586 - root_mean_squared_error: 42531.3242 - val_loss: 38015.9141 - val_root_mean_squared_error: 47749.8828\n",
      "Epoch 94/100\n",
      "25/25 [==============================] - 0s 9ms/step - loss: 33026.5781 - root_mean_squared_error: 41861.1055 - val_loss: 38513.3711 - val_root_mean_squared_error: 48449.3125\n",
      "Epoch 95/100\n",
      "25/25 [==============================] - 0s 5ms/step - loss: 32255.4277 - root_mean_squared_error: 40667.0273 - val_loss: 37713.1016 - val_root_mean_squared_error: 47527.1328\n",
      "Epoch 96/100\n",
      "25/25 [==============================] - 0s 7ms/step - loss: 33620.4961 - root_mean_squared_error: 42517.3633 - val_loss: 38293.3242 - val_root_mean_squared_error: 48486.0742\n",
      "Epoch 97/100\n",
      "25/25 [==============================] - 0s 5ms/step - loss: 33358.7969 - root_mean_squared_error: 42052.6016 - val_loss: 40536.1133 - val_root_mean_squared_error: 48435.3359\n",
      "Epoch 98/100\n",
      "25/25 [==============================] - 0s 5ms/step - loss: 31434.7168 - root_mean_squared_error: 40131.5938 - val_loss: 37047.8281 - val_root_mean_squared_error: 45675.0938\n",
      "Epoch 99/100\n",
      "25/25 [==============================] - 0s 5ms/step - loss: 32169.8008 - root_mean_squared_error: 40318.2070 - val_loss: 37650.7344 - val_root_mean_squared_error: 46271.3516\n",
      "Epoch 100/100\n",
      "25/25 [==============================] - 0s 5ms/step - loss: 33282.5703 - root_mean_squared_error: 41492.1055 - val_loss: 37647.5469 - val_root_mean_squared_error: 46399.1367\n"
     ]
    }
   ],
   "source": [
    "history = model.fit(x_train, y_train, validation_data=(x_val, y_val), epochs=100, verbose=1)"
   ]
  },
  {
   "cell_type": "code",
   "execution_count": 37,
   "metadata": {},
   "outputs": [
    {
     "name": "stdout",
     "output_type": "stream",
     "text": [
      "dict_keys(['loss', 'root_mean_squared_error', 'val_loss', 'val_root_mean_squared_error'])\n"
     ]
    }
   ],
   "source": [
    "print(history.history.keys())"
   ]
  },
  {
   "cell_type": "code",
   "execution_count": 38,
   "metadata": {},
   "outputs": [
    {
     "name": "stdout",
     "output_type": "stream",
     "text": [
      "[161485.59375, 55439.671875, 46374.1484375, 42848.26953125, 38977.8515625, 41945.265625, 40566.68359375, 41073.109375, 39647.875, 53003.8046875, 53179.28515625, 51672.05859375, 40394.4296875, 37352.62890625, 37786.91015625, 43386.37890625, 41827.7890625, 37864.828125, 36691.671875, 38552.93359375, 39884.19140625, 37117.88671875, 36281.7578125, 38502.7109375, 37370.515625, 36837.484375, 38926.671875, 37382.38671875, 37535.97265625, 40807.0234375, 37491.42578125, 37078.23828125, 41078.1640625, 36924.26953125, 37125.87109375, 35573.13671875, 34536.28125, 42414.953125, 36823.9453125, 37630.0546875, 37046.30859375, 38024.62890625, 36321.87109375, 34043.16796875, 34481.62890625, 35126.84765625, 36520.01171875, 36225.4921875, 36713.46484375, 41405.84765625, 37415.37890625, 33924.8515625, 33845.921875, 34928.9375, 36963.5703125, 40212.69140625, 36349.640625, 34648.59375, 34545.62890625, 34948.43359375, 34654.19921875, 34175.8359375, 33336.546875, 33995.7578125, 34529.07421875, 35972.98046875, 36472.51171875, 38197.6015625, 47303.28515625, 37696.171875, 34093.6484375, 34485.62890625, 34114.0859375, 33865.80859375, 35977.88671875, 37918.2109375, 36735.06640625, 42416.796875, 35016.59375, 33143.13671875, 34867.953125, 37438.1640625, 32865.015625, 34582.44921875, 36356.92578125, 35378.4140625, 32590.259765625, 37964.99609375, 32657.841796875, 33181.65234375, 32408.0078125, 35859.86328125, 34207.05859375, 33026.578125, 32255.427734375, 33620.49609375, 33358.796875, 31434.716796875, 32169.80078125, 33282.5703125]\n",
      "[63256.5546875, 47944.49609375, 54986.5390625, 38945.02734375, 43225.6484375, 41099.234375, 49783.6640625, 40540.83203125, 40832.44140625, 42156.31640625, 48318.03515625, 40273.515625, 38408.5078125, 39412.30859375, 39156.33203125, 39936.890625, 44065.53515625, 38847.69921875, 45536.89453125, 38737.6953125, 41589.69140625, 40227.59375, 44028.09375, 36750.41015625, 40893.12109375, 42000.64453125, 47569.2265625, 54649.046875, 41163.265625, 58463.671875, 36329.96875, 45269.62109375, 44846.23828125, 42329.5546875, 35710.7734375, 36215.5078125, 39888.71875, 64137.86328125, 39708.81640625, 49316.13671875, 39342.37109375, 37326.78515625, 43382.15625, 38830.359375, 36225.015625, 39705.61328125, 37752.48828125, 36668.13671875, 42760.34375, 48050.00390625, 39715.890625, 37294.4453125, 35411.7109375, 37001.65234375, 57089.25390625, 40061.4140625, 43238.1484375, 38454.08984375, 36064.1484375, 40662.7890625, 38279.1875, 35600.390625, 36813.5390625, 41884.734375, 35151.8984375, 35497.18359375, 40082.45703125, 62456.25390625, 48896.44921875, 40069.28125, 36885.6875, 37698.00390625, 36384.30078125, 36878.11328125, 40465.671875, 41056.7109375, 48294.37109375, 39849.14453125, 36641.21484375, 35840.51171875, 35735.28515625, 35488.9140625, 38701.6640625, 38444.6328125, 44445.75, 36035.03515625, 36662.24609375, 36655.6796875, 41650.15625, 38409.453125, 41043.890625, 39820.65625, 38015.9140625, 38513.37109375, 37713.1015625, 38293.32421875, 40536.11328125, 37047.828125, 37650.734375, 37647.546875]\n",
      "[209842.8125, 69550.859375, 58868.40234375, 52986.1171875, 48189.5625, 52244.671875, 49694.26953125, 50811.328125, 48783.98046875, 66535.703125, 65477.49609375, 64221.23046875, 50421.2109375, 46654.40234375, 47102.4765625, 53968.79296875, 51858.25, 47141.23046875, 45950.7578125, 48060.7265625, 49993.60546875, 46305.78125, 45650.94921875, 47916.7265625, 45858.4375, 45312.94140625, 48128.47265625, 47195.640625, 46975.3359375, 50676.18359375, 47156.7265625, 45917.3046875, 51801.90234375, 45549.765625, 46746.44140625, 44180.75, 43527.32421875, 52475.046875, 46234.875, 47173.88671875, 46708.98046875, 47094.671875, 44942.390625, 42751.921875, 43127.65625, 43491.140625, 46284.07421875, 45598.390625, 45646.625, 51709.8671875, 46260.76171875, 42088.97265625, 42585.2265625, 44177.875, 46642.5078125, 50217.23828125, 44884.34765625, 43595.046875, 43531.796875, 43436.6015625, 43159.15625, 42578.3046875, 41887.9609375, 41847.91015625, 43376.75390625, 45439.609375, 45412.08203125, 47455.7421875, 59060.32421875, 47531.34375, 42580.59765625, 42532.125, 42485.71484375, 42441.46484375, 45255.953125, 47926.04296875, 45544.87890625, 52356.63671875, 43902.87890625, 41501.34765625, 43692.01171875, 46481.171875, 40853.7421875, 43613.2734375, 45630.34765625, 43970.8203125, 41088.26953125, 47844.82421875, 41224.0859375, 41462.12890625, 40927.5234375, 44487.01953125, 42531.32421875, 41861.10546875, 40667.02734375, 42517.36328125, 42052.6015625, 40131.59375, 40318.20703125, 41492.10546875]\n",
      "[78455.1015625, 58679.578125, 65702.703125, 49763.4140625, 52193.10546875, 50490.59375, 62109.93359375, 49694.62109375, 53100.62890625, 50563.8359375, 56277.8359375, 49939.46875, 47887.85546875, 50291.25390625, 47797.6015625, 49116.9765625, 54007.17578125, 47077.203125, 56695.82421875, 47967.5078125, 50732.54296875, 49723.515625, 53751.82421875, 46317.8828125, 50022.29296875, 51207.06640625, 56957.99609375, 65480.8046875, 52205.65234375, 68566.984375, 45849.9609375, 54489.8671875, 55687.83984375, 53341.58203125, 44978.6796875, 44890.76953125, 48818.9296875, 74222.109375, 47781.6015625, 56970.8671875, 49141.3671875, 45989.19921875, 50936.82421875, 48324.6953125, 44968.09375, 48060.7734375, 47169.0546875, 45414.51171875, 52298.12890625, 57481.76171875, 49590.70703125, 45471.828125, 44495.4921875, 45295.06640625, 68006.171875, 48897.20703125, 52830.47265625, 48320.875, 45199.578125, 49780.0859375, 47314.58203125, 45019.8359375, 46182.84375, 51898.01953125, 44082.49609375, 44996.359375, 50191.5546875, 72847.9140625, 58712.5546875, 48141.19921875, 46400.1015625, 46715.6484375, 45358.1875, 45900.35546875, 49261.49609375, 52119.171875, 58077.9140625, 47872.31640625, 45240.875, 44094.9140625, 44713.9140625, 44200.18359375, 48323.67578125, 47757.80859375, 56178.38671875, 44168.41796875, 45265.85546875, 44713.07421875, 51135.078125, 47716.76171875, 50383.03515625, 47712.80078125, 47749.8828125, 48449.3125, 47527.1328125, 48486.07421875, 48435.3359375, 45675.09375, 46271.3515625, 46399.13671875]\n"
     ]
    }
   ],
   "source": [
    "loss = history.history['loss']\n",
    "val_loss = history.history['val_loss']\n",
    "root_mean_squared_error = history.history['root_mean_squared_error']\n",
    "val_root_mean_squared_error = history.history['val_root_mean_squared_error']\n",
    "print(loss)\n",
    "print(val_loss)\n",
    "print(root_mean_squared_error)\n",
    "print(val_root_mean_squared_error)"
   ]
  },
  {
   "cell_type": "code",
   "execution_count": 39,
   "metadata": {},
   "outputs": [
    {
     "data": {
      "image/png": "[encoded data removed]",
      "text/plain": [
       "<Figure size 432x288 with 1 Axes>"
      ]
     },
     "metadata": {
      "needs_background": "light"
     },
     "output_type": "display_data"
    }
   ],
   "source": [
    "plt.plot(loss)\n",
    "plt.plot(val_loss)\n",
    "plt.title('Model Loss')\n",
    "plt.xlabel('Epoch')\n",
    "plt.ylabel('Loss')\n",
    "plt.legend(['Train', 'Val_Loss'])\n",
    "plt.show()"
   ]
  },
  {
   "cell_type": "code",
   "execution_count": 40,
   "metadata": {},
   "outputs": [
    {
     "data": {
      "image/png": "[encoded data removed]",
      "text/plain": [
       "<Figure size 432x288 with 1 Axes>"
      ]
     },
     "metadata": {
      "needs_background": "light"
     },
     "output_type": "display_data"
    }
   ],
   "source": [
    "plt.plot(root_mean_squared_error)\n",
    "plt.plot(val_root_mean_squared_error)\n",
    "plt.title('Model Performance')\n",
    "plt.xlabel('Epoch')\n",
    "plt.ylabel('RMSE')\n",
    "plt.legend(['Train', 'Val'])\n",
    "plt.show()"
   ]
  },
  {
   "cell_type": "code",
   "execution_count": 41,
   "metadata": {},
   "outputs": [
    {
     "name": "stdout",
     "output_type": "stream",
     "text": [
      "4/4 [==============================] - 0s 4ms/step - loss: 43661.1133 - root_mean_squared_error: 52361.1445\n"
     ]
    },
    {
     "data": {
      "text/plain": [
       "[43661.11328125, 52361.14453125]"
      ]
     },
     "execution_count": 41,
     "metadata": {},
     "output_type": "execute_result"
    }
   ],
   "source": [
    "model.evaluate(x_test, y_test)"
   ]
  },
  {
   "cell_type": "markdown",
   "metadata": {},
   "source": [
    "## Validation and Testing"
   ]
  },
  {
   "cell_type": "code",
   "execution_count": 42,
   "metadata": {},
   "outputs": [
    {
     "name": "stdout",
     "output_type": "stream",
     "text": [
      "tf.Tensor(\n",
      "[6.00000e+00 1.36584e+05 1.00000e+00 8.00000e+00 1.10000e+01 1.82000e+02\n",
      " 1.08000e+02 7.90000e+01], shape=(8,), dtype=float32)\n"
     ]
    }
   ],
   "source": [
    "print(x_test[0])"
   ]
  },
  {
   "cell_type": "code",
   "execution_count": 43,
   "metadata": {},
   "outputs": [
    {
     "name": "stdout",
     "output_type": "stream",
     "text": [
      "1/1 [==============================] - 0s 293ms/step\n"
     ]
    },
    {
     "data": {
      "text/plain": [
       "array([[185989.12]], dtype=float32)"
      ]
     },
     "execution_count": 43,
     "metadata": {},
     "output_type": "execute_result"
    }
   ],
   "source": [
    "model.predict(tf.expand_dims(x_test[0], axis=0))"
   ]
  },
  {
   "cell_type": "code",
   "execution_count": 44,
   "metadata": {},
   "outputs": [
    {
     "data": {
      "text/plain": [
       "<tf.Tensor: shape=(1,), dtype=float32, numpy=array([157507.], dtype=float32)>"
      ]
     },
     "execution_count": 44,
     "metadata": {},
     "output_type": "execute_result"
    }
   ],
   "source": [
    "y_test[0]"
   ]
  },
  {
   "cell_type": "code",
   "execution_count": 45,
   "metadata": {},
   "outputs": [
    {
     "name": "stdout",
     "output_type": "stream",
     "text": [
      "[157507.0, 493806.5, 82848.0, 285001.5, 370175.0, 324899.5, 490779.5, 206836.5, 224958.5, 96554.0, 137514.0, 206999.5, 456554.5, 369149.0, 217446.0, 175102.5, 218983.5, 234142.5, 150074.0, 237954.0, 286937.5, 377507.0, 333278.0, 332478.5, 501920.5, 221412.5, 476955.5, 309449.0, 390756.5, 307993.0, 330908.5, 178991.5, 97526.0, 375118.0, 408860.5, 461900.5, 276430.0, 160597.5, 415103.0, 499185.5, 306745.5, 197320.0, 315866.5, 184571.0, 126791.5, 493994.0, 140061.5, 206591.0, 377706.5, 500679.5, 342427.0, 174352.5, 312469.0, 317681.5, 103742.5, 473834.0, 441395.5, 53040.0, 203811.5, 133006.5, 172462.0, 441865.0, 373529.0, 169674.5, 333672.0, 146527.0, 122567.5, 296829.0, 219127.0, 538075.5, 172234.5, 283208.0, 410403.5, 390915.5, 226087.5, 500164.0, 496671.0, 399055.5, 381960.0, 295553.5, 149141.5, 239400.0, 224359.5, 441863.5, 53470.5, 322204.0, 404800.5, 167794.0, 109828.5, 481862.0, 318951.0, 503606.5, 426479.5, 512885.5, 213768.5, 343416.5, 208468.0, 302929.5, 498148.0, 329639.0]\n"
     ]
    }
   ],
   "source": [
    "y_true = list(y_test[:, 0].numpy())\n",
    "print(y_true)"
   ]
  },
  {
   "cell_type": "code",
   "execution_count": 46,
   "metadata": {},
   "outputs": [
    {
     "name": "stdout",
     "output_type": "stream",
     "text": [
      "4/4 [==============================] - 0s 3ms/step\n",
      "[185989.12, 455846.4, 163565.4, 239080.94, 444813.38, 316502.97, 443170.25, 237620.17, 217744.75, 146334.12, 240124.48, 212967.03, 370025.94, 305776.5, 319392.94, 138418.88, 202334.16, 313613.53, 126230.195, 225535.22, 247579.97, 432577.12, 307938.03, 310220.9, 525048.6, 299926.53, 360911.78, 268582.3, 435528.8, 369192.88, 391486.66, 170331.88, 163016.31, 390620.62, 396462.56, 494647.66, 243341.3, 156636.98, 475105.03, 474825.22, 355099.28, 199280.72, 326587.72, 260938.53, 208083.75, 439248.75, 150334.06, 231055.78, 422045.62, 485035.78, 323638.28, 95198.04, 376483.25, 349184.6, 138432.06, 423562.38, 499720.44, 143751.12, 201983.66, 144766.62, 143133.62, 350532.03, 384952.1, 235985.64, 417940.06, 150567.97, 112867.63, 329252.6, 198850.8, 509568.75, 152898.88, 220256.27, 319849.44, 409697.75, 186586.1, 449608.6, 448016.94, 317804.1, 441528.22, 301976.62, 200134.44, 271116.5, 238847.1, 471627.94, 169117.16, 261630.45, 393298.47, 125378.305, 130199.2, 470110.7, 285625.03, 387509.84, 445742.62, 471547.47, 149278.5, 278694.5, 180950.9, 266408.8, 421194.28, 397574.84]\n"
     ]
    }
   ],
   "source": [
    "y_prid = list(model.predict(x_test)[:, 0])\n",
    "print(y_prid)"
   ]
  },
  {
   "cell_type": "code",
   "execution_count": 47,
   "metadata": {},
   "outputs": [
    {
     "data": {
      "image/png": "[encoded data removed]",
      "text/plain": [
       "<Figure size 2880x1440 with 1 Axes>"
      ]
     },
     "metadata": {
      "needs_background": "light"
     },
     "output_type": "display_data"
    }
   ],
   "source": [
    "ind = np.arange(100)\n",
    "plt.figure(figsize=(40, 20))\n",
    "\n",
    "width = 0.4\n",
    "\n",
    "plt.bar(ind, y_prid, width, label='Predict Car Price')\n",
    "plt.bar(ind+width, y_true, width, label='Actual Car Price')\n",
    "\n",
    "plt.xlabel('Actual vs Predicted Price')\n",
    "plt.ylabel('Car Prices')\n",
    "\n",
    "plt.show()"
   ]
  },
  {
   "cell_type": "code",
   "execution_count": null,
   "metadata": {},
   "outputs": [],
   "source": []
  }
 ],
 "metadata": {
  "kernelspec": {
   "display_name": "Python 3",
   "language": "python",
   "name": "python3"
  },
  "language_info": {
   "codemirror_mode": {
    "name": "ipython",
    "version": 3
   },
   "file_extension": ".py",
   "mimetype": "text/x-python",
   "name": "python",
   "nbconvert_exporter": "python",
   "pygments_lexer": "ipython3",
   "version": "3.10.0"
  }
 },
 "nbformat": 4,
 "nbformat_minor": 2
}
