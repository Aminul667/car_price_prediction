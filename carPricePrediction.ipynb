{
 "cells": [
  {
   "cell_type": "code",
   "execution_count": 34,
   "metadata": {},
   "outputs": [],
   "source": [
    "import tensorflow as tf \n",
    "import numpy as np\n",
    "import pandas as pd \n",
    "import seaborn as sns\n",
    "from tensorflow.keras.layers import Normalization, Dense, InputLayer\n",
    "from tensorflow.keras.losses import MeanSquaredError, Huber, MeanAbsoluteError\n",
    "from tensorflow.keras.metrics import RootMeanSquaredError\n",
    "from tensorflow.keras.optimizers import Adam\n",
    "import matplotlib.pyplot as plt"
   ]
  },
  {
   "cell_type": "markdown",
   "metadata": {},
   "source": [
    "## Data Processing"
   ]
  },
  {
   "cell_type": "code",
   "execution_count": 2,
   "metadata": {},
   "outputs": [],
   "source": [
    "data_path = './archive/'"
   ]
  },
  {
   "cell_type": "code",
   "execution_count": 3,
   "metadata": {},
   "outputs": [
    {
     "name": "stdout",
     "output_type": "stream",
     "text": [
      "(1000, 12)\n"
     ]
    },
    {
     "data": {
      "text/html": [
       "<div>\n",
       "<style scoped>\n",
       "    .dataframe tbody tr th:only-of-type {\n",
       "        vertical-align: middle;\n",
       "    }\n",
       "\n",
       "    .dataframe tbody tr th {\n",
       "        vertical-align: top;\n",
       "    }\n",
       "\n",
       "    .dataframe thead th {\n",
       "        text-align: right;\n",
       "    }\n",
       "</style>\n",
       "<table border=\"1\" class=\"dataframe\">\n",
       "  <thead>\n",
       "    <tr style=\"text-align: right;\">\n",
       "      <th></th>\n",
       "      <th>v.id</th>\n",
       "      <th>on road old</th>\n",
       "      <th>on road now</th>\n",
       "      <th>years</th>\n",
       "      <th>km</th>\n",
       "      <th>rating</th>\n",
       "      <th>condition</th>\n",
       "      <th>economy</th>\n",
       "      <th>top speed</th>\n",
       "      <th>hp</th>\n",
       "      <th>torque</th>\n",
       "      <th>current price</th>\n",
       "    </tr>\n",
       "  </thead>\n",
       "  <tbody>\n",
       "    <tr>\n",
       "      <th>0</th>\n",
       "      <td>1</td>\n",
       "      <td>535651</td>\n",
       "      <td>798186</td>\n",
       "      <td>3</td>\n",
       "      <td>78945</td>\n",
       "      <td>1</td>\n",
       "      <td>2</td>\n",
       "      <td>14</td>\n",
       "      <td>177</td>\n",
       "      <td>73</td>\n",
       "      <td>123</td>\n",
       "      <td>351318.0</td>\n",
       "    </tr>\n",
       "    <tr>\n",
       "      <th>1</th>\n",
       "      <td>2</td>\n",
       "      <td>591911</td>\n",
       "      <td>861056</td>\n",
       "      <td>6</td>\n",
       "      <td>117220</td>\n",
       "      <td>5</td>\n",
       "      <td>9</td>\n",
       "      <td>9</td>\n",
       "      <td>148</td>\n",
       "      <td>74</td>\n",
       "      <td>95</td>\n",
       "      <td>285001.5</td>\n",
       "    </tr>\n",
       "    <tr>\n",
       "      <th>2</th>\n",
       "      <td>3</td>\n",
       "      <td>686990</td>\n",
       "      <td>770762</td>\n",
       "      <td>2</td>\n",
       "      <td>132538</td>\n",
       "      <td>2</td>\n",
       "      <td>8</td>\n",
       "      <td>15</td>\n",
       "      <td>181</td>\n",
       "      <td>53</td>\n",
       "      <td>97</td>\n",
       "      <td>215386.0</td>\n",
       "    </tr>\n",
       "    <tr>\n",
       "      <th>3</th>\n",
       "      <td>4</td>\n",
       "      <td>573999</td>\n",
       "      <td>722381</td>\n",
       "      <td>4</td>\n",
       "      <td>101065</td>\n",
       "      <td>4</td>\n",
       "      <td>3</td>\n",
       "      <td>11</td>\n",
       "      <td>197</td>\n",
       "      <td>54</td>\n",
       "      <td>116</td>\n",
       "      <td>244295.5</td>\n",
       "    </tr>\n",
       "    <tr>\n",
       "      <th>4</th>\n",
       "      <td>5</td>\n",
       "      <td>691388</td>\n",
       "      <td>811335</td>\n",
       "      <td>6</td>\n",
       "      <td>61559</td>\n",
       "      <td>3</td>\n",
       "      <td>9</td>\n",
       "      <td>12</td>\n",
       "      <td>160</td>\n",
       "      <td>53</td>\n",
       "      <td>105</td>\n",
       "      <td>531114.5</td>\n",
       "    </tr>\n",
       "  </tbody>\n",
       "</table>\n",
       "</div>"
      ],
      "text/plain": [
       "   v.id  on road old  on road now  years      km  rating  condition  economy  \\\n",
       "0     1       535651       798186      3   78945       1          2       14   \n",
       "1     2       591911       861056      6  117220       5          9        9   \n",
       "2     3       686990       770762      2  132538       2          8       15   \n",
       "3     4       573999       722381      4  101065       4          3       11   \n",
       "4     5       691388       811335      6   61559       3          9       12   \n",
       "\n",
       "   top speed  hp  torque  current price  \n",
       "0        177  73     123       351318.0  \n",
       "1        148  74      95       285001.5  \n",
       "2        181  53      97       215386.0  \n",
       "3        197  54     116       244295.5  \n",
       "4        160  53     105       531114.5  "
      ]
     },
     "execution_count": 3,
     "metadata": {},
     "output_type": "execute_result"
    }
   ],
   "source": [
    "data = pd.read_csv(data_path + 'train.csv')\n",
    "print(data.shape)\n",
    "data.head()"
   ]
  },
  {
   "cell_type": "code",
   "execution_count": 4,
   "metadata": {},
   "outputs": [
    {
     "name": "stdout",
     "output_type": "stream",
     "text": [
      "['v.id', 'on road old', 'on road now', 'years', 'km', 'rating', 'condition', 'economy', 'top speed', 'hp', 'torque', 'current price']\n"
     ]
    }
   ],
   "source": [
    "all_features = data.columns.to_list()\n",
    "print(all_features)"
   ]
  },
  {
   "cell_type": "code",
   "execution_count": 5,
   "metadata": {},
   "outputs": [
    {
     "name": "stdout",
     "output_type": "stream",
     "text": [
      "['years', 'km', 'rating', 'condition', 'economy', 'top speed', 'hp', 'torque', 'current price']\n"
     ]
    }
   ],
   "source": [
    "remove_features = ['v.id', 'on road old', 'on road now']\n",
    "features = [feature for feature in all_features if feature not in remove_features]\n",
    "print(features)"
   ]
  },
  {
   "cell_type": "code",
   "execution_count": 6,
   "metadata": {},
   "outputs": [],
   "source": [
    "# sns.pairplot(data[features], diag_kind='kde')"
   ]
  },
  {
   "cell_type": "code",
   "execution_count": 7,
   "metadata": {},
   "outputs": [
    {
     "data": {
      "text/html": [
       "<div>\n",
       "<style scoped>\n",
       "    .dataframe tbody tr th:only-of-type {\n",
       "        vertical-align: middle;\n",
       "    }\n",
       "\n",
       "    .dataframe tbody tr th {\n",
       "        vertical-align: top;\n",
       "    }\n",
       "\n",
       "    .dataframe thead th {\n",
       "        text-align: right;\n",
       "    }\n",
       "</style>\n",
       "<table border=\"1\" class=\"dataframe\">\n",
       "  <thead>\n",
       "    <tr style=\"text-align: right;\">\n",
       "      <th></th>\n",
       "      <th>v.id</th>\n",
       "      <th>on road old</th>\n",
       "      <th>on road now</th>\n",
       "      <th>years</th>\n",
       "      <th>km</th>\n",
       "      <th>rating</th>\n",
       "      <th>condition</th>\n",
       "      <th>economy</th>\n",
       "      <th>top speed</th>\n",
       "      <th>hp</th>\n",
       "      <th>torque</th>\n",
       "      <th>current price</th>\n",
       "    </tr>\n",
       "  </thead>\n",
       "  <tbody>\n",
       "    <tr>\n",
       "      <th>v.id</th>\n",
       "      <td>1.000000</td>\n",
       "      <td>-0.029926</td>\n",
       "      <td>-0.030787</td>\n",
       "      <td>-0.034255</td>\n",
       "      <td>0.047400</td>\n",
       "      <td>-0.018263</td>\n",
       "      <td>-0.038548</td>\n",
       "      <td>0.047137</td>\n",
       "      <td>0.001613</td>\n",
       "      <td>-0.006997</td>\n",
       "      <td>-0.000632</td>\n",
       "      <td>-0.059460</td>\n",
       "    </tr>\n",
       "    <tr>\n",
       "      <th>on road old</th>\n",
       "      <td>-0.029926</td>\n",
       "      <td>1.000000</td>\n",
       "      <td>0.034113</td>\n",
       "      <td>0.007207</td>\n",
       "      <td>0.007488</td>\n",
       "      <td>-0.050717</td>\n",
       "      <td>-0.015682</td>\n",
       "      <td>-0.030097</td>\n",
       "      <td>-0.023816</td>\n",
       "      <td>-0.049266</td>\n",
       "      <td>0.008950</td>\n",
       "      <td>0.233035</td>\n",
       "    </tr>\n",
       "    <tr>\n",
       "      <th>on road now</th>\n",
       "      <td>-0.030787</td>\n",
       "      <td>0.034113</td>\n",
       "      <td>1.000000</td>\n",
       "      <td>0.004609</td>\n",
       "      <td>-0.053202</td>\n",
       "      <td>0.028280</td>\n",
       "      <td>-0.005043</td>\n",
       "      <td>-0.015880</td>\n",
       "      <td>0.012699</td>\n",
       "      <td>-0.012719</td>\n",
       "      <td>0.017955</td>\n",
       "      <td>0.282793</td>\n",
       "    </tr>\n",
       "    <tr>\n",
       "      <th>years</th>\n",
       "      <td>-0.034255</td>\n",
       "      <td>0.007207</td>\n",
       "      <td>0.004609</td>\n",
       "      <td>1.000000</td>\n",
       "      <td>-0.002089</td>\n",
       "      <td>0.027285</td>\n",
       "      <td>0.053579</td>\n",
       "      <td>0.050220</td>\n",
       "      <td>0.025148</td>\n",
       "      <td>-0.003272</td>\n",
       "      <td>0.028859</td>\n",
       "      <td>-0.011854</td>\n",
       "    </tr>\n",
       "    <tr>\n",
       "      <th>km</th>\n",
       "      <td>0.047400</td>\n",
       "      <td>0.007488</td>\n",
       "      <td>-0.053202</td>\n",
       "      <td>-0.002089</td>\n",
       "      <td>1.000000</td>\n",
       "      <td>-0.039930</td>\n",
       "      <td>-0.013640</td>\n",
       "      <td>0.032680</td>\n",
       "      <td>0.026450</td>\n",
       "      <td>-0.052918</td>\n",
       "      <td>0.013566</td>\n",
       "      <td>-0.935924</td>\n",
       "    </tr>\n",
       "    <tr>\n",
       "      <th>rating</th>\n",
       "      <td>-0.018263</td>\n",
       "      <td>-0.050717</td>\n",
       "      <td>0.028280</td>\n",
       "      <td>0.027285</td>\n",
       "      <td>-0.039930</td>\n",
       "      <td>1.000000</td>\n",
       "      <td>0.015943</td>\n",
       "      <td>-0.009757</td>\n",
       "      <td>-0.042222</td>\n",
       "      <td>-0.022623</td>\n",
       "      <td>0.004408</td>\n",
       "      <td>0.035038</td>\n",
       "    </tr>\n",
       "    <tr>\n",
       "      <th>condition</th>\n",
       "      <td>-0.038548</td>\n",
       "      <td>-0.015682</td>\n",
       "      <td>-0.005043</td>\n",
       "      <td>0.053579</td>\n",
       "      <td>-0.013640</td>\n",
       "      <td>0.015943</td>\n",
       "      <td>1.000000</td>\n",
       "      <td>0.058788</td>\n",
       "      <td>0.018472</td>\n",
       "      <td>-0.071552</td>\n",
       "      <td>0.047805</td>\n",
       "      <td>0.110108</td>\n",
       "    </tr>\n",
       "    <tr>\n",
       "      <th>economy</th>\n",
       "      <td>0.047137</td>\n",
       "      <td>-0.030097</td>\n",
       "      <td>-0.015880</td>\n",
       "      <td>0.050220</td>\n",
       "      <td>0.032680</td>\n",
       "      <td>-0.009757</td>\n",
       "      <td>0.058788</td>\n",
       "      <td>1.000000</td>\n",
       "      <td>-0.059402</td>\n",
       "      <td>-0.016782</td>\n",
       "      <td>0.041632</td>\n",
       "      <td>-0.034711</td>\n",
       "    </tr>\n",
       "    <tr>\n",
       "      <th>top speed</th>\n",
       "      <td>0.001613</td>\n",
       "      <td>-0.023816</td>\n",
       "      <td>0.012699</td>\n",
       "      <td>0.025148</td>\n",
       "      <td>0.026450</td>\n",
       "      <td>-0.042222</td>\n",
       "      <td>0.018472</td>\n",
       "      <td>-0.059402</td>\n",
       "      <td>1.000000</td>\n",
       "      <td>0.057827</td>\n",
       "      <td>-0.019697</td>\n",
       "      <td>-0.027993</td>\n",
       "    </tr>\n",
       "    <tr>\n",
       "      <th>hp</th>\n",
       "      <td>-0.006997</td>\n",
       "      <td>-0.049266</td>\n",
       "      <td>-0.012719</td>\n",
       "      <td>-0.003272</td>\n",
       "      <td>-0.052918</td>\n",
       "      <td>-0.022623</td>\n",
       "      <td>-0.071552</td>\n",
       "      <td>-0.016782</td>\n",
       "      <td>0.057827</td>\n",
       "      <td>1.000000</td>\n",
       "      <td>-0.013817</td>\n",
       "      <td>0.030238</td>\n",
       "    </tr>\n",
       "    <tr>\n",
       "      <th>torque</th>\n",
       "      <td>-0.000632</td>\n",
       "      <td>0.008950</td>\n",
       "      <td>0.017955</td>\n",
       "      <td>0.028859</td>\n",
       "      <td>0.013566</td>\n",
       "      <td>0.004408</td>\n",
       "      <td>0.047805</td>\n",
       "      <td>0.041632</td>\n",
       "      <td>-0.019697</td>\n",
       "      <td>-0.013817</td>\n",
       "      <td>1.000000</td>\n",
       "      <td>-0.002290</td>\n",
       "    </tr>\n",
       "    <tr>\n",
       "      <th>current price</th>\n",
       "      <td>-0.059460</td>\n",
       "      <td>0.233035</td>\n",
       "      <td>0.282793</td>\n",
       "      <td>-0.011854</td>\n",
       "      <td>-0.935924</td>\n",
       "      <td>0.035038</td>\n",
       "      <td>0.110108</td>\n",
       "      <td>-0.034711</td>\n",
       "      <td>-0.027993</td>\n",
       "      <td>0.030238</td>\n",
       "      <td>-0.002290</td>\n",
       "      <td>1.000000</td>\n",
       "    </tr>\n",
       "  </tbody>\n",
       "</table>\n",
       "</div>"
      ],
      "text/plain": [
       "                   v.id  on road old  on road now     years        km  \\\n",
       "v.id           1.000000    -0.029926    -0.030787 -0.034255  0.047400   \n",
       "on road old   -0.029926     1.000000     0.034113  0.007207  0.007488   \n",
       "on road now   -0.030787     0.034113     1.000000  0.004609 -0.053202   \n",
       "years         -0.034255     0.007207     0.004609  1.000000 -0.002089   \n",
       "km             0.047400     0.007488    -0.053202 -0.002089  1.000000   \n",
       "rating        -0.018263    -0.050717     0.028280  0.027285 -0.039930   \n",
       "condition     -0.038548    -0.015682    -0.005043  0.053579 -0.013640   \n",
       "economy        0.047137    -0.030097    -0.015880  0.050220  0.032680   \n",
       "top speed      0.001613    -0.023816     0.012699  0.025148  0.026450   \n",
       "hp            -0.006997    -0.049266    -0.012719 -0.003272 -0.052918   \n",
       "torque        -0.000632     0.008950     0.017955  0.028859  0.013566   \n",
       "current price -0.059460     0.233035     0.282793 -0.011854 -0.935924   \n",
       "\n",
       "                 rating  condition   economy  top speed        hp    torque  \\\n",
       "v.id          -0.018263  -0.038548  0.047137   0.001613 -0.006997 -0.000632   \n",
       "on road old   -0.050717  -0.015682 -0.030097  -0.023816 -0.049266  0.008950   \n",
       "on road now    0.028280  -0.005043 -0.015880   0.012699 -0.012719  0.017955   \n",
       "years          0.027285   0.053579  0.050220   0.025148 -0.003272  0.028859   \n",
       "km            -0.039930  -0.013640  0.032680   0.026450 -0.052918  0.013566   \n",
       "rating         1.000000   0.015943 -0.009757  -0.042222 -0.022623  0.004408   \n",
       "condition      0.015943   1.000000  0.058788   0.018472 -0.071552  0.047805   \n",
       "economy       -0.009757   0.058788  1.000000  -0.059402 -0.016782  0.041632   \n",
       "top speed     -0.042222   0.018472 -0.059402   1.000000  0.057827 -0.019697   \n",
       "hp            -0.022623  -0.071552 -0.016782   0.057827  1.000000 -0.013817   \n",
       "torque         0.004408   0.047805  0.041632  -0.019697 -0.013817  1.000000   \n",
       "current price  0.035038   0.110108 -0.034711  -0.027993  0.030238 -0.002290   \n",
       "\n",
       "               current price  \n",
       "v.id               -0.059460  \n",
       "on road old         0.233035  \n",
       "on road now         0.282793  \n",
       "years              -0.011854  \n",
       "km                 -0.935924  \n",
       "rating              0.035038  \n",
       "condition           0.110108  \n",
       "economy            -0.034711  \n",
       "top speed          -0.027993  \n",
       "hp                  0.030238  \n",
       "torque             -0.002290  \n",
       "current price       1.000000  "
      ]
     },
     "execution_count": 7,
     "metadata": {},
     "output_type": "execute_result"
    }
   ],
   "source": [
    "data.corr()"
   ]
  },
  {
   "cell_type": "markdown",
   "metadata": {},
   "source": [
    "## Convert data to tensor data"
   ]
  },
  {
   "cell_type": "code",
   "execution_count": 8,
   "metadata": {},
   "outputs": [
    {
     "name": "stdout",
     "output_type": "stream",
     "text": [
      "(1000, 12)\n",
      "tf.Tensor(\n",
      "[[1.000000e+00 5.356510e+05 7.981860e+05 ... 7.300000e+01 1.230000e+02\n",
      "  3.513180e+05]\n",
      " [2.000000e+00 5.919110e+05 8.610560e+05 ... 7.400000e+01 9.500000e+01\n",
      "  2.850015e+05]\n",
      " [3.000000e+00 6.869900e+05 7.707620e+05 ... 5.300000e+01 9.700000e+01\n",
      "  2.153860e+05]\n",
      " ...\n",
      " [9.980000e+02 6.463440e+05 8.427330e+05 ... 1.130000e+02 8.900000e+01\n",
      "  4.058710e+05]\n",
      " [9.990000e+02 5.355590e+05 7.324390e+05 ... 1.120000e+02 1.280000e+02\n",
      "  7.439800e+04]\n",
      " [1.000000e+03 5.901050e+05 7.797430e+05 ... 9.900000e+01 9.600000e+01\n",
      "  4.149385e+05]], shape=(1000, 12), dtype=float32)\n"
     ]
    }
   ],
   "source": [
    "tensor_data = tf.constant(data)\n",
    "tensor_data = tf.cast(tensor_data, dtype=tf.float32)\n",
    "print(tensor_data.shape)\n",
    "print(tensor_data)"
   ]
  },
  {
   "cell_type": "code",
   "execution_count": 9,
   "metadata": {},
   "outputs": [
    {
     "name": "stdout",
     "output_type": "stream",
     "text": [
      "tf.Tensor(\n",
      "[[4.590000e+02 6.800560e+05 7.425110e+05 7.000000e+00 6.168700e+04\n",
      "  4.000000e+00 2.000000e+00 8.000000e+00 1.540000e+02 6.900000e+01\n",
      "  7.400000e+01 4.568405e+05]\n",
      " [1.110000e+02 5.747560e+05 8.907700e+05 5.000000e+00 6.116000e+04\n",
      "  3.000000e+00 6.000000e+00 9.000000e+00 1.670000e+02 6.500000e+01\n",
      "  1.060000e+02 4.907795e+05]\n",
      " [2.670000e+02 6.431000e+05 8.602680e+05 3.000000e+00 1.112890e+05\n",
      "  2.000000e+00 1.000000e+00 1.200000e+01 1.530000e+02 8.000000e+01\n",
      "  9.700000e+01 3.066600e+05]\n",
      " [4.140000e+02 5.067880e+05 8.554170e+05 2.000000e+00 1.233170e+05\n",
      "  2.000000e+00 2.000000e+00 1.300000e+01 1.800000e+02 8.800000e+01\n",
      "  1.250000e+02 1.881315e+05]\n",
      " [5.400000e+02 5.055600e+05 8.176680e+05 6.000000e+00 1.246100e+05\n",
      "  3.000000e+00 1.000000e+00 1.100000e+01 1.590000e+02 7.100000e+01\n",
      "  1.270000e+02 1.596470e+05]], shape=(5, 12), dtype=float32)\n"
     ]
    }
   ],
   "source": [
    "tensor_data = tf.random.shuffle(tensor_data)\n",
    "print(tensor_data[:5])"
   ]
  },
  {
   "cell_type": "code",
   "execution_count": 10,
   "metadata": {},
   "outputs": [
    {
     "name": "stdout",
     "output_type": "stream",
     "text": [
      "(1000, 8)\n",
      "tf.Tensor(\n",
      "[[7.00000e+00 6.16870e+04 4.00000e+00 2.00000e+00 8.00000e+00 1.54000e+02\n",
      "  6.90000e+01 7.40000e+01]\n",
      " [5.00000e+00 6.11600e+04 3.00000e+00 6.00000e+00 9.00000e+00 1.67000e+02\n",
      "  6.50000e+01 1.06000e+02]\n",
      " [3.00000e+00 1.11289e+05 2.00000e+00 1.00000e+00 1.20000e+01 1.53000e+02\n",
      "  8.00000e+01 9.70000e+01]\n",
      " [2.00000e+00 1.23317e+05 2.00000e+00 2.00000e+00 1.30000e+01 1.80000e+02\n",
      "  8.80000e+01 1.25000e+02]\n",
      " [6.00000e+00 1.24610e+05 3.00000e+00 1.00000e+00 1.10000e+01 1.59000e+02\n",
      "  7.10000e+01 1.27000e+02]], shape=(5, 8), dtype=float32)\n"
     ]
    }
   ],
   "source": [
    "x = tensor_data[:, 3:-1]\n",
    "print(x.shape)\n",
    "print(x[:5])"
   ]
  },
  {
   "cell_type": "code",
   "execution_count": 11,
   "metadata": {},
   "outputs": [
    {
     "name": "stdout",
     "output_type": "stream",
     "text": [
      "(1000, 1)\n",
      "tf.Tensor(\n",
      "[[456840.5]\n",
      " [490779.5]\n",
      " [306660. ]\n",
      " [188131.5]\n",
      " [159647. ]], shape=(5, 1), dtype=float32)\n"
     ]
    }
   ],
   "source": [
    "y = tensor_data[:, -1]\n",
    "y = tf.expand_dims(y, axis=1)\n",
    "print(y.shape)\n",
    "print(y[:5])"
   ]
  },
  {
   "cell_type": "markdown",
   "metadata": {},
   "source": [
    "## Normalization\n",
    "$$\n",
    "\\text{normalization} = \\frac{X - \\mu}{\\sigma}, \\quad \\text{where $\\mu$ = mean and $\\sigma$ = std}\n",
    "$$\n",
    "```\n",
    "Normalization()\n",
    "```\n",
    "Default axis = -1 means mean and std will be calculated based on columns, and then normalization will be performed along the columns."
   ]
  },
  {
   "cell_type": "code",
   "execution_count": 12,
   "metadata": {},
   "outputs": [],
   "source": [
    "TRAINING_RATIO = 0.8\n",
    "VAL_RATIO = 0.1\n",
    "TEST_RATIO = 0.1\n",
    "DATASET_SIZE = len(x)"
   ]
  },
  {
   "cell_type": "code",
   "execution_count": 13,
   "metadata": {},
   "outputs": [
    {
     "name": "stdout",
     "output_type": "stream",
     "text": [
      "(800, 8)\n",
      "(800, 1)\n"
     ]
    }
   ],
   "source": [
    "x_train = x[:int(DATASET_SIZE*TRAINING_RATIO)]\n",
    "y_train = y[:int(DATASET_SIZE*TRAINING_RATIO)]\n",
    "print(x_train.shape)\n",
    "print(y_train.shape)"
   ]
  },
  {
   "cell_type": "code",
   "execution_count": 14,
   "metadata": {},
   "outputs": [
    {
     "name": "stdout",
     "output_type": "stream",
     "text": [
      "(100, 8)\n",
      "(100, 1)\n"
     ]
    }
   ],
   "source": [
    "x_val = x[int(DATASET_SIZE*TRAINING_RATIO):int(DATASET_SIZE*(TRAINING_RATIO+VAL_RATIO))]\n",
    "y_val = y[int(DATASET_SIZE*TRAINING_RATIO):int(DATASET_SIZE*(TRAINING_RATIO+VAL_RATIO))]\n",
    "print(x_val.shape)\n",
    "print(y_val.shape)"
   ]
  },
  {
   "cell_type": "code",
   "execution_count": 15,
   "metadata": {},
   "outputs": [
    {
     "name": "stdout",
     "output_type": "stream",
     "text": [
      "(100, 8)\n",
      "(100, 1)\n"
     ]
    }
   ],
   "source": [
    "x_test = x[int(DATASET_SIZE*(TRAINING_RATIO+VAL_RATIO)):]\n",
    "y_test = y[int(DATASET_SIZE*(TRAINING_RATIO+VAL_RATIO)):]\n",
    "print(x_test.shape)\n",
    "print(y_test.shape)"
   ]
  },
  {
   "cell_type": "code",
   "execution_count": 16,
   "metadata": {},
   "outputs": [
    {
     "name": "stdout",
     "output_type": "stream",
     "text": [
      "WARNING:tensorflow:From c:\\Users\\Rahat\\AppData\\Local\\Programs\\Python\\Python310\\lib\\site-packages\\keras\\src\\backend.py:873: The name tf.get_default_graph is deprecated. Please use tf.compat.v1.get_default_graph instead.\n",
      "\n"
     ]
    },
    {
     "data": {
      "text/plain": [
       "<tf.Tensor: shape=(5, 8), dtype=float32, numpy=\n",
       "array([[ 1.421489  , -1.3324076 ,  0.7002683 , -1.2485743 , -1.6169959 ,\n",
       "        -0.6802361 , -0.77035034, -1.4082422 ],\n",
       "       [ 0.24731137, -1.3504069 , -0.00976264,  0.16075145, -1.1698488 ,\n",
       "        -0.01024139, -0.96422553,  0.11046158],\n",
       "       [-0.9268663 ,  0.36170423, -0.71979356, -1.6009057 ,  0.17159271,\n",
       "        -0.73177415, -0.23719358, -0.31667385],\n",
       "       [-1.5139551 ,  0.7725098 , -0.71979356, -1.2485743 ,  0.6187399 ,\n",
       "         0.65975326,  0.15055679,  1.0121919 ],\n",
       "       [ 0.8344002 ,  0.8166711 , -0.00976264, -1.6009057 , -0.27555448,\n",
       "        -0.42254582, -0.67341274,  1.1071109 ]], dtype=float32)>"
      ]
     },
     "execution_count": 16,
     "metadata": {},
     "output_type": "execute_result"
    }
   ],
   "source": [
    "normalizer = Normalization()\n",
    "normalizer.adapt(x_train)\n",
    "normalizer(x)[:5]"
   ]
  },
  {
   "cell_type": "code",
   "execution_count": 28,
   "metadata": {},
   "outputs": [
    {
     "name": "stdout",
     "output_type": "stream",
     "text": [
      "tf.Tensor(\n",
      "[[7.00000e+00 6.16870e+04 4.00000e+00 2.00000e+00 8.00000e+00 1.54000e+02\n",
      "  6.90000e+01 7.40000e+01]\n",
      " [5.00000e+00 6.11600e+04 3.00000e+00 6.00000e+00 9.00000e+00 1.67000e+02\n",
      "  6.50000e+01 1.06000e+02]\n",
      " [3.00000e+00 1.11289e+05 2.00000e+00 1.00000e+00 1.20000e+01 1.53000e+02\n",
      "  8.00000e+01 9.70000e+01]\n",
      " [2.00000e+00 1.23317e+05 2.00000e+00 2.00000e+00 1.30000e+01 1.80000e+02\n",
      "  8.80000e+01 1.25000e+02]\n",
      " [6.00000e+00 1.24610e+05 3.00000e+00 1.00000e+00 1.10000e+01 1.59000e+02\n",
      "  7.10000e+01 1.27000e+02]], shape=(5, 8), dtype=float32)\n"
     ]
    }
   ],
   "source": [
    "print(x[:5])"
   ]
  },
  {
   "cell_type": "code",
   "execution_count": 17,
   "metadata": {},
   "outputs": [
    {
     "name": "stdout",
     "output_type": "stream",
     "text": [
      "Model: \"sequential\"\n",
      "_________________________________________________________________\n",
      " Layer (type)                Output Shape              Param #   \n",
      "=================================================================\n",
      " normalization (Normalizati  (None, 8)                 17        \n",
      " on)                                                             \n",
      "                                                                 \n",
      " dense (Dense)               (None, 1)                 9         \n",
      "                                                                 \n",
      "=================================================================\n",
      "Total params: 26 (108.00 Byte)\n",
      "Trainable params: 9 (36.00 Byte)\n",
      "Non-trainable params: 17 (72.00 Byte)\n",
      "_________________________________________________________________\n"
     ]
    }
   ],
   "source": [
    "model = tf.keras.Sequential([\n",
    "    InputLayer(input_shape=(8,)),\n",
    "    normalizer,\n",
    "    Dense(1)  # as we need only one output for current_price.\n",
    "])\n",
    "\n",
    "model.summary()"
   ]
  },
  {
   "cell_type": "code",
   "execution_count": 18,
   "metadata": {},
   "outputs": [
    {
     "data": {
      "image/png": "[encoded data removed]",
      "text/plain": [
       "<IPython.core.display.Image object>"
      ]
     },
     "execution_count": 18,
     "metadata": {},
     "output_type": "execute_result"
    }
   ],
   "source": [
    "tf.keras.utils.plot_model(model, to_file=\"model.png\", show_shapes=True)"
   ]
  },
  {
   "cell_type": "markdown",
   "metadata": {},
   "source": [
    "## Training and Optimization"
   ]
  },
  {
   "cell_type": "code",
   "execution_count": 19,
   "metadata": {},
   "outputs": [],
   "source": [
    "model.compile(\n",
    "    optimizer=Adam(),\n",
    "    loss=MeanAbsoluteError(),\n",
    "    metrics = RootMeanSquaredError()\n",
    ")"
   ]
  },
  {
   "cell_type": "code",
   "execution_count": 20,
   "metadata": {},
   "outputs": [
    {
     "name": "stdout",
     "output_type": "stream",
     "text": [
      "Epoch 1/100\n",
      "WARNING:tensorflow:From c:\\Users\\Rahat\\AppData\\Local\\Programs\\Python\\Python310\\lib\\site-packages\\keras\\src\\utils\\tf_utils.py:492: The name tf.ragged.RaggedTensorValue is deprecated. Please use tf.compat.v1.ragged.RaggedTensorValue instead.\n",
      "\n",
      "25/25 [==============================] - 1s 20ms/step - loss: 307468.6250 - root_mean_squared_error: 332628.6875 - val_loss: 303874.5938 - val_root_mean_squared_error: 327747.9375\n",
      "Epoch 2/100\n",
      "25/25 [==============================] - 0s 4ms/step - loss: 307468.6250 - root_mean_squared_error: 332628.6250 - val_loss: 303874.5625 - val_root_mean_squared_error: 327747.9062\n",
      "Epoch 3/100\n",
      "25/25 [==============================] - 0s 4ms/step - loss: 307468.5938 - root_mean_squared_error: 332628.6250 - val_loss: 303874.5312 - val_root_mean_squared_error: 327747.8750\n",
      "Epoch 4/100\n",
      "25/25 [==============================] - 0s 4ms/step - loss: 307468.6250 - root_mean_squared_error: 332628.6250 - val_loss: 303874.5000 - val_root_mean_squared_error: 327747.8750\n",
      "Epoch 5/100\n",
      "25/25 [==============================] - 0s 4ms/step - loss: 307468.5938 - root_mean_squared_error: 332628.5938 - val_loss: 303874.4688 - val_root_mean_squared_error: 327747.8438\n",
      "Epoch 6/100\n",
      "25/25 [==============================] - 0s 4ms/step - loss: 307468.5625 - root_mean_squared_error: 332628.5625 - val_loss: 303874.4688 - val_root_mean_squared_error: 327747.8125\n",
      "Epoch 7/100\n",
      "25/25 [==============================] - 0s 4ms/step - loss: 307468.5312 - root_mean_squared_error: 332628.5625 - val_loss: 303874.4375 - val_root_mean_squared_error: 327747.8125\n",
      "Epoch 8/100\n",
      "25/25 [==============================] - 0s 4ms/step - loss: 307468.4688 - root_mean_squared_error: 332628.5000 - val_loss: 303874.4062 - val_root_mean_squared_error: 327747.7812\n",
      "Epoch 9/100\n",
      "25/25 [==============================] - 0s 4ms/step - loss: 307468.4375 - root_mean_squared_error: 332628.4688 - val_loss: 303874.3750 - val_root_mean_squared_error: 327747.7500\n",
      "Epoch 10/100\n",
      "25/25 [==============================] - 0s 4ms/step - loss: 307468.4375 - root_mean_squared_error: 332628.4688 - val_loss: 303874.3750 - val_root_mean_squared_error: 327747.7188\n",
      "Epoch 11/100\n",
      "25/25 [==============================] - 0s 4ms/step - loss: 307468.4062 - root_mean_squared_error: 332628.4375 - val_loss: 303874.3438 - val_root_mean_squared_error: 327747.6875\n",
      "Epoch 12/100\n",
      "25/25 [==============================] - 0s 4ms/step - loss: 307468.4062 - root_mean_squared_error: 332628.4375 - val_loss: 303874.3125 - val_root_mean_squared_error: 327747.6562\n",
      "Epoch 13/100\n",
      "25/25 [==============================] - 0s 4ms/step - loss: 307468.4062 - root_mean_squared_error: 332628.4375 - val_loss: 303874.3125 - val_root_mean_squared_error: 327747.6562\n",
      "Epoch 14/100\n",
      "25/25 [==============================] - 0s 4ms/step - loss: 307468.3125 - root_mean_squared_error: 332628.3750 - val_loss: 303874.2500 - val_root_mean_squared_error: 327747.6250\n",
      "Epoch 15/100\n",
      "25/25 [==============================] - 0s 4ms/step - loss: 307468.3750 - root_mean_squared_error: 332628.3125 - val_loss: 303874.2500 - val_root_mean_squared_error: 327747.5938\n",
      "Epoch 16/100\n",
      "25/25 [==============================] - 0s 4ms/step - loss: 307468.3438 - root_mean_squared_error: 332628.3438 - val_loss: 303874.2188 - val_root_mean_squared_error: 327747.5625\n",
      "Epoch 17/100\n",
      "25/25 [==============================] - 0s 4ms/step - loss: 307468.2500 - root_mean_squared_error: 332628.3125 - val_loss: 303874.1875 - val_root_mean_squared_error: 327747.5625\n",
      "Epoch 18/100\n",
      "25/25 [==============================] - 0s 4ms/step - loss: 307468.2500 - root_mean_squared_error: 332628.2812 - val_loss: 303874.1875 - val_root_mean_squared_error: 327747.5312\n",
      "Epoch 19/100\n",
      "25/25 [==============================] - 0s 4ms/step - loss: 307468.2500 - root_mean_squared_error: 332628.2812 - val_loss: 303874.1250 - val_root_mean_squared_error: 327747.5000\n",
      "Epoch 20/100\n",
      "25/25 [==============================] - 0s 4ms/step - loss: 307468.1875 - root_mean_squared_error: 332628.2188 - val_loss: 303874.1250 - val_root_mean_squared_error: 327747.4688\n",
      "Epoch 21/100\n",
      "25/25 [==============================] - 0s 4ms/step - loss: 307468.1875 - root_mean_squared_error: 332628.2188 - val_loss: 303874.0938 - val_root_mean_squared_error: 327747.4688\n",
      "Epoch 22/100\n",
      "25/25 [==============================] - 0s 4ms/step - loss: 307468.1250 - root_mean_squared_error: 332628.1875 - val_loss: 303874.0938 - val_root_mean_squared_error: 327747.4375\n",
      "Epoch 23/100\n",
      "25/25 [==============================] - 0s 4ms/step - loss: 307468.0938 - root_mean_squared_error: 332628.1875 - val_loss: 303874.0312 - val_root_mean_squared_error: 327747.4062\n",
      "Epoch 24/100\n",
      "25/25 [==============================] - 0s 4ms/step - loss: 307468.1250 - root_mean_squared_error: 332628.1562 - val_loss: 303874.0000 - val_root_mean_squared_error: 327747.4062\n",
      "Epoch 25/100\n",
      "25/25 [==============================] - 0s 4ms/step - loss: 307468.0625 - root_mean_squared_error: 332628.1250 - val_loss: 303873.9688 - val_root_mean_squared_error: 327747.3750\n",
      "Epoch 26/100\n",
      "25/25 [==============================] - 0s 5ms/step - loss: 307468.0625 - root_mean_squared_error: 332628.0938 - val_loss: 303873.9688 - val_root_mean_squared_error: 327747.3438\n",
      "Epoch 27/100\n",
      "25/25 [==============================] - 0s 4ms/step - loss: 307468.0312 - root_mean_squared_error: 332628.0938 - val_loss: 303873.9375 - val_root_mean_squared_error: 327747.3125\n",
      "Epoch 28/100\n",
      "25/25 [==============================] - 0s 4ms/step - loss: 307467.9375 - root_mean_squared_error: 332628.0625 - val_loss: 303873.9062 - val_root_mean_squared_error: 327747.3125\n",
      "Epoch 29/100\n",
      "25/25 [==============================] - 0s 4ms/step - loss: 307467.9688 - root_mean_squared_error: 332628.0312 - val_loss: 303873.8750 - val_root_mean_squared_error: 327747.2500\n",
      "Epoch 30/100\n",
      "25/25 [==============================] - 0s 4ms/step - loss: 307467.9688 - root_mean_squared_error: 332628.0000 - val_loss: 303873.8750 - val_root_mean_squared_error: 327747.2500\n",
      "Epoch 31/100\n",
      "25/25 [==============================] - 0s 4ms/step - loss: 307467.9062 - root_mean_squared_error: 332628.0000 - val_loss: 303873.8438 - val_root_mean_squared_error: 327747.2188\n",
      "Epoch 32/100\n",
      "25/25 [==============================] - 0s 4ms/step - loss: 307467.9062 - root_mean_squared_error: 332627.9375 - val_loss: 303873.8125 - val_root_mean_squared_error: 327747.1875\n",
      "Epoch 33/100\n",
      "25/25 [==============================] - 0s 4ms/step - loss: 307467.9062 - root_mean_squared_error: 332627.9062 - val_loss: 303873.8125 - val_root_mean_squared_error: 327747.1875\n",
      "Epoch 34/100\n",
      "25/25 [==============================] - 0s 4ms/step - loss: 307467.8125 - root_mean_squared_error: 332627.9062 - val_loss: 303873.7500 - val_root_mean_squared_error: 327747.1562\n",
      "Epoch 35/100\n",
      "25/25 [==============================] - 0s 4ms/step - loss: 307467.8438 - root_mean_squared_error: 332627.9062 - val_loss: 303873.7500 - val_root_mean_squared_error: 327747.1562\n",
      "Epoch 36/100\n",
      "25/25 [==============================] - 0s 4ms/step - loss: 307467.8125 - root_mean_squared_error: 332627.8750 - val_loss: 303873.7188 - val_root_mean_squared_error: 327747.1250\n",
      "Epoch 37/100\n",
      "25/25 [==============================] - 0s 4ms/step - loss: 307467.7500 - root_mean_squared_error: 332627.8438 - val_loss: 303873.6875 - val_root_mean_squared_error: 327747.0938\n",
      "Epoch 38/100\n",
      "25/25 [==============================] - 0s 4ms/step - loss: 307467.7188 - root_mean_squared_error: 332627.8125 - val_loss: 303873.6875 - val_root_mean_squared_error: 327747.0625\n",
      "Epoch 39/100\n",
      "25/25 [==============================] - 0s 4ms/step - loss: 307467.7188 - root_mean_squared_error: 332627.7812 - val_loss: 303873.6250 - val_root_mean_squared_error: 327747.0625\n",
      "Epoch 40/100\n",
      "25/25 [==============================] - 0s 4ms/step - loss: 307467.6875 - root_mean_squared_error: 332627.7812 - val_loss: 303873.6250 - val_root_mean_squared_error: 327747.0312\n",
      "Epoch 41/100\n",
      "25/25 [==============================] - 0s 4ms/step - loss: 307467.6250 - root_mean_squared_error: 332627.7812 - val_loss: 303873.5938 - val_root_mean_squared_error: 327747.0000\n",
      "Epoch 42/100\n",
      "25/25 [==============================] - 0s 4ms/step - loss: 307467.5938 - root_mean_squared_error: 332627.7188 - val_loss: 303873.5625 - val_root_mean_squared_error: 327746.9688\n",
      "Epoch 43/100\n",
      "25/25 [==============================] - 0s 4ms/step - loss: 307467.5938 - root_mean_squared_error: 332627.7188 - val_loss: 303873.5312 - val_root_mean_squared_error: 327746.9688\n",
      "Epoch 44/100\n",
      "25/25 [==============================] - 0s 4ms/step - loss: 307467.6250 - root_mean_squared_error: 332627.6875 - val_loss: 303873.5000 - val_root_mean_squared_error: 327746.9375\n",
      "Epoch 45/100\n",
      "25/25 [==============================] - 0s 4ms/step - loss: 307467.5938 - root_mean_squared_error: 332627.6562 - val_loss: 303873.4688 - val_root_mean_squared_error: 327746.9062\n",
      "Epoch 46/100\n",
      "25/25 [==============================] - 0s 4ms/step - loss: 307467.5938 - root_mean_squared_error: 332627.6562 - val_loss: 303873.4688 - val_root_mean_squared_error: 327746.9062\n",
      "Epoch 47/100\n",
      "25/25 [==============================] - 0s 4ms/step - loss: 307467.5312 - root_mean_squared_error: 332627.6250 - val_loss: 303873.4375 - val_root_mean_squared_error: 327746.8438\n",
      "Epoch 48/100\n",
      "25/25 [==============================] - 0s 4ms/step - loss: 307467.4688 - root_mean_squared_error: 332627.5625 - val_loss: 303873.4062 - val_root_mean_squared_error: 327746.8438\n",
      "Epoch 49/100\n",
      "25/25 [==============================] - 0s 4ms/step - loss: 307467.4062 - root_mean_squared_error: 332627.5625 - val_loss: 303873.3750 - val_root_mean_squared_error: 327746.8125\n",
      "Epoch 50/100\n",
      "25/25 [==============================] - 0s 4ms/step - loss: 307467.4375 - root_mean_squared_error: 332627.5625 - val_loss: 303873.3750 - val_root_mean_squared_error: 327746.7812\n",
      "Epoch 51/100\n",
      "25/25 [==============================] - 0s 6ms/step - loss: 307467.4375 - root_mean_squared_error: 332627.5000 - val_loss: 303873.3438 - val_root_mean_squared_error: 327746.7500\n",
      "Epoch 52/100\n",
      "25/25 [==============================] - 0s 4ms/step - loss: 307467.3750 - root_mean_squared_error: 332627.5000 - val_loss: 303873.3125 - val_root_mean_squared_error: 327746.7500\n",
      "Epoch 53/100\n",
      "25/25 [==============================] - 0s 4ms/step - loss: 307467.4062 - root_mean_squared_error: 332627.5000 - val_loss: 303873.3125 - val_root_mean_squared_error: 327746.7188\n",
      "Epoch 54/100\n",
      "25/25 [==============================] - 0s 4ms/step - loss: 307467.3750 - root_mean_squared_error: 332627.4375 - val_loss: 303873.2500 - val_root_mean_squared_error: 327746.6875\n",
      "Epoch 55/100\n",
      "25/25 [==============================] - 0s 4ms/step - loss: 307467.3750 - root_mean_squared_error: 332627.4062 - val_loss: 303873.2500 - val_root_mean_squared_error: 327746.6562\n",
      "Epoch 56/100\n",
      "25/25 [==============================] - 0s 4ms/step - loss: 307467.2812 - root_mean_squared_error: 332627.4062 - val_loss: 303873.2188 - val_root_mean_squared_error: 327746.6562\n",
      "Epoch 57/100\n",
      "25/25 [==============================] - 0s 4ms/step - loss: 307467.3125 - root_mean_squared_error: 332627.3750 - val_loss: 303873.1875 - val_root_mean_squared_error: 327746.6250\n",
      "Epoch 58/100\n",
      "25/25 [==============================] - 0s 4ms/step - loss: 307467.2500 - root_mean_squared_error: 332627.3438 - val_loss: 303873.1875 - val_root_mean_squared_error: 327746.5938\n",
      "Epoch 59/100\n",
      "25/25 [==============================] - 0s 4ms/step - loss: 307467.2188 - root_mean_squared_error: 332627.3125 - val_loss: 303873.1250 - val_root_mean_squared_error: 327746.5938\n",
      "Epoch 60/100\n",
      "25/25 [==============================] - 0s 4ms/step - loss: 307467.1875 - root_mean_squared_error: 332627.2812 - val_loss: 303873.1250 - val_root_mean_squared_error: 327746.5625\n",
      "Epoch 61/100\n",
      "25/25 [==============================] - 0s 4ms/step - loss: 307467.1875 - root_mean_squared_error: 332627.3125 - val_loss: 303873.0938 - val_root_mean_squared_error: 327746.5312\n",
      "Epoch 62/100\n",
      "25/25 [==============================] - 0s 4ms/step - loss: 307467.0938 - root_mean_squared_error: 332627.2812 - val_loss: 303873.0625 - val_root_mean_squared_error: 327746.5312\n",
      "Epoch 63/100\n",
      "25/25 [==============================] - 0s 4ms/step - loss: 307467.0938 - root_mean_squared_error: 332627.2812 - val_loss: 303873.0312 - val_root_mean_squared_error: 327746.5000\n",
      "Epoch 64/100\n",
      "25/25 [==============================] - 0s 5ms/step - loss: 307467.0938 - root_mean_squared_error: 332627.2188 - val_loss: 303873.0000 - val_root_mean_squared_error: 327746.4688\n",
      "Epoch 65/100\n",
      "25/25 [==============================] - 0s 4ms/step - loss: 307467.0625 - root_mean_squared_error: 332627.1562 - val_loss: 303872.9688 - val_root_mean_squared_error: 327746.4375\n",
      "Epoch 66/100\n",
      "25/25 [==============================] - 0s 5ms/step - loss: 307467.0000 - root_mean_squared_error: 332627.1875 - val_loss: 303872.9688 - val_root_mean_squared_error: 327746.4062\n",
      "Epoch 67/100\n",
      "25/25 [==============================] - 0s 4ms/step - loss: 307467.0000 - root_mean_squared_error: 332627.1250 - val_loss: 303872.9375 - val_root_mean_squared_error: 327746.4062\n",
      "Epoch 68/100\n",
      "25/25 [==============================] - 0s 4ms/step - loss: 307466.9688 - root_mean_squared_error: 332627.1250 - val_loss: 303872.9062 - val_root_mean_squared_error: 327746.3438\n",
      "Epoch 69/100\n",
      "25/25 [==============================] - 0s 5ms/step - loss: 307466.9688 - root_mean_squared_error: 332627.0938 - val_loss: 303872.8750 - val_root_mean_squared_error: 327746.3438\n",
      "Epoch 70/100\n",
      "25/25 [==============================] - 0s 5ms/step - loss: 307466.9062 - root_mean_squared_error: 332627.0938 - val_loss: 303872.8750 - val_root_mean_squared_error: 327746.3438\n",
      "Epoch 71/100\n",
      "25/25 [==============================] - 0s 5ms/step - loss: 307466.9062 - root_mean_squared_error: 332627.0625 - val_loss: 303872.8438 - val_root_mean_squared_error: 327746.2812\n",
      "Epoch 72/100\n",
      "25/25 [==============================] - 0s 6ms/step - loss: 307466.9062 - root_mean_squared_error: 332627.0000 - val_loss: 303872.8125 - val_root_mean_squared_error: 327746.2812\n",
      "Epoch 73/100\n",
      "25/25 [==============================] - 0s 4ms/step - loss: 307466.8750 - root_mean_squared_error: 332627.0312 - val_loss: 303872.8125 - val_root_mean_squared_error: 327746.2812\n",
      "Epoch 74/100\n",
      "25/25 [==============================] - 0s 7ms/step - loss: 307466.9062 - root_mean_squared_error: 332627.0000 - val_loss: 303872.7500 - val_root_mean_squared_error: 327746.2188\n",
      "Epoch 75/100\n",
      "25/25 [==============================] - 0s 4ms/step - loss: 307466.8125 - root_mean_squared_error: 332626.9688 - val_loss: 303872.7500 - val_root_mean_squared_error: 327746.2188\n",
      "Epoch 76/100\n",
      "25/25 [==============================] - 0s 4ms/step - loss: 307466.7500 - root_mean_squared_error: 332626.9062 - val_loss: 303872.7188 - val_root_mean_squared_error: 327746.1875\n",
      "Epoch 77/100\n",
      "25/25 [==============================] - 0s 5ms/step - loss: 307466.7500 - root_mean_squared_error: 332626.9062 - val_loss: 303872.6875 - val_root_mean_squared_error: 327746.1562\n",
      "Epoch 78/100\n",
      "25/25 [==============================] - 0s 4ms/step - loss: 307466.7188 - root_mean_squared_error: 332626.9062 - val_loss: 303872.6875 - val_root_mean_squared_error: 327746.1562\n",
      "Epoch 79/100\n",
      "25/25 [==============================] - 0s 4ms/step - loss: 307466.7500 - root_mean_squared_error: 332626.8750 - val_loss: 303872.6250 - val_root_mean_squared_error: 327746.1250\n",
      "Epoch 80/100\n",
      "25/25 [==============================] - 0s 4ms/step - loss: 307466.6875 - root_mean_squared_error: 332626.8750 - val_loss: 303872.6250 - val_root_mean_squared_error: 327746.0938\n",
      "Epoch 81/100\n",
      "25/25 [==============================] - 0s 4ms/step - loss: 307466.6562 - root_mean_squared_error: 332626.8438 - val_loss: 303872.5938 - val_root_mean_squared_error: 327746.0625\n",
      "Epoch 82/100\n",
      "25/25 [==============================] - 0s 4ms/step - loss: 307466.6875 - root_mean_squared_error: 332626.8125 - val_loss: 303872.5625 - val_root_mean_squared_error: 327746.0625\n",
      "Epoch 83/100\n",
      "25/25 [==============================] - 0s 4ms/step - loss: 307466.5938 - root_mean_squared_error: 332626.7812 - val_loss: 303872.5312 - val_root_mean_squared_error: 327746.0312\n",
      "Epoch 84/100\n",
      "25/25 [==============================] - 0s 4ms/step - loss: 307466.5938 - root_mean_squared_error: 332626.7500 - val_loss: 303872.5000 - val_root_mean_squared_error: 327746.0000\n",
      "Epoch 85/100\n",
      "25/25 [==============================] - 0s 4ms/step - loss: 307466.5625 - root_mean_squared_error: 332626.7500 - val_loss: 303872.4688 - val_root_mean_squared_error: 327745.9688\n",
      "Epoch 86/100\n",
      "25/25 [==============================] - 0s 4ms/step - loss: 307466.5625 - root_mean_squared_error: 332626.7188 - val_loss: 303872.4688 - val_root_mean_squared_error: 327745.9375\n",
      "Epoch 87/100\n",
      "25/25 [==============================] - 0s 4ms/step - loss: 307466.5625 - root_mean_squared_error: 332626.6875 - val_loss: 303872.4375 - val_root_mean_squared_error: 327745.9375\n",
      "Epoch 88/100\n",
      "25/25 [==============================] - 0s 4ms/step - loss: 307466.4688 - root_mean_squared_error: 332626.6562 - val_loss: 303872.4062 - val_root_mean_squared_error: 327745.9062\n",
      "Epoch 89/100\n",
      "25/25 [==============================] - 0s 4ms/step - loss: 307466.4375 - root_mean_squared_error: 332626.6250 - val_loss: 303872.3750 - val_root_mean_squared_error: 327745.8750\n",
      "Epoch 90/100\n",
      "25/25 [==============================] - 0s 4ms/step - loss: 307466.4375 - root_mean_squared_error: 332626.6250 - val_loss: 303872.3750 - val_root_mean_squared_error: 327745.8750\n",
      "Epoch 91/100\n",
      "25/25 [==============================] - 0s 4ms/step - loss: 307466.4375 - root_mean_squared_error: 332626.6250 - val_loss: 303872.3438 - val_root_mean_squared_error: 327745.8438\n",
      "Epoch 92/100\n",
      "25/25 [==============================] - 0s 4ms/step - loss: 307466.4062 - root_mean_squared_error: 332626.5625 - val_loss: 303872.3125 - val_root_mean_squared_error: 327745.8125\n",
      "Epoch 93/100\n",
      "25/25 [==============================] - 0s 4ms/step - loss: 307466.3750 - root_mean_squared_error: 332626.5312 - val_loss: 303872.3125 - val_root_mean_squared_error: 327745.8125\n",
      "Epoch 94/100\n",
      "25/25 [==============================] - 0s 4ms/step - loss: 307466.3750 - root_mean_squared_error: 332626.5312 - val_loss: 303872.2500 - val_root_mean_squared_error: 327745.7812\n",
      "Epoch 95/100\n",
      "25/25 [==============================] - 0s 5ms/step - loss: 307466.3438 - root_mean_squared_error: 332626.5000 - val_loss: 303872.2500 - val_root_mean_squared_error: 327745.7500\n",
      "Epoch 96/100\n",
      "25/25 [==============================] - 0s 4ms/step - loss: 307466.3125 - root_mean_squared_error: 332626.5000 - val_loss: 303872.2500 - val_root_mean_squared_error: 327745.7500\n",
      "Epoch 97/100\n",
      "25/25 [==============================] - 0s 4ms/step - loss: 307466.2500 - root_mean_squared_error: 332626.4688 - val_loss: 303872.1875 - val_root_mean_squared_error: 327745.7188\n",
      "Epoch 98/100\n",
      "25/25 [==============================] - 0s 4ms/step - loss: 307466.2500 - root_mean_squared_error: 332626.4375 - val_loss: 303872.1875 - val_root_mean_squared_error: 327745.6562\n",
      "Epoch 99/100\n",
      "25/25 [==============================] - 0s 4ms/step - loss: 307466.2188 - root_mean_squared_error: 332626.4062 - val_loss: 303872.1250 - val_root_mean_squared_error: 327745.6562\n",
      "Epoch 100/100\n",
      "25/25 [==============================] - 0s 7ms/step - loss: 307466.2500 - root_mean_squared_error: 332626.3750 - val_loss: 303872.1250 - val_root_mean_squared_error: 327745.6250\n"
     ]
    }
   ],
   "source": [
    "history = model.fit(x_train, y_train, validation_data=(x_val, y_val), epochs=100, verbose=1)"
   ]
  },
  {
   "cell_type": "code",
   "execution_count": 21,
   "metadata": {},
   "outputs": [
    {
     "name": "stdout",
     "output_type": "stream",
     "text": [
      "dict_keys(['loss', 'root_mean_squared_error', 'val_loss', 'val_root_mean_squared_error'])\n"
     ]
    }
   ],
   "source": [
    "print(history.history.keys())"
   ]
  },
  {
   "cell_type": "code",
   "execution_count": 22,
   "metadata": {},
   "outputs": [
    {
     "name": "stdout",
     "output_type": "stream",
     "text": [
      "[307468.625, 307468.625, 307468.59375, 307468.625, 307468.59375, 307468.5625, 307468.53125, 307468.46875, 307468.4375, 307468.4375, 307468.40625, 307468.40625, 307468.40625, 307468.3125, 307468.375, 307468.34375, 307468.25, 307468.25, 307468.25, 307468.1875, 307468.1875, 307468.125, 307468.09375, 307468.125, 307468.0625, 307468.0625, 307468.03125, 307467.9375, 307467.96875, 307467.96875, 307467.90625, 307467.90625, 307467.90625, 307467.8125, 307467.84375, 307467.8125, 307467.75, 307467.71875, 307467.71875, 307467.6875, 307467.625, 307467.59375, 307467.59375, 307467.625, 307467.59375, 307467.59375, 307467.53125, 307467.46875, 307467.40625, 307467.4375, 307467.4375, 307467.375, 307467.40625, 307467.375, 307467.375, 307467.28125, 307467.3125, 307467.25, 307467.21875, 307467.1875, 307467.1875, 307467.09375, 307467.09375, 307467.09375, 307467.0625, 307467.0, 307467.0, 307466.96875, 307466.96875, 307466.90625, 307466.90625, 307466.90625, 307466.875, 307466.90625, 307466.8125, 307466.75, 307466.75, 307466.71875, 307466.75, 307466.6875, 307466.65625, 307466.6875, 307466.59375, 307466.59375, 307466.5625, 307466.5625, 307466.5625, 307466.46875, 307466.4375, 307466.4375, 307466.4375, 307466.40625, 307466.375, 307466.375, 307466.34375, 307466.3125, 307466.25, 307466.25, 307466.21875, 307466.25]\n",
      "[303874.59375, 303874.5625, 303874.53125, 303874.5, 303874.46875, 303874.46875, 303874.4375, 303874.40625, 303874.375, 303874.375, 303874.34375, 303874.3125, 303874.3125, 303874.25, 303874.25, 303874.21875, 303874.1875, 303874.1875, 303874.125, 303874.125, 303874.09375, 303874.09375, 303874.03125, 303874.0, 303873.96875, 303873.96875, 303873.9375, 303873.90625, 303873.875, 303873.875, 303873.84375, 303873.8125, 303873.8125, 303873.75, 303873.75, 303873.71875, 303873.6875, 303873.6875, 303873.625, 303873.625, 303873.59375, 303873.5625, 303873.53125, 303873.5, 303873.46875, 303873.46875, 303873.4375, 303873.40625, 303873.375, 303873.375, 303873.34375, 303873.3125, 303873.3125, 303873.25, 303873.25, 303873.21875, 303873.1875, 303873.1875, 303873.125, 303873.125, 303873.09375, 303873.0625, 303873.03125, 303873.0, 303872.96875, 303872.96875, 303872.9375, 303872.90625, 303872.875, 303872.875, 303872.84375, 303872.8125, 303872.8125, 303872.75, 303872.75, 303872.71875, 303872.6875, 303872.6875, 303872.625, 303872.625, 303872.59375, 303872.5625, 303872.53125, 303872.5, 303872.46875, 303872.46875, 303872.4375, 303872.40625, 303872.375, 303872.375, 303872.34375, 303872.3125, 303872.3125, 303872.25, 303872.25, 303872.25, 303872.1875, 303872.1875, 303872.125, 303872.125]\n",
      "[332628.6875, 332628.625, 332628.625, 332628.625, 332628.59375, 332628.5625, 332628.5625, 332628.5, 332628.46875, 332628.46875, 332628.4375, 332628.4375, 332628.4375, 332628.375, 332628.3125, 332628.34375, 332628.3125, 332628.28125, 332628.28125, 332628.21875, 332628.21875, 332628.1875, 332628.1875, 332628.15625, 332628.125, 332628.09375, 332628.09375, 332628.0625, 332628.03125, 332628.0, 332628.0, 332627.9375, 332627.90625, 332627.90625, 332627.90625, 332627.875, 332627.84375, 332627.8125, 332627.78125, 332627.78125, 332627.78125, 332627.71875, 332627.71875, 332627.6875, 332627.65625, 332627.65625, 332627.625, 332627.5625, 332627.5625, 332627.5625, 332627.5, 332627.5, 332627.5, 332627.4375, 332627.40625, 332627.40625, 332627.375, 332627.34375, 332627.3125, 332627.28125, 332627.3125, 332627.28125, 332627.28125, 332627.21875, 332627.15625, 332627.1875, 332627.125, 332627.125, 332627.09375, 332627.09375, 332627.0625, 332627.0, 332627.03125, 332627.0, 332626.96875, 332626.90625, 332626.90625, 332626.90625, 332626.875, 332626.875, 332626.84375, 332626.8125, 332626.78125, 332626.75, 332626.75, 332626.71875, 332626.6875, 332626.65625, 332626.625, 332626.625, 332626.625, 332626.5625, 332626.53125, 332626.53125, 332626.5, 332626.5, 332626.46875, 332626.4375, 332626.40625, 332626.375]\n",
      "[327747.9375, 327747.90625, 327747.875, 327747.875, 327747.84375, 327747.8125, 327747.8125, 327747.78125, 327747.75, 327747.71875, 327747.6875, 327747.65625, 327747.65625, 327747.625, 327747.59375, 327747.5625, 327747.5625, 327747.53125, 327747.5, 327747.46875, 327747.46875, 327747.4375, 327747.40625, 327747.40625, 327747.375, 327747.34375, 327747.3125, 327747.3125, 327747.25, 327747.25, 327747.21875, 327747.1875, 327747.1875, 327747.15625, 327747.15625, 327747.125, 327747.09375, 327747.0625, 327747.0625, 327747.03125, 327747.0, 327746.96875, 327746.96875, 327746.9375, 327746.90625, 327746.90625, 327746.84375, 327746.84375, 327746.8125, 327746.78125, 327746.75, 327746.75, 327746.71875, 327746.6875, 327746.65625, 327746.65625, 327746.625, 327746.59375, 327746.59375, 327746.5625, 327746.53125, 327746.53125, 327746.5, 327746.46875, 327746.4375, 327746.40625, 327746.40625, 327746.34375, 327746.34375, 327746.34375, 327746.28125, 327746.28125, 327746.28125, 327746.21875, 327746.21875, 327746.1875, 327746.15625, 327746.15625, 327746.125, 327746.09375, 327746.0625, 327746.0625, 327746.03125, 327746.0, 327745.96875, 327745.9375, 327745.9375, 327745.90625, 327745.875, 327745.875, 327745.84375, 327745.8125, 327745.8125, 327745.78125, 327745.75, 327745.75, 327745.71875, 327745.65625, 327745.65625, 327745.625]\n"
     ]
    }
   ],
   "source": [
    "loss = history.history['loss']\n",
    "val_loss = history.history['val_loss']\n",
    "root_mean_squared_error = history.history['root_mean_squared_error']\n",
    "val_root_mean_squared_error = history.history['val_root_mean_squared_error']\n",
    "print(loss)\n",
    "print(val_loss)\n",
    "print(root_mean_squared_error)\n",
    "print(val_root_mean_squared_error)"
   ]
  },
  {
   "cell_type": "code",
   "execution_count": 23,
   "metadata": {},
   "outputs": [
    {
     "data": {
      "image/png": "[encoded data removed]",
      "text/plain": [
       "<Figure size 432x288 with 1 Axes>"
      ]
     },
     "metadata": {
      "needs_background": "light"
     },
     "output_type": "display_data"
    }
   ],
   "source": [
    "plt.plot(loss)\n",
    "plt.plot(val_loss)\n",
    "plt.title('Model Loss')\n",
    "plt.xlabel('Epoch')\n",
    "plt.ylabel('Loss')\n",
    "plt.legend(['Train', 'Val_Loss'])\n",
    "plt.show()"
   ]
  },
  {
   "cell_type": "code",
   "execution_count": 24,
   "metadata": {},
   "outputs": [
    {
     "data": {
      "image/png": "[encoded data removed]",
      "text/plain": [
       "<Figure size 432x288 with 1 Axes>"
      ]
     },
     "metadata": {
      "needs_background": "light"
     },
     "output_type": "display_data"
    }
   ],
   "source": [
    "plt.plot(root_mean_squared_error)\n",
    "plt.plot(val_root_mean_squared_error)\n",
    "plt.title('Model Performance')\n",
    "plt.xlabel('Epoch')\n",
    "plt.ylabel('RMSE')\n",
    "plt.legend(['Train', 'Val'])\n",
    "plt.show()"
   ]
  },
  {
   "cell_type": "code",
   "execution_count": 25,
   "metadata": {},
   "outputs": [
    {
     "name": "stdout",
     "output_type": "stream",
     "text": [
      "4/4 [==============================] - 0s 3ms/step - loss: 321575.4688 - root_mean_squared_error: 343623.1875\n"
     ]
    },
    {
     "data": {
      "text/plain": [
       "[321575.46875, 343623.1875]"
      ]
     },
     "execution_count": 25,
     "metadata": {},
     "output_type": "execute_result"
    }
   ],
   "source": [
    "model.evaluate(x_test, y_test)"
   ]
  },
  {
   "cell_type": "markdown",
   "metadata": {},
   "source": [
    "## Validation and Testing"
   ]
  },
  {
   "cell_type": "code",
   "execution_count": 29,
   "metadata": {},
   "outputs": [
    {
     "name": "stdout",
     "output_type": "stream",
     "text": [
      "tf.Tensor(\n",
      "[2.0000e+00 9.2717e+04 4.0000e+00 9.0000e+00 1.2000e+01 1.9200e+02\n",
      " 7.6000e+01 7.3000e+01], shape=(8,), dtype=float32)\n"
     ]
    }
   ],
   "source": [
    "print(x_test[0])"
   ]
  },
  {
   "cell_type": "code",
   "execution_count": 26,
   "metadata": {},
   "outputs": [
    {
     "name": "stdout",
     "output_type": "stream",
     "text": [
      "1/1 [==============================] - 0s 268ms/step\n"
     ]
    },
    {
     "data": {
      "text/plain": [
       "array([[2.1163244]], dtype=float32)"
      ]
     },
     "execution_count": 26,
     "metadata": {},
     "output_type": "execute_result"
    }
   ],
   "source": [
    "model.predict(tf.expand_dims(x_test[0], axis=0))"
   ]
  },
  {
   "cell_type": "code",
   "execution_count": 27,
   "metadata": {},
   "outputs": [
    {
     "data": {
      "text/plain": [
       "<tf.Tensor: shape=(1,), dtype=float32, numpy=array([280123.], dtype=float32)>"
      ]
     },
     "execution_count": 27,
     "metadata": {},
     "output_type": "execute_result"
    }
   ],
   "source": [
    "y_test[0]"
   ]
  },
  {
   "cell_type": "code",
   "execution_count": 32,
   "metadata": {},
   "outputs": [
    {
     "name": "stdout",
     "output_type": "stream",
     "text": [
      "[280123.0, 373529.0, 459833.5, 153991.0, 312164.5, 539377.0, 304818.0, 113700.0, 172758.5, 184571.0, 547378.0, 462715.5, 547069.0, 438223.0, 395188.0, 428602.5, 156513.0, 387321.5, 501083.5, 284462.5, 264576.5, 285487.0, 340429.5, 230080.0, 293875.5, 332478.5, 490000.5, 192576.0, 155719.0, 258268.5, 393104.0, 132026.5, 469956.0, 146527.0, 304354.0, 226087.5, 140216.5, 512492.0, 227845.5, 389925.5, 542371.0, 335093.5, 242950.0, 458537.0, 234835.5, 425960.0, 382241.0, 203811.5, 220518.0, 172032.5, 169471.0, 211528.5, 316184.0, 368522.5, 230428.5, 424305.0, 258692.0, 306745.5, 415103.0, 479318.5, 360647.5, 242273.5, 506401.0, 182219.5, 322204.0, 165595.0, 459686.5, 294378.5, 318858.0, 282821.5, 432159.5, 486308.5, 462397.5, 248738.0, 427590.0, 248983.0, 457463.0, 228892.5, 470373.0, 441395.5, 377108.5, 174399.0, 90220.0, 500679.5, 460019.5, 171620.0, 218665.5, 253530.5, 333278.0, 403213.5, 397522.0, 364898.0, 307096.0, 163814.0, 320008.0, 196816.0, 232192.0, 451140.5, 96554.0, 377575.0]\n"
     ]
    }
   ],
   "source": [
    "y_true = list(y_test[:, 0].numpy())\n",
    "print(y_true)"
   ]
  },
  {
   "cell_type": "code",
   "execution_count": 33,
   "metadata": {},
   "outputs": [
    {
     "name": "stdout",
     "output_type": "stream",
     "text": [
      "4/4 [==============================] - 0s 3ms/step\n",
      "[2.1163244, 1.9968472, 4.2125964, 2.9395673, 1.099295, 3.9020212, 1.5537617, 2.2025342, 1.6938498, 1.9969299, 3.752541, 1.3327751, 3.1620054, 5.395447, 1.9339347, 2.0271683, 3.0061054, 1.3516223, 3.766614, 3.1907308, 2.0708623, 0.9218948, 3.1425672, 3.5979373, 3.1495047, 4.258782, 2.63898, 1.4282746, 1.5829098, 2.6094725, 3.2318492, 3.6120005, 4.096522, 1.5345483, 2.573839, 0.9316783, 2.5259333, 1.8671867, 1.7485191, 3.1263075, 3.7868013, 2.3631144, 2.9463005, 2.115764, 1.4852779, 3.1824067, 2.7090325, 2.5558681, 3.1187253, 4.8718605, 2.295312, 2.7461007, 2.9497302, 3.0961597, 4.086521, 1.2462708, 2.77966, 2.3155828, 4.3399305, 4.01564, 3.0858943, 0.23552108, 5.701933, 1.5131187, 2.2601562, 2.3348947, 4.5027924, 5.1617403, 2.2608166, 3.3065686, 3.7169957, 3.4705753, 3.7266545, 1.2238077, 1.2431928, 3.2769268, 4.2533355, 1.4796584, 4.0337324, 3.5475273, 2.944816, 3.8941104, 3.1082215, 4.602587, 3.745748, 4.7130632, 3.8431182, 2.4965749, 4.177495, 4.2314196, 3.3862524, 0.55007756, 0.8922758, 2.6927686, -0.11937308, 3.0535216, 2.4999225, 4.9879894, 0.4137652, 2.679212]\n"
     ]
    }
   ],
   "source": [
    "y_prid = list(model.predict(x_test)[:, 0])\n",
    "print(y_prid)"
   ]
  },
  {
   "cell_type": "code",
   "execution_count": 37,
   "metadata": {},
   "outputs": [
    {
     "data": {
      "image/png": "[encoded data removed]",
      "text/plain": [
       "<Figure size 2880x1440 with 1 Axes>"
      ]
     },
     "metadata": {
      "needs_background": "light"
     },
     "output_type": "display_data"
    }
   ],
   "source": [
    "ind = np.arange(100)\n",
    "plt.figure(figsize=(40, 20))\n",
    "\n",
    "width = 0.4\n",
    "\n",
    "plt.bar(ind, y_prid, width, label='Predict Car Price')\n",
    "plt.bar(ind+width, y_true, width, label='Actual Car Price')\n",
    "\n",
    "plt.xlabel('Actual vs Predicted Price')\n",
    "plt.ylabel('Car Prices')\n",
    "\n",
    "plt.show()"
   ]
  },
  {
   "cell_type": "code",
   "execution_count": null,
   "metadata": {},
   "outputs": [],
   "source": []
  }
 ],
 "metadata": {
  "kernelspec": {
   "display_name": "Python 3",
   "language": "python",
   "name": "python3"
  },
  "language_info": {
   "codemirror_mode": {
    "name": "ipython",
    "version": 3
   },
   "file_extension": ".py",
   "mimetype": "text/x-python",
   "name": "python",
   "nbconvert_exporter": "python",
   "pygments_lexer": "ipython3",
   "version": "3.10.0"
  }
 },
 "nbformat": 4,
 "nbformat_minor": 2
}
