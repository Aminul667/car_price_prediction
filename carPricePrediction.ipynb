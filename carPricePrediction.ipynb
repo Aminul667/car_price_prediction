{
 "cells": [
  {
   "cell_type": "code",
   "execution_count": 34,
   "metadata": {},
   "outputs": [],
   "source": [
    "import tensorflow as tf \n",
    "import pandas as pd \n",
    "import seaborn as sns\n",
    "from tensorflow.keras.layers import Normalization, Dense, InputLayer\n",
    "from tensorflow.keras.losses import MeanSquaredError, Huber, MeanAbsoluteError\n",
    "from tensorflow.keras.metrics import RootMeanSquaredError\n",
    "from tensorflow.keras.optimizers import Adam\n",
    "import matplotlib.pyplot as plt"
   ]
  },
  {
   "cell_type": "markdown",
   "metadata": {},
   "source": [
    "## Data Processing"
   ]
  },
  {
   "cell_type": "code",
   "execution_count": 35,
   "metadata": {},
   "outputs": [],
   "source": [
    "data_path = './archive/'"
   ]
  },
  {
   "cell_type": "code",
   "execution_count": 36,
   "metadata": {},
   "outputs": [
    {
     "name": "stdout",
     "output_type": "stream",
     "text": [
      "(1000, 12)\n"
     ]
    },
    {
     "data": {
      "text/html": [
       "<div>\n",
       "<style scoped>\n",
       "    .dataframe tbody tr th:only-of-type {\n",
       "        vertical-align: middle;\n",
       "    }\n",
       "\n",
       "    .dataframe tbody tr th {\n",
       "        vertical-align: top;\n",
       "    }\n",
       "\n",
       "    .dataframe thead th {\n",
       "        text-align: right;\n",
       "    }\n",
       "</style>\n",
       "<table border=\"1\" class=\"dataframe\">\n",
       "  <thead>\n",
       "    <tr style=\"text-align: right;\">\n",
       "      <th></th>\n",
       "      <th>v.id</th>\n",
       "      <th>on road old</th>\n",
       "      <th>on road now</th>\n",
       "      <th>years</th>\n",
       "      <th>km</th>\n",
       "      <th>rating</th>\n",
       "      <th>condition</th>\n",
       "      <th>economy</th>\n",
       "      <th>top speed</th>\n",
       "      <th>hp</th>\n",
       "      <th>torque</th>\n",
       "      <th>current price</th>\n",
       "    </tr>\n",
       "  </thead>\n",
       "  <tbody>\n",
       "    <tr>\n",
       "      <th>0</th>\n",
       "      <td>1</td>\n",
       "      <td>535651</td>\n",
       "      <td>798186</td>\n",
       "      <td>3</td>\n",
       "      <td>78945</td>\n",
       "      <td>1</td>\n",
       "      <td>2</td>\n",
       "      <td>14</td>\n",
       "      <td>177</td>\n",
       "      <td>73</td>\n",
       "      <td>123</td>\n",
       "      <td>351318.0</td>\n",
       "    </tr>\n",
       "    <tr>\n",
       "      <th>1</th>\n",
       "      <td>2</td>\n",
       "      <td>591911</td>\n",
       "      <td>861056</td>\n",
       "      <td>6</td>\n",
       "      <td>117220</td>\n",
       "      <td>5</td>\n",
       "      <td>9</td>\n",
       "      <td>9</td>\n",
       "      <td>148</td>\n",
       "      <td>74</td>\n",
       "      <td>95</td>\n",
       "      <td>285001.5</td>\n",
       "    </tr>\n",
       "    <tr>\n",
       "      <th>2</th>\n",
       "      <td>3</td>\n",
       "      <td>686990</td>\n",
       "      <td>770762</td>\n",
       "      <td>2</td>\n",
       "      <td>132538</td>\n",
       "      <td>2</td>\n",
       "      <td>8</td>\n",
       "      <td>15</td>\n",
       "      <td>181</td>\n",
       "      <td>53</td>\n",
       "      <td>97</td>\n",
       "      <td>215386.0</td>\n",
       "    </tr>\n",
       "    <tr>\n",
       "      <th>3</th>\n",
       "      <td>4</td>\n",
       "      <td>573999</td>\n",
       "      <td>722381</td>\n",
       "      <td>4</td>\n",
       "      <td>101065</td>\n",
       "      <td>4</td>\n",
       "      <td>3</td>\n",
       "      <td>11</td>\n",
       "      <td>197</td>\n",
       "      <td>54</td>\n",
       "      <td>116</td>\n",
       "      <td>244295.5</td>\n",
       "    </tr>\n",
       "    <tr>\n",
       "      <th>4</th>\n",
       "      <td>5</td>\n",
       "      <td>691388</td>\n",
       "      <td>811335</td>\n",
       "      <td>6</td>\n",
       "      <td>61559</td>\n",
       "      <td>3</td>\n",
       "      <td>9</td>\n",
       "      <td>12</td>\n",
       "      <td>160</td>\n",
       "      <td>53</td>\n",
       "      <td>105</td>\n",
       "      <td>531114.5</td>\n",
       "    </tr>\n",
       "  </tbody>\n",
       "</table>\n",
       "</div>"
      ],
      "text/plain": [
       "   v.id  on road old  on road now  years      km  rating  condition  economy  \\\n",
       "0     1       535651       798186      3   78945       1          2       14   \n",
       "1     2       591911       861056      6  117220       5          9        9   \n",
       "2     3       686990       770762      2  132538       2          8       15   \n",
       "3     4       573999       722381      4  101065       4          3       11   \n",
       "4     5       691388       811335      6   61559       3          9       12   \n",
       "\n",
       "   top speed  hp  torque  current price  \n",
       "0        177  73     123       351318.0  \n",
       "1        148  74      95       285001.5  \n",
       "2        181  53      97       215386.0  \n",
       "3        197  54     116       244295.5  \n",
       "4        160  53     105       531114.5  "
      ]
     },
     "execution_count": 36,
     "metadata": {},
     "output_type": "execute_result"
    }
   ],
   "source": [
    "data = pd.read_csv(data_path + 'train.csv')\n",
    "print(data.shape)\n",
    "data.head()"
   ]
  },
  {
   "cell_type": "code",
   "execution_count": 37,
   "metadata": {},
   "outputs": [
    {
     "name": "stdout",
     "output_type": "stream",
     "text": [
      "['v.id', 'on road old', 'on road now', 'years', 'km', 'rating', 'condition', 'economy', 'top speed', 'hp', 'torque', 'current price']\n"
     ]
    }
   ],
   "source": [
    "all_features = data.columns.to_list()\n",
    "print(all_features)"
   ]
  },
  {
   "cell_type": "code",
   "execution_count": 38,
   "metadata": {},
   "outputs": [
    {
     "name": "stdout",
     "output_type": "stream",
     "text": [
      "['years', 'km', 'rating', 'condition', 'economy', 'top speed', 'hp', 'torque', 'current price']\n"
     ]
    }
   ],
   "source": [
    "remove_features = ['v.id', 'on road old', 'on road now']\n",
    "features = [feature for feature in all_features if feature not in remove_features]\n",
    "print(features)"
   ]
  },
  {
   "cell_type": "code",
   "execution_count": 39,
   "metadata": {},
   "outputs": [],
   "source": [
    "# sns.pairplot(data[features], diag_kind='kde')"
   ]
  },
  {
   "cell_type": "code",
   "execution_count": 40,
   "metadata": {},
   "outputs": [
    {
     "data": {
      "text/html": [
       "<div>\n",
       "<style scoped>\n",
       "    .dataframe tbody tr th:only-of-type {\n",
       "        vertical-align: middle;\n",
       "    }\n",
       "\n",
       "    .dataframe tbody tr th {\n",
       "        vertical-align: top;\n",
       "    }\n",
       "\n",
       "    .dataframe thead th {\n",
       "        text-align: right;\n",
       "    }\n",
       "</style>\n",
       "<table border=\"1\" class=\"dataframe\">\n",
       "  <thead>\n",
       "    <tr style=\"text-align: right;\">\n",
       "      <th></th>\n",
       "      <th>v.id</th>\n",
       "      <th>on road old</th>\n",
       "      <th>on road now</th>\n",
       "      <th>years</th>\n",
       "      <th>km</th>\n",
       "      <th>rating</th>\n",
       "      <th>condition</th>\n",
       "      <th>economy</th>\n",
       "      <th>top speed</th>\n",
       "      <th>hp</th>\n",
       "      <th>torque</th>\n",
       "      <th>current price</th>\n",
       "    </tr>\n",
       "  </thead>\n",
       "  <tbody>\n",
       "    <tr>\n",
       "      <th>v.id</th>\n",
       "      <td>1.000000</td>\n",
       "      <td>-0.029926</td>\n",
       "      <td>-0.030787</td>\n",
       "      <td>-0.034255</td>\n",
       "      <td>0.047400</td>\n",
       "      <td>-0.018263</td>\n",
       "      <td>-0.038548</td>\n",
       "      <td>0.047137</td>\n",
       "      <td>0.001613</td>\n",
       "      <td>-0.006997</td>\n",
       "      <td>-0.000632</td>\n",
       "      <td>-0.059460</td>\n",
       "    </tr>\n",
       "    <tr>\n",
       "      <th>on road old</th>\n",
       "      <td>-0.029926</td>\n",
       "      <td>1.000000</td>\n",
       "      <td>0.034113</td>\n",
       "      <td>0.007207</td>\n",
       "      <td>0.007488</td>\n",
       "      <td>-0.050717</td>\n",
       "      <td>-0.015682</td>\n",
       "      <td>-0.030097</td>\n",
       "      <td>-0.023816</td>\n",
       "      <td>-0.049266</td>\n",
       "      <td>0.008950</td>\n",
       "      <td>0.233035</td>\n",
       "    </tr>\n",
       "    <tr>\n",
       "      <th>on road now</th>\n",
       "      <td>-0.030787</td>\n",
       "      <td>0.034113</td>\n",
       "      <td>1.000000</td>\n",
       "      <td>0.004609</td>\n",
       "      <td>-0.053202</td>\n",
       "      <td>0.028280</td>\n",
       "      <td>-0.005043</td>\n",
       "      <td>-0.015880</td>\n",
       "      <td>0.012699</td>\n",
       "      <td>-0.012719</td>\n",
       "      <td>0.017955</td>\n",
       "      <td>0.282793</td>\n",
       "    </tr>\n",
       "    <tr>\n",
       "      <th>years</th>\n",
       "      <td>-0.034255</td>\n",
       "      <td>0.007207</td>\n",
       "      <td>0.004609</td>\n",
       "      <td>1.000000</td>\n",
       "      <td>-0.002089</td>\n",
       "      <td>0.027285</td>\n",
       "      <td>0.053579</td>\n",
       "      <td>0.050220</td>\n",
       "      <td>0.025148</td>\n",
       "      <td>-0.003272</td>\n",
       "      <td>0.028859</td>\n",
       "      <td>-0.011854</td>\n",
       "    </tr>\n",
       "    <tr>\n",
       "      <th>km</th>\n",
       "      <td>0.047400</td>\n",
       "      <td>0.007488</td>\n",
       "      <td>-0.053202</td>\n",
       "      <td>-0.002089</td>\n",
       "      <td>1.000000</td>\n",
       "      <td>-0.039930</td>\n",
       "      <td>-0.013640</td>\n",
       "      <td>0.032680</td>\n",
       "      <td>0.026450</td>\n",
       "      <td>-0.052918</td>\n",
       "      <td>0.013566</td>\n",
       "      <td>-0.935924</td>\n",
       "    </tr>\n",
       "    <tr>\n",
       "      <th>rating</th>\n",
       "      <td>-0.018263</td>\n",
       "      <td>-0.050717</td>\n",
       "      <td>0.028280</td>\n",
       "      <td>0.027285</td>\n",
       "      <td>-0.039930</td>\n",
       "      <td>1.000000</td>\n",
       "      <td>0.015943</td>\n",
       "      <td>-0.009757</td>\n",
       "      <td>-0.042222</td>\n",
       "      <td>-0.022623</td>\n",
       "      <td>0.004408</td>\n",
       "      <td>0.035038</td>\n",
       "    </tr>\n",
       "    <tr>\n",
       "      <th>condition</th>\n",
       "      <td>-0.038548</td>\n",
       "      <td>-0.015682</td>\n",
       "      <td>-0.005043</td>\n",
       "      <td>0.053579</td>\n",
       "      <td>-0.013640</td>\n",
       "      <td>0.015943</td>\n",
       "      <td>1.000000</td>\n",
       "      <td>0.058788</td>\n",
       "      <td>0.018472</td>\n",
       "      <td>-0.071552</td>\n",
       "      <td>0.047805</td>\n",
       "      <td>0.110108</td>\n",
       "    </tr>\n",
       "    <tr>\n",
       "      <th>economy</th>\n",
       "      <td>0.047137</td>\n",
       "      <td>-0.030097</td>\n",
       "      <td>-0.015880</td>\n",
       "      <td>0.050220</td>\n",
       "      <td>0.032680</td>\n",
       "      <td>-0.009757</td>\n",
       "      <td>0.058788</td>\n",
       "      <td>1.000000</td>\n",
       "      <td>-0.059402</td>\n",
       "      <td>-0.016782</td>\n",
       "      <td>0.041632</td>\n",
       "      <td>-0.034711</td>\n",
       "    </tr>\n",
       "    <tr>\n",
       "      <th>top speed</th>\n",
       "      <td>0.001613</td>\n",
       "      <td>-0.023816</td>\n",
       "      <td>0.012699</td>\n",
       "      <td>0.025148</td>\n",
       "      <td>0.026450</td>\n",
       "      <td>-0.042222</td>\n",
       "      <td>0.018472</td>\n",
       "      <td>-0.059402</td>\n",
       "      <td>1.000000</td>\n",
       "      <td>0.057827</td>\n",
       "      <td>-0.019697</td>\n",
       "      <td>-0.027993</td>\n",
       "    </tr>\n",
       "    <tr>\n",
       "      <th>hp</th>\n",
       "      <td>-0.006997</td>\n",
       "      <td>-0.049266</td>\n",
       "      <td>-0.012719</td>\n",
       "      <td>-0.003272</td>\n",
       "      <td>-0.052918</td>\n",
       "      <td>-0.022623</td>\n",
       "      <td>-0.071552</td>\n",
       "      <td>-0.016782</td>\n",
       "      <td>0.057827</td>\n",
       "      <td>1.000000</td>\n",
       "      <td>-0.013817</td>\n",
       "      <td>0.030238</td>\n",
       "    </tr>\n",
       "    <tr>\n",
       "      <th>torque</th>\n",
       "      <td>-0.000632</td>\n",
       "      <td>0.008950</td>\n",
       "      <td>0.017955</td>\n",
       "      <td>0.028859</td>\n",
       "      <td>0.013566</td>\n",
       "      <td>0.004408</td>\n",
       "      <td>0.047805</td>\n",
       "      <td>0.041632</td>\n",
       "      <td>-0.019697</td>\n",
       "      <td>-0.013817</td>\n",
       "      <td>1.000000</td>\n",
       "      <td>-0.002290</td>\n",
       "    </tr>\n",
       "    <tr>\n",
       "      <th>current price</th>\n",
       "      <td>-0.059460</td>\n",
       "      <td>0.233035</td>\n",
       "      <td>0.282793</td>\n",
       "      <td>-0.011854</td>\n",
       "      <td>-0.935924</td>\n",
       "      <td>0.035038</td>\n",
       "      <td>0.110108</td>\n",
       "      <td>-0.034711</td>\n",
       "      <td>-0.027993</td>\n",
       "      <td>0.030238</td>\n",
       "      <td>-0.002290</td>\n",
       "      <td>1.000000</td>\n",
       "    </tr>\n",
       "  </tbody>\n",
       "</table>\n",
       "</div>"
      ],
      "text/plain": [
       "                   v.id  on road old  on road now     years        km  \\\n",
       "v.id           1.000000    -0.029926    -0.030787 -0.034255  0.047400   \n",
       "on road old   -0.029926     1.000000     0.034113  0.007207  0.007488   \n",
       "on road now   -0.030787     0.034113     1.000000  0.004609 -0.053202   \n",
       "years         -0.034255     0.007207     0.004609  1.000000 -0.002089   \n",
       "km             0.047400     0.007488    -0.053202 -0.002089  1.000000   \n",
       "rating        -0.018263    -0.050717     0.028280  0.027285 -0.039930   \n",
       "condition     -0.038548    -0.015682    -0.005043  0.053579 -0.013640   \n",
       "economy        0.047137    -0.030097    -0.015880  0.050220  0.032680   \n",
       "top speed      0.001613    -0.023816     0.012699  0.025148  0.026450   \n",
       "hp            -0.006997    -0.049266    -0.012719 -0.003272 -0.052918   \n",
       "torque        -0.000632     0.008950     0.017955  0.028859  0.013566   \n",
       "current price -0.059460     0.233035     0.282793 -0.011854 -0.935924   \n",
       "\n",
       "                 rating  condition   economy  top speed        hp    torque  \\\n",
       "v.id          -0.018263  -0.038548  0.047137   0.001613 -0.006997 -0.000632   \n",
       "on road old   -0.050717  -0.015682 -0.030097  -0.023816 -0.049266  0.008950   \n",
       "on road now    0.028280  -0.005043 -0.015880   0.012699 -0.012719  0.017955   \n",
       "years          0.027285   0.053579  0.050220   0.025148 -0.003272  0.028859   \n",
       "km            -0.039930  -0.013640  0.032680   0.026450 -0.052918  0.013566   \n",
       "rating         1.000000   0.015943 -0.009757  -0.042222 -0.022623  0.004408   \n",
       "condition      0.015943   1.000000  0.058788   0.018472 -0.071552  0.047805   \n",
       "economy       -0.009757   0.058788  1.000000  -0.059402 -0.016782  0.041632   \n",
       "top speed     -0.042222   0.018472 -0.059402   1.000000  0.057827 -0.019697   \n",
       "hp            -0.022623  -0.071552 -0.016782   0.057827  1.000000 -0.013817   \n",
       "torque         0.004408   0.047805  0.041632  -0.019697 -0.013817  1.000000   \n",
       "current price  0.035038   0.110108 -0.034711  -0.027993  0.030238 -0.002290   \n",
       "\n",
       "               current price  \n",
       "v.id               -0.059460  \n",
       "on road old         0.233035  \n",
       "on road now         0.282793  \n",
       "years              -0.011854  \n",
       "km                 -0.935924  \n",
       "rating              0.035038  \n",
       "condition           0.110108  \n",
       "economy            -0.034711  \n",
       "top speed          -0.027993  \n",
       "hp                  0.030238  \n",
       "torque             -0.002290  \n",
       "current price       1.000000  "
      ]
     },
     "execution_count": 40,
     "metadata": {},
     "output_type": "execute_result"
    }
   ],
   "source": [
    "data.corr()"
   ]
  },
  {
   "cell_type": "markdown",
   "metadata": {},
   "source": [
    "## Convert data to tensor data"
   ]
  },
  {
   "cell_type": "code",
   "execution_count": 41,
   "metadata": {},
   "outputs": [
    {
     "name": "stdout",
     "output_type": "stream",
     "text": [
      "(1000, 12)\n",
      "tf.Tensor(\n",
      "[[1.000000e+00 5.356510e+05 7.981860e+05 ... 7.300000e+01 1.230000e+02\n",
      "  3.513180e+05]\n",
      " [2.000000e+00 5.919110e+05 8.610560e+05 ... 7.400000e+01 9.500000e+01\n",
      "  2.850015e+05]\n",
      " [3.000000e+00 6.869900e+05 7.707620e+05 ... 5.300000e+01 9.700000e+01\n",
      "  2.153860e+05]\n",
      " ...\n",
      " [9.980000e+02 6.463440e+05 8.427330e+05 ... 1.130000e+02 8.900000e+01\n",
      "  4.058710e+05]\n",
      " [9.990000e+02 5.355590e+05 7.324390e+05 ... 1.120000e+02 1.280000e+02\n",
      "  7.439800e+04]\n",
      " [1.000000e+03 5.901050e+05 7.797430e+05 ... 9.900000e+01 9.600000e+01\n",
      "  4.149385e+05]], shape=(1000, 12), dtype=float32)\n"
     ]
    }
   ],
   "source": [
    "tensor_data = tf.constant(data)\n",
    "tensor_data = tf.cast(tensor_data, dtype=tf.float32)\n",
    "print(tensor_data.shape)\n",
    "print(tensor_data)"
   ]
  },
  {
   "cell_type": "code",
   "execution_count": 42,
   "metadata": {},
   "outputs": [
    {
     "name": "stdout",
     "output_type": "stream",
     "text": [
      "tf.Tensor(\n",
      "[[4.860000e+02 6.849240e+05 7.370910e+05 7.000000e+00 1.324980e+05\n",
      "  1.000000e+00 5.000000e+00 1.100000e+01 1.640000e+02 6.900000e+01\n",
      "  9.400000e+01 1.743990e+05]\n",
      " [6.250000e+02 6.348770e+05 8.133710e+05 3.000000e+00 5.546500e+04\n",
      "  2.000000e+00 3.000000e+00 1.200000e+01 1.410000e+02 1.000000e+02\n",
      "  9.300000e+01 5.025190e+05]\n",
      " [9.000000e+02 6.959720e+05 7.092090e+05 4.000000e+00 1.209700e+05\n",
      "  1.000000e+00 4.000000e+00 1.300000e+01 1.510000e+02 1.180000e+02\n",
      "  1.070000e+02 2.189835e+05]\n",
      " [5.190000e+02 5.727770e+05 7.363550e+05 2.000000e+00 8.302200e+04\n",
      "  4.000000e+00 6.000000e+00 8.000000e+00 1.790000e+02 1.090000e+02\n",
      "  7.500000e+01 3.270755e+05]\n",
      " [2.500000e+01 6.511060e+05 7.792080e+05 4.000000e+00 5.313700e+04\n",
      "  3.000000e+00 8.000000e+00 8.000000e+00 1.910000e+02 1.090000e+02\n",
      "  1.210000e+02 5.188450e+05]], shape=(5, 12), dtype=float32)\n"
     ]
    }
   ],
   "source": [
    "tensor_data = tf.random.shuffle(tensor_data)\n",
    "print(tensor_data[:5])"
   ]
  },
  {
   "cell_type": "code",
   "execution_count": 43,
   "metadata": {},
   "outputs": [
    {
     "name": "stdout",
     "output_type": "stream",
     "text": [
      "(1000, 8)\n",
      "tf.Tensor(\n",
      "[[7.00000e+00 1.32498e+05 1.00000e+00 5.00000e+00 1.10000e+01 1.64000e+02\n",
      "  6.90000e+01 9.40000e+01]\n",
      " [3.00000e+00 5.54650e+04 2.00000e+00 3.00000e+00 1.20000e+01 1.41000e+02\n",
      "  1.00000e+02 9.30000e+01]\n",
      " [4.00000e+00 1.20970e+05 1.00000e+00 4.00000e+00 1.30000e+01 1.51000e+02\n",
      "  1.18000e+02 1.07000e+02]\n",
      " [2.00000e+00 8.30220e+04 4.00000e+00 6.00000e+00 8.00000e+00 1.79000e+02\n",
      "  1.09000e+02 7.50000e+01]\n",
      " [4.00000e+00 5.31370e+04 3.00000e+00 8.00000e+00 8.00000e+00 1.91000e+02\n",
      "  1.09000e+02 1.21000e+02]], shape=(5, 8), dtype=float32)\n"
     ]
    }
   ],
   "source": [
    "x = tensor_data[:, 3:-1]\n",
    "print(x.shape)\n",
    "print(x[:5])"
   ]
  },
  {
   "cell_type": "code",
   "execution_count": 44,
   "metadata": {},
   "outputs": [
    {
     "name": "stdout",
     "output_type": "stream",
     "text": [
      "(1000, 1)\n",
      "tf.Tensor(\n",
      "[[174399. ]\n",
      " [502519. ]\n",
      " [218983.5]\n",
      " [327075.5]\n",
      " [518845. ]], shape=(5, 1), dtype=float32)\n"
     ]
    }
   ],
   "source": [
    "y = tensor_data[:, -1]\n",
    "y = tf.expand_dims(y, axis=1)\n",
    "print(y.shape)\n",
    "print(y[:5])"
   ]
  },
  {
   "cell_type": "markdown",
   "metadata": {},
   "source": [
    "## Normalization\n",
    "$$\n",
    "\\text{normalization} = \\frac{X - \\mu}{\\sigma}, \\quad \\text{where $\\mu$ = mean and $\\sigma$ = std}\n",
    "$$\n",
    "```\n",
    "Normalization()\n",
    "```\n",
    "Default axis = -1 means mean and std will be calculated based on columns, and then normalization will be performed along the columns."
   ]
  },
  {
   "cell_type": "code",
   "execution_count": 45,
   "metadata": {},
   "outputs": [],
   "source": [
    "TRAINING_RATIO = 0.8\n",
    "VAL_RATIO = 0.1\n",
    "TEST_RATIO = 0.1\n",
    "DATASET_SIZE = len(x)"
   ]
  },
  {
   "cell_type": "code",
   "execution_count": 46,
   "metadata": {},
   "outputs": [
    {
     "name": "stdout",
     "output_type": "stream",
     "text": [
      "(800, 8)\n",
      "(800, 1)\n"
     ]
    }
   ],
   "source": [
    "x_train = x[:int(DATASET_SIZE*TRAINING_RATIO)]\n",
    "y_train = y[:int(DATASET_SIZE*TRAINING_RATIO)]\n",
    "print(x_train.shape)\n",
    "print(y_train.shape)"
   ]
  },
  {
   "cell_type": "code",
   "execution_count": 47,
   "metadata": {},
   "outputs": [
    {
     "name": "stdout",
     "output_type": "stream",
     "text": [
      "(100, 8)\n",
      "(100, 1)\n"
     ]
    }
   ],
   "source": [
    "x_val = x[int(DATASET_SIZE*TRAINING_RATIO):int(DATASET_SIZE*(TRAINING_RATIO+VAL_RATIO))]\n",
    "y_val = y[int(DATASET_SIZE*TRAINING_RATIO):int(DATASET_SIZE*(TRAINING_RATIO+VAL_RATIO))]\n",
    "print(x_val.shape)\n",
    "print(y_val.shape)"
   ]
  },
  {
   "cell_type": "code",
   "execution_count": 48,
   "metadata": {},
   "outputs": [
    {
     "name": "stdout",
     "output_type": "stream",
     "text": [
      "(100, 8)\n",
      "(100, 1)\n"
     ]
    }
   ],
   "source": [
    "x_test = x[int(DATASET_SIZE*(TRAINING_RATIO+VAL_RATIO)):]\n",
    "y_test = y[int(DATASET_SIZE*(TRAINING_RATIO+VAL_RATIO)):]\n",
    "print(x_test.shape)\n",
    "print(y_test.shape)"
   ]
  },
  {
   "cell_type": "code",
   "execution_count": 49,
   "metadata": {},
   "outputs": [
    {
     "data": {
      "text/plain": [
       "<tf.Tensor: shape=(5, 8), dtype=float32, numpy=\n",
       "array([[ 1.3975602e+00,  1.1099082e+00, -1.4303969e+00, -1.6852742e-01,\n",
       "        -2.6724330e-01, -1.2851429e-01, -7.5393438e-01, -4.4621497e-01],\n",
       "       [-9.1963816e-01, -1.5484980e+00, -7.1519840e-01, -8.8376385e-01,\n",
       "         1.8285067e-01, -1.3197891e+00,  7.5478691e-01, -4.9403444e-01],\n",
       "       [-3.4033856e-01,  7.1207726e-01, -1.4303969e+00, -5.2614564e-01,\n",
       "         6.3294464e-01, -8.0184352e-01,  1.6308186e+00,  1.7543781e-01],\n",
       "       [-1.4989377e+00, -5.9750688e-01,  7.1519870e-01,  1.8909077e-01,\n",
       "        -1.6175251e+00,  6.4840406e-01,  1.1928028e+00, -1.3547845e+00],\n",
       "       [-3.4033856e-01, -1.6288372e+00,  1.7051661e-07,  9.0432715e-01,\n",
       "        -1.6175251e+00,  1.2699387e+00,  1.1928028e+00,  8.4491003e-01]],\n",
       "      dtype=float32)>"
      ]
     },
     "execution_count": 49,
     "metadata": {},
     "output_type": "execute_result"
    }
   ],
   "source": [
    "normalizer = Normalization()\n",
    "normalizer.adapt(x_train)\n",
    "normalizer(x)[:5]"
   ]
  },
  {
   "cell_type": "code",
   "execution_count": 50,
   "metadata": {},
   "outputs": [
    {
     "name": "stdout",
     "output_type": "stream",
     "text": [
      "Model: \"sequential_1\"\n",
      "_________________________________________________________________\n",
      " Layer (type)                Output Shape              Param #   \n",
      "=================================================================\n",
      " normalization_2 (Normaliza  (None, 8)                 17        \n",
      " tion)                                                           \n",
      "                                                                 \n",
      " dense_1 (Dense)             (None, 1)                 9         \n",
      "                                                                 \n",
      "=================================================================\n",
      "Total params: 26 (108.00 Byte)\n",
      "Trainable params: 9 (36.00 Byte)\n",
      "Non-trainable params: 17 (72.00 Byte)\n",
      "_________________________________________________________________\n"
     ]
    }
   ],
   "source": [
    "model = tf.keras.Sequential([\n",
    "    InputLayer(input_shape=(8,)),\n",
    "    normalizer,\n",
    "    Dense(1)  # as we need only one output for current_price.\n",
    "])\n",
    "\n",
    "model.summary()"
   ]
  },
  {
   "cell_type": "code",
   "execution_count": 51,
   "metadata": {},
   "outputs": [
    {
     "data": {
      "image/png": "[encoded data removed]",
      "text/plain": [
       "<IPython.core.display.Image object>"
      ]
     },
     "execution_count": 51,
     "metadata": {},
     "output_type": "execute_result"
    }
   ],
   "source": [
    "tf.keras.utils.plot_model(model, to_file=\"model.png\", show_shapes=True)"
   ]
  },
  {
   "cell_type": "markdown",
   "metadata": {},
   "source": [
    "## Training and Optimization"
   ]
  },
  {
   "cell_type": "code",
   "execution_count": 52,
   "metadata": {},
   "outputs": [],
   "source": [
    "model.compile(\n",
    "    optimizer=Adam(),\n",
    "    loss=MeanAbsoluteError(),\n",
    "    metrics = RootMeanSquaredError()\n",
    ")"
   ]
  },
  {
   "cell_type": "code",
   "execution_count": 53,
   "metadata": {},
   "outputs": [
    {
     "name": "stdout",
     "output_type": "stream",
     "text": [
      "Epoch 1/100\n"
     ]
    },
    {
     "name": "stdout",
     "output_type": "stream",
     "text": [
      "25/25 [==============================] - 1s 15ms/step - loss: 307089.9688 - root_mean_squared_error: 331764.5312 - val_loss: 316715.6250 - val_root_mean_squared_error: 339902.7188\n",
      "Epoch 2/100\n",
      "25/25 [==============================] - 0s 4ms/step - loss: 307089.9688 - root_mean_squared_error: 331764.5000 - val_loss: 316715.6250 - val_root_mean_squared_error: 339902.6875\n",
      "Epoch 3/100\n",
      "25/25 [==============================] - 0s 4ms/step - loss: 307089.9062 - root_mean_squared_error: 331764.4688 - val_loss: 316715.5938 - val_root_mean_squared_error: 339902.6562\n",
      "Epoch 4/100\n",
      "25/25 [==============================] - 0s 4ms/step - loss: 307089.8750 - root_mean_squared_error: 331764.4688 - val_loss: 316715.5938 - val_root_mean_squared_error: 339902.6250\n",
      "Epoch 5/100\n",
      "25/25 [==============================] - 0s 4ms/step - loss: 307089.9062 - root_mean_squared_error: 331764.4062 - val_loss: 316715.5312 - val_root_mean_squared_error: 339902.5938\n",
      "Epoch 6/100\n",
      "25/25 [==============================] - 0s 4ms/step - loss: 307089.8750 - root_mean_squared_error: 331764.4062 - val_loss: 316715.5312 - val_root_mean_squared_error: 339902.5625\n",
      "Epoch 7/100\n",
      "25/25 [==============================] - 0s 4ms/step - loss: 307089.8125 - root_mean_squared_error: 331764.3750 - val_loss: 316715.5312 - val_root_mean_squared_error: 339902.5625\n",
      "Epoch 8/100\n",
      "25/25 [==============================] - 0s 4ms/step - loss: 307089.8438 - root_mean_squared_error: 331764.3750 - val_loss: 316715.4688 - val_root_mean_squared_error: 339902.5625\n",
      "Epoch 9/100\n",
      "25/25 [==============================] - 0s 4ms/step - loss: 307089.7188 - root_mean_squared_error: 331764.3438 - val_loss: 316715.4688 - val_root_mean_squared_error: 339902.5000\n",
      "Epoch 10/100\n",
      "25/25 [==============================] - 0s 5ms/step - loss: 307089.7500 - root_mean_squared_error: 331764.3125 - val_loss: 316715.4062 - val_root_mean_squared_error: 339902.5000\n",
      "Epoch 11/100\n",
      "25/25 [==============================] - 0s 6ms/step - loss: 307089.7500 - root_mean_squared_error: 331764.2812 - val_loss: 316715.4062 - val_root_mean_squared_error: 339902.4688\n",
      "Epoch 12/100\n",
      "25/25 [==============================] - 0s 5ms/step - loss: 307089.6562 - root_mean_squared_error: 331764.2812 - val_loss: 316715.4062 - val_root_mean_squared_error: 339902.4375\n",
      "Epoch 13/100\n",
      "25/25 [==============================] - 0s 4ms/step - loss: 307089.6875 - root_mean_squared_error: 331764.2500 - val_loss: 316715.3750 - val_root_mean_squared_error: 339902.4062\n",
      "Epoch 14/100\n",
      "25/25 [==============================] - 0s 5ms/step - loss: 307089.6250 - root_mean_squared_error: 331764.2188 - val_loss: 316715.3750 - val_root_mean_squared_error: 339902.4062\n",
      "Epoch 15/100\n",
      "25/25 [==============================] - 0s 4ms/step - loss: 307089.6250 - root_mean_squared_error: 331764.2188 - val_loss: 316715.3125 - val_root_mean_squared_error: 339902.3750\n",
      "Epoch 16/100\n",
      "25/25 [==============================] - 0s 4ms/step - loss: 307089.5625 - root_mean_squared_error: 331764.1875 - val_loss: 316715.2812 - val_root_mean_squared_error: 339902.3438\n",
      "Epoch 17/100\n",
      "25/25 [==============================] - 0s 4ms/step - loss: 307089.5312 - root_mean_squared_error: 331764.1562 - val_loss: 316715.2500 - val_root_mean_squared_error: 339902.3438\n",
      "Epoch 18/100\n",
      "25/25 [==============================] - 0s 4ms/step - loss: 307089.5312 - root_mean_squared_error: 331764.1562 - val_loss: 316715.2188 - val_root_mean_squared_error: 339902.3125\n",
      "Epoch 19/100\n",
      "25/25 [==============================] - 0s 4ms/step - loss: 307089.5000 - root_mean_squared_error: 331764.0938 - val_loss: 316715.2188 - val_root_mean_squared_error: 339902.2812\n",
      "Epoch 20/100\n",
      "25/25 [==============================] - 0s 4ms/step - loss: 307089.4688 - root_mean_squared_error: 331764.1250 - val_loss: 316715.1562 - val_root_mean_squared_error: 339902.2812\n",
      "Epoch 21/100\n",
      "25/25 [==============================] - 0s 4ms/step - loss: 307089.5000 - root_mean_squared_error: 331764.0625 - val_loss: 316715.1250 - val_root_mean_squared_error: 339902.2500\n",
      "Epoch 22/100\n",
      "25/25 [==============================] - 0s 4ms/step - loss: 307089.4375 - root_mean_squared_error: 331764.0625 - val_loss: 316715.1250 - val_root_mean_squared_error: 339902.2188\n",
      "Epoch 23/100\n",
      "25/25 [==============================] - 0s 4ms/step - loss: 307089.4062 - root_mean_squared_error: 331764.0000 - val_loss: 316715.0938 - val_root_mean_squared_error: 339902.2188\n",
      "Epoch 24/100\n",
      "25/25 [==============================] - 0s 7ms/step - loss: 307089.3750 - root_mean_squared_error: 331764.0000 - val_loss: 316715.0938 - val_root_mean_squared_error: 339902.1875\n",
      "Epoch 25/100\n",
      "25/25 [==============================] - 0s 3ms/step - loss: 307089.4062 - root_mean_squared_error: 331763.9688 - val_loss: 316715.0312 - val_root_mean_squared_error: 339902.1250\n",
      "Epoch 26/100\n",
      "25/25 [==============================] - 0s 4ms/step - loss: 307089.3438 - root_mean_squared_error: 331763.9375 - val_loss: 316715.0312 - val_root_mean_squared_error: 339902.1250\n",
      "Epoch 27/100\n",
      "25/25 [==============================] - 0s 4ms/step - loss: 307089.3125 - root_mean_squared_error: 331763.9375 - val_loss: 316715.0312 - val_root_mean_squared_error: 339902.1250\n",
      "Epoch 28/100\n",
      "25/25 [==============================] - 0s 5ms/step - loss: 307089.2500 - root_mean_squared_error: 331763.8750 - val_loss: 316714.9688 - val_root_mean_squared_error: 339902.0625\n",
      "Epoch 29/100\n",
      "25/25 [==============================] - 0s 4ms/step - loss: 307089.2500 - root_mean_squared_error: 331763.8750 - val_loss: 316714.9688 - val_root_mean_squared_error: 339902.0625\n",
      "Epoch 30/100\n",
      "25/25 [==============================] - 0s 5ms/step - loss: 307089.2500 - root_mean_squared_error: 331763.8750 - val_loss: 316714.9062 - val_root_mean_squared_error: 339902.0312\n",
      "Epoch 31/100\n",
      "25/25 [==============================] - 0s 4ms/step - loss: 307089.2188 - root_mean_squared_error: 331763.8125 - val_loss: 316714.9062 - val_root_mean_squared_error: 339902.0000\n",
      "Epoch 32/100\n",
      "25/25 [==============================] - 0s 4ms/step - loss: 307089.1875 - root_mean_squared_error: 331763.8125 - val_loss: 316714.8750 - val_root_mean_squared_error: 339901.9688\n",
      "Epoch 33/100\n",
      "25/25 [==============================] - 0s 4ms/step - loss: 307089.1250 - root_mean_squared_error: 331763.7500 - val_loss: 316714.8750 - val_root_mean_squared_error: 339901.9375\n",
      "Epoch 34/100\n",
      "25/25 [==============================] - 0s 4ms/step - loss: 307089.1562 - root_mean_squared_error: 331763.7500 - val_loss: 316714.8750 - val_root_mean_squared_error: 339901.9375\n",
      "Epoch 35/100\n",
      "25/25 [==============================] - 0s 4ms/step - loss: 307089.1562 - root_mean_squared_error: 331763.7500 - val_loss: 316714.8125 - val_root_mean_squared_error: 339901.9062\n",
      "Epoch 36/100\n",
      "25/25 [==============================] - 0s 4ms/step - loss: 307089.0938 - root_mean_squared_error: 331763.7188 - val_loss: 316714.7500 - val_root_mean_squared_error: 339901.8750\n",
      "Epoch 37/100\n",
      "25/25 [==============================] - 0s 4ms/step - loss: 307089.0625 - root_mean_squared_error: 331763.7188 - val_loss: 316714.7500 - val_root_mean_squared_error: 339901.8750\n",
      "Epoch 38/100\n",
      "25/25 [==============================] - 0s 4ms/step - loss: 307089.0000 - root_mean_squared_error: 331763.6875 - val_loss: 316714.7188 - val_root_mean_squared_error: 339901.8438\n",
      "Epoch 39/100\n",
      "25/25 [==============================] - 0s 4ms/step - loss: 307089.0312 - root_mean_squared_error: 331763.6250 - val_loss: 316714.7188 - val_root_mean_squared_error: 339901.8125\n",
      "Epoch 40/100\n",
      "25/25 [==============================] - 0s 4ms/step - loss: 307088.9688 - root_mean_squared_error: 331763.6250 - val_loss: 316714.6562 - val_root_mean_squared_error: 339901.7812\n",
      "Epoch 41/100\n",
      "25/25 [==============================] - 0s 4ms/step - loss: 307088.9688 - root_mean_squared_error: 331763.5938 - val_loss: 316714.6250 - val_root_mean_squared_error: 339901.7500\n",
      "Epoch 42/100\n",
      "25/25 [==============================] - 0s 4ms/step - loss: 307088.9375 - root_mean_squared_error: 331763.5938 - val_loss: 316714.6250 - val_root_mean_squared_error: 339901.7500\n",
      "Epoch 43/100\n",
      "25/25 [==============================] - 0s 4ms/step - loss: 307088.9062 - root_mean_squared_error: 331763.5625 - val_loss: 316714.5938 - val_root_mean_squared_error: 339901.7188\n",
      "Epoch 44/100\n",
      "25/25 [==============================] - 0s 4ms/step - loss: 307088.8750 - root_mean_squared_error: 331763.5312 - val_loss: 316714.5938 - val_root_mean_squared_error: 339901.6875\n",
      "Epoch 45/100\n",
      "25/25 [==============================] - 0s 4ms/step - loss: 307088.8750 - root_mean_squared_error: 331763.5312 - val_loss: 316714.5312 - val_root_mean_squared_error: 339901.6875\n",
      "Epoch 46/100\n",
      "25/25 [==============================] - 0s 4ms/step - loss: 307088.8750 - root_mean_squared_error: 331763.4688 - val_loss: 316714.5312 - val_root_mean_squared_error: 339901.6562\n",
      "Epoch 47/100\n",
      "25/25 [==============================] - 0s 5ms/step - loss: 307088.7812 - root_mean_squared_error: 331763.4375 - val_loss: 316714.5312 - val_root_mean_squared_error: 339901.6250\n",
      "Epoch 48/100\n",
      "25/25 [==============================] - 0s 4ms/step - loss: 307088.7812 - root_mean_squared_error: 331763.4375 - val_loss: 316714.4688 - val_root_mean_squared_error: 339901.6250\n",
      "Epoch 49/100\n",
      "25/25 [==============================] - 0s 4ms/step - loss: 307088.7812 - root_mean_squared_error: 331763.4062 - val_loss: 316714.4688 - val_root_mean_squared_error: 339901.5938\n",
      "Epoch 50/100\n",
      "25/25 [==============================] - 0s 4ms/step - loss: 307088.7500 - root_mean_squared_error: 331763.4062 - val_loss: 316714.4062 - val_root_mean_squared_error: 339901.5625\n",
      "Epoch 51/100\n",
      "25/25 [==============================] - 0s 4ms/step - loss: 307088.7188 - root_mean_squared_error: 331763.3438 - val_loss: 316714.4062 - val_root_mean_squared_error: 339901.5312\n",
      "Epoch 52/100\n",
      "25/25 [==============================] - 0s 4ms/step - loss: 307088.7188 - root_mean_squared_error: 331763.3438 - val_loss: 316714.4062 - val_root_mean_squared_error: 339901.5000\n",
      "Epoch 53/100\n",
      "25/25 [==============================] - 0s 4ms/step - loss: 307088.6250 - root_mean_squared_error: 331763.3438 - val_loss: 316714.3750 - val_root_mean_squared_error: 339901.5000\n",
      "Epoch 54/100\n",
      "25/25 [==============================] - 0s 4ms/step - loss: 307088.6250 - root_mean_squared_error: 331763.2812 - val_loss: 316714.3750 - val_root_mean_squared_error: 339901.4688\n",
      "Epoch 55/100\n",
      "25/25 [==============================] - 0s 4ms/step - loss: 307088.6250 - root_mean_squared_error: 331763.2812 - val_loss: 316714.3125 - val_root_mean_squared_error: 339901.4375\n",
      "Epoch 56/100\n",
      "25/25 [==============================] - 0s 5ms/step - loss: 307088.5938 - root_mean_squared_error: 331763.2188 - val_loss: 316714.2812 - val_root_mean_squared_error: 339901.4062\n",
      "Epoch 57/100\n",
      "25/25 [==============================] - 0s 7ms/step - loss: 307088.5938 - root_mean_squared_error: 331763.2188 - val_loss: 316714.2500 - val_root_mean_squared_error: 339901.4062\n",
      "Epoch 58/100\n",
      "25/25 [==============================] - 0s 4ms/step - loss: 307088.5625 - root_mean_squared_error: 331763.2188 - val_loss: 316714.2188 - val_root_mean_squared_error: 339901.3750\n",
      "Epoch 59/100\n",
      "25/25 [==============================] - 0s 4ms/step - loss: 307088.5312 - root_mean_squared_error: 331763.1875 - val_loss: 316714.2188 - val_root_mean_squared_error: 339901.3438\n",
      "Epoch 60/100\n",
      "25/25 [==============================] - 0s 4ms/step - loss: 307088.5312 - root_mean_squared_error: 331763.1562 - val_loss: 316714.1562 - val_root_mean_squared_error: 339901.3438\n",
      "Epoch 61/100\n",
      "25/25 [==============================] - 0s 4ms/step - loss: 307088.4688 - root_mean_squared_error: 331763.1250 - val_loss: 316714.1250 - val_root_mean_squared_error: 339901.2812\n",
      "Epoch 62/100\n",
      "25/25 [==============================] - 0s 5ms/step - loss: 307088.4688 - root_mean_squared_error: 331763.1250 - val_loss: 316714.1250 - val_root_mean_squared_error: 339901.2812\n",
      "Epoch 63/100\n",
      "25/25 [==============================] - 0s 4ms/step - loss: 307088.4062 - root_mean_squared_error: 331763.0625 - val_loss: 316714.0938 - val_root_mean_squared_error: 339901.2500\n",
      "Epoch 64/100\n",
      "25/25 [==============================] - 0s 4ms/step - loss: 307088.4062 - root_mean_squared_error: 331763.0625 - val_loss: 316714.0938 - val_root_mean_squared_error: 339901.2500\n",
      "Epoch 65/100\n",
      "25/25 [==============================] - 0s 4ms/step - loss: 307088.3750 - root_mean_squared_error: 331763.0312 - val_loss: 316714.0312 - val_root_mean_squared_error: 339901.2188\n",
      "Epoch 66/100\n",
      "25/25 [==============================] - 0s 4ms/step - loss: 307088.3125 - root_mean_squared_error: 331763.0312 - val_loss: 316714.0312 - val_root_mean_squared_error: 339901.1875\n",
      "Epoch 67/100\n",
      "25/25 [==============================] - 0s 4ms/step - loss: 307088.3125 - root_mean_squared_error: 331763.0000 - val_loss: 316714.0312 - val_root_mean_squared_error: 339901.1875\n",
      "Epoch 68/100\n",
      "25/25 [==============================] - 0s 5ms/step - loss: 307088.2812 - root_mean_squared_error: 331762.9688 - val_loss: 316713.9688 - val_root_mean_squared_error: 339901.1562\n",
      "Epoch 69/100\n",
      "25/25 [==============================] - 0s 4ms/step - loss: 307088.2500 - root_mean_squared_error: 331762.9375 - val_loss: 316713.9688 - val_root_mean_squared_error: 339901.1250\n",
      "Epoch 70/100\n",
      "25/25 [==============================] - 0s 4ms/step - loss: 307088.2812 - root_mean_squared_error: 331762.9375 - val_loss: 316713.9062 - val_root_mean_squared_error: 339901.0938\n",
      "Epoch 71/100\n",
      "25/25 [==============================] - 0s 4ms/step - loss: 307088.1875 - root_mean_squared_error: 331762.9062 - val_loss: 316713.9062 - val_root_mean_squared_error: 339901.0625\n",
      "Epoch 72/100\n",
      "25/25 [==============================] - 0s 5ms/step - loss: 307088.1562 - root_mean_squared_error: 331762.9062 - val_loss: 316713.9062 - val_root_mean_squared_error: 339901.0625\n",
      "Epoch 73/100\n",
      "25/25 [==============================] - 0s 5ms/step - loss: 307088.1875 - root_mean_squared_error: 331762.8438 - val_loss: 316713.8750 - val_root_mean_squared_error: 339901.0312\n",
      "Epoch 74/100\n",
      "25/25 [==============================] - 0s 16ms/step - loss: 307088.1250 - root_mean_squared_error: 331762.8438 - val_loss: 316713.8750 - val_root_mean_squared_error: 339901.0000\n",
      "Epoch 75/100\n",
      "25/25 [==============================] - 0s 7ms/step - loss: 307088.1250 - root_mean_squared_error: 331762.8125 - val_loss: 316713.8125 - val_root_mean_squared_error: 339900.9688\n",
      "Epoch 76/100\n",
      "25/25 [==============================] - 0s 8ms/step - loss: 307088.0938 - root_mean_squared_error: 331762.7812 - val_loss: 316713.7500 - val_root_mean_squared_error: 339900.9688\n",
      "Epoch 77/100\n",
      "25/25 [==============================] - 0s 7ms/step - loss: 307088.0312 - root_mean_squared_error: 331762.7812 - val_loss: 316713.7500 - val_root_mean_squared_error: 339900.9062\n",
      "Epoch 78/100\n",
      "25/25 [==============================] - 0s 5ms/step - loss: 307088.0938 - root_mean_squared_error: 331762.7188 - val_loss: 316713.7188 - val_root_mean_squared_error: 339900.9062\n",
      "Epoch 79/100\n",
      "25/25 [==============================] - 0s 5ms/step - loss: 307088.0312 - root_mean_squared_error: 331762.7188 - val_loss: 316713.7188 - val_root_mean_squared_error: 339900.9062\n",
      "Epoch 80/100\n",
      "25/25 [==============================] - 0s 4ms/step - loss: 307088.0000 - root_mean_squared_error: 331762.6875 - val_loss: 316713.6562 - val_root_mean_squared_error: 339900.8750\n",
      "Epoch 81/100\n",
      "25/25 [==============================] - 0s 4ms/step - loss: 307087.9375 - root_mean_squared_error: 331762.6875 - val_loss: 316713.6250 - val_root_mean_squared_error: 339900.8438\n",
      "Epoch 82/100\n",
      "25/25 [==============================] - 0s 5ms/step - loss: 307087.9062 - root_mean_squared_error: 331762.6562 - val_loss: 316713.6250 - val_root_mean_squared_error: 339900.8125\n",
      "Epoch 83/100\n",
      "25/25 [==============================] - 0s 5ms/step - loss: 307087.9062 - root_mean_squared_error: 331762.6250 - val_loss: 316713.5938 - val_root_mean_squared_error: 339900.7812\n",
      "Epoch 84/100\n",
      "25/25 [==============================] - 0s 5ms/step - loss: 307087.8750 - root_mean_squared_error: 331762.6250 - val_loss: 316713.5938 - val_root_mean_squared_error: 339900.7500\n",
      "Epoch 85/100\n",
      "25/25 [==============================] - 0s 5ms/step - loss: 307087.8750 - root_mean_squared_error: 331762.5625 - val_loss: 316713.5312 - val_root_mean_squared_error: 339900.7500\n",
      "Epoch 86/100\n",
      "25/25 [==============================] - 0s 5ms/step - loss: 307087.8438 - root_mean_squared_error: 331762.5625 - val_loss: 316713.5312 - val_root_mean_squared_error: 339900.7188\n",
      "Epoch 87/100\n",
      "25/25 [==============================] - 0s 5ms/step - loss: 307087.8125 - root_mean_squared_error: 331762.5312 - val_loss: 316713.5312 - val_root_mean_squared_error: 339900.7188\n",
      "Epoch 88/100\n",
      "25/25 [==============================] - 0s 5ms/step - loss: 307087.8125 - root_mean_squared_error: 331762.5000 - val_loss: 316713.4688 - val_root_mean_squared_error: 339900.6875\n",
      "Epoch 89/100\n",
      "25/25 [==============================] - 0s 8ms/step - loss: 307087.8125 - root_mean_squared_error: 331762.5000 - val_loss: 316713.4688 - val_root_mean_squared_error: 339900.6562\n",
      "Epoch 90/100\n",
      "25/25 [==============================] - 0s 5ms/step - loss: 307087.7500 - root_mean_squared_error: 331762.4688 - val_loss: 316713.4062 - val_root_mean_squared_error: 339900.6250\n",
      "Epoch 91/100\n",
      "25/25 [==============================] - 0s 6ms/step - loss: 307087.6875 - root_mean_squared_error: 331762.4688 - val_loss: 316713.4062 - val_root_mean_squared_error: 339900.6250\n",
      "Epoch 92/100\n",
      "25/25 [==============================] - 0s 5ms/step - loss: 307087.6875 - root_mean_squared_error: 331762.4062 - val_loss: 316713.4062 - val_root_mean_squared_error: 339900.5938\n",
      "Epoch 93/100\n",
      "25/25 [==============================] - 0s 5ms/step - loss: 307087.6562 - root_mean_squared_error: 331762.4062 - val_loss: 316713.3750 - val_root_mean_squared_error: 339900.5625\n",
      "Epoch 94/100\n",
      "25/25 [==============================] - 0s 5ms/step - loss: 307087.6562 - root_mean_squared_error: 331762.4062 - val_loss: 316713.3750 - val_root_mean_squared_error: 339900.5312\n",
      "Epoch 95/100\n",
      "25/25 [==============================] - 0s 5ms/step - loss: 307087.6250 - root_mean_squared_error: 331762.3750 - val_loss: 316713.3125 - val_root_mean_squared_error: 339900.5312\n",
      "Epoch 96/100\n",
      "25/25 [==============================] - 0s 5ms/step - loss: 307087.5938 - root_mean_squared_error: 331762.3438 - val_loss: 316713.2812 - val_root_mean_squared_error: 339900.5000\n",
      "Epoch 97/100\n",
      "25/25 [==============================] - 0s 5ms/step - loss: 307087.5625 - root_mean_squared_error: 331762.2812 - val_loss: 316713.2500 - val_root_mean_squared_error: 339900.4688\n",
      "Epoch 98/100\n",
      "25/25 [==============================] - 0s 7ms/step - loss: 307087.5312 - root_mean_squared_error: 331762.2812 - val_loss: 316713.2188 - val_root_mean_squared_error: 339900.4375\n",
      "Epoch 99/100\n",
      "25/25 [==============================] - 0s 5ms/step - loss: 307087.4688 - root_mean_squared_error: 331762.2812 - val_loss: 316713.2188 - val_root_mean_squared_error: 339900.4062\n",
      "Epoch 100/100\n",
      "25/25 [==============================] - 0s 5ms/step - loss: 307087.5000 - root_mean_squared_error: 331762.2188 - val_loss: 316713.1562 - val_root_mean_squared_error: 339900.3750\n"
     ]
    }
   ],
   "source": [
    "history = model.fit(x_train, y_train, validation_data=(x_val, y_val), epochs=100, verbose=1)"
   ]
  },
  {
   "cell_type": "code",
   "execution_count": 54,
   "metadata": {},
   "outputs": [
    {
     "name": "stdout",
     "output_type": "stream",
     "text": [
      "dict_keys(['loss', 'root_mean_squared_error', 'val_loss', 'val_root_mean_squared_error'])\n"
     ]
    }
   ],
   "source": [
    "print(history.history.keys())"
   ]
  },
  {
   "cell_type": "code",
   "execution_count": 62,
   "metadata": {},
   "outputs": [
    {
     "name": "stdout",
     "output_type": "stream",
     "text": [
      "[307089.96875, 307089.96875, 307089.90625, 307089.875, 307089.90625, 307089.875, 307089.8125, 307089.84375, 307089.71875, 307089.75, 307089.75, 307089.65625, 307089.6875, 307089.625, 307089.625, 307089.5625, 307089.53125, 307089.53125, 307089.5, 307089.46875, 307089.5, 307089.4375, 307089.40625, 307089.375, 307089.40625, 307089.34375, 307089.3125, 307089.25, 307089.25, 307089.25, 307089.21875, 307089.1875, 307089.125, 307089.15625, 307089.15625, 307089.09375, 307089.0625, 307089.0, 307089.03125, 307088.96875, 307088.96875, 307088.9375, 307088.90625, 307088.875, 307088.875, 307088.875, 307088.78125, 307088.78125, 307088.78125, 307088.75, 307088.71875, 307088.71875, 307088.625, 307088.625, 307088.625, 307088.59375, 307088.59375, 307088.5625, 307088.53125, 307088.53125, 307088.46875, 307088.46875, 307088.40625, 307088.40625, 307088.375, 307088.3125, 307088.3125, 307088.28125, 307088.25, 307088.28125, 307088.1875, 307088.15625, 307088.1875, 307088.125, 307088.125, 307088.09375, 307088.03125, 307088.09375, 307088.03125, 307088.0, 307087.9375, 307087.90625, 307087.90625, 307087.875, 307087.875, 307087.84375, 307087.8125, 307087.8125, 307087.8125, 307087.75, 307087.6875, 307087.6875, 307087.65625, 307087.65625, 307087.625, 307087.59375, 307087.5625, 307087.53125, 307087.46875, 307087.5]\n",
      "[316715.625, 316715.625, 316715.59375, 316715.59375, 316715.53125, 316715.53125, 316715.53125, 316715.46875, 316715.46875, 316715.40625, 316715.40625, 316715.40625, 316715.375, 316715.375, 316715.3125, 316715.28125, 316715.25, 316715.21875, 316715.21875, 316715.15625, 316715.125, 316715.125, 316715.09375, 316715.09375, 316715.03125, 316715.03125, 316715.03125, 316714.96875, 316714.96875, 316714.90625, 316714.90625, 316714.875, 316714.875, 316714.875, 316714.8125, 316714.75, 316714.75, 316714.71875, 316714.71875, 316714.65625, 316714.625, 316714.625, 316714.59375, 316714.59375, 316714.53125, 316714.53125, 316714.53125, 316714.46875, 316714.46875, 316714.40625, 316714.40625, 316714.40625, 316714.375, 316714.375, 316714.3125, 316714.28125, 316714.25, 316714.21875, 316714.21875, 316714.15625, 316714.125, 316714.125, 316714.09375, 316714.09375, 316714.03125, 316714.03125, 316714.03125, 316713.96875, 316713.96875, 316713.90625, 316713.90625, 316713.90625, 316713.875, 316713.875, 316713.8125, 316713.75, 316713.75, 316713.71875, 316713.71875, 316713.65625, 316713.625, 316713.625, 316713.59375, 316713.59375, 316713.53125, 316713.53125, 316713.53125, 316713.46875, 316713.46875, 316713.40625, 316713.40625, 316713.40625, 316713.375, 316713.375, 316713.3125, 316713.28125, 316713.25, 316713.21875, 316713.21875, 316713.15625]\n",
      "[331764.53125, 331764.5, 331764.46875, 331764.46875, 331764.40625, 331764.40625, 331764.375, 331764.375, 331764.34375, 331764.3125, 331764.28125, 331764.28125, 331764.25, 331764.21875, 331764.21875, 331764.1875, 331764.15625, 331764.15625, 331764.09375, 331764.125, 331764.0625, 331764.0625, 331764.0, 331764.0, 331763.96875, 331763.9375, 331763.9375, 331763.875, 331763.875, 331763.875, 331763.8125, 331763.8125, 331763.75, 331763.75, 331763.75, 331763.71875, 331763.71875, 331763.6875, 331763.625, 331763.625, 331763.59375, 331763.59375, 331763.5625, 331763.53125, 331763.53125, 331763.46875, 331763.4375, 331763.4375, 331763.40625, 331763.40625, 331763.34375, 331763.34375, 331763.34375, 331763.28125, 331763.28125, 331763.21875, 331763.21875, 331763.21875, 331763.1875, 331763.15625, 331763.125, 331763.125, 331763.0625, 331763.0625, 331763.03125, 331763.03125, 331763.0, 331762.96875, 331762.9375, 331762.9375, 331762.90625, 331762.90625, 331762.84375, 331762.84375, 331762.8125, 331762.78125, 331762.78125, 331762.71875, 331762.71875, 331762.6875, 331762.6875, 331762.65625, 331762.625, 331762.625, 331762.5625, 331762.5625, 331762.53125, 331762.5, 331762.5, 331762.46875, 331762.46875, 331762.40625, 331762.40625, 331762.40625, 331762.375, 331762.34375, 331762.28125, 331762.28125, 331762.28125, 331762.21875]\n",
      "[339902.71875, 339902.6875, 339902.65625, 339902.625, 339902.59375, 339902.5625, 339902.5625, 339902.5625, 339902.5, 339902.5, 339902.46875, 339902.4375, 339902.40625, 339902.40625, 339902.375, 339902.34375, 339902.34375, 339902.3125, 339902.28125, 339902.28125, 339902.25, 339902.21875, 339902.21875, 339902.1875, 339902.125, 339902.125, 339902.125, 339902.0625, 339902.0625, 339902.03125, 339902.0, 339901.96875, 339901.9375, 339901.9375, 339901.90625, 339901.875, 339901.875, 339901.84375, 339901.8125, 339901.78125, 339901.75, 339901.75, 339901.71875, 339901.6875, 339901.6875, 339901.65625, 339901.625, 339901.625, 339901.59375, 339901.5625, 339901.53125, 339901.5, 339901.5, 339901.46875, 339901.4375, 339901.40625, 339901.40625, 339901.375, 339901.34375, 339901.34375, 339901.28125, 339901.28125, 339901.25, 339901.25, 339901.21875, 339901.1875, 339901.1875, 339901.15625, 339901.125, 339901.09375, 339901.0625, 339901.0625, 339901.03125, 339901.0, 339900.96875, 339900.96875, 339900.90625, 339900.90625, 339900.90625, 339900.875, 339900.84375, 339900.8125, 339900.78125, 339900.75, 339900.75, 339900.71875, 339900.71875, 339900.6875, 339900.65625, 339900.625, 339900.625, 339900.59375, 339900.5625, 339900.53125, 339900.53125, 339900.5, 339900.46875, 339900.4375, 339900.40625, 339900.375]\n"
     ]
    }
   ],
   "source": [
    "loss = history.history['loss']\n",
    "val_loss = history.history['val_loss']\n",
    "root_mean_squared_error = history.history['root_mean_squared_error']\n",
    "val_root_mean_squared_error = history.history['val_root_mean_squared_error']\n",
    "print(loss)\n",
    "print(val_loss)\n",
    "print(root_mean_squared_error)\n",
    "print(val_root_mean_squared_error)"
   ]
  },
  {
   "cell_type": "code",
   "execution_count": 61,
   "metadata": {},
   "outputs": [
    {
     "data": {
      "image/png": "[encoded data removed]",
      "text/plain": [
       "<Figure size 432x288 with 1 Axes>"
      ]
     },
     "metadata": {
      "needs_background": "light"
     },
     "output_type": "display_data"
    }
   ],
   "source": [
    "plt.plot(loss)\n",
    "plt.plot(val_loss)\n",
    "plt.title('Model Loss')\n",
    "plt.xlabel('Epoch')\n",
    "plt.ylabel('Loss')\n",
    "plt.legend(['Train', 'Val_Loss'])\n",
    "plt.show()"
   ]
  },
  {
   "cell_type": "code",
   "execution_count": 63,
   "metadata": {},
   "outputs": [
    {
     "data": {
      "image/png": "[encoded data removed]",
      "text/plain": [
       "<Figure size 432x288 with 1 Axes>"
      ]
     },
     "metadata": {
      "needs_background": "light"
     },
     "output_type": "display_data"
    }
   ],
   "source": [
    "plt.plot(root_mean_squared_error)\n",
    "plt.plot(val_root_mean_squared_error)\n",
    "plt.title('Model Performance')\n",
    "plt.xlabel('Epoch')\n",
    "plt.ylabel('RMSE')\n",
    "plt.legend(['Train', 'Val'])\n",
    "plt.show()"
   ]
  },
  {
   "cell_type": "code",
   "execution_count": 64,
   "metadata": {},
   "outputs": [
    {
     "name": "stdout",
     "output_type": "stream",
     "text": [
      "4/4 [==============================] - 0s 5ms/step - loss: 311764.3438 - root_mean_squared_error: 338460.2812\n"
     ]
    },
    {
     "data": {
      "text/plain": [
       "[311764.34375, 338460.28125]"
      ]
     },
     "execution_count": 64,
     "metadata": {},
     "output_type": "execute_result"
    }
   ],
   "source": [
    "model.evaluate(x_test, y_test)"
   ]
  },
  {
   "cell_type": "markdown",
   "metadata": {},
   "source": [
    "## Validation and Testing"
   ]
  },
  {
   "cell_type": "code",
   "execution_count": null,
   "metadata": {},
   "outputs": [],
   "source": []
  }
 ],
 "metadata": {
  "kernelspec": {
   "display_name": "Python 3",
   "language": "python",
   "name": "python3"
  },
  "language_info": {
   "codemirror_mode": {
    "name": "ipython",
    "version": 3
   },
   "file_extension": ".py",
   "mimetype": "text/x-python",
   "name": "python",
   "nbconvert_exporter": "python",
   "pygments_lexer": "ipython3",
   "version": "3.10.0"
  }
 },
 "nbformat": 4,
 "nbformat_minor": 2
}
