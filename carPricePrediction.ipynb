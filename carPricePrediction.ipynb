{
 "cells": [
  {
   "cell_type": "code",
   "execution_count": 1,
   "metadata": {},
   "outputs": [
    {
     "name": "stdout",
     "output_type": "stream",
     "text": [
      "WARNING:tensorflow:From c:\\Users\\Rahat\\AppData\\Local\\Programs\\Python\\Python310\\lib\\site-packages\\keras\\src\\losses.py:2976: The name tf.losses.sparse_softmax_cross_entropy is deprecated. Please use tf.compat.v1.losses.sparse_softmax_cross_entropy instead.\n",
      "\n"
     ]
    }
   ],
   "source": [
    "import tensorflow as tf \n",
    "import numpy as np\n",
    "import pandas as pd \n",
    "import seaborn as sns\n",
    "from tensorflow.keras.layers import Normalization, Dense, InputLayer\n",
    "from tensorflow.keras.losses import MeanSquaredError, Huber, MeanAbsoluteError\n",
    "from tensorflow.keras.metrics import RootMeanSquaredError\n",
    "from tensorflow.keras.optimizers import Adam\n",
    "import matplotlib.pyplot as plt"
   ]
  },
  {
   "cell_type": "markdown",
   "metadata": {},
   "source": [
    "## Data Processing"
   ]
  },
  {
   "cell_type": "code",
   "execution_count": 2,
   "metadata": {},
   "outputs": [],
   "source": [
    "data_path = './archive/'"
   ]
  },
  {
   "cell_type": "code",
   "execution_count": 3,
   "metadata": {},
   "outputs": [
    {
     "name": "stdout",
     "output_type": "stream",
     "text": [
      "(1000, 12)\n"
     ]
    },
    {
     "data": {
      "text/html": [
       "<div>\n",
       "<style scoped>\n",
       "    .dataframe tbody tr th:only-of-type {\n",
       "        vertical-align: middle;\n",
       "    }\n",
       "\n",
       "    .dataframe tbody tr th {\n",
       "        vertical-align: top;\n",
       "    }\n",
       "\n",
       "    .dataframe thead th {\n",
       "        text-align: right;\n",
       "    }\n",
       "</style>\n",
       "<table border=\"1\" class=\"dataframe\">\n",
       "  <thead>\n",
       "    <tr style=\"text-align: right;\">\n",
       "      <th></th>\n",
       "      <th>v.id</th>\n",
       "      <th>on road old</th>\n",
       "      <th>on road now</th>\n",
       "      <th>years</th>\n",
       "      <th>km</th>\n",
       "      <th>rating</th>\n",
       "      <th>condition</th>\n",
       "      <th>economy</th>\n",
       "      <th>top speed</th>\n",
       "      <th>hp</th>\n",
       "      <th>torque</th>\n",
       "      <th>current price</th>\n",
       "    </tr>\n",
       "  </thead>\n",
       "  <tbody>\n",
       "    <tr>\n",
       "      <th>0</th>\n",
       "      <td>1</td>\n",
       "      <td>535651</td>\n",
       "      <td>798186</td>\n",
       "      <td>3</td>\n",
       "      <td>78945</td>\n",
       "      <td>1</td>\n",
       "      <td>2</td>\n",
       "      <td>14</td>\n",
       "      <td>177</td>\n",
       "      <td>73</td>\n",
       "      <td>123</td>\n",
       "      <td>351318.0</td>\n",
       "    </tr>\n",
       "    <tr>\n",
       "      <th>1</th>\n",
       "      <td>2</td>\n",
       "      <td>591911</td>\n",
       "      <td>861056</td>\n",
       "      <td>6</td>\n",
       "      <td>117220</td>\n",
       "      <td>5</td>\n",
       "      <td>9</td>\n",
       "      <td>9</td>\n",
       "      <td>148</td>\n",
       "      <td>74</td>\n",
       "      <td>95</td>\n",
       "      <td>285001.5</td>\n",
       "    </tr>\n",
       "    <tr>\n",
       "      <th>2</th>\n",
       "      <td>3</td>\n",
       "      <td>686990</td>\n",
       "      <td>770762</td>\n",
       "      <td>2</td>\n",
       "      <td>132538</td>\n",
       "      <td>2</td>\n",
       "      <td>8</td>\n",
       "      <td>15</td>\n",
       "      <td>181</td>\n",
       "      <td>53</td>\n",
       "      <td>97</td>\n",
       "      <td>215386.0</td>\n",
       "    </tr>\n",
       "    <tr>\n",
       "      <th>3</th>\n",
       "      <td>4</td>\n",
       "      <td>573999</td>\n",
       "      <td>722381</td>\n",
       "      <td>4</td>\n",
       "      <td>101065</td>\n",
       "      <td>4</td>\n",
       "      <td>3</td>\n",
       "      <td>11</td>\n",
       "      <td>197</td>\n",
       "      <td>54</td>\n",
       "      <td>116</td>\n",
       "      <td>244295.5</td>\n",
       "    </tr>\n",
       "    <tr>\n",
       "      <th>4</th>\n",
       "      <td>5</td>\n",
       "      <td>691388</td>\n",
       "      <td>811335</td>\n",
       "      <td>6</td>\n",
       "      <td>61559</td>\n",
       "      <td>3</td>\n",
       "      <td>9</td>\n",
       "      <td>12</td>\n",
       "      <td>160</td>\n",
       "      <td>53</td>\n",
       "      <td>105</td>\n",
       "      <td>531114.5</td>\n",
       "    </tr>\n",
       "  </tbody>\n",
       "</table>\n",
       "</div>"
      ],
      "text/plain": [
       "   v.id  on road old  on road now  years      km  rating  condition  economy  \\\n",
       "0     1       535651       798186      3   78945       1          2       14   \n",
       "1     2       591911       861056      6  117220       5          9        9   \n",
       "2     3       686990       770762      2  132538       2          8       15   \n",
       "3     4       573999       722381      4  101065       4          3       11   \n",
       "4     5       691388       811335      6   61559       3          9       12   \n",
       "\n",
       "   top speed  hp  torque  current price  \n",
       "0        177  73     123       351318.0  \n",
       "1        148  74      95       285001.5  \n",
       "2        181  53      97       215386.0  \n",
       "3        197  54     116       244295.5  \n",
       "4        160  53     105       531114.5  "
      ]
     },
     "execution_count": 3,
     "metadata": {},
     "output_type": "execute_result"
    }
   ],
   "source": [
    "data = pd.read_csv(data_path + 'train.csv')\n",
    "print(data.shape)\n",
    "data.head()"
   ]
  },
  {
   "cell_type": "code",
   "execution_count": 4,
   "metadata": {},
   "outputs": [
    {
     "name": "stdout",
     "output_type": "stream",
     "text": [
      "['v.id', 'on road old', 'on road now', 'years', 'km', 'rating', 'condition', 'economy', 'top speed', 'hp', 'torque', 'current price']\n"
     ]
    }
   ],
   "source": [
    "all_features = data.columns.to_list()\n",
    "print(all_features)"
   ]
  },
  {
   "cell_type": "code",
   "execution_count": 5,
   "metadata": {},
   "outputs": [
    {
     "name": "stdout",
     "output_type": "stream",
     "text": [
      "['years', 'km', 'rating', 'condition', 'economy', 'top speed', 'hp', 'torque', 'current price']\n"
     ]
    }
   ],
   "source": [
    "remove_features = ['v.id', 'on road old', 'on road now']\n",
    "features = [feature for feature in all_features if feature not in remove_features]\n",
    "print(features)"
   ]
  },
  {
   "cell_type": "code",
   "execution_count": 6,
   "metadata": {},
   "outputs": [],
   "source": [
    "# sns.pairplot(data[features], diag_kind='kde')"
   ]
  },
  {
   "cell_type": "code",
   "execution_count": 7,
   "metadata": {},
   "outputs": [
    {
     "data": {
      "text/html": [
       "<div>\n",
       "<style scoped>\n",
       "    .dataframe tbody tr th:only-of-type {\n",
       "        vertical-align: middle;\n",
       "    }\n",
       "\n",
       "    .dataframe tbody tr th {\n",
       "        vertical-align: top;\n",
       "    }\n",
       "\n",
       "    .dataframe thead th {\n",
       "        text-align: right;\n",
       "    }\n",
       "</style>\n",
       "<table border=\"1\" class=\"dataframe\">\n",
       "  <thead>\n",
       "    <tr style=\"text-align: right;\">\n",
       "      <th></th>\n",
       "      <th>v.id</th>\n",
       "      <th>on road old</th>\n",
       "      <th>on road now</th>\n",
       "      <th>years</th>\n",
       "      <th>km</th>\n",
       "      <th>rating</th>\n",
       "      <th>condition</th>\n",
       "      <th>economy</th>\n",
       "      <th>top speed</th>\n",
       "      <th>hp</th>\n",
       "      <th>torque</th>\n",
       "      <th>current price</th>\n",
       "    </tr>\n",
       "  </thead>\n",
       "  <tbody>\n",
       "    <tr>\n",
       "      <th>v.id</th>\n",
       "      <td>1.000000</td>\n",
       "      <td>-0.029926</td>\n",
       "      <td>-0.030787</td>\n",
       "      <td>-0.034255</td>\n",
       "      <td>0.047400</td>\n",
       "      <td>-0.018263</td>\n",
       "      <td>-0.038548</td>\n",
       "      <td>0.047137</td>\n",
       "      <td>0.001613</td>\n",
       "      <td>-0.006997</td>\n",
       "      <td>-0.000632</td>\n",
       "      <td>-0.059460</td>\n",
       "    </tr>\n",
       "    <tr>\n",
       "      <th>on road old</th>\n",
       "      <td>-0.029926</td>\n",
       "      <td>1.000000</td>\n",
       "      <td>0.034113</td>\n",
       "      <td>0.007207</td>\n",
       "      <td>0.007488</td>\n",
       "      <td>-0.050717</td>\n",
       "      <td>-0.015682</td>\n",
       "      <td>-0.030097</td>\n",
       "      <td>-0.023816</td>\n",
       "      <td>-0.049266</td>\n",
       "      <td>0.008950</td>\n",
       "      <td>0.233035</td>\n",
       "    </tr>\n",
       "    <tr>\n",
       "      <th>on road now</th>\n",
       "      <td>-0.030787</td>\n",
       "      <td>0.034113</td>\n",
       "      <td>1.000000</td>\n",
       "      <td>0.004609</td>\n",
       "      <td>-0.053202</td>\n",
       "      <td>0.028280</td>\n",
       "      <td>-0.005043</td>\n",
       "      <td>-0.015880</td>\n",
       "      <td>0.012699</td>\n",
       "      <td>-0.012719</td>\n",
       "      <td>0.017955</td>\n",
       "      <td>0.282793</td>\n",
       "    </tr>\n",
       "    <tr>\n",
       "      <th>years</th>\n",
       "      <td>-0.034255</td>\n",
       "      <td>0.007207</td>\n",
       "      <td>0.004609</td>\n",
       "      <td>1.000000</td>\n",
       "      <td>-0.002089</td>\n",
       "      <td>0.027285</td>\n",
       "      <td>0.053579</td>\n",
       "      <td>0.050220</td>\n",
       "      <td>0.025148</td>\n",
       "      <td>-0.003272</td>\n",
       "      <td>0.028859</td>\n",
       "      <td>-0.011854</td>\n",
       "    </tr>\n",
       "    <tr>\n",
       "      <th>km</th>\n",
       "      <td>0.047400</td>\n",
       "      <td>0.007488</td>\n",
       "      <td>-0.053202</td>\n",
       "      <td>-0.002089</td>\n",
       "      <td>1.000000</td>\n",
       "      <td>-0.039930</td>\n",
       "      <td>-0.013640</td>\n",
       "      <td>0.032680</td>\n",
       "      <td>0.026450</td>\n",
       "      <td>-0.052918</td>\n",
       "      <td>0.013566</td>\n",
       "      <td>-0.935924</td>\n",
       "    </tr>\n",
       "    <tr>\n",
       "      <th>rating</th>\n",
       "      <td>-0.018263</td>\n",
       "      <td>-0.050717</td>\n",
       "      <td>0.028280</td>\n",
       "      <td>0.027285</td>\n",
       "      <td>-0.039930</td>\n",
       "      <td>1.000000</td>\n",
       "      <td>0.015943</td>\n",
       "      <td>-0.009757</td>\n",
       "      <td>-0.042222</td>\n",
       "      <td>-0.022623</td>\n",
       "      <td>0.004408</td>\n",
       "      <td>0.035038</td>\n",
       "    </tr>\n",
       "    <tr>\n",
       "      <th>condition</th>\n",
       "      <td>-0.038548</td>\n",
       "      <td>-0.015682</td>\n",
       "      <td>-0.005043</td>\n",
       "      <td>0.053579</td>\n",
       "      <td>-0.013640</td>\n",
       "      <td>0.015943</td>\n",
       "      <td>1.000000</td>\n",
       "      <td>0.058788</td>\n",
       "      <td>0.018472</td>\n",
       "      <td>-0.071552</td>\n",
       "      <td>0.047805</td>\n",
       "      <td>0.110108</td>\n",
       "    </tr>\n",
       "    <tr>\n",
       "      <th>economy</th>\n",
       "      <td>0.047137</td>\n",
       "      <td>-0.030097</td>\n",
       "      <td>-0.015880</td>\n",
       "      <td>0.050220</td>\n",
       "      <td>0.032680</td>\n",
       "      <td>-0.009757</td>\n",
       "      <td>0.058788</td>\n",
       "      <td>1.000000</td>\n",
       "      <td>-0.059402</td>\n",
       "      <td>-0.016782</td>\n",
       "      <td>0.041632</td>\n",
       "      <td>-0.034711</td>\n",
       "    </tr>\n",
       "    <tr>\n",
       "      <th>top speed</th>\n",
       "      <td>0.001613</td>\n",
       "      <td>-0.023816</td>\n",
       "      <td>0.012699</td>\n",
       "      <td>0.025148</td>\n",
       "      <td>0.026450</td>\n",
       "      <td>-0.042222</td>\n",
       "      <td>0.018472</td>\n",
       "      <td>-0.059402</td>\n",
       "      <td>1.000000</td>\n",
       "      <td>0.057827</td>\n",
       "      <td>-0.019697</td>\n",
       "      <td>-0.027993</td>\n",
       "    </tr>\n",
       "    <tr>\n",
       "      <th>hp</th>\n",
       "      <td>-0.006997</td>\n",
       "      <td>-0.049266</td>\n",
       "      <td>-0.012719</td>\n",
       "      <td>-0.003272</td>\n",
       "      <td>-0.052918</td>\n",
       "      <td>-0.022623</td>\n",
       "      <td>-0.071552</td>\n",
       "      <td>-0.016782</td>\n",
       "      <td>0.057827</td>\n",
       "      <td>1.000000</td>\n",
       "      <td>-0.013817</td>\n",
       "      <td>0.030238</td>\n",
       "    </tr>\n",
       "    <tr>\n",
       "      <th>torque</th>\n",
       "      <td>-0.000632</td>\n",
       "      <td>0.008950</td>\n",
       "      <td>0.017955</td>\n",
       "      <td>0.028859</td>\n",
       "      <td>0.013566</td>\n",
       "      <td>0.004408</td>\n",
       "      <td>0.047805</td>\n",
       "      <td>0.041632</td>\n",
       "      <td>-0.019697</td>\n",
       "      <td>-0.013817</td>\n",
       "      <td>1.000000</td>\n",
       "      <td>-0.002290</td>\n",
       "    </tr>\n",
       "    <tr>\n",
       "      <th>current price</th>\n",
       "      <td>-0.059460</td>\n",
       "      <td>0.233035</td>\n",
       "      <td>0.282793</td>\n",
       "      <td>-0.011854</td>\n",
       "      <td>-0.935924</td>\n",
       "      <td>0.035038</td>\n",
       "      <td>0.110108</td>\n",
       "      <td>-0.034711</td>\n",
       "      <td>-0.027993</td>\n",
       "      <td>0.030238</td>\n",
       "      <td>-0.002290</td>\n",
       "      <td>1.000000</td>\n",
       "    </tr>\n",
       "  </tbody>\n",
       "</table>\n",
       "</div>"
      ],
      "text/plain": [
       "                   v.id  on road old  on road now     years        km  \\\n",
       "v.id           1.000000    -0.029926    -0.030787 -0.034255  0.047400   \n",
       "on road old   -0.029926     1.000000     0.034113  0.007207  0.007488   \n",
       "on road now   -0.030787     0.034113     1.000000  0.004609 -0.053202   \n",
       "years         -0.034255     0.007207     0.004609  1.000000 -0.002089   \n",
       "km             0.047400     0.007488    -0.053202 -0.002089  1.000000   \n",
       "rating        -0.018263    -0.050717     0.028280  0.027285 -0.039930   \n",
       "condition     -0.038548    -0.015682    -0.005043  0.053579 -0.013640   \n",
       "economy        0.047137    -0.030097    -0.015880  0.050220  0.032680   \n",
       "top speed      0.001613    -0.023816     0.012699  0.025148  0.026450   \n",
       "hp            -0.006997    -0.049266    -0.012719 -0.003272 -0.052918   \n",
       "torque        -0.000632     0.008950     0.017955  0.028859  0.013566   \n",
       "current price -0.059460     0.233035     0.282793 -0.011854 -0.935924   \n",
       "\n",
       "                 rating  condition   economy  top speed        hp    torque  \\\n",
       "v.id          -0.018263  -0.038548  0.047137   0.001613 -0.006997 -0.000632   \n",
       "on road old   -0.050717  -0.015682 -0.030097  -0.023816 -0.049266  0.008950   \n",
       "on road now    0.028280  -0.005043 -0.015880   0.012699 -0.012719  0.017955   \n",
       "years          0.027285   0.053579  0.050220   0.025148 -0.003272  0.028859   \n",
       "km            -0.039930  -0.013640  0.032680   0.026450 -0.052918  0.013566   \n",
       "rating         1.000000   0.015943 -0.009757  -0.042222 -0.022623  0.004408   \n",
       "condition      0.015943   1.000000  0.058788   0.018472 -0.071552  0.047805   \n",
       "economy       -0.009757   0.058788  1.000000  -0.059402 -0.016782  0.041632   \n",
       "top speed     -0.042222   0.018472 -0.059402   1.000000  0.057827 -0.019697   \n",
       "hp            -0.022623  -0.071552 -0.016782   0.057827  1.000000 -0.013817   \n",
       "torque         0.004408   0.047805  0.041632  -0.019697 -0.013817  1.000000   \n",
       "current price  0.035038   0.110108 -0.034711  -0.027993  0.030238 -0.002290   \n",
       "\n",
       "               current price  \n",
       "v.id               -0.059460  \n",
       "on road old         0.233035  \n",
       "on road now         0.282793  \n",
       "years              -0.011854  \n",
       "km                 -0.935924  \n",
       "rating              0.035038  \n",
       "condition           0.110108  \n",
       "economy            -0.034711  \n",
       "top speed          -0.027993  \n",
       "hp                  0.030238  \n",
       "torque             -0.002290  \n",
       "current price       1.000000  "
      ]
     },
     "execution_count": 7,
     "metadata": {},
     "output_type": "execute_result"
    }
   ],
   "source": [
    "data.corr()"
   ]
  },
  {
   "cell_type": "markdown",
   "metadata": {},
   "source": [
    "## Convert data to tensor data"
   ]
  },
  {
   "cell_type": "code",
   "execution_count": 8,
   "metadata": {},
   "outputs": [
    {
     "name": "stdout",
     "output_type": "stream",
     "text": [
      "(1000, 12)\n",
      "tf.Tensor(\n",
      "[[1.000000e+00 5.356510e+05 7.981860e+05 ... 7.300000e+01 1.230000e+02\n",
      "  3.513180e+05]\n",
      " [2.000000e+00 5.919110e+05 8.610560e+05 ... 7.400000e+01 9.500000e+01\n",
      "  2.850015e+05]\n",
      " [3.000000e+00 6.869900e+05 7.707620e+05 ... 5.300000e+01 9.700000e+01\n",
      "  2.153860e+05]\n",
      " ...\n",
      " [9.980000e+02 6.463440e+05 8.427330e+05 ... 1.130000e+02 8.900000e+01\n",
      "  4.058710e+05]\n",
      " [9.990000e+02 5.355590e+05 7.324390e+05 ... 1.120000e+02 1.280000e+02\n",
      "  7.439800e+04]\n",
      " [1.000000e+03 5.901050e+05 7.797430e+05 ... 9.900000e+01 9.600000e+01\n",
      "  4.149385e+05]], shape=(1000, 12), dtype=float32)\n"
     ]
    }
   ],
   "source": [
    "tensor_data = tf.constant(data)\n",
    "tensor_data = tf.cast(tensor_data, dtype=tf.float32)\n",
    "print(tensor_data.shape)\n",
    "print(tensor_data)"
   ]
  },
  {
   "cell_type": "code",
   "execution_count": 9,
   "metadata": {},
   "outputs": [
    {
     "name": "stdout",
     "output_type": "stream",
     "text": [
      "tf.Tensor(\n",
      "[[9.480000e+02 6.112990e+05 8.290390e+05 6.000000e+00 6.016000e+04\n",
      "  3.000000e+00 1.000000e+00 1.000000e+01 1.610000e+02 8.800000e+01\n",
      "  9.400000e+01 4.759845e+05]\n",
      " [4.900000e+02 5.634650e+05 8.927760e+05 3.000000e+00 7.159800e+04\n",
      "  5.000000e+00 1.000000e+00 1.200000e+01 1.950000e+02 9.700000e+01\n",
      "  7.000000e+01 4.434230e+05]\n",
      " [1.000000e+03 5.901050e+05 7.797430e+05 5.000000e+00 6.729500e+04\n",
      "  4.000000e+00 2.000000e+00 8.000000e+00 1.990000e+02 9.900000e+01\n",
      "  9.600000e+01 4.149385e+05]\n",
      " [4.470000e+02 5.445930e+05 8.745320e+05 2.000000e+00 1.094530e+05\n",
      "  5.000000e+00 4.000000e+00 1.300000e+01 1.590000e+02 9.900000e+01\n",
      "  1.050000e+02 2.740750e+05]\n",
      " [9.140000e+02 6.607140e+05 7.915940e+05 3.000000e+00 1.347690e+05\n",
      "  3.000000e+00 1.000000e+00 1.100000e+01 1.450000e+02 1.010000e+02\n",
      "  8.600000e+01 1.873050e+05]], shape=(5, 12), dtype=float32)\n"
     ]
    }
   ],
   "source": [
    "tensor_data = tf.random.shuffle(tensor_data)\n",
    "print(tensor_data[:5])"
   ]
  },
  {
   "cell_type": "code",
   "execution_count": 10,
   "metadata": {},
   "outputs": [
    {
     "name": "stdout",
     "output_type": "stream",
     "text": [
      "(1000, 8)\n",
      "tf.Tensor(\n",
      "[[6.00000e+00 6.01600e+04 3.00000e+00 1.00000e+00 1.00000e+01 1.61000e+02\n",
      "  8.80000e+01 9.40000e+01]\n",
      " [3.00000e+00 7.15980e+04 5.00000e+00 1.00000e+00 1.20000e+01 1.95000e+02\n",
      "  9.70000e+01 7.00000e+01]\n",
      " [5.00000e+00 6.72950e+04 4.00000e+00 2.00000e+00 8.00000e+00 1.99000e+02\n",
      "  9.90000e+01 9.60000e+01]\n",
      " [2.00000e+00 1.09453e+05 5.00000e+00 4.00000e+00 1.30000e+01 1.59000e+02\n",
      "  9.90000e+01 1.05000e+02]\n",
      " [3.00000e+00 1.34769e+05 3.00000e+00 1.00000e+00 1.10000e+01 1.45000e+02\n",
      "  1.01000e+02 8.60000e+01]], shape=(5, 8), dtype=float32)\n"
     ]
    }
   ],
   "source": [
    "x = tensor_data[:, 3:-1]\n",
    "print(x.shape)\n",
    "print(x[:5])"
   ]
  },
  {
   "cell_type": "code",
   "execution_count": 11,
   "metadata": {},
   "outputs": [
    {
     "name": "stdout",
     "output_type": "stream",
     "text": [
      "(1000, 1)\n",
      "tf.Tensor(\n",
      "[[475984.5]\n",
      " [443423. ]\n",
      " [414938.5]\n",
      " [274075. ]\n",
      " [187305. ]], shape=(5, 1), dtype=float32)\n"
     ]
    }
   ],
   "source": [
    "y = tensor_data[:, -1]\n",
    "y = tf.expand_dims(y, axis=1)\n",
    "print(y.shape)\n",
    "print(y[:5])"
   ]
  },
  {
   "cell_type": "markdown",
   "metadata": {},
   "source": [
    "## Normalization\n",
    "$$\n",
    "\\text{normalization} = \\frac{X - \\mu}{\\sigma}, \\quad \\text{where $\\mu$ = mean and $\\sigma$ = std}\n",
    "$$\n",
    "```\n",
    "Normalization()\n",
    "```\n",
    "Default axis = -1 means mean and std will be calculated based on columns, and then normalization will be performed along the columns."
   ]
  },
  {
   "cell_type": "code",
   "execution_count": 12,
   "metadata": {},
   "outputs": [],
   "source": [
    "TRAINING_RATIO = 0.8\n",
    "VAL_RATIO = 0.1\n",
    "TEST_RATIO = 0.1\n",
    "DATASET_SIZE = len(x)"
   ]
  },
  {
   "cell_type": "code",
   "execution_count": 13,
   "metadata": {},
   "outputs": [
    {
     "name": "stdout",
     "output_type": "stream",
     "text": [
      "(800, 8)\n",
      "(800, 1)\n"
     ]
    }
   ],
   "source": [
    "x_train = x[:int(DATASET_SIZE*TRAINING_RATIO)]\n",
    "y_train = y[:int(DATASET_SIZE*TRAINING_RATIO)]\n",
    "print(x_train.shape)\n",
    "print(y_train.shape)"
   ]
  },
  {
   "cell_type": "code",
   "execution_count": 52,
   "metadata": {},
   "outputs": [],
   "source": [
    "train_dataset = tf.data.Dataset.from_tensor_slices((x_train, y_train))\n",
    "train_dataset = train_dataset.shuffle(buffer_size=8, reshuffle_each_iteration=True).batch(32).prefetch(tf.data.AUTOTUNE)"
   ]
  },
  {
   "cell_type": "code",
   "execution_count": 14,
   "metadata": {},
   "outputs": [
    {
     "name": "stdout",
     "output_type": "stream",
     "text": [
      "(100, 8)\n",
      "(100, 1)\n"
     ]
    }
   ],
   "source": [
    "x_val = x[int(DATASET_SIZE*TRAINING_RATIO):int(DATASET_SIZE*(TRAINING_RATIO+VAL_RATIO))]\n",
    "y_val = y[int(DATASET_SIZE*TRAINING_RATIO):int(DATASET_SIZE*(TRAINING_RATIO+VAL_RATIO))]\n",
    "print(x_val.shape)\n",
    "print(y_val.shape)"
   ]
  },
  {
   "cell_type": "code",
   "execution_count": 53,
   "metadata": {},
   "outputs": [],
   "source": [
    "val_dataset = tf.data.Dataset.from_tensor_slices((x_val, y_val))\n",
    "val_dataset = train_dataset.shuffle(buffer_size=8, reshuffle_each_iteration=True).batch(32).prefetch(tf.data.AUTOTUNE)"
   ]
  },
  {
   "cell_type": "code",
   "execution_count": 15,
   "metadata": {},
   "outputs": [
    {
     "name": "stdout",
     "output_type": "stream",
     "text": [
      "(100, 8)\n",
      "(100, 1)\n"
     ]
    }
   ],
   "source": [
    "x_test = x[int(DATASET_SIZE*(TRAINING_RATIO+VAL_RATIO)):]\n",
    "y_test = y[int(DATASET_SIZE*(TRAINING_RATIO+VAL_RATIO)):]\n",
    "print(x_test.shape)\n",
    "print(y_test.shape)"
   ]
  },
  {
   "cell_type": "code",
   "execution_count": 54,
   "metadata": {},
   "outputs": [],
   "source": [
    "test_dataset = tf.data.Dataset.from_tensor_slices((x_test, y_test))\n",
    "test_dataset = train_dataset.shuffle(buffer_size=8, reshuffle_each_iteration=True).batch(32).prefetch(tf.data.AUTOTUNE)"
   ]
  },
  {
   "cell_type": "code",
   "execution_count": 16,
   "metadata": {},
   "outputs": [
    {
     "name": "stdout",
     "output_type": "stream",
     "text": [
      "WARNING:tensorflow:From c:\\Users\\Rahat\\AppData\\Local\\Programs\\Python\\Python310\\lib\\site-packages\\keras\\src\\backend.py:873: The name tf.get_default_graph is deprecated. Please use tf.compat.v1.get_default_graph instead.\n",
      "\n"
     ]
    },
    {
     "data": {
      "text/plain": [
       "<tf.Tensor: shape=(5, 8), dtype=float32, numpy=\n",
       "array([[ 0.8210282 , -1.3732774 ,  0.00716643, -1.6118985 , -0.7346294 ,\n",
       "        -0.30038092,  0.16218606, -0.44193545],\n",
       "       [-0.91966766, -0.9778645 ,  1.4403521 , -1.6118985 ,  0.1667563 ,\n",
       "         1.437628  ,  0.6028415 , -1.5890461 ],\n",
       "       [ 0.24079622, -1.1266197 ,  0.72375923, -1.260531  , -1.636015  ,\n",
       "         1.6420997 ,  0.7007649 , -0.3463429 ],\n",
       "       [-1.4998996 ,  0.3307871 ,  1.4403521 , -0.55779576,  0.61744916,\n",
       "        -0.40261674,  0.7007649 ,  0.08382363],\n",
       "       [-0.91966766,  1.2059641 ,  0.00716643, -1.6118985 , -0.28393653,\n",
       "        -1.1182675 ,  0.79868835, -0.82430565]], dtype=float32)>"
      ]
     },
     "execution_count": 16,
     "metadata": {},
     "output_type": "execute_result"
    }
   ],
   "source": [
    "normalizer = Normalization()\n",
    "normalizer.adapt(x_train)\n",
    "normalizer(x)[:5]"
   ]
  },
  {
   "cell_type": "code",
   "execution_count": 17,
   "metadata": {},
   "outputs": [
    {
     "name": "stdout",
     "output_type": "stream",
     "text": [
      "tf.Tensor(\n",
      "[[6.00000e+00 6.01600e+04 3.00000e+00 1.00000e+00 1.00000e+01 1.61000e+02\n",
      "  8.80000e+01 9.40000e+01]\n",
      " [3.00000e+00 7.15980e+04 5.00000e+00 1.00000e+00 1.20000e+01 1.95000e+02\n",
      "  9.70000e+01 7.00000e+01]\n",
      " [5.00000e+00 6.72950e+04 4.00000e+00 2.00000e+00 8.00000e+00 1.99000e+02\n",
      "  9.90000e+01 9.60000e+01]\n",
      " [2.00000e+00 1.09453e+05 5.00000e+00 4.00000e+00 1.30000e+01 1.59000e+02\n",
      "  9.90000e+01 1.05000e+02]\n",
      " [3.00000e+00 1.34769e+05 3.00000e+00 1.00000e+00 1.10000e+01 1.45000e+02\n",
      "  1.01000e+02 8.60000e+01]], shape=(5, 8), dtype=float32)\n"
     ]
    }
   ],
   "source": [
    "print(x[:5])"
   ]
  },
  {
   "cell_type": "code",
   "execution_count": 33,
   "metadata": {},
   "outputs": [
    {
     "name": "stdout",
     "output_type": "stream",
     "text": [
      "Model: \"sequential_1\"\n",
      "_________________________________________________________________\n",
      " Layer (type)                Output Shape              Param #   \n",
      "=================================================================\n",
      " normalization (Normalizati  (None, 8)                 17        \n",
      " on)                                                             \n",
      "                                                                 \n",
      " dense_1 (Dense)             (None, 128)               1152      \n",
      "                                                                 \n",
      " dense_2 (Dense)             (None, 128)               16512     \n",
      "                                                                 \n",
      " dense_3 (Dense)             (None, 128)               16512     \n",
      "                                                                 \n"
     ]
    },
    {
     "name": "stdout",
     "output_type": "stream",
     "text": [
      " dense_4 (Dense)             (None, 1)                 129       \n",
      "                                                                 \n",
      "=================================================================\n",
      "Total params: 34322 (134.07 KB)\n",
      "Trainable params: 34305 (134.00 KB)\n",
      "Non-trainable params: 17 (72.00 Byte)\n",
      "_________________________________________________________________\n"
     ]
    }
   ],
   "source": [
    "model = tf.keras.Sequential([\n",
    "    InputLayer(input_shape=(8,)),\n",
    "    normalizer,\n",
    "    Dense(128, activation='relu'),\n",
    "    Dense(128, activation='relu'),\n",
    "    Dense(128, activation='relu'),\n",
    "    Dense(1)  # as we need only one output for current_price.\n",
    "])\n",
    "\n",
    "model.summary()"
   ]
  },
  {
   "cell_type": "code",
   "execution_count": 34,
   "metadata": {},
   "outputs": [
    {
     "data": {
      "image/png": "[encoded data removed]",
      "text/plain": [
       "<IPython.core.display.Image object>"
      ]
     },
     "execution_count": 34,
     "metadata": {},
     "output_type": "execute_result"
    }
   ],
   "source": [
    "tf.keras.utils.plot_model(model, to_file=\"model.png\", show_shapes=True)"
   ]
  },
  {
   "cell_type": "markdown",
   "metadata": {},
   "source": [
    "## Training and Optimization"
   ]
  },
  {
   "cell_type": "code",
   "execution_count": 35,
   "metadata": {},
   "outputs": [],
   "source": [
    "model.compile(\n",
    "    optimizer=Adam(learning_rate=0.1),\n",
    "    loss=MeanAbsoluteError(),\n",
    "    metrics = RootMeanSquaredError()\n",
    ")"
   ]
  },
  {
   "cell_type": "code",
   "execution_count": 55,
   "metadata": {},
   "outputs": [
    {
     "name": "stdout",
     "output_type": "stream",
     "text": [
      "Epoch 1/100\n"
     ]
    },
    {
     "name": "stdout",
     "output_type": "stream",
     "text": [
      "25/25 [==============================] - 3s 40ms/step - loss: 33227.4844 - root_mean_squared_error: 42224.1836 - val_loss: 29295.9746 - val_root_mean_squared_error: 37317.9258\n",
      "Epoch 2/100\n",
      "25/25 [==============================] - 0s 7ms/step - loss: 33066.5547 - root_mean_squared_error: 42169.3203 - val_loss: 31143.6855 - val_root_mean_squared_error: 38983.2891\n",
      "Epoch 3/100\n",
      "25/25 [==============================] - 0s 12ms/step - loss: 32969.2266 - root_mean_squared_error: 41633.2734 - val_loss: 30446.6230 - val_root_mean_squared_error: 38569.0820\n",
      "Epoch 4/100\n",
      "25/25 [==============================] - 0s 5ms/step - loss: 31641.4805 - root_mean_squared_error: 40221.5156 - val_loss: 29958.7109 - val_root_mean_squared_error: 38092.6055\n",
      "Epoch 5/100\n",
      "25/25 [==============================] - 0s 5ms/step - loss: 31311.6992 - root_mean_squared_error: 39809.6016 - val_loss: 28984.0508 - val_root_mean_squared_error: 36991.4297\n",
      "Epoch 6/100\n",
      "25/25 [==============================] - 0s 5ms/step - loss: 30953.1816 - root_mean_squared_error: 39727.4766 - val_loss: 29984.5234 - val_root_mean_squared_error: 37908.6367\n",
      "Epoch 7/100\n",
      "25/25 [==============================] - 0s 5ms/step - loss: 30416.0234 - root_mean_squared_error: 39265.2148 - val_loss: 29640.4453 - val_root_mean_squared_error: 37855.3711\n",
      "Epoch 8/100\n",
      "25/25 [==============================] - 0s 5ms/step - loss: 30443.8301 - root_mean_squared_error: 39537.0117 - val_loss: 28978.0195 - val_root_mean_squared_error: 36881.6094\n",
      "Epoch 9/100\n",
      "25/25 [==============================] - 0s 5ms/step - loss: 30300.5391 - root_mean_squared_error: 39048.5547 - val_loss: 29449.4609 - val_root_mean_squared_error: 37360.9727\n",
      "Epoch 10/100\n",
      "25/25 [==============================] - 0s 5ms/step - loss: 32114.5859 - root_mean_squared_error: 41144.7500 - val_loss: 30050.4492 - val_root_mean_squared_error: 38456.3320\n",
      "Epoch 11/100\n",
      "25/25 [==============================] - 0s 4ms/step - loss: 31539.4395 - root_mean_squared_error: 40273.2031 - val_loss: 34421.9492 - val_root_mean_squared_error: 44146.7852\n",
      "Epoch 12/100\n",
      "25/25 [==============================] - 0s 5ms/step - loss: 31168.4219 - root_mean_squared_error: 39980.1406 - val_loss: 30234.0293 - val_root_mean_squared_error: 38910.4883\n",
      "Epoch 13/100\n",
      "25/25 [==============================] - 0s 4ms/step - loss: 31683.6074 - root_mean_squared_error: 40863.8750 - val_loss: 32782.7812 - val_root_mean_squared_error: 42066.0742\n",
      "Epoch 14/100\n",
      "25/25 [==============================] - 0s 5ms/step - loss: 32912.1250 - root_mean_squared_error: 42244.9844 - val_loss: 30960.2148 - val_root_mean_squared_error: 39888.8281\n",
      "Epoch 15/100\n",
      "25/25 [==============================] - 0s 5ms/step - loss: 29505.2480 - root_mean_squared_error: 38232.1953 - val_loss: 29178.4219 - val_root_mean_squared_error: 37190.3242\n",
      "Epoch 16/100\n",
      "25/25 [==============================] - 0s 10ms/step - loss: 30229.3926 - root_mean_squared_error: 38980.2617 - val_loss: 29898.8027 - val_root_mean_squared_error: 38802.2656\n",
      "Epoch 17/100\n",
      "25/25 [==============================] - 0s 5ms/step - loss: 30387.3477 - root_mean_squared_error: 39491.8828 - val_loss: 29300.3750 - val_root_mean_squared_error: 37456.1797\n",
      "Epoch 18/100\n",
      "25/25 [==============================] - 0s 5ms/step - loss: 32390.7793 - root_mean_squared_error: 41771.1055 - val_loss: 28246.5078 - val_root_mean_squared_error: 36355.8477\n",
      "Epoch 19/100\n",
      "25/25 [==============================] - 0s 5ms/step - loss: 30573.3184 - root_mean_squared_error: 39570.1641 - val_loss: 28372.8301 - val_root_mean_squared_error: 36455.7852\n",
      "Epoch 20/100\n",
      "25/25 [==============================] - 0s 6ms/step - loss: 31901.2266 - root_mean_squared_error: 40991.9883 - val_loss: 28037.5195 - val_root_mean_squared_error: 36515.7305\n",
      "Epoch 21/100\n",
      "25/25 [==============================] - 0s 13ms/step - loss: 29517.3574 - root_mean_squared_error: 38678.2656 - val_loss: 27170.7598 - val_root_mean_squared_error: 35564.9219\n",
      "Epoch 22/100\n",
      "25/25 [==============================] - 0s 7ms/step - loss: 29403.2168 - root_mean_squared_error: 38594.1602 - val_loss: 28958.8633 - val_root_mean_squared_error: 37959.4531\n",
      "Epoch 23/100\n",
      "25/25 [==============================] - 0s 7ms/step - loss: 28867.4531 - root_mean_squared_error: 37885.5781 - val_loss: 27236.8457 - val_root_mean_squared_error: 35663.5430\n",
      "Epoch 24/100\n",
      "25/25 [==============================] - 0s 7ms/step - loss: 30924.9746 - root_mean_squared_error: 40305.4844 - val_loss: 28319.3926 - val_root_mean_squared_error: 36763.8203\n",
      "Epoch 25/100\n",
      "25/25 [==============================] - 0s 6ms/step - loss: 29819.5859 - root_mean_squared_error: 38858.2461 - val_loss: 27584.5742 - val_root_mean_squared_error: 35470.4023\n",
      "Epoch 26/100\n",
      "25/25 [==============================] - 0s 7ms/step - loss: 30575.9531 - root_mean_squared_error: 40168.2109 - val_loss: 28845.5547 - val_root_mean_squared_error: 37508.0508\n",
      "Epoch 27/100\n",
      "25/25 [==============================] - 0s 8ms/step - loss: 30541.6816 - root_mean_squared_error: 40152.9414 - val_loss: 29871.4941 - val_root_mean_squared_error: 38488.8594\n",
      "Epoch 28/100\n",
      "25/25 [==============================] - 0s 9ms/step - loss: 29677.5195 - root_mean_squared_error: 38992.2383 - val_loss: 28382.4141 - val_root_mean_squared_error: 36677.5430\n",
      "Epoch 29/100\n",
      "25/25 [==============================] - 0s 7ms/step - loss: 30834.7148 - root_mean_squared_error: 40209.2383 - val_loss: 29443.5449 - val_root_mean_squared_error: 37692.8125\n",
      "Epoch 30/100\n",
      "25/25 [==============================] - 0s 9ms/step - loss: 29373.2305 - root_mean_squared_error: 38149.0469 - val_loss: 27466.0996 - val_root_mean_squared_error: 35707.2812\n",
      "Epoch 31/100\n",
      "25/25 [==============================] - 0s 8ms/step - loss: 29553.6777 - root_mean_squared_error: 38874.3711 - val_loss: 30037.3594 - val_root_mean_squared_error: 38210.0898\n",
      "Epoch 32/100\n",
      "25/25 [==============================] - 0s 7ms/step - loss: 28844.2949 - root_mean_squared_error: 38303.6641 - val_loss: 27534.4980 - val_root_mean_squared_error: 35913.5742\n",
      "Epoch 33/100\n",
      "25/25 [==============================] - 0s 7ms/step - loss: 29080.6992 - root_mean_squared_error: 38250.5117 - val_loss: 31515.3203 - val_root_mean_squared_error: 39674.8242\n",
      "Epoch 34/100\n",
      "25/25 [==============================] - 0s 12ms/step - loss: 30116.2695 - root_mean_squared_error: 39534.9766 - val_loss: 29179.0605 - val_root_mean_squared_error: 37830.4023\n",
      "Epoch 35/100\n",
      "25/25 [==============================] - 0s 7ms/step - loss: 31372.3848 - root_mean_squared_error: 41065.8398 - val_loss: 30797.6680 - val_root_mean_squared_error: 38620.0312\n",
      "Epoch 36/100\n",
      "25/25 [==============================] - 0s 7ms/step - loss: 30171.5547 - root_mean_squared_error: 39417.5078 - val_loss: 29505.6250 - val_root_mean_squared_error: 37320.8320\n",
      "Epoch 37/100\n",
      "25/25 [==============================] - 0s 7ms/step - loss: 28830.1699 - root_mean_squared_error: 38081.8828 - val_loss: 27589.0273 - val_root_mean_squared_error: 35687.1992\n",
      "Epoch 38/100\n",
      "25/25 [==============================] - 0s 7ms/step - loss: 28197.4082 - root_mean_squared_error: 37681.8477 - val_loss: 27693.7344 - val_root_mean_squared_error: 35743.9570\n",
      "Epoch 39/100\n",
      "25/25 [==============================] - 0s 8ms/step - loss: 29386.3281 - root_mean_squared_error: 38848.9102 - val_loss: 28644.6699 - val_root_mean_squared_error: 37270.0898\n",
      "Epoch 40/100\n",
      "25/25 [==============================] - 0s 11ms/step - loss: 28890.3672 - root_mean_squared_error: 37750.2969 - val_loss: 27867.3730 - val_root_mean_squared_error: 35812.9180\n",
      "Epoch 41/100\n",
      "25/25 [==============================] - 0s 9ms/step - loss: 30269.2266 - root_mean_squared_error: 39726.1328 - val_loss: 29137.8691 - val_root_mean_squared_error: 36978.8477\n",
      "Epoch 42/100\n",
      "25/25 [==============================] - 0s 8ms/step - loss: 30090.4277 - root_mean_squared_error: 39891.8555 - val_loss: 29593.2695 - val_root_mean_squared_error: 37716.7812\n",
      "Epoch 43/100\n",
      "25/25 [==============================] - 0s 16ms/step - loss: 39709.4609 - root_mean_squared_error: 50226.3633 - val_loss: 39489.8984 - val_root_mean_squared_error: 49774.3867\n",
      "Epoch 44/100\n",
      "25/25 [==============================] - 0s 5ms/step - loss: 33478.3516 - root_mean_squared_error: 42680.7266 - val_loss: 27638.2109 - val_root_mean_squared_error: 35349.5938\n",
      "Epoch 45/100\n",
      "25/25 [==============================] - 0s 9ms/step - loss: 27798.7441 - root_mean_squared_error: 36676.9844 - val_loss: 26728.6367 - val_root_mean_squared_error: 34788.2852\n",
      "Epoch 46/100\n",
      "25/25 [==============================] - 0s 5ms/step - loss: 30235.6992 - root_mean_squared_error: 39250.9844 - val_loss: 28173.2520 - val_root_mean_squared_error: 36425.7852\n",
      "Epoch 47/100\n",
      "25/25 [==============================] - 0s 8ms/step - loss: 29821.6953 - root_mean_squared_error: 38705.9219 - val_loss: 31743.0469 - val_root_mean_squared_error: 40732.7422\n",
      "Epoch 48/100\n",
      "25/25 [==============================] - 0s 6ms/step - loss: 28460.7480 - root_mean_squared_error: 37317.5859 - val_loss: 28620.5508 - val_root_mean_squared_error: 36901.9062\n",
      "Epoch 49/100\n",
      "25/25 [==============================] - 0s 8ms/step - loss: 27958.2324 - root_mean_squared_error: 36878.4297 - val_loss: 27651.5000 - val_root_mean_squared_error: 35817.5000\n",
      "Epoch 50/100\n",
      "25/25 [==============================] - 0s 6ms/step - loss: 26970.7402 - root_mean_squared_error: 35725.7695 - val_loss: 25856.1504 - val_root_mean_squared_error: 33927.2695\n",
      "Epoch 51/100\n",
      "25/25 [==============================] - 0s 5ms/step - loss: 27542.7695 - root_mean_squared_error: 36635.6445 - val_loss: 26027.1797 - val_root_mean_squared_error: 34078.5586\n",
      "Epoch 52/100\n",
      "25/25 [==============================] - 0s 5ms/step - loss: 28063.1426 - root_mean_squared_error: 37087.0781 - val_loss: 26248.6797 - val_root_mean_squared_error: 34496.7227\n",
      "Epoch 53/100\n",
      "25/25 [==============================] - 0s 6ms/step - loss: 27482.2852 - root_mean_squared_error: 36717.5391 - val_loss: 28228.5195 - val_root_mean_squared_error: 36514.2266\n",
      "Epoch 54/100\n",
      "25/25 [==============================] - 0s 11ms/step - loss: 28006.6934 - root_mean_squared_error: 37423.2188 - val_loss: 26011.0605 - val_root_mean_squared_error: 34050.2422\n",
      "Epoch 55/100\n",
      "25/25 [==============================] - 0s 15ms/step - loss: 27881.1406 - root_mean_squared_error: 36648.8242 - val_loss: 26904.6895 - val_root_mean_squared_error: 34667.7656\n",
      "Epoch 56/100\n",
      "25/25 [==============================] - 0s 7ms/step - loss: 34161.1484 - root_mean_squared_error: 43715.7070 - val_loss: 32674.5273 - val_root_mean_squared_error: 41593.3555\n",
      "Epoch 57/100\n",
      "25/25 [==============================] - 0s 7ms/step - loss: 30506.3066 - root_mean_squared_error: 38904.1719 - val_loss: 30237.1582 - val_root_mean_squared_error: 39270.7734\n",
      "Epoch 58/100\n",
      "25/25 [==============================] - 0s 5ms/step - loss: 27257.4844 - root_mean_squared_error: 36209.3008 - val_loss: 25149.8984 - val_root_mean_squared_error: 33385.9375\n",
      "Epoch 59/100\n",
      "25/25 [==============================] - 0s 6ms/step - loss: 27241.5957 - root_mean_squared_error: 36770.7305 - val_loss: 25662.7598 - val_root_mean_squared_error: 33632.8281\n",
      "Epoch 60/100\n",
      "25/25 [==============================] - 0s 5ms/step - loss: 29726.3633 - root_mean_squared_error: 38833.8164 - val_loss: 28109.9121 - val_root_mean_squared_error: 37002.1445\n",
      "Epoch 61/100\n",
      "25/25 [==============================] - 0s 5ms/step - loss: 32977.9531 - root_mean_squared_error: 42727.6875 - val_loss: 30016.9082 - val_root_mean_squared_error: 38961.6016\n",
      "Epoch 62/100\n",
      "25/25 [==============================] - 0s 5ms/step - loss: 29613.7148 - root_mean_squared_error: 38793.3516 - val_loss: 26546.9180 - val_root_mean_squared_error: 34341.0000\n",
      "Epoch 63/100\n",
      "25/25 [==============================] - 0s 6ms/step - loss: 27028.6055 - root_mean_squared_error: 36190.3164 - val_loss: 25123.9805 - val_root_mean_squared_error: 33173.0039\n",
      "Epoch 64/100\n",
      "25/25 [==============================] - 0s 5ms/step - loss: 26339.2832 - root_mean_squared_error: 35358.4297 - val_loss: 26434.4375 - val_root_mean_squared_error: 34441.1250\n",
      "Epoch 65/100\n",
      "25/25 [==============================] - 0s 10ms/step - loss: 27914.0430 - root_mean_squared_error: 36924.0508 - val_loss: 27757.9746 - val_root_mean_squared_error: 36177.3945\n",
      "Epoch 66/100\n",
      "25/25 [==============================] - 0s 5ms/step - loss: 27511.9297 - root_mean_squared_error: 36742.2656 - val_loss: 29158.0098 - val_root_mean_squared_error: 37722.7656\n",
      "Epoch 67/100\n",
      "25/25 [==============================] - 0s 5ms/step - loss: 27558.6094 - root_mean_squared_error: 36570.0625 - val_loss: 29467.5352 - val_root_mean_squared_error: 38325.0352\n",
      "Epoch 68/100\n",
      "25/25 [==============================] - 0s 6ms/step - loss: 27512.6484 - root_mean_squared_error: 36505.1953 - val_loss: 28897.6172 - val_root_mean_squared_error: 38113.2617\n",
      "Epoch 69/100\n",
      "25/25 [==============================] - 0s 6ms/step - loss: 26372.1309 - root_mean_squared_error: 35469.0625 - val_loss: 26755.0605 - val_root_mean_squared_error: 35239.5195\n",
      "Epoch 70/100\n",
      "25/25 [==============================] - 0s 6ms/step - loss: 26401.4375 - root_mean_squared_error: 35033.6484 - val_loss: 26683.8066 - val_root_mean_squared_error: 34625.6016\n",
      "Epoch 71/100\n",
      "25/25 [==============================] - 0s 6ms/step - loss: 26167.1133 - root_mean_squared_error: 35329.9609 - val_loss: 25898.6055 - val_root_mean_squared_error: 33731.0859\n",
      "Epoch 72/100\n",
      "25/25 [==============================] - 0s 6ms/step - loss: 28332.5547 - root_mean_squared_error: 38025.7578 - val_loss: 25321.8301 - val_root_mean_squared_error: 33500.4062\n",
      "Epoch 73/100\n",
      "25/25 [==============================] - 0s 5ms/step - loss: 28999.4141 - root_mean_squared_error: 38146.9531 - val_loss: 26691.4473 - val_root_mean_squared_error: 34806.8164\n",
      "Epoch 74/100\n",
      "25/25 [==============================] - 0s 18ms/step - loss: 31130.4492 - root_mean_squared_error: 40225.0273 - val_loss: 30733.5605 - val_root_mean_squared_error: 39615.7578\n",
      "Epoch 75/100\n",
      "25/25 [==============================] - 0s 5ms/step - loss: 29393.0332 - root_mean_squared_error: 38226.2070 - val_loss: 25604.0898 - val_root_mean_squared_error: 33615.0469\n",
      "Epoch 76/100\n",
      "25/25 [==============================] - 0s 5ms/step - loss: 26076.3926 - root_mean_squared_error: 34889.4023 - val_loss: 26010.5020 - val_root_mean_squared_error: 34347.0625\n",
      "Epoch 77/100\n",
      "25/25 [==============================] - 0s 6ms/step - loss: 25130.8145 - root_mean_squared_error: 34099.6602 - val_loss: 24294.9941 - val_root_mean_squared_error: 32540.2656\n",
      "Epoch 78/100\n",
      "25/25 [==============================] - 0s 8ms/step - loss: 26184.6875 - root_mean_squared_error: 35344.1211 - val_loss: 27271.7246 - val_root_mean_squared_error: 35889.7812\n",
      "Epoch 79/100\n",
      "25/25 [==============================] - 0s 6ms/step - loss: 25418.8203 - root_mean_squared_error: 34285.1172 - val_loss: 24045.6055 - val_root_mean_squared_error: 32145.7344\n",
      "Epoch 80/100\n",
      "25/25 [==============================] - 0s 5ms/step - loss: 24818.6445 - root_mean_squared_error: 34053.5234 - val_loss: 24277.2441 - val_root_mean_squared_error: 32618.0859\n",
      "Epoch 81/100\n",
      "25/25 [==============================] - 0s 5ms/step - loss: 24842.4766 - root_mean_squared_error: 33608.1055 - val_loss: 24451.8398 - val_root_mean_squared_error: 32344.2227\n",
      "Epoch 82/100\n",
      "25/25 [==============================] - 0s 5ms/step - loss: 25953.9648 - root_mean_squared_error: 34774.2891 - val_loss: 26459.0059 - val_root_mean_squared_error: 34563.0312\n",
      "Epoch 83/100\n",
      "25/25 [==============================] - 0s 5ms/step - loss: 24713.5020 - root_mean_squared_error: 33276.4336 - val_loss: 23767.0000 - val_root_mean_squared_error: 31823.1094\n",
      "Epoch 84/100\n",
      "25/25 [==============================] - 0s 5ms/step - loss: 25730.5117 - root_mean_squared_error: 35189.1250 - val_loss: 24047.0898 - val_root_mean_squared_error: 32219.2637\n",
      "Epoch 85/100\n",
      "25/25 [==============================] - 0s 5ms/step - loss: 24537.7559 - root_mean_squared_error: 33803.5703 - val_loss: 24289.3105 - val_root_mean_squared_error: 32111.0781\n",
      "Epoch 86/100\n",
      "25/25 [==============================] - 0s 10ms/step - loss: 25982.4316 - root_mean_squared_error: 35312.6914 - val_loss: 27652.0703 - val_root_mean_squared_error: 35489.5742\n",
      "Epoch 87/100\n",
      "25/25 [==============================] - 0s 8ms/step - loss: 27043.4316 - root_mean_squared_error: 36057.0078 - val_loss: 31979.8828 - val_root_mean_squared_error: 41329.7539\n",
      "Epoch 88/100\n",
      "25/25 [==============================] - 0s 7ms/step - loss: 26893.4297 - root_mean_squared_error: 35919.5781 - val_loss: 23976.0898 - val_root_mean_squared_error: 31821.3535\n",
      "Epoch 89/100\n",
      "25/25 [==============================] - 0s 5ms/step - loss: 26663.7207 - root_mean_squared_error: 35652.2734 - val_loss: 24133.2793 - val_root_mean_squared_error: 31647.5273\n",
      "Epoch 90/100\n",
      "25/25 [==============================] - 0s 5ms/step - loss: 25918.8301 - root_mean_squared_error: 35178.9531 - val_loss: 24118.5605 - val_root_mean_squared_error: 31815.5371\n",
      "Epoch 91/100\n",
      "25/25 [==============================] - 0s 5ms/step - loss: 25502.7656 - root_mean_squared_error: 34568.8281 - val_loss: 25312.0645 - val_root_mean_squared_error: 33033.9023\n",
      "Epoch 92/100\n",
      "25/25 [==============================] - 0s 5ms/step - loss: 26737.0527 - root_mean_squared_error: 35833.9727 - val_loss: 25620.7109 - val_root_mean_squared_error: 33646.4414\n",
      "Epoch 93/100\n",
      "25/25 [==============================] - 0s 5ms/step - loss: 30511.6855 - root_mean_squared_error: 40229.9062 - val_loss: 29983.6602 - val_root_mean_squared_error: 38735.1562\n",
      "Epoch 94/100\n",
      "25/25 [==============================] - 0s 5ms/step - loss: 27221.2598 - root_mean_squared_error: 36235.1172 - val_loss: 24870.6348 - val_root_mean_squared_error: 32436.2031\n",
      "Epoch 95/100\n",
      "25/25 [==============================] - 0s 5ms/step - loss: 26730.2930 - root_mean_squared_error: 35623.2578 - val_loss: 24797.3242 - val_root_mean_squared_error: 32331.2891\n",
      "Epoch 96/100\n",
      "25/25 [==============================] - 0s 5ms/step - loss: 26856.4609 - root_mean_squared_error: 35966.7148 - val_loss: 23792.6797 - val_root_mean_squared_error: 31449.8438\n",
      "Epoch 97/100\n",
      "25/25 [==============================] - 0s 5ms/step - loss: 24341.5879 - root_mean_squared_error: 33521.0820 - val_loss: 24271.0742 - val_root_mean_squared_error: 31861.7637\n",
      "Epoch 98/100\n",
      "25/25 [==============================] - 0s 5ms/step - loss: 24307.8457 - root_mean_squared_error: 33452.7500 - val_loss: 23137.9102 - val_root_mean_squared_error: 31157.1797\n",
      "Epoch 99/100\n",
      "25/25 [==============================] - 0s 5ms/step - loss: 25437.4980 - root_mean_squared_error: 34674.4336 - val_loss: 24106.2793 - val_root_mean_squared_error: 31608.6465\n",
      "Epoch 100/100\n",
      "25/25 [==============================] - 0s 10ms/step - loss: 25012.4551 - root_mean_squared_error: 33825.0703 - val_loss: 26122.1348 - val_root_mean_squared_error: 34705.7461\n"
     ]
    }
   ],
   "source": [
    "history = model.fit(train_dataset, validation_data=val_dataset, epochs=100, verbose=1)"
   ]
  },
  {
   "cell_type": "code",
   "execution_count": 56,
   "metadata": {},
   "outputs": [
    {
     "name": "stdout",
     "output_type": "stream",
     "text": [
      "dict_keys(['loss', 'root_mean_squared_error', 'val_loss', 'val_root_mean_squared_error'])\n"
     ]
    }
   ],
   "source": [
    "print(history.history.keys())"
   ]
  },
  {
   "cell_type": "code",
   "execution_count": 57,
   "metadata": {},
   "outputs": [
    {
     "name": "stdout",
     "output_type": "stream",
     "text": [
      "[33227.484375, 33066.5546875, 32969.2265625, 31641.48046875, 31311.69921875, 30953.181640625, 30416.0234375, 30443.830078125, 30300.5390625, 32114.5859375, 31539.439453125, 31168.421875, 31683.607421875, 32912.125, 29505.248046875, 30229.392578125, 30387.34765625, 32390.779296875, 30573.318359375, 31901.2265625, 29517.357421875, 29403.216796875, 28867.453125, 30924.974609375, 29819.5859375, 30575.953125, 30541.681640625, 29677.51953125, 30834.71484375, 29373.23046875, 29553.677734375, 28844.294921875, 29080.69921875, 30116.26953125, 31372.384765625, 30171.5546875, 28830.169921875, 28197.408203125, 29386.328125, 28890.3671875, 30269.2265625, 30090.427734375, 39709.4609375, 33478.3515625, 27798.744140625, 30235.69921875, 29821.6953125, 28460.748046875, 27958.232421875, 26970.740234375, 27542.76953125, 28063.142578125, 27482.28515625, 28006.693359375, 27881.140625, 34161.1484375, 30506.306640625, 27257.484375, 27241.595703125, 29726.36328125, 32977.953125, 29613.71484375, 27028.60546875, 26339.283203125, 27914.04296875, 27511.9296875, 27558.609375, 27512.6484375, 26372.130859375, 26401.4375, 26167.11328125, 28332.5546875, 28999.4140625, 31130.44921875, 29393.033203125, 26076.392578125, 25130.814453125, 26184.6875, 25418.8203125, 24818.64453125, 24842.4765625, 25953.96484375, 24713.501953125, 25730.51171875, 24537.755859375, 25982.431640625, 27043.431640625, 26893.4296875, 26663.720703125, 25918.830078125, 25502.765625, 26737.052734375, 30511.685546875, 27221.259765625, 26730.29296875, 26856.4609375, 24341.587890625, 24307.845703125, 25437.498046875, 25012.455078125]\n",
      "[29295.974609375, 31143.685546875, 30446.623046875, 29958.7109375, 28984.05078125, 29984.5234375, 29640.4453125, 28978.01953125, 29449.4609375, 30050.44921875, 34421.94921875, 30234.029296875, 32782.78125, 30960.21484375, 29178.421875, 29898.802734375, 29300.375, 28246.5078125, 28372.830078125, 28037.51953125, 27170.759765625, 28958.86328125, 27236.845703125, 28319.392578125, 27584.57421875, 28845.5546875, 29871.494140625, 28382.4140625, 29443.544921875, 27466.099609375, 30037.359375, 27534.498046875, 31515.3203125, 29179.060546875, 30797.66796875, 29505.625, 27589.02734375, 27693.734375, 28644.669921875, 27867.373046875, 29137.869140625, 29593.26953125, 39489.8984375, 27638.2109375, 26728.63671875, 28173.251953125, 31743.046875, 28620.55078125, 27651.5, 25856.150390625, 26027.1796875, 26248.6796875, 28228.51953125, 26011.060546875, 26904.689453125, 32674.52734375, 30237.158203125, 25149.8984375, 25662.759765625, 28109.912109375, 30016.908203125, 26546.91796875, 25123.98046875, 26434.4375, 27757.974609375, 29158.009765625, 29467.53515625, 28897.6171875, 26755.060546875, 26683.806640625, 25898.60546875, 25321.830078125, 26691.447265625, 30733.560546875, 25604.08984375, 26010.501953125, 24294.994140625, 27271.724609375, 24045.60546875, 24277.244140625, 24451.83984375, 26459.005859375, 23767.0, 24047.08984375, 24289.310546875, 27652.0703125, 31979.8828125, 23976.08984375, 24133.279296875, 24118.560546875, 25312.064453125, 25620.7109375, 29983.66015625, 24870.634765625, 24797.32421875, 23792.6796875, 24271.07421875, 23137.91015625, 24106.279296875, 26122.134765625]\n",
      "[42224.18359375, 42169.3203125, 41633.2734375, 40221.515625, 39809.6015625, 39727.4765625, 39265.21484375, 39537.01171875, 39048.5546875, 41144.75, 40273.203125, 39980.140625, 40863.875, 42244.984375, 38232.1953125, 38980.26171875, 39491.8828125, 41771.10546875, 39570.1640625, 40991.98828125, 38678.265625, 38594.16015625, 37885.578125, 40305.484375, 38858.24609375, 40168.2109375, 40152.94140625, 38992.23828125, 40209.23828125, 38149.046875, 38874.37109375, 38303.6640625, 38250.51171875, 39534.9765625, 41065.83984375, 39417.5078125, 38081.8828125, 37681.84765625, 38848.91015625, 37750.296875, 39726.1328125, 39891.85546875, 50226.36328125, 42680.7265625, 36676.984375, 39250.984375, 38705.921875, 37317.5859375, 36878.4296875, 35725.76953125, 36635.64453125, 37087.078125, 36717.5390625, 37423.21875, 36648.82421875, 43715.70703125, 38904.171875, 36209.30078125, 36770.73046875, 38833.81640625, 42727.6875, 38793.3515625, 36190.31640625, 35358.4296875, 36924.05078125, 36742.265625, 36570.0625, 36505.1953125, 35469.0625, 35033.6484375, 35329.9609375, 38025.7578125, 38146.953125, 40225.02734375, 38226.20703125, 34889.40234375, 34099.66015625, 35344.12109375, 34285.1171875, 34053.5234375, 33608.10546875, 34774.2890625, 33276.43359375, 35189.125, 33803.5703125, 35312.69140625, 36057.0078125, 35919.578125, 35652.2734375, 35178.953125, 34568.828125, 35833.97265625, 40229.90625, 36235.1171875, 35623.2578125, 35966.71484375, 33521.08203125, 33452.75, 34674.43359375, 33825.0703125]\n",
      "[37317.92578125, 38983.2890625, 38569.08203125, 38092.60546875, 36991.4296875, 37908.63671875, 37855.37109375, 36881.609375, 37360.97265625, 38456.33203125, 44146.78515625, 38910.48828125, 42066.07421875, 39888.828125, 37190.32421875, 38802.265625, 37456.1796875, 36355.84765625, 36455.78515625, 36515.73046875, 35564.921875, 37959.453125, 35663.54296875, 36763.8203125, 35470.40234375, 37508.05078125, 38488.859375, 36677.54296875, 37692.8125, 35707.28125, 38210.08984375, 35913.57421875, 39674.82421875, 37830.40234375, 38620.03125, 37320.83203125, 35687.19921875, 35743.95703125, 37270.08984375, 35812.91796875, 36978.84765625, 37716.78125, 49774.38671875, 35349.59375, 34788.28515625, 36425.78515625, 40732.7421875, 36901.90625, 35817.5, 33927.26953125, 34078.55859375, 34496.72265625, 36514.2265625, 34050.2421875, 34667.765625, 41593.35546875, 39270.7734375, 33385.9375, 33632.828125, 37002.14453125, 38961.6015625, 34341.0, 33173.00390625, 34441.125, 36177.39453125, 37722.765625, 38325.03515625, 38113.26171875, 35239.51953125, 34625.6015625, 33731.0859375, 33500.40625, 34806.81640625, 39615.7578125, 33615.046875, 34347.0625, 32540.265625, 35889.78125, 32145.734375, 32618.0859375, 32344.22265625, 34563.03125, 31823.109375, 32219.263671875, 32111.078125, 35489.57421875, 41329.75390625, 31821.353515625, 31647.52734375, 31815.537109375, 33033.90234375, 33646.44140625, 38735.15625, 32436.203125, 32331.2890625, 31449.84375, 31861.763671875, 31157.1796875, 31608.646484375, 34705.74609375]\n"
     ]
    }
   ],
   "source": [
    "loss = history.history['loss']\n",
    "val_loss = history.history['val_loss']\n",
    "root_mean_squared_error = history.history['root_mean_squared_error']\n",
    "val_root_mean_squared_error = history.history['val_root_mean_squared_error']\n",
    "print(loss)\n",
    "print(val_loss)\n",
    "print(root_mean_squared_error)\n",
    "print(val_root_mean_squared_error)"
   ]
  },
  {
   "cell_type": "code",
   "execution_count": 58,
   "metadata": {},
   "outputs": [
    {
     "data": {
      "image/png": "[encoded data removed]",
      "text/plain": [
       "<Figure size 432x288 with 1 Axes>"
      ]
     },
     "metadata": {
      "needs_background": "light"
     },
     "output_type": "display_data"
    }
   ],
   "source": [
    "plt.plot(loss)\n",
    "plt.plot(val_loss)\n",
    "plt.title('Model Loss')\n",
    "plt.xlabel('Epoch')\n",
    "plt.ylabel('Loss')\n",
    "plt.legend(['Train', 'Val_Loss'])\n",
    "plt.show()"
   ]
  },
  {
   "cell_type": "code",
   "execution_count": 59,
   "metadata": {},
   "outputs": [
    {
     "data": {
      "image/png": "[encoded data removed]",
      "text/plain": [
       "<Figure size 432x288 with 1 Axes>"
      ]
     },
     "metadata": {
      "needs_background": "light"
     },
     "output_type": "display_data"
    }
   ],
   "source": [
    "plt.plot(root_mean_squared_error)\n",
    "plt.plot(val_root_mean_squared_error)\n",
    "plt.title('Model Performance')\n",
    "plt.xlabel('Epoch')\n",
    "plt.ylabel('RMSE')\n",
    "plt.legend(['Train', 'Val'])\n",
    "plt.show()"
   ]
  },
  {
   "cell_type": "code",
   "execution_count": 41,
   "metadata": {},
   "outputs": [
    {
     "name": "stdout",
     "output_type": "stream",
     "text": [
      "4/4 [==============================] - 0s 4ms/step - loss: 43661.1133 - root_mean_squared_error: 52361.1445\n"
     ]
    },
    {
     "data": {
      "text/plain": [
       "[43661.11328125, 52361.14453125]"
      ]
     },
     "execution_count": 41,
     "metadata": {},
     "output_type": "execute_result"
    }
   ],
   "source": [
    "model.evaluate(x_test, y_test)"
   ]
  },
  {
   "cell_type": "markdown",
   "metadata": {},
   "source": [
    "## Validation and Testing"
   ]
  },
  {
   "cell_type": "code",
   "execution_count": 42,
   "metadata": {},
   "outputs": [
    {
     "name": "stdout",
     "output_type": "stream",
     "text": [
      "tf.Tensor(\n",
      "[6.00000e+00 1.36584e+05 1.00000e+00 8.00000e+00 1.10000e+01 1.82000e+02\n",
      " 1.08000e+02 7.90000e+01], shape=(8,), dtype=float32)\n"
     ]
    }
   ],
   "source": [
    "print(x_test[0])"
   ]
  },
  {
   "cell_type": "code",
   "execution_count": 43,
   "metadata": {},
   "outputs": [
    {
     "name": "stdout",
     "output_type": "stream",
     "text": [
      "1/1 [==============================] - 0s 293ms/step\n"
     ]
    },
    {
     "data": {
      "text/plain": [
       "array([[185989.12]], dtype=float32)"
      ]
     },
     "execution_count": 43,
     "metadata": {},
     "output_type": "execute_result"
    }
   ],
   "source": [
    "model.predict(tf.expand_dims(x_test[0], axis=0))"
   ]
  },
  {
   "cell_type": "code",
   "execution_count": 44,
   "metadata": {},
   "outputs": [
    {
     "data": {
      "text/plain": [
       "<tf.Tensor: shape=(1,), dtype=float32, numpy=array([157507.], dtype=float32)>"
      ]
     },
     "execution_count": 44,
     "metadata": {},
     "output_type": "execute_result"
    }
   ],
   "source": [
    "y_test[0]"
   ]
  },
  {
   "cell_type": "code",
   "execution_count": 45,
   "metadata": {},
   "outputs": [
    {
     "name": "stdout",
     "output_type": "stream",
     "text": [
      "[157507.0, 493806.5, 82848.0, 285001.5, 370175.0, 324899.5, 490779.5, 206836.5, 224958.5, 96554.0, 137514.0, 206999.5, 456554.5, 369149.0, 217446.0, 175102.5, 218983.5, 234142.5, 150074.0, 237954.0, 286937.5, 377507.0, 333278.0, 332478.5, 501920.5, 221412.5, 476955.5, 309449.0, 390756.5, 307993.0, 330908.5, 178991.5, 97526.0, 375118.0, 408860.5, 461900.5, 276430.0, 160597.5, 415103.0, 499185.5, 306745.5, 197320.0, 315866.5, 184571.0, 126791.5, 493994.0, 140061.5, 206591.0, 377706.5, 500679.5, 342427.0, 174352.5, 312469.0, 317681.5, 103742.5, 473834.0, 441395.5, 53040.0, 203811.5, 133006.5, 172462.0, 441865.0, 373529.0, 169674.5, 333672.0, 146527.0, 122567.5, 296829.0, 219127.0, 538075.5, 172234.5, 283208.0, 410403.5, 390915.5, 226087.5, 500164.0, 496671.0, 399055.5, 381960.0, 295553.5, 149141.5, 239400.0, 224359.5, 441863.5, 53470.5, 322204.0, 404800.5, 167794.0, 109828.5, 481862.0, 318951.0, 503606.5, 426479.5, 512885.5, 213768.5, 343416.5, 208468.0, 302929.5, 498148.0, 329639.0]\n"
     ]
    }
   ],
   "source": [
    "y_true = list(y_test[:, 0].numpy())\n",
    "print(y_true)"
   ]
  },
  {
   "cell_type": "code",
   "execution_count": 46,
   "metadata": {},
   "outputs": [
    {
     "name": "stdout",
     "output_type": "stream",
     "text": [
      "4/4 [==============================] - 0s 3ms/step\n",
      "[185989.12, 455846.4, 163565.4, 239080.94, 444813.38, 316502.97, 443170.25, 237620.17, 217744.75, 146334.12, 240124.48, 212967.03, 370025.94, 305776.5, 319392.94, 138418.88, 202334.16, 313613.53, 126230.195, 225535.22, 247579.97, 432577.12, 307938.03, 310220.9, 525048.6, 299926.53, 360911.78, 268582.3, 435528.8, 369192.88, 391486.66, 170331.88, 163016.31, 390620.62, 396462.56, 494647.66, 243341.3, 156636.98, 475105.03, 474825.22, 355099.28, 199280.72, 326587.72, 260938.53, 208083.75, 439248.75, 150334.06, 231055.78, 422045.62, 485035.78, 323638.28, 95198.04, 376483.25, 349184.6, 138432.06, 423562.38, 499720.44, 143751.12, 201983.66, 144766.62, 143133.62, 350532.03, 384952.1, 235985.64, 417940.06, 150567.97, 112867.63, 329252.6, 198850.8, 509568.75, 152898.88, 220256.27, 319849.44, 409697.75, 186586.1, 449608.6, 448016.94, 317804.1, 441528.22, 301976.62, 200134.44, 271116.5, 238847.1, 471627.94, 169117.16, 261630.45, 393298.47, 125378.305, 130199.2, 470110.7, 285625.03, 387509.84, 445742.62, 471547.47, 149278.5, 278694.5, 180950.9, 266408.8, 421194.28, 397574.84]\n"
     ]
    }
   ],
   "source": [
    "y_prid = list(model.predict(x_test)[:, 0])\n",
    "print(y_prid)"
   ]
  },
  {
   "cell_type": "code",
   "execution_count": 47,
   "metadata": {},
   "outputs": [
    {
     "data": {
      "image/png": "[encoded data removed]",
      "text/plain": [
       "<Figure size 2880x1440 with 1 Axes>"
      ]
     },
     "metadata": {
      "needs_background": "light"
     },
     "output_type": "display_data"
    }
   ],
   "source": [
    "ind = np.arange(100)\n",
    "plt.figure(figsize=(40, 20))\n",
    "\n",
    "width = 0.4\n",
    "\n",
    "plt.bar(ind, y_prid, width, label='Predict Car Price')\n",
    "plt.bar(ind+width, y_true, width, label='Actual Car Price')\n",
    "\n",
    "plt.xlabel('Actual vs Predicted Price')\n",
    "plt.ylabel('Car Prices')\n",
    "\n",
    "plt.show()"
   ]
  },
  {
   "cell_type": "code",
   "execution_count": null,
   "metadata": {},
   "outputs": [],
   "source": []
  }
 ],
 "metadata": {
  "kernelspec": {
   "display_name": "Python 3",
   "language": "python",
   "name": "python3"
  },
  "language_info": {
   "codemirror_mode": {
    "name": "ipython",
    "version": 3
   },
   "file_extension": ".py",
   "mimetype": "text/x-python",
   "name": "python",
   "nbconvert_exporter": "python",
   "pygments_lexer": "ipython3",
   "version": "3.10.0"
  }
 },
 "nbformat": 4,
 "nbformat_minor": 2
}
